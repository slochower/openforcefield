{
 "cells": [
  {
   "cell_type": "markdown",
   "metadata": {},
   "source": [
    "# parm@frosst-y to SMIRNOFF\n",
    "\n",
    "This notebook provides examples/utility functionality to assist with conversion of parm@frosst or relatives to SMIRNOFF format. Particularly, Christopher Bayly is generating modified AMBER `frcmod` files where the first entry for each parameter (i.e. `CT-CT-CT`) is replaced by the relevant SMIRKS pattern, for conversion into SMIRNOFF FFXML format. \n",
    "\n",
    "This notebook will:\n",
    "1. Convert a specified smirks-frcmod file to SMIRNOFF FFXML\n",
    "2. Generate (or take in) a set of molecules in OpenEye oemol format\n",
    "3. Use the SMIRNOFF `ForceField` class to determine (a) which parameters are used in which molecules; (b) which molecules contain a specified parameter; and (c) which molecules do NOT contain a specified parameter.\n",
    "\n",
    "Bayly has also updates the notebook with visualization for 3(b) and 3(c).\n",
    "\n",
    "Bannan added printed current atom types to make looking up references easier\n",
    "\n",
    "**Authors**:\n",
    "* David L. Mobley (UCI)\n",
    "* Contributions from Christopher I. Bayly (OpenEye Scientific Software Inc.) and Caitlin C. Bannan (UCI)\n"
   ]
  },
  {
   "cell_type": "code",
   "execution_count": 2,
   "metadata": {
    "collapsed": false
   },
   "outputs": [],
   "source": [
    "# Imports\n",
    "from __future__ import print_function\n",
    "from convert_frcmod import *\n",
    "import openeye.oechem as oechem\n",
    "import openeye.oeiupac as oeiupac\n",
    "import openeye.oeomega as oeomega\n",
    "import openeye.oedepict as oedepict\n",
    "from IPython.display import display\n",
    "from openforcefield.typing.engines.smirnoff.forcefield import *\n",
    "from openforcefield.typing.engines.smirnoff.forcefield_utils import get_molecule_parameterIDs\n",
    "from openforcefield.utils import *\n",
    "% matplotlib inline\n",
    "import matplotlib\n",
    "import numpy as np\n",
    "import pylab as pl\n",
    "import matplotlib.pyplot as plt\n",
    "import time\n",
    "import IPython\n",
    "import pickle\n",
    "import glob"
   ]
  },
  {
   "cell_type": "markdown",
   "metadata": {},
   "source": [
    "# Relevant methods"
   ]
  },
  {
   "cell_type": "markdown",
   "metadata": {},
   "source": [
    "# Relevant methods"
   ]
  },
  {
   "cell_type": "code",
   "execution_count": 3,
   "metadata": {
    "collapsed": true
   },
   "outputs": [],
   "source": [
    "def depictAtomByIdx(mol_copy, atomIdxList, supH = True, width=900, height=500):\n",
    "    mol = oechem.OEMol(mol_copy)\n",
    "    OEGenerate2DCoordinates(mol)\n",
    "    atomBondSet = oechem.OEAtomBondSet()\n",
    "    for atom in mol.GetAtoms():\n",
    "        if atom.GetIdx() in atomIdxList:\n",
    "            atomBondSet.AddAtom( atom)\n",
    "            for bond in atom.GetBonds():\n",
    "                nbrAtom = bond.GetNbr(atom)\n",
    "                nbrIdx = nbrAtom.GetIdx()\n",
    "                if (nbrIdx in atomIdxList) and nbrIdx>atom.GetIdx():\n",
    "                    atomBondSet.AddBond( bond)\n",
    "    from IPython.display import Image\n",
    "    dopt = oedepict.OEPrepareDepictionOptions()\n",
    "    dopt.SetDepictOrientation( oedepict.OEDepictOrientation_Horizontal)\n",
    "    dopt.SetSuppressHydrogens(supH)\n",
    "    oedepict.OEPrepareDepiction(mol, dopt)\n",
    "    opts = oedepict.OE2DMolDisplayOptions(width, height, oedepict.OEScale_AutoScale)\n",
    "    disp = oedepict.OE2DMolDisplay(mol, opts)\n",
    "    aroStyle = oedepict.OEHighlightStyle_Color\n",
    "    aroColor = oechem.OEColor(oechem.OEGrey)\n",
    "    oedepict.OEAddHighlighting(disp, aroColor, aroStyle, \n",
    "                               oechem.OEIsAromaticAtom(), oechem.OEIsAromaticBond() )\n",
    "    hstyle = oedepict.OEHighlightStyle_BallAndStick\n",
    "    hcolor = oechem.OEColor(oechem.OELightGreen)\n",
    "    oedepict.OEAddHighlighting(disp, hcolor, hstyle, atomBondSet)\n",
    "    #ofs = oechem.oeosstream()\n",
    "    img = oedepict.OEImage(width, height)\n",
    "    oedepict.OERenderMolecule(img, disp)\n",
    "    #oedepict.OERenderMolecule(ofs, 'png', disp)\n",
    "    #ofs.flush()\n",
    "    #return Image(data = \"\".join(ofs.str()))\n",
    "    return Image(oedepict.OEWriteImageToString(\"png\",img))"
   ]
  },
  {
   "cell_type": "code",
   "execution_count": 4,
   "metadata": {
    "collapsed": true
   },
   "outputs": [],
   "source": [
    "def getMolParamIDToAtomIndex( oemol, ff):\n",
    "    \"\"\"Take an OEMol and a SMIRNOFF forcefield object and return a dictionary,\n",
    "    keyed by parameter ID, where each entry is a tuple of\n",
    "    ( smirks, [[atom1, ... atomN], [atom1, ... atomN]) giving the SMIRKS\n",
    "    corresponding to that parameter ID and a list of the atom groups in that\n",
    "    molecule that parameter is applied to.\n",
    "\n",
    "    Parameters\n",
    "    ----------\n",
    "    oemol : OEMol\n",
    "        OpenEye OEMol with the molecule to investigate.\n",
    "    ff : ForceField\n",
    "        SMIRNOFF ForceField object (obtained from an ffxml via ForceField(ffxml)) containing FF of interest.\n",
    "\n",
    "    Returns\n",
    "    -------\n",
    "    param_usage : dictionary\n",
    "        Dictionary, keyed by parameter ID, where each entry is a tuple of\n",
    "        ( smirks, [[atom1, ... atomN], [atom1, ... atomN]) giving the SMIRKS\n",
    "        corresponding to that parameter ID and a list of the atom groups in\n",
    "        that molecule that parameter is applied to.\n",
    "\n",
    "    \"\"\"\n",
    "    labels = ff.labelMolecules([oemol])\n",
    "    param_usage = {}\n",
    "    for mol_entry in range(len(labels)):\n",
    "        for force in labels[mol_entry].keys():\n",
    "            for (atom_indices, pid, smirks) in labels[mol_entry][force]:\n",
    "                if not pid in param_usage:\n",
    "                    param_usage[pid] = (smirks, [atom_indices])\n",
    "                else:\n",
    "                    param_usage[pid][1].append( atom_indices )\n",
    "\n",
    "    return param_usage"
   ]
  },
  {
   "cell_type": "code",
   "execution_count": 5,
   "metadata": {
    "collapsed": false
   },
   "outputs": [],
   "source": [
    "def GetAtomInfo(mol, indices, skip_atoms = []):\n",
    "    #print(indices)\n",
    "    atoms_by_index = dict()\n",
    "    charges_by_index = dict()\n",
    "    for atom in mol.GetAtoms():\n",
    "        idx = atom.GetIdx()\n",
    "        if idx in indices:\n",
    "            atoms_by_index[idx] = atom\n",
    "            charge = atom.GetFormalCharge()\n",
    "            if charge == 0:\n",
    "                charges_by_index[idx] = ''\n",
    "            elif charge > -1:\n",
    "                charges_by_index[idx] = '+%i' % charge\n",
    "            else:\n",
    "                charges_by_index[idx] = str(charge)\n",
    "    atoms = [(atoms_by_index[idx],charges_by_index[idx]) for idx in indices]\n",
    "    types = [atom.GetType() for (atom,charge) in atoms]\n",
    "    atom_smarts = ['[#%i%s]' % (atom.GetAtomicNum(),charge) for (atom,charge) in atoms]\n",
    "    smarts = '~'.join(atom_smarts)\n",
    "    types = '~'.join(types)\n",
    "    \n",
    "    for (atom, charge) in atoms:\n",
    "        if atom.GetAtomicNum() in skip_atoms:\n",
    "            return (True, smarts, types)\n",
    "    \n",
    "\n",
    "    return (False, smarts, types)\n",
    "    \n",
    "def DepictMolWithParam(mol, indice_list, supH = False, print_atoms = True, skip_atoms = []):\n",
    "    skip_count = 0\n",
    "    for IdxByOccurrence in indice_list:\n",
    "        \n",
    "        skip_it, approx_smarts, types = GetAtomInfo(mol, IdxByOccurrence, skip_atoms)\n",
    "        \n",
    "        if skip_it:\n",
    "            skip_count += 1\n",
    "            continue\n",
    "            \n",
    "        if print_atoms:\n",
    "            print(\"Approximate SMARTS: %s\" % approx_smarts)\n",
    "            print(\"Current Atom Types: %s\" % types)\n",
    "        display(depictAtomByIdx(mol, IdxByOccurrence, supH = supH))\n",
    "    if skip_count > 0:\n",
    "        skips = ','.join([str(i) for i in skip_atoms])\n",
    "        print(\"This molecule contains %i fragment(s) with at least one atom in (%s)\" % (skip_count, skips))"
   ]
  },
  {
   "cell_type": "code",
   "execution_count": 6,
   "metadata": {
    "collapsed": true
   },
   "outputs": [],
   "source": [
    "def make_param_histogram(param_id_counts, param_ids, letter, title):\n",
    "    # Graph occurrences of bond parameters\n",
    "    parm_ids = [ pid for pid in param_ids if pid[0]==letter]\n",
    "    parm_ids.sort()\n",
    "    counts_parms = [param_id_counts[parm_id] for parm_id in parm_ids]\n",
    "    #print( parm_ids)\n",
    "    #print( counts_parms)\n",
    "    split = int(len(parm_ids)/2)\n",
    "    \n",
    "    indices = np.arange(len(parm_ids))\n",
    "    fix, ax = plt.subplots(2,1,figsize=(16,5))\n",
    "    ax[0].set_yscale('log', nonposy='clip')\n",
    "    ax[1].set_yscale('log', nonposy='clip')\n",
    "    \n",
    "    rects2 = ax[0].bar(indices[0:split], counts_parms[0:split] )\n",
    "    ax[0].set_ylabel('Count')\n",
    "    ax[0].set_xticks( indices[0:split])\n",
    "    ax[0].set_xticklabels( parm_ids[0:split], rotation=-60, ha='left')\n",
    "    ax[0].set_xlim(indices[0], indices[split])\n",
    "    plt.yscale('log',nonposy='clip')\n",
    "    rects2 = ax[1].bar(indices[split:], counts_parms[split:])\n",
    "    ax[1].set_ylabel('Count')\n",
    "    ax[1].set_xticks( indices[split:])\n",
    "    ax[1].set_xticklabels( parm_ids[split:], rotation=-60, ha='left')\n",
    "    ax[1].set_xlim(indices[split], indices[-1]+1)\n",
    "    \n",
    "    ax[0].set_title(title)\n",
    "    plt.show()"
   ]
  },
  {
   "cell_type": "code",
   "execution_count": 7,
   "metadata": {
    "collapsed": true
   },
   "outputs": [],
   "source": [
    "def check_valence(mol):\n",
    "    \"\"\"\n",
    "    Checks for hypervalency\n",
    "    Parameter\n",
    "    ---------\n",
    "    mol - OEMol()\n",
    "\n",
    "    Return\n",
    "    ------\n",
    "    boolean - True (no inappropriate valency)\n",
    "              False (an atom with atomic number < 10 has > 4 Valence)\n",
    "    \"\"\"\n",
    "    for atom in mol.GetAtoms():\n",
    "        atomNum = atom.GetAtomicNum()\n",
    "        # find number of neighbors to this atom\n",
    "        valence = atom.GetValence()\n",
    "        if atomNum <= 10: # first row elements\n",
    "            if valence > 4:\n",
    "                print(\"Found a #%i atom with valence %i in molecule %s\" % (atomNum, valence, oechem.OECreateIsoSmiString(mol)))\n",
    "                return False\n",
    "    return True"
   ]
  },
  {
   "cell_type": "markdown",
   "metadata": {},
   "source": [
    "## 1. Convert specified SMIRKS `frcmod` file to SMIRNOFF FFXML"
   ]
  },
  {
   "cell_type": "code",
   "execution_count": 8,
   "metadata": {
    "collapsed": true
   },
   "outputs": [],
   "source": [
    "# Input and output info\n",
    "#infile = 'example.frcmod' # smirnoffish frcmod file to convert\n",
    "infile = 'smirnoffishFrcmod.parm99Frosst.txt' # smirnoffish frcmod file to convert\n",
    "ffxmlFile = 'smirnoff99FrosstFrcmod.offxml'\n",
    "template = 'template.offxml' # Template FFXML file without parameters (but with remainder of contents)"
   ]
  },
  {
   "cell_type": "code",
   "execution_count": 9,
   "metadata": {
    "collapsed": false
   },
   "outputs": [],
   "source": [
    "# Convert\n",
    "# Already converted\n",
    "convert_frcmod_to_ffxml( infile, template, ffxmlFile)"
   ]
  },
  {
   "cell_type": "code",
   "execution_count": 10,
   "metadata": {
    "collapsed": false
   },
   "outputs": [],
   "source": [
    "# Load SMIRNOFF FFXML\n",
    "ff = ForceField(ffxmlFile) # We will use this below to access details of parameters"
   ]
  },
  {
   "cell_type": "markdown",
   "metadata": {},
   "source": [
    "## 2. Generate or take in a set of molecules in OpenEye OEMol format\n",
    "\n",
    "Here we will take a set of molecules from openforcefield (or elsewhere), read in all molecules and then uncomment any filters you want. \n",
    "\n",
    "Here are some examples of molecule sets in openforcefield (at /openforcefield/data/molecules/):\n",
    "* `AlkEthOH_test_filt1_ff.mol2` - 42 alkanes, ethers, and alcohols with parm@frosst atom types\n",
    "* `DrugBank_atyped.oeb` -  DrugBank database with parm@frosst atom types (including \"untypable\" atoms)\n",
    "* `zinc-subset-parm@frosst.mol2.gz` - ZINC parm@frosst subset from CCL\n",
    "    "
   ]
  },
  {
   "cell_type": "code",
   "execution_count": 10,
   "metadata": {
    "collapsed": false,
    "scrolled": false
   },
   "outputs": [
    {
     "name": "stdout",
     "output_type": "stream",
     "text": [
      "Loading molecules from '/Users/bannanc/Google Drive/RESEARCH/OFF_draftAndTestSpace/eMolecules_missingParameters/output.mol2'...\n",
      "18 molecules read\n",
      "0.005 s elapsed\n",
      "\n",
      "After filtering 0 molecules there were 0 repeated SMILES.\n",
      "The final set has 18/18 molecules\n"
     ]
    }
   ],
   "source": [
    "# Un-comment this section if you want to use a local directory with individual mol2 files \n",
    "#DBpath = \"path/to/molecules/*.mol2\"\n",
    "#DBpath = \"/Users/bannanc/gitHub/FreeSolv/mol2files_sybyl/*mol2\"\n",
    "#DB_files = glob.glob(DBpath)\n",
    "#molecules = list()\n",
    "#for f in DB_files:\n",
    "#    molecules += read_molecules(f, verbose=False)\n",
    "\n",
    "# These are atoms you don't want in your set, in this case metaloids or nobel gases\n",
    "skip_atoms = [2, 5, 14,33, 34, 52, 54] \n",
    "\n",
    "# Molecules file in openforcefield/data/molecules/ \n",
    "# OR any relative/absolute path\n",
    "mol_File = 'DrugBank_atyped.oeb'\n",
    "#mol_File = \"zinc-subset-parm@frosst.mol2.gz\"\n",
    "#mol_File = \"/Users/bannanc/Google Drive/RESEARCH/OFF_draftAndTestSpace/eMolecules_missingParameters/output.mol2\"\n",
    "molecules = read_molecules(mol_File)\n",
    "# For use later, generate isomeric SMILES for these so we can easily look up molecules by smiles\n",
    "isosmiles_to_mol = dict()\n",
    "repeat = 0\n",
    "skipped = 0\n",
    "\n",
    "for mol in molecules:\n",
    "    c_mol = OEMol(mol)\n",
    "    oechem.OEAddExplicitHydrogens(c_mol)\n",
    "    # Get the smiles string for this molecule\n",
    "    smi = oechem.OECreateIsoSmiString(c_mol)\n",
    "    # uncomment to skip molecules with > n heavy atoms\n",
    "    n=200\n",
    "    if OECount(c_mol, OEIsHeavy()) > n:\n",
    "        continue\n",
    "    \n",
    "    # uncomment to skip molecules with metals\n",
    "    #if OECount(c_mol, OEIsMetal()) > 0:\n",
    "        #skipped +=1\n",
    "    #    continue\n",
    "    \n",
    "    # uncomment to skip molecules containing the skip_atoms\n",
    "    has_skip_atom = False\n",
    "    for n in skip_atoms:\n",
    "        if OECount(c_mol, OEHasAtomicNum(n)) > 0:\n",
    "            has_skip_atom = True\n",
    "    #if has_skip_atom:\n",
    "        #skipped += 1\n",
    "    #    continue\n",
    "    \n",
    "    # uncomment to skip molecules with 5 bonds to atoms with atomic number < 10 (i.e. pentavalent nitrogen)\n",
    "    #if not check_valence(c_mol):\n",
    "        #skipped += 1\n",
    "    #    continue\n",
    "    \n",
    "    \n",
    "    # uncomment to skip single molecules that contain > 1 molecule\n",
    "    #if '.' in smi:\n",
    "    #    skipped +=1 \n",
    "    #    continue\n",
    "        \n",
    "    if smi in isosmiles_to_mol:\n",
    "        repeat += 1\n",
    "    isosmiles_to_mol[smi] = c_mol\n",
    "\n",
    "oemols = [mol for smi, mol in isosmiles_to_mol.items()]\n",
    "print(\"\\nAfter filtering %i molecules there were %i repeated SMILES.\\nThe final set has %i/%i molecules\"\\\n",
    "      % (skipped, repeat, len(oemols), len(molecules)))"
   ]
  },
  {
   "cell_type": "markdown",
   "metadata": {},
   "source": [
    "## 3. Determine parameter usage in molecules\n",
    "\n",
    "Here we will use the SMIRNOFF ForceField class to determine (a) which parameters are used in which molecules; (b) which molecules contain a specified parameter; and (c) which molecules do NOT contain a specified parameter. We begin by just loading the SMIRNOFF forcefield we generated in section 1."
   ]
  },
  {
   "cell_type": "markdown",
   "metadata": {},
   "source": [
    "### 3(a). Determine which parameters are used in which molecules\n",
    "\n",
    "Here we determine which parameters are actually used in which molecules, and make a couple example plots of the frequency of parameter occurrences for some of our example parameters."
   ]
  },
  {
   "cell_type": "code",
   "execution_count": 11,
   "metadata": {
    "collapsed": false
   },
   "outputs": [
    {
     "name": "stdout",
     "output_type": "stream",
     "text": [
      "Assigned labels took 0.03 minutes\n"
     ]
    }
   ],
   "source": [
    "# Track time\n",
    "init_time = time.time()\n",
    "# label molecules\n",
    "labels = ff.labelMolecules(oemols, verbose = False)\n",
    "elapsed = (time.time() - init_time) / 60.0\n",
    "print(\"Assigned labels took %.2f minutes\" % (elapsed))"
   ]
  },
  {
   "cell_type": "code",
   "execution_count": 12,
   "metadata": {
    "collapsed": false
   },
   "outputs": [
    {
     "name": "stdout",
     "output_type": "stream",
     "text": [
      "Organizing dictionaries took 0.00 minutes\n"
     ]
    }
   ],
   "source": [
    "# organize dictionaries to reference information \n",
    "init_time = time.time()\n",
    "parameters_by_molecule = dict()\n",
    "parameters_by_ID = dict()\n",
    "param_ids = set()\n",
    "param_id_counts = dict()\n",
    "for idx, mol_dict in enumerate(labels):\n",
    "    smi = OECreateIsoSmiString(oemols[idx])\n",
    "    parameters_by_molecule[smi] = dict()\n",
    "    for force_type, label_set in mol_dict.items():\n",
    "        for (indices, pid, smirks) in label_set:\n",
    "            if not pid in parameters_by_molecule[smi]:\n",
    "                parameters_by_molecule[smi][pid] = list()\n",
    "            parameters_by_molecule[smi][pid].append(indices)\n",
    "            \n",
    "            if not pid in parameters_by_ID:\n",
    "                parameters_by_ID[pid] = set()\n",
    "            parameters_by_ID[pid].add(smi)\n",
    "            \n",
    "            param_ids.add(pid)\n",
    "\n",
    "for pid in param_ids:\n",
    "    param_id_counts[pid] = 0\n",
    "    \n",
    "for smi, pid_dict in parameters_by_molecule.items():\n",
    "    for pid, ind_list in pid_dict.items():\n",
    "        param_id_counts[pid] += len(ind_list)   \n",
    "\n",
    "elapsed = (time.time() - init_time) / 60.0\n",
    "print(\"Organizing dictionaries took %.2f minutes\" % (elapsed))"
   ]
  },
  {
   "cell_type": "markdown",
   "metadata": {},
   "source": [
    "For fun/info, do a quick graph of frequency of occurrence of particular parameters. Here, let's just do bond parameters"
   ]
  },
  {
   "cell_type": "code",
   "execution_count": 13,
   "metadata": {
    "collapsed": false
   },
   "outputs": [
    {
     "data": {
      "image/png": "[encoded data removed]",
      "text/plain": [
       "<matplotlib.figure.Figure at 0x11907ce48>"
      ]
     },
     "metadata": {},
     "output_type": "display_data"
    },
    {
     "data": {
      "image/png": "[encoded data removed]",
      "text/plain": [
       "<matplotlib.figure.Figure at 0x11907cc18>"
      ]
     },
     "metadata": {},
     "output_type": "display_data"
    },
    {
     "data": {
      "image/png": "[encoded data removed]",
      "text/plain": [
       "<matplotlib.figure.Figure at 0x11c7e96d8>"
      ]
     },
     "metadata": {},
     "output_type": "display_data"
    },
    {
     "data": {
      "image/png": "[encoded data removed]",
      "text/plain": [
       "<matplotlib.figure.Figure at 0x11c801cc0>"
      ]
     },
     "metadata": {},
     "output_type": "display_data"
    }
   ],
   "source": [
    "# Create Hisogram for each type of parameter\n",
    "# VdW\n",
    "make_param_histogram(param_id_counts, param_ids, 'n', \"VdW for DrugBank Molecules\")\n",
    "# Bonds\n",
    "make_param_histogram(param_id_counts, param_ids, 'b', \"Bonds for DrugBank Molecules\")\n",
    "# Angles\n",
    "make_param_histogram(param_id_counts, param_ids, 'a', \"Angles for DrugBank Molecules\")\n",
    "# Torsions\n",
    "make_param_histogram(param_id_counts, param_ids, 't', \"Torsions for DrugBank Molecules\")\n",
    "#make_param_histogram(param_id_counts, param_ids, 'i', \"Impropers for DrugBank Molecules\")"
   ]
  },
  {
   "cell_type": "markdown",
   "metadata": {},
   "source": [
    "### 3(b)-3(c). Determine which molecules do/do not contain selected parameter\n",
    "\n",
    "Determine which molecules do and do not contain a specified parameter; give access to isomeric smiles and OEMol for each molecule in each case."
   ]
  },
  {
   "cell_type": "code",
   "execution_count": 16,
   "metadata": {
    "collapsed": false
   },
   "outputs": [
    {
     "name": "stdout",
     "output_type": "stream",
     "text": [
      "For parameter n1, the relevant parameters are:\n",
      "{'smirks': '[*:1]', 'epsilon': '0.25', 'id': 'n1', 'rmin_half': '4.'}\n",
      "\n",
      "There are 18 molecules containing that parameter and 0 which do not, out of 18.\n",
      "\n",
      "\n",
      "All molecules conatin parameter 'n1'\n",
      "\n",
      "The 10 molecule(s) containing 'n1' parameter:\n",
      "   B(C(CC(C)C)NC(=O)C(Cc1ccccc1)NC(=O)c2cnccn2)(O)O\n",
      "   CC[Si](C)(C)C\n",
      "   C[Si](C)(C)C(CC(=O)O)C(=O)O\n",
      "   CCC1(c2cc-3n(c(=O)c2COC1=O)Cc4c3nc5ccccc5c4CC[Si](C)(C)C)O\n",
      "   B(C(Cc1ccccc1)N)(O)O\n",
      "   B(C(Cc1cccc(c1O)C(=O)O)NC(=O)C)(O)O\n",
      "   B(C(Cc1cccc(c1)C(=O)O)NC(=O)Cc2ccccc2)(O)O\n",
      "   B(C1CCCN1C(=O)C2CCCN2)(O)O\n",
      "   B(c1ccc(c(c1)NS(=O)(=O)c2cc(cs2)S(=O)(=O)c3ccccc3)C(=O)O)(O)O\n",
      "   B(CNC(=O)C(=NOC)c1csc(n1)N)(O)O\n"
     ]
    }
   ],
   "source": [
    "# INPUT: Pick what parameter to look at\n",
    "parameter_id = 'n1' \n",
    "\n",
    "# For info, get details of that parameter\n",
    "params = ff.getParameter(paramID=parameter_id)\n",
    "print(\"For parameter %s, the relevant parameters are:\" % parameter_id)\n",
    "print(params)\n",
    "\n",
    "# Find molecules which do/do not use that parameter\n",
    "mols_with_param = []\n",
    "mols_wo_param = []\n",
    "for isosmi in parameters_by_molecule:\n",
    "    # Store a tuple of (isomeric smiles, oemol) for each\n",
    "    if parameter_id in parameters_by_molecule[isosmi].keys():\n",
    "        mols_with_param.append( (isosmi, isosmiles_to_mol[isosmi] ))\n",
    "    else:\n",
    "        mols_wo_param.append( (isosmi, isosmiles_to_mol[isosmi] ))\n",
    "\n",
    "print(\"\\nThere are %s molecules containing that parameter and %s which do not, out of %s.\\n\" % \n",
    "      (len(mols_with_param), len(mols_wo_param), len(isosmiles_to_mol)))\n",
    "\n",
    "# Print first 10 molecules not containing parameter\n",
    "not_containing = min(10, len(mols_wo_param))\n",
    "if not_containing == 0:\n",
    "    print(\"\\nAll molecules conatin parameter '%s'\" % parameter_id)\n",
    "elif not_containing <= 10:\n",
    "    print(\"\\nThe %i molecule(s) that do(es) not contain parameter '%s'\" % (not_containing, parameter_id))\n",
    "else:\n",
    "    print(\"First 10 molecules not containing '%s' parameter:\" % parameter_id)\n",
    "for i in range(not_containing):\n",
    "    print(\"   %s\" % mols_wo_param[i][0])\n",
    "\n",
    "# Print first 10 molecules containing parameter\n",
    "containing = min(10,len(mols_with_param))\n",
    "if containing == 0:\n",
    "    print(\"\\nNO molecules contain '%s' parameter\" % parameter_id)\n",
    "elif containing <= 10:\n",
    "    print(\"\\nThe %i molecule(s) containing '%s' parameter:\" % (containing, parameter_id))\n",
    "else:\n",
    "    print(\"\\nFirst 10 molecules containing '%s' parameter:\" % parameter_id)\n",
    "\n",
    "for i in range(containing):\n",
    "    print(\"   %s\" % mols_with_param[i][0])"
   ]
  },
  {
   "cell_type": "code",
   "execution_count": 1,
   "metadata": {
    "collapsed": false,
    "scrolled": false
   },
   "outputs": [
    {
     "ename": "NameError",
     "evalue": "name 'mols_with_param' is not defined",
     "traceback": [
      "\u001b[0;31m---------------------------------------------------------------------------\u001b[0m",
      "\u001b[0;31mNameError\u001b[0m                                 Traceback (most recent call last)",
      "\u001b[0;32m<ipython-input-1-c291a44856f4>\u001b[0m in \u001b[0;36m<module>\u001b[0;34m()\u001b[0m\n\u001b[1;32m      8\u001b[0m \u001b[0;34m\u001b[0m\u001b[0m\n\u001b[1;32m      9\u001b[0m \u001b[0;31m# Correct with list of molecules is less than upper limit\u001b[0m\u001b[0;34m\u001b[0m\u001b[0;34m\u001b[0m\u001b[0m\n\u001b[0;32m---> 10\u001b[0;31m \u001b[0;32mif\u001b[0m \u001b[0mlen\u001b[0m\u001b[0;34m(\u001b[0m\u001b[0mmols_with_param\u001b[0m\u001b[0;34m)\u001b[0m \u001b[0;34m<\u001b[0m \u001b[0mupperlimit\u001b[0m\u001b[0;34m:\u001b[0m\u001b[0;34m\u001b[0m\u001b[0m\n\u001b[0m\u001b[1;32m     11\u001b[0m     \u001b[0mupperlimit\u001b[0m \u001b[0;34m=\u001b[0m \u001b[0mlen\u001b[0m\u001b[0;34m(\u001b[0m\u001b[0mmols_with_param\u001b[0m\u001b[0;34m)\u001b[0m\u001b[0;34m\u001b[0m\u001b[0m\n\u001b[1;32m     12\u001b[0m \u001b[0;34m\u001b[0m\u001b[0m\n",
      "\u001b[0;31mNameError\u001b[0m: name 'mols_with_param' is not defined"
     ],
     "output_type": "error"
    }
   ],
   "source": [
    "lowerlimit = 0\n",
    "upperlimit = 100\n",
    "\n",
    "# Skip showing molecule if the highlighted parameter \n",
    "# includes an element we know we don't have parameters for\n",
    "skip_atoms = [2, 5, 14,33, 34, 52] \n",
    "\n",
    "# Correct with list of molecules is less than upper limit\n",
    "if len(mols_with_param) < upperlimit:\n",
    "    upperlimit = len(mols_with_param)\n",
    "\n",
    "print(\"\\nDepicting molecules %i to %i with parameter '%s'\\n\\n\" % (lowerlimit,upperlimit-1, parameter_id))    \n",
    "\n",
    "# Show molecules form lower to upper limit highlighting fragment with the parameter_id\n",
    "for idx in range(lowerlimit, upperlimit):\n",
    "    smiles = mols_with_param[idx][0]\n",
    "    mol = mols_with_param[idx][1]\n",
    "    skip_it = False\n",
    "    OEAddExplicitHydrogens(mol)\n",
    "    indice_list = parameters_by_molecule[smiles][parameter_id]\n",
    "    print(\"looking at molecule %i\" % idx)\n",
    "    print('Selected smiles is %s' % smiles)\n",
    "    print('Selected IUPAC name guessed: %s' % oeiupac.OECreateIUPACName(mol) )\n",
    "    print( 'mol title and NumAtoms: ', mol.GetTitle(), mol.NumAtoms() )\n",
    "    print( \"Number of times '%s' appears:   %i\" % (parameter_id, len(indice_list))) \n",
    "    DepictMolWithParam( mol, indice_list, supH = False, skip_atoms=skip_atoms)\n",
    "    print()\n",
    "    print()\n",
    "    print()\n",
    "    "
   ]
  },
  {
   "cell_type": "code",
   "execution_count": null,
   "metadata": {
    "collapsed": true
   },
   "outputs": [],
   "source": []
  }
 ],
 "metadata": {
  "kernelspec": {
   "display_name": "Python 3",
   "language": "python",
   "name": "python3"
  },
  "language_info": {
   "codemirror_mode": {
    "name": "ipython",
    "version": 3
   },
   "file_extension": ".py",
   "mimetype": "text/x-python",
   "name": "python",
   "nbconvert_exporter": "python",
   "pygments_lexer": "ipython3",
   "version": "3.6.0"
  }
 },
 "nbformat": 4,
 "nbformat_minor": 0
}
