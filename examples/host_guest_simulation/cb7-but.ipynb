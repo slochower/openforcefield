{
 "cells": [
  {
   "cell_type": "markdown",
   "metadata": {},
   "source": [
    "# How to build an AMBER-compatible host-guest complex using the SMIRNOFF force field starting with SYBYL-formatted `mol2` files"
   ]
  },
  {
   "cell_type": "code",
   "execution_count": 3,
   "metadata": {
    "ExecuteTime": {
     "end_time": "2017-12-07T00:19:07.053133Z",
     "start_time": "2017-12-07T00:19:07.046318Z"
    },
    "collapsed": true
   },
   "outputs": [],
   "source": [
    "import parmed as pmd\n",
    "import subprocess as sp\n",
    "import numpy as np\n",
    "\n",
    "from openeye import oechem\n",
    "from openforcefield.typing.engines.smirnoff import *\n",
    "from pdbfixer import PDBFixer"
   ]
  },
  {
   "cell_type": "markdown",
   "metadata": {},
   "source": [
    "## Step 0: generate SYBYL-formatted `mol2` files\n",
    "\n",
    "Starting with files containing AM1-BCC charges and GAFF v1.7 Lennard-Jones and bonded parameters:\n",
    "\n",
    "```\n",
    "antechamber -i cb7.mol2 -fi mol2 -o cb7-sybyl.mol2 -fo mol2 -at sybyl\n",
    "antechamber -i ben.mol2 -fi mol2 -o ben-sybyl.mol2 -fo mol2 -at sybyl -dr n \n",
    "# Disable `acdoctor` to handle carboxylate group\n",
    "```"
   ]
  },
  {
   "cell_type": "code",
   "execution_count": 15,
   "metadata": {
    "ExecuteTime": {
     "end_time": "2017-12-07T00:28:10.701465Z",
     "start_time": "2017-12-07T00:28:10.697639Z"
    },
    "collapsed": true
   },
   "outputs": [],
   "source": [
    "path = './cb7-guest1/'\n",
    "cb7 = path + 'cb7-sybyl.mol2'\n",
    "guest = path + 'guest-1-sybyl.mol2'"
   ]
  },
  {
   "cell_type": "markdown",
   "metadata": {},
   "source": [
    "## Step 1: load molecules in an `oechem.OEMol`"
   ]
  },
  {
   "cell_type": "code",
   "execution_count": 16,
   "metadata": {
    "ExecuteTime": {
     "end_time": "2017-12-07T00:28:14.457700Z",
     "start_time": "2017-12-07T00:28:14.452436Z"
    },
    "collapsed": true
   },
   "outputs": [],
   "source": [
    "mols = []\n",
    "ifs = oechem.oemolistream(cb7)\n",
    "for mol in ifs.GetOEGraphMols():\n",
    "    mols.append(oechem.OEMol(mol))"
   ]
  },
  {
   "cell_type": "markdown",
   "metadata": {},
   "source": [
    "## Step 1.5: since `bcd` is a cyclic molecule, let's write a version without connectivity and then have OpenEye perceive connectivity based on [this issue](https://github.com/openforcefield/openforcefield/issues/66)"
   ]
  },
  {
   "cell_type": "code",
   "execution_count": 17,
   "metadata": {
    "ExecuteTime": {
     "end_time": "2017-12-07T00:28:19.366735Z",
     "start_time": "2017-12-07T00:28:19.360248Z"
    }
   },
   "outputs": [],
   "source": [
    "ofs = oechem.oemolostream()\n",
    "ofs.open(path + 'cb7-no-conect.xyz')\n",
    "flavor = oechem.OEOFlavor_Generic_Default\n",
    "ofs.SetFlavor(oechem.OEFormat_XYZ, flavor)\n",
    "oechem.OEWriteXYZFile(ofs, mols[0])\n",
    "ofs.close()"
   ]
  },
  {
   "cell_type": "code",
   "execution_count": 18,
   "metadata": {
    "ExecuteTime": {
     "end_time": "2017-12-07T00:28:22.289134Z",
     "start_time": "2017-12-07T00:28:22.281286Z"
    },
    "collapsed": true
   },
   "outputs": [],
   "source": [
    "ifs = oechem.oemolistream(path + 'cb7-no-conect.xyz')\n",
    "for mol in ifs.GetOEGraphMols():\n",
    "    oechem.OEDetermineConnectivity(mol)\n",
    "    oechem.OEPerceiveBondOrders(mol)\n",
    "    # Replace existing cyclodextrin\n",
    "    oechem.OETriposAtomNames(mol)\n",
    "    mols[0] = oechem.OEMol(mol)"
   ]
  },
  {
   "cell_type": "code",
   "execution_count": 19,
   "metadata": {
    "ExecuteTime": {
     "end_time": "2017-12-07T00:28:23.504688Z",
     "start_time": "2017-12-07T00:28:23.501044Z"
    },
    "collapsed": true
   },
   "outputs": [],
   "source": [
    "ifs = oechem.oemolistream(ben)\n",
    "for mol in ifs.GetOEGraphMols():\n",
    "    mols.append(oechem.OEMol(mol))"
   ]
  },
  {
   "cell_type": "markdown",
   "metadata": {},
   "source": [
    "## Step 2: build reference molecules for water and ions"
   ]
  },
  {
   "cell_type": "code",
   "execution_count": 20,
   "metadata": {
    "ExecuteTime": {
     "end_time": "2017-12-07T00:28:25.472691Z",
     "start_time": "2017-12-07T00:28:25.464312Z"
    },
    "collapsed": true
   },
   "outputs": [],
   "source": [
    "smiles = ['[Na+]', '[Cl-]', 'O']\n",
    "for molecule in smiles:\n",
    "    mol = oechem.OEMol()\n",
    "    oechem.OESmilesToMol(mol, molecule)\n",
    "    for atom in mol.GetAtoms():\n",
    "        atom.SetPartialCharge(atom.GetFormalCharge())\n",
    "    oechem.OEAddExplicitHydrogens(mol)\n",
    "    oechem.OETriposAtomNames(mol)\n",
    "    mols.append(mol)"
   ]
  },
  {
   "cell_type": "markdown",
   "metadata": {},
   "source": [
    "## Step 3: read in fully solvated system with host, guest, water, and ions"
   ]
  },
  {
   "cell_type": "code",
   "execution_count": null,
   "metadata": {
    "collapsed": true
   },
   "outputs": [],
   "source": []
  },
  {
   "cell_type": "code",
   "execution_count": 21,
   "metadata": {
    "ExecuteTime": {
     "end_time": "2017-12-07T00:48:10.608442Z",
     "start_time": "2017-12-07T00:48:10.525012Z"
    },
    "collapsed": true
   },
   "outputs": [],
   "source": [
    "pdb_with_conect = 'complex.pdb'\n",
    "pdb = PDBFixer(path + pdb_with_conect)"
   ]
  },
  {
   "cell_type": "markdown",
   "metadata": {},
   "source": [
    "## Step 4: create a ParmEd structure"
   ]
  },
  {
   "cell_type": "code",
   "execution_count": 22,
   "metadata": {
    "ExecuteTime": {
     "end_time": "2017-12-07T00:48:14.270464Z",
     "start_time": "2017-12-07T00:48:14.086948Z"
    }
   },
   "outputs": [
    {
     "ename": "Exception",
     "evalue": "No provided molecule matches topology molecule:\nAtom        0    N1     0 MOL\nAtom        1    C1     0 MOL\nAtom        2    C2     0 MOL\nAtom        3    C3     0 MOL\nAtom        4    C4     0 MOL\nAtom        5    C5     0 MOL\nAtom        6    C6     0 MOL\nAtom        7    C7     0 MOL\nAtom        8    C8     0 MOL\nAtom        9    C9     0 MOL\nAtom       10   C10     0 MOL\nAtom       11   C11     0 MOL\nAtom       12   C12     0 MOL\nAtom       13    H1     0 MOL\nAtom       14    H2     0 MOL\nAtom       15    H3     0 MOL\nAtom       16    H4     0 MOL\nAtom       17    H5     0 MOL\nAtom       18    H6     0 MOL\nAtom       19    H7     0 MOL\nAtom       20    H8     0 MOL\nAtom       21    H9     0 MOL\nAtom       22   H10     0 MOL\nAtom       23   H11     0 MOL\nAtom       24   H12     0 MOL\nAtom       25   H13     0 MOL\nAtom       26   H14     0 MOL\nAtom       27   H15     0 MOL\nAtom       28   H16     0 MOL\nAtom       29   H17     0 MOL\nAtom       30   H18     0 MOL\nAtom       31   H19     0 MOL\nAtom       32   H20     0 MOL\nAtom       33   H21     0 MOL\nAtom       34   H22     0 MOL\n",
     "output_type": "error",
     "traceback": [
      "\u001b[0;31m---------------------------------------------------------------------------\u001b[0m",
      "\u001b[0;31mException\u001b[0m                                 Traceback (most recent call last)",
      "\u001b[0;32m<ipython-input-22-a37313f61d5a>\u001b[0m in \u001b[0;36m<module>\u001b[0;34m()\u001b[0m\n\u001b[1;32m      1\u001b[0m \u001b[0mff\u001b[0m \u001b[0;34m=\u001b[0m \u001b[0mForceField\u001b[0m\u001b[0;34m(\u001b[0m\u001b[0;34m'forcefield/smirnoff99Frosst.ffxml'\u001b[0m\u001b[0;34m,\u001b[0m \u001b[0;34m'forcefield/tip3p.ffxml'\u001b[0m\u001b[0;34m)\u001b[0m\u001b[0;34m\u001b[0m\u001b[0m\n\u001b[1;32m      2\u001b[0m system = ff.createSystem(pdb.topology, \n\u001b[0;32m----> 3\u001b[0;31m                          mols)\n\u001b[0m\u001b[1;32m      4\u001b[0m \u001b[0mintegrator\u001b[0m \u001b[0;34m=\u001b[0m \u001b[0mopenmm\u001b[0m\u001b[0;34m.\u001b[0m\u001b[0mVerletIntegrator\u001b[0m\u001b[0;34m(\u001b[0m\u001b[0;36m1.0\u001b[0m \u001b[0;34m*\u001b[0m \u001b[0munit\u001b[0m\u001b[0;34m.\u001b[0m\u001b[0mfemtoseconds\u001b[0m\u001b[0;34m)\u001b[0m\u001b[0;34m\u001b[0m\u001b[0m\n\u001b[1;32m      5\u001b[0m \u001b[0mcontext\u001b[0m \u001b[0;34m=\u001b[0m \u001b[0mopenmm\u001b[0m\u001b[0;34m.\u001b[0m\u001b[0mContext\u001b[0m\u001b[0;34m(\u001b[0m\u001b[0msystem\u001b[0m\u001b[0;34m,\u001b[0m \u001b[0mintegrator\u001b[0m\u001b[0;34m)\u001b[0m\u001b[0;34m\u001b[0m\u001b[0m\n",
      "\u001b[0;32m~/hgst-3tb-data/projects/openforcefield/openforcefield/openforcefield/typing/engines/smirnoff/forcefield.py\u001b[0m in \u001b[0;36mcreateSystem\u001b[0;34m(self, topology, molecules, nonbondedMethod, nonbondedCutoff, constraints, rigidWater, removeCMMotion, hydrogenMass, residueTemplates, chargeMethod, verbose, **kwargs)\u001b[0m\n\u001b[1;32m    967\u001b[0m \u001b[0;34m\u001b[0m\u001b[0m\n\u001b[1;32m    968\u001b[0m         \u001b[0;31m# Work with a modified form of the topology that provides additional accessors.\u001b[0m\u001b[0;34m\u001b[0m\u001b[0;34m\u001b[0m\u001b[0m\n\u001b[0;32m--> 969\u001b[0;31m         \u001b[0mtopology\u001b[0m \u001b[0;34m=\u001b[0m \u001b[0m_Topology\u001b[0m\u001b[0;34m(\u001b[0m\u001b[0mtopology\u001b[0m\u001b[0;34m,\u001b[0m \u001b[0mmolecules\u001b[0m\u001b[0;34m)\u001b[0m\u001b[0;34m\u001b[0m\u001b[0m\n\u001b[0m\u001b[1;32m    970\u001b[0m \u001b[0;34m\u001b[0m\u001b[0m\n\u001b[1;32m    971\u001b[0m         \u001b[0;31m# If the charge method was not an OpenEye AM1 method and we need Wiberg bond orders, obtain Wiberg bond orders\u001b[0m\u001b[0;34m\u001b[0m\u001b[0;34m\u001b[0m\u001b[0m\n",
      "\u001b[0;32m~/hgst-3tb-data/projects/openforcefield/openforcefield/openforcefield/typing/engines/smirnoff/forcefield.py\u001b[0m in \u001b[0;36m__init__\u001b[0;34m(self, topology, reference_molecules)\u001b[0m\n\u001b[1;32m    193\u001b[0m \u001b[0;34m\u001b[0m\u001b[0m\n\u001b[1;32m    194\u001b[0m         \u001b[0;31m# Identify all molecules and atom mappings.\u001b[0m\u001b[0;34m\u001b[0m\u001b[0;34m\u001b[0m\u001b[0m\n\u001b[0;32m--> 195\u001b[0;31m         \u001b[0mself\u001b[0m\u001b[0;34m.\u001b[0m\u001b[0m_identifyMolecules\u001b[0m\u001b[0;34m(\u001b[0m\u001b[0;34m)\u001b[0m\u001b[0;34m\u001b[0m\u001b[0m\n\u001b[0m\u001b[1;32m    196\u001b[0m \u001b[0;34m\u001b[0m\u001b[0m\n\u001b[1;32m    197\u001b[0m         \u001b[0;31m# Get/initialize bond orders\u001b[0m\u001b[0;34m\u001b[0m\u001b[0;34m\u001b[0m\u001b[0m\n",
      "\u001b[0;32m~/hgst-3tb-data/projects/openforcefield/openforcefield/openforcefield/typing/engines/smirnoff/forcefield.py\u001b[0m in \u001b[0;36m_identifyMolecules\u001b[0;34m(self)\u001b[0m\n\u001b[1;32m    371\u001b[0m                 \u001b[0;32mfor\u001b[0m \u001b[0mindex\u001b[0m \u001b[0;32min\u001b[0m \u001b[0msorted\u001b[0m\u001b[0;34m(\u001b[0m\u001b[0mlist\u001b[0m\u001b[0;34m(\u001b[0m\u001b[0mmolecule_graph\u001b[0m\u001b[0;34m)\u001b[0m\u001b[0;34m)\u001b[0m\u001b[0;34m:\u001b[0m\u001b[0;34m\u001b[0m\u001b[0m\n\u001b[1;32m    372\u001b[0m                     \u001b[0mmsg\u001b[0m \u001b[0;34m+=\u001b[0m \u001b[0;34m'Atom %8d %5s %5d %3s\\n'\u001b[0m \u001b[0;34m%\u001b[0m \u001b[0;34m(\u001b[0m\u001b[0matoms\u001b[0m\u001b[0;34m[\u001b[0m\u001b[0mindex\u001b[0m\u001b[0;34m]\u001b[0m\u001b[0;34m.\u001b[0m\u001b[0mindex\u001b[0m\u001b[0;34m,\u001b[0m \u001b[0matoms\u001b[0m\u001b[0;34m[\u001b[0m\u001b[0mindex\u001b[0m\u001b[0;34m]\u001b[0m\u001b[0;34m.\u001b[0m\u001b[0mname\u001b[0m\u001b[0;34m,\u001b[0m \u001b[0matoms\u001b[0m\u001b[0;34m[\u001b[0m\u001b[0mindex\u001b[0m\u001b[0;34m]\u001b[0m\u001b[0;34m.\u001b[0m\u001b[0mresidue\u001b[0m\u001b[0;34m.\u001b[0m\u001b[0mindex\u001b[0m\u001b[0;34m,\u001b[0m \u001b[0matoms\u001b[0m\u001b[0;34m[\u001b[0m\u001b[0mindex\u001b[0m\u001b[0;34m]\u001b[0m\u001b[0;34m.\u001b[0m\u001b[0mresidue\u001b[0m\u001b[0;34m.\u001b[0m\u001b[0mname\u001b[0m\u001b[0;34m)\u001b[0m\u001b[0;34m\u001b[0m\u001b[0m\n\u001b[0;32m--> 373\u001b[0;31m                 \u001b[0;32mraise\u001b[0m \u001b[0mException\u001b[0m\u001b[0;34m(\u001b[0m\u001b[0mmsg\u001b[0m\u001b[0;34m)\u001b[0m\u001b[0;34m\u001b[0m\u001b[0m\n\u001b[0m\u001b[1;32m    374\u001b[0m \u001b[0;34m\u001b[0m\u001b[0m\n\u001b[1;32m    375\u001b[0m     \u001b[0;32mdef\u001b[0m \u001b[0m_updateBondOrders\u001b[0m\u001b[0;34m(\u001b[0m\u001b[0mself\u001b[0m\u001b[0;34m,\u001b[0m \u001b[0mWiberg\u001b[0m \u001b[0;34m=\u001b[0m \u001b[0;32mFalse\u001b[0m\u001b[0;34m)\u001b[0m\u001b[0;34m:\u001b[0m\u001b[0;34m\u001b[0m\u001b[0m\n",
      "\u001b[0;31mException\u001b[0m: No provided molecule matches topology molecule:\nAtom        0    N1     0 MOL\nAtom        1    C1     0 MOL\nAtom        2    C2     0 MOL\nAtom        3    C3     0 MOL\nAtom        4    C4     0 MOL\nAtom        5    C5     0 MOL\nAtom        6    C6     0 MOL\nAtom        7    C7     0 MOL\nAtom        8    C8     0 MOL\nAtom        9    C9     0 MOL\nAtom       10   C10     0 MOL\nAtom       11   C11     0 MOL\nAtom       12   C12     0 MOL\nAtom       13    H1     0 MOL\nAtom       14    H2     0 MOL\nAtom       15    H3     0 MOL\nAtom       16    H4     0 MOL\nAtom       17    H5     0 MOL\nAtom       18    H6     0 MOL\nAtom       19    H7     0 MOL\nAtom       20    H8     0 MOL\nAtom       21    H9     0 MOL\nAtom       22   H10     0 MOL\nAtom       23   H11     0 MOL\nAtom       24   H12     0 MOL\nAtom       25   H13     0 MOL\nAtom       26   H14     0 MOL\nAtom       27   H15     0 MOL\nAtom       28   H16     0 MOL\nAtom       29   H17     0 MOL\nAtom       30   H18     0 MOL\nAtom       31   H19     0 MOL\nAtom       32   H20     0 MOL\nAtom       33   H21     0 MOL\nAtom       34   H22     0 MOL\n"
     ]
    }
   ],
   "source": [
    "ff = ForceField('forcefield/smirnoff99Frosst.ffxml', 'forcefield/tip3p.ffxml') \n",
    "system = ff.createSystem(pdb.topology, \n",
    "                         mols)\n",
    "integrator = openmm.VerletIntegrator(1.0 * unit.femtoseconds)\n",
    "context = openmm.Context(system, integrator)\n",
    "context.setPositions(pdb.positions)"
   ]
  },
  {
   "cell_type": "markdown",
   "metadata": {},
   "source": [
    "## Step 5: save the ParmEd structure as a `.prmtop` file"
   ]
  },
  {
   "cell_type": "code",
   "execution_count": 132,
   "metadata": {
    "ExecuteTime": {
     "end_time": "2017-12-06T20:52:03.069726Z",
     "start_time": "2017-12-06T20:52:02.130029Z"
    },
    "collapsed": true,
    "scrolled": true
   },
   "outputs": [],
   "source": [
    "structure = pmd.openmm.topsystem.load_topology(pdb.topology, system, pdb.positions)"
   ]
  },
  {
   "cell_type": "code",
   "execution_count": 133,
   "metadata": {
    "ExecuteTime": {
     "end_time": "2017-12-06T20:52:28.643512Z",
     "start_time": "2017-12-06T20:52:04.035955Z"
    }
   },
   "outputs": [
    {
     "ename": "AttributeError",
     "evalue": "'NoneType' object has no attribute 'used'",
     "output_type": "error",
     "traceback": [
      "\u001b[0;31m---------------------------------------------------------------------------\u001b[0m",
      "\u001b[0;31mAttributeError\u001b[0m                            Traceback (most recent call last)",
      "\u001b[0;32m<ipython-input-133-3f16fadfe87f>\u001b[0m in \u001b[0;36m<module>\u001b[0;34m()\u001b[0m\n\u001b[0;32m----> 1\u001b[0;31m \u001b[0mstructure\u001b[0m\u001b[0;34m.\u001b[0m\u001b[0msave\u001b[0m\u001b[0;34m(\u001b[0m\u001b[0mpath\u001b[0m \u001b[0;34m+\u001b[0m \u001b[0;34m'bcd-ben-smirnoff.prmtop'\u001b[0m\u001b[0;34m)\u001b[0m\u001b[0;34m\u001b[0m\u001b[0m\n\u001b[0m",
      "\u001b[0;32m~/data/applications/anaconda3/envs/openforcefield/lib/python3.6/site-packages/parmed/structure.py\u001b[0m in \u001b[0;36msave\u001b[0;34m(self, fname, format, overwrite, **kwargs)\u001b[0m\n\u001b[1;32m   1531\u001b[0m                 \u001b[0;32melse\u001b[0m\u001b[0;34m:\u001b[0m\u001b[0;34m\u001b[0m\u001b[0m\n\u001b[1;32m   1532\u001b[0m                     \u001b[0;32mtry\u001b[0m\u001b[0;34m:\u001b[0m\u001b[0;34m\u001b[0m\u001b[0m\n\u001b[0;32m-> 1533\u001b[0;31m                         \u001b[0ms\u001b[0m \u001b[0;34m=\u001b[0m \u001b[0mamber\u001b[0m\u001b[0;34m.\u001b[0m\u001b[0mAmberParm\u001b[0m\u001b[0;34m.\u001b[0m\u001b[0mfrom_structure\u001b[0m\u001b[0;34m(\u001b[0m\u001b[0mself\u001b[0m\u001b[0;34m)\u001b[0m\u001b[0;34m\u001b[0m\u001b[0m\n\u001b[0m\u001b[1;32m   1534\u001b[0m                     \u001b[0;32mexcept\u001b[0m \u001b[0mTypeError\u001b[0m \u001b[0;32mas\u001b[0m \u001b[0me\u001b[0m\u001b[0;34m:\u001b[0m\u001b[0;34m\u001b[0m\u001b[0m\n\u001b[1;32m   1535\u001b[0m                         \u001b[0;32mif\u001b[0m \u001b[0;34m'Cannot translate exceptions'\u001b[0m \u001b[0;32min\u001b[0m \u001b[0mstr\u001b[0m\u001b[0;34m(\u001b[0m\u001b[0me\u001b[0m\u001b[0;34m)\u001b[0m\u001b[0;34m:\u001b[0m\u001b[0;34m\u001b[0m\u001b[0m\n",
      "\u001b[0;32m~/data/applications/anaconda3/envs/openforcefield/lib/python3.6/site-packages/parmed/amber/_amberparm.py\u001b[0m in \u001b[0;36mfrom_structure\u001b[0;34m(cls, struct, copy)\u001b[0m\n\u001b[1;32m    381\u001b[0m                 \u001b[0mdt\u001b[0m\u001b[0;34m.\u001b[0m\u001b[0mphi_k\u001b[0m \u001b[0;34m=\u001b[0m \u001b[0;36m0.0\u001b[0m\u001b[0;34m\u001b[0m\u001b[0m\n\u001b[1;32m    382\u001b[0m                 \u001b[0mdt\u001b[0m\u001b[0;34m.\u001b[0m\u001b[0mper\u001b[0m \u001b[0;34m=\u001b[0m \u001b[0;36m1.0\u001b[0m\u001b[0;34m\u001b[0m\u001b[0m\n\u001b[0;32m--> 383\u001b[0;31m         \u001b[0minst\u001b[0m\u001b[0;34m.\u001b[0m\u001b[0mremake_parm\u001b[0m\u001b[0;34m(\u001b[0m\u001b[0;34m)\u001b[0m\u001b[0;34m\u001b[0m\u001b[0m\n\u001b[0m\u001b[1;32m    384\u001b[0m         \u001b[0minst\u001b[0m\u001b[0;34m.\u001b[0m\u001b[0m_set_nonbonded_tables\u001b[0m\u001b[0;34m(\u001b[0m\u001b[0mnbfixes\u001b[0m\u001b[0;34m)\u001b[0m\u001b[0;34m\u001b[0m\u001b[0m\n\u001b[1;32m    385\u001b[0m         \u001b[0mn_copy\u001b[0m \u001b[0;34m=\u001b[0m \u001b[0minst\u001b[0m\u001b[0;34m.\u001b[0m\u001b[0mpointers\u001b[0m\u001b[0;34m.\u001b[0m\u001b[0mget\u001b[0m\u001b[0;34m(\u001b[0m\u001b[0;34m'NCOPY'\u001b[0m\u001b[0;34m,\u001b[0m \u001b[0;36m1\u001b[0m\u001b[0;34m)\u001b[0m\u001b[0;34m\u001b[0m\u001b[0m\n",
      "\u001b[0;32m~/data/applications/anaconda3/envs/openforcefield/lib/python3.6/site-packages/parmed/amber/_amberparm.py\u001b[0m in \u001b[0;36mremake_parm\u001b[0;34m(self)\u001b[0m\n\u001b[1;32m    678\u001b[0m         \u001b[0mself\u001b[0m\u001b[0;34m.\u001b[0m\u001b[0m_xfer_atom_info\u001b[0m\u001b[0;34m(\u001b[0m\u001b[0;34m)\u001b[0m\u001b[0;34m\u001b[0m\u001b[0m\n\u001b[1;32m    679\u001b[0m         \u001b[0mself\u001b[0m\u001b[0;34m.\u001b[0m\u001b[0m_xfer_residue_info\u001b[0m\u001b[0;34m(\u001b[0m\u001b[0;34m)\u001b[0m\u001b[0;34m\u001b[0m\u001b[0m\n\u001b[0;32m--> 680\u001b[0;31m         \u001b[0mself\u001b[0m\u001b[0;34m.\u001b[0m\u001b[0m_xfer_bond_info\u001b[0m\u001b[0;34m(\u001b[0m\u001b[0;34m)\u001b[0m\u001b[0;34m\u001b[0m\u001b[0m\n\u001b[0m\u001b[1;32m    681\u001b[0m         \u001b[0mself\u001b[0m\u001b[0;34m.\u001b[0m\u001b[0m_xfer_angle_info\u001b[0m\u001b[0;34m(\u001b[0m\u001b[0;34m)\u001b[0m\u001b[0;34m\u001b[0m\u001b[0m\n\u001b[1;32m    682\u001b[0m         \u001b[0mself\u001b[0m\u001b[0;34m.\u001b[0m\u001b[0m_xfer_dihedral_info\u001b[0m\u001b[0;34m(\u001b[0m\u001b[0;34m)\u001b[0m\u001b[0;34m\u001b[0m\u001b[0m\n",
      "\u001b[0;32m~/data/applications/anaconda3/envs/openforcefield/lib/python3.6/site-packages/parmed/amber/_amberparm.py\u001b[0m in \u001b[0;36m_xfer_bond_info\u001b[0;34m(self)\u001b[0m\n\u001b[1;32m   1559\u001b[0m             \u001b[0mbond_type\u001b[0m\u001b[0;34m.\u001b[0m\u001b[0mused\u001b[0m \u001b[0;34m=\u001b[0m \u001b[0;32mFalse\u001b[0m\u001b[0;34m\u001b[0m\u001b[0m\n\u001b[1;32m   1560\u001b[0m         \u001b[0;32mfor\u001b[0m \u001b[0mbond\u001b[0m \u001b[0;32min\u001b[0m \u001b[0mself\u001b[0m\u001b[0;34m.\u001b[0m\u001b[0mbonds\u001b[0m\u001b[0;34m:\u001b[0m\u001b[0;34m\u001b[0m\u001b[0m\n\u001b[0;32m-> 1561\u001b[0;31m             \u001b[0mbond\u001b[0m\u001b[0;34m.\u001b[0m\u001b[0mtype\u001b[0m\u001b[0;34m.\u001b[0m\u001b[0mused\u001b[0m \u001b[0;34m=\u001b[0m \u001b[0;32mTrue\u001b[0m\u001b[0;34m\u001b[0m\u001b[0m\n\u001b[0m\u001b[1;32m   1562\u001b[0m         \u001b[0mself\u001b[0m\u001b[0;34m.\u001b[0m\u001b[0mbond_types\u001b[0m\u001b[0;34m.\u001b[0m\u001b[0mprune_unused\u001b[0m\u001b[0;34m(\u001b[0m\u001b[0;34m)\u001b[0m\u001b[0;34m\u001b[0m\u001b[0m\n\u001b[1;32m   1563\u001b[0m         \u001b[0mdata\u001b[0m\u001b[0;34m[\u001b[0m\u001b[0;34m'BOND_FORCE_CONSTANT'\u001b[0m\u001b[0;34m]\u001b[0m \u001b[0;34m=\u001b[0m \u001b[0;34m[\u001b[0m\u001b[0mtype\u001b[0m\u001b[0;34m.\u001b[0m\u001b[0mk\u001b[0m \u001b[0;32mfor\u001b[0m \u001b[0mtype\u001b[0m \u001b[0;32min\u001b[0m \u001b[0mself\u001b[0m\u001b[0;34m.\u001b[0m\u001b[0mbond_types\u001b[0m\u001b[0;34m]\u001b[0m\u001b[0;34m\u001b[0m\u001b[0m\n",
      "\u001b[0;31mAttributeError\u001b[0m: 'NoneType' object has no attribute 'used'"
     ]
    }
   ],
   "source": [
    "structure.save(path + 'bcd-ben-smirnoff.prmtop')"
   ]
  },
  {
   "cell_type": "markdown",
   "metadata": {
    "collapsed": true
   },
   "source": [
    "# Investigate whether the cyclodextrin `OEMol` is correct"
   ]
  },
  {
   "cell_type": "code",
   "execution_count": null,
   "metadata": {
    "ExecuteTime": {
     "end_time": "2017-12-04T23:08:06.777525Z",
     "start_time": "2017-12-04T23:07:35.599Z"
    },
    "collapsed": true
   },
   "outputs": [],
   "source": [
    "bcd = mols[0]"
   ]
  },
  {
   "cell_type": "code",
   "execution_count": null,
   "metadata": {
    "ExecuteTime": {
     "end_time": "2017-12-04T23:08:06.778587Z",
     "start_time": "2017-12-04T23:07:35.602Z"
    },
    "collapsed": true
   },
   "outputs": [],
   "source": [
    "from openeye.oedepict import *\n",
    "OEPrepareDepiction(bcd)"
   ]
  },
  {
   "cell_type": "code",
   "execution_count": null,
   "metadata": {
    "ExecuteTime": {
     "end_time": "2017-12-04T23:08:06.779704Z",
     "start_time": "2017-12-04T23:07:35.604Z"
    },
    "collapsed": true
   },
   "outputs": [],
   "source": [
    "OERenderMolecule(path + \"bcd.png\", bcd)\n",
    "from IPython.display import Image\n",
    "Image(path + \"bcd.png\")"
   ]
  },
  {
   "cell_type": "markdown",
   "metadata": {},
   "source": [
    "This seems okay."
   ]
  },
  {
   "cell_type": "code",
   "execution_count": 62,
   "metadata": {
    "ExecuteTime": {
     "end_time": "2017-12-04T23:08:16.440338Z",
     "start_time": "2017-12-04T23:08:16.435874Z"
    }
   },
   "outputs": [
    {
     "data": {
      "text/plain": [
       "AtomList([\n",
       "\t<Atom C1 [0]; In MGO 0>\n",
       "\t<Atom H1 [1]; In MGO 0>\n",
       "\t<Atom O1 [2]; In MGO 0>\n",
       "\t<Atom C2 [3]; In MGO 0>\n",
       "\t<Atom H2 [4]; In MGO 0>\n",
       "\t<Atom O2 [5]; In MGO 0>\n",
       "\t<Atom HO2 [6]; In MGO 0>\n",
       "\t<Atom C3 [7]; In MGO 0>\n",
       "\t<Atom H3 [8]; In MGO 0>\n",
       "\t<Atom O3 [9]; In MGO 0>\n",
       "\t<Atom HO3 [10]; In MGO 0>\n",
       "\t<Atom C4 [11]; In MGO 0>\n",
       "\t<Atom H4 [12]; In MGO 0>\n",
       "\t<Atom C5 [13]; In MGO 0>\n",
       "\t<Atom H5 [14]; In MGO 0>\n",
       "\t<Atom O5 [15]; In MGO 0>\n",
       "\t<Atom C6 [16]; In MGO 0>\n",
       "\t<Atom H61 [17]; In MGO 0>\n",
       "\t<Atom H62 [18]; In MGO 0>\n",
       "\t<Atom O6 [19]; In MGO 0>\n",
       "\t<Atom HO6 [20]; In MGO 0>\n",
       "\t<Atom C1 [21]; In MGO 1>\n",
       "\t<Atom H1 [22]; In MGO 1>\n",
       "\t<Atom O1 [23]; In MGO 1>\n",
       "\t...\n",
       "\t<Atom H1 [6799]; In HOH 2229>\n",
       "\t<Atom H2 [6800]; In HOH 2229>\n",
       "\t<Atom O [6801]; In HOH 2230>\n",
       "\t<Atom H1 [6802]; In HOH 2230>\n",
       "\t<Atom H2 [6803]; In HOH 2230>\n",
       "])"
      ]
     },
     "execution_count": 62,
     "metadata": {},
     "output_type": "execute_result"
    }
   ],
   "source": [
    "structure.atoms"
   ]
  },
  {
   "cell_type": "code",
   "execution_count": 63,
   "metadata": {
    "ExecuteTime": {
     "end_time": "2017-12-04T23:08:22.376944Z",
     "start_time": "2017-12-04T23:08:22.371543Z"
    }
   },
   "outputs": [
    {
     "data": {
      "text/plain": [
       "TrackedList([\n",
       "\t<BondType; k=340.000, req=1.090>\n",
       "\t<BondType; k=320.000, req=1.370>\n",
       "\t<BondType; k=310.000, req=1.526>\n",
       "\t<BondType; k=320.000, req=1.410>\n",
       "\t<BondType; k=553.000, req=0.960>\n",
       "\t<BondType; k=469.000, req=1.400>\n",
       "\t<BondType; k=367.000, req=1.080>\n",
       "\t<BondType; k=410.000, req=1.450>\n",
       "\t<BondType; k=656.000, req=1.250>\n",
       "])"
      ]
     },
     "execution_count": 63,
     "metadata": {},
     "output_type": "execute_result"
    }
   ],
   "source": [
    "structure.bond_types"
   ]
  },
  {
   "cell_type": "code",
   "execution_count": 64,
   "metadata": {
    "ExecuteTime": {
     "end_time": "2017-12-04T23:08:26.918667Z",
     "start_time": "2017-12-04T23:08:26.914802Z"
    },
    "scrolled": true
   },
   "outputs": [
    {
     "data": {
      "text/plain": [
       "TrackedList([\n",
       "\t<Bond <Atom H1 [175]; In HOH 21>--<Atom O [174]; In HOH 21>; type=None>\n",
       "\t<Bond <Atom H2 [176]; In HOH 21>--<Atom O [174]; In HOH 21>; type=None>\n",
       "\t<Bond <Atom H1 [178]; In HOH 22>--<Atom O [177]; In HOH 22>; type=None>\n",
       "\t<Bond <Atom H2 [179]; In HOH 22>--<Atom O [177]; In HOH 22>; type=None>\n",
       "\t<Bond <Atom H1 [181]; In HOH 23>--<Atom O [180]; In HOH 23>; type=None>\n",
       "\t<Bond <Atom H2 [182]; In HOH 23>--<Atom O [180]; In HOH 23>; type=None>\n",
       "\t<Bond <Atom H1 [184]; In HOH 24>--<Atom O [183]; In HOH 24>; type=None>\n",
       "\t<Bond <Atom H2 [185]; In HOH 24>--<Atom O [183]; In HOH 24>; type=None>\n",
       "\t<Bond <Atom H1 [187]; In HOH 25>--<Atom O [186]; In HOH 25>; type=None>\n",
       "\t<Bond <Atom H2 [188]; In HOH 25>--<Atom O [186]; In HOH 25>; type=None>\n",
       "\t<Bond <Atom H1 [190]; In HOH 26>--<Atom O [189]; In HOH 26>; type=None>\n",
       "\t<Bond <Atom H2 [191]; In HOH 26>--<Atom O [189]; In HOH 26>; type=None>\n",
       "\t<Bond <Atom H1 [193]; In HOH 27>--<Atom O [192]; In HOH 27>; type=None>\n",
       "\t<Bond <Atom H2 [194]; In HOH 27>--<Atom O [192]; In HOH 27>; type=None>\n",
       "\t<Bond <Atom H1 [196]; In HOH 28>--<Atom O [195]; In HOH 28>; type=None>\n",
       "\t<Bond <Atom H2 [197]; In HOH 28>--<Atom O [195]; In HOH 28>; type=None>\n",
       "\t<Bond <Atom H1 [199]; In HOH 29>--<Atom O [198]; In HOH 29>; type=None>\n",
       "\t<Bond <Atom H2 [200]; In HOH 29>--<Atom O [198]; In HOH 29>; type=None>\n",
       "\t<Bond <Atom H1 [202]; In HOH 30>--<Atom O [201]; In HOH 30>; type=None>\n",
       "\t<Bond <Atom H2 [203]; In HOH 30>--<Atom O [201]; In HOH 30>; type=None>\n",
       "\t<Bond <Atom H1 [205]; In HOH 31>--<Atom O [204]; In HOH 31>; type=None>\n",
       "\t<Bond <Atom H2 [206]; In HOH 31>--<Atom O [204]; In HOH 31>; type=None>\n",
       "\t<Bond <Atom H1 [208]; In HOH 32>--<Atom O [207]; In HOH 32>; type=None>\n",
       "\t<Bond <Atom H2 [209]; In HOH 32>--<Atom O [207]; In HOH 32>; type=None>\n",
       "\t...\n",
       "\t<Bond <Atom C5 [154]; In BEN 7>--<Atom H4 [155]; In BEN 7>; type=<BondType; k=367.000, req=1.080>>\n",
       "\t<Bond <Atom C5 [154]; In BEN 7>--<Atom C6 [156]; In BEN 7>; type=<BondType; k=469.000, req=1.400>>\n",
       "\t<Bond <Atom C6 [156]; In BEN 7>--<Atom H5 [157]; In BEN 7>; type=<BondType; k=367.000, req=1.080>>\n",
       "\t<Bond <Atom C7 [158]; In BEN 7>--<Atom O1 [159]; In BEN 7>; type=<BondType; k=656.000, req=1.250>>\n",
       "\t<Bond <Atom C7 [158]; In BEN 7>--<Atom O2 [160]; In BEN 7>; type=<BondType; k=656.000, req=1.250>>\n",
       "])"
      ]
     },
     "execution_count": 64,
     "metadata": {},
     "output_type": "execute_result"
    }
   ],
   "source": [
    "structure.bonds"
   ]
  },
  {
   "cell_type": "code",
   "execution_count": 68,
   "metadata": {
    "ExecuteTime": {
     "end_time": "2017-12-04T23:09:41.527732Z",
     "start_time": "2017-12-04T23:09:41.525048Z"
    },
    "collapsed": true
   },
   "outputs": [],
   "source": [
    "bonds = structure.bonds"
   ]
  },
  {
   "cell_type": "code",
   "execution_count": 80,
   "metadata": {
    "ExecuteTime": {
     "end_time": "2017-12-04T23:48:20.043437Z",
     "start_time": "2017-12-04T23:48:20.040799Z"
    },
    "collapsed": true
   },
   "outputs": [],
   "source": [
    "atoms = structure.atoms"
   ]
  },
  {
   "cell_type": "code",
   "execution_count": 90,
   "metadata": {
    "ExecuteTime": {
     "end_time": "2017-12-04T23:50:20.110829Z",
     "start_time": "2017-12-04T23:50:20.067921Z"
    }
   },
   "outputs": [
    {
     "name": "stdout",
     "output_type": "stream",
     "text": [
      "<Atom Na+ [161]; In Na+ 8> []\n",
      "<Atom Na+ [162]; In Na+ 9> []\n",
      "<Atom Na+ [163]; In Na+ 10> []\n",
      "<Atom Na+ [164]; In Na+ 11> []\n",
      "<Atom Na+ [165]; In Na+ 12> []\n",
      "<Atom Na+ [166]; In Na+ 13> []\n",
      "<Atom Na+ [167]; In Na+ 14> []\n",
      "<Atom Cl- [168]; In Cl- 15> []\n",
      "<Atom Cl- [169]; In Cl- 16> []\n",
      "<Atom Cl- [170]; In Cl- 17> []\n",
      "<Atom Cl- [171]; In Cl- 18> []\n",
      "<Atom Cl- [172]; In Cl- 19> []\n",
      "<Atom Cl- [173]; In Cl- 20> []\n"
     ]
    }
   ],
   "source": [
    "for atom in atoms:\n",
    "    if len(atom.bond_partners) == 0:\n",
    "        print(atom, atom.bond_partners)\n",
    "    if atom.bond_partners is None:\n",
    "        print(atom, atom.bond_partners)"
   ]
  },
  {
   "cell_type": "code",
   "execution_count": 95,
   "metadata": {
    "ExecuteTime": {
     "end_time": "2017-12-05T01:10:17.265751Z",
     "start_time": "2017-12-05T01:10:17.259912Z"
    }
   },
   "outputs": [
    {
     "data": {
      "text/plain": [
       "'2.7.3'"
      ]
     },
     "execution_count": 95,
     "metadata": {},
     "output_type": "execute_result"
    }
   ],
   "source": [
    "pmd.__version__"
   ]
  },
  {
   "cell_type": "code",
   "execution_count": 96,
   "metadata": {
    "ExecuteTime": {
     "end_time": "2017-12-05T01:22:01.020460Z",
     "start_time": "2017-12-05T01:22:01.016766Z"
    }
   },
   "outputs": [
    {
     "data": {
      "text/plain": [
       "'7.1.1'"
      ]
     },
     "execution_count": 96,
     "metadata": {},
     "output_type": "execute_result"
    }
   ],
   "source": [
    "openmm.__version__"
   ]
  },
  {
   "cell_type": "code",
   "execution_count": 97,
   "metadata": {
    "ExecuteTime": {
     "end_time": "2017-12-05T01:22:17.035761Z",
     "start_time": "2017-12-05T01:22:17.032120Z"
    }
   },
   "outputs": [
    {
     "data": {
      "text/plain": [
       "'2017.Jun.1'"
      ]
     },
     "execution_count": 97,
     "metadata": {},
     "output_type": "execute_result"
    }
   ],
   "source": [
    "openeye.__version__"
   ]
  },
  {
   "cell_type": "markdown",
   "metadata": {},
   "source": [
    "# Can I build the host from SMILES?\n",
    "https://pubchem.ncbi.nlm.nih.gov/compound/beta-CYCLODEXTRIN#section=Top"
   ]
  },
  {
   "cell_type": "code",
   "execution_count": 98,
   "metadata": {
    "ExecuteTime": {
     "end_time": "2017-12-05T22:57:42.170979Z",
     "start_time": "2017-12-05T22:57:42.168525Z"
    },
    "collapsed": true
   },
   "outputs": [],
   "source": [
    "bcd_smiles = 'C([C@@H]1[C@@H]2[C@@H]([C@H]([C@H](O1)O[C@@H]3[C@H](O[C@@H]([C@@H]([C@H]3O)O)O[C@@H]4[C@H](O[C@@H]([C@@H]([C@H]4O)O)O[C@@H]5[C@H](O[C@@H]([C@@H]([C@H]5O)O)O[C@@H]6[C@H](O[C@@H]([C@@H]([C@H]6O)O)O[C@@H]7[C@H](O[C@@H]([C@@H]([C@H]7O)O)O[C@@H]8[C@H](O[C@H](O2)[C@@H]([C@H]8O)O)CO)CO)CO)CO)CO)CO)O)O)O'"
   ]
  },
  {
   "cell_type": "code",
   "execution_count": 100,
   "metadata": {
    "ExecuteTime": {
     "end_time": "2017-12-05T22:59:24.274002Z",
     "start_time": "2017-12-05T22:59:24.264014Z"
    },
    "collapsed": true
   },
   "outputs": [],
   "source": [
    "mol = oechem.OEMol()\n",
    "oechem.OESmilesToMol(mol, bcd_smiles)\n",
    "for atom in mol.GetAtoms():\n",
    "    atom.SetPartialCharge(atom.GetFormalCharge())\n",
    "oechem.OEAddExplicitHydrogens(mol)\n",
    "oechem.OETriposAtomNames(mol)\n",
    "# mols.append(mol)"
   ]
  },
  {
   "cell_type": "code",
   "execution_count": 101,
   "metadata": {
    "ExecuteTime": {
     "end_time": "2017-12-05T22:59:25.994716Z",
     "start_time": "2017-12-05T22:59:25.991178Z"
    }
   },
   "outputs": [
    {
     "data": {
      "text/plain": [
       "<oechem.OEMol; proxy of <Swig Object of type 'OEMolWrapper *' at 0x7f16fc3deab0> >"
      ]
     },
     "execution_count": 101,
     "metadata": {},
     "output_type": "execute_result"
    }
   ],
   "source": [
    "mol"
   ]
  },
  {
   "cell_type": "code",
   "execution_count": 104,
   "metadata": {
    "ExecuteTime": {
     "end_time": "2017-12-05T23:01:34.169138Z",
     "start_time": "2017-12-05T23:01:34.134769Z"
    }
   },
   "outputs": [
    {
     "data": {
      "image/png": "[encoded data removed]",
      "text/plain": [
       "<IPython.core.display.Image object>"
      ]
     },
     "execution_count": 104,
     "metadata": {},
     "output_type": "execute_result"
    }
   ],
   "source": [
    "OEPrepareDepiction(mol)\n",
    "OERenderMolecule(path + \"bcd-from-smiles.png\", mol)\n",
    "from IPython.display import Image\n",
    "Image(path + \"bcd-from-smiles.png\")"
   ]
  },
  {
   "cell_type": "code",
   "execution_count": 109,
   "metadata": {
    "ExecuteTime": {
     "end_time": "2017-12-06T20:16:41.239005Z",
     "start_time": "2017-12-06T20:16:41.234156Z"
    }
   },
   "outputs": [
    {
     "data": {
      "text/plain": [
       "<bound method Topology.bonds of <Topology; 2225 chains, 2231 residues, 6804 atoms, 4588 bonds>>"
      ]
     },
     "execution_count": 109,
     "metadata": {},
     "output_type": "execute_result"
    }
   ],
   "source": [
    "pdb.topology.bonds"
   ]
  },
  {
   "cell_type": "code",
   "execution_count": null,
   "metadata": {
    "collapsed": true
   },
   "outputs": [],
   "source": []
  }
 ],
 "metadata": {
  "_draft": {
   "nbviewer_url": "https://gist.github.com/011f2438aada32f1bf16bdec57d9722c"
  },
  "gist": {
   "data": {
    "description": "host-guest-example.ipynb",
    "public": true
   },
   "id": "011f2438aada32f1bf16bdec57d9722c"
  },
  "kernelspec": {
   "display_name": "Python [conda env:openforcefield]",
   "language": "python",
   "name": "conda-env-openforcefield-py"
  },
  "language_info": {
   "codemirror_mode": {
    "name": "ipython",
    "version": 3
   },
   "file_extension": ".py",
   "mimetype": "text/x-python",
   "name": "python",
   "nbconvert_exporter": "python",
   "pygments_lexer": "ipython3",
   "version": "3.6.1"
  }
 },
 "nbformat": 4,
 "nbformat_minor": 2
}
