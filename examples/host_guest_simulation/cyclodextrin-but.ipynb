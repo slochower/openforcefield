{
 "cells": [
  {
   "cell_type": "markdown",
   "metadata": {},
   "source": [
    "# How to build an AMBER-compatible host-guest complex using the SMIRNOFF force field starting with SYBYL-formatted `mol2` files"
   ]
  },
  {
   "cell_type": "code",
   "execution_count": 24,
   "metadata": {
    "ExecuteTime": {
     "end_time": "2017-12-01T18:39:00.927295Z",
     "start_time": "2017-12-01T18:39:00.921936Z"
    },
    "collapsed": true
   },
   "outputs": [],
   "source": [
    "import parmed as pmd\n",
    "import subprocess as sp\n",
    "import numpy as np\n",
    "\n",
    "from openeye import oechem\n",
    "from openforcefield.typing.engines.smirnoff import *\n",
    "from pdbfixer import PDBFixer"
   ]
  },
  {
   "cell_type": "markdown",
   "metadata": {},
   "source": [
    "## Step 0: generate SYBYL-formatted `mol2` files\n",
    "\n",
    "Starting with files containing AM1-BCC charges and GAFF v1.7 Lennard-Jones and bonded parameters:\n",
    "\n",
    "```\n",
    "antechamber -i bcd.mol2 -fi mol2 -o bcd-sybyl.mol2 -fo mol2 -at sybyl\n",
    "antechamber -i ben.mol2 -fi mol2 -o ben-sybyl.mol2 -fo mol2 -at sybyl -dr n \n",
    "# Disable `acdoctor` to handle carboxylate group\n",
    "```"
   ]
  },
  {
   "cell_type": "code",
   "execution_count": 4,
   "metadata": {
    "ExecuteTime": {
     "end_time": "2017-12-01T18:31:13.887628Z",
     "start_time": "2017-12-01T18:31:13.883068Z"
    },
    "collapsed": true
   },
   "outputs": [],
   "source": [
    "path = './bcd-ben/'\n",
    "bcd = path + 'bcd-sybyl.mol2'\n",
    "ben = path + 'ben-sybyl.mol2'"
   ]
  },
  {
   "cell_type": "code",
   "execution_count": 5,
   "metadata": {
    "ExecuteTime": {
     "end_time": "2017-12-01T18:31:14.462632Z",
     "start_time": "2017-12-01T18:31:14.346340Z"
    }
   },
   "outputs": [
    {
     "name": "stdout",
     "output_type": "stream",
     "text": [
      "==> ./bcd-ben/bcd.mol2 <==\r\n",
      "@<TRIPOS>MOLECULE\r\n",
      "Cpptraj generated mol2 file.\r\n",
      "  147   154     7     0     0\r\n",
      "SMALL\r\n",
      "USER_CHARGES\r\n",
      "\r\n",
      "\r\n",
      "@<TRIPOS>ATOM\r\n",
      "      1 C1         16.6428   14.6231   33.9447 c3         1 MGO      0.304529\r\n",
      "      2 H1         15.6508   14.1481   33.8157 h2         1 MGO      0.090782\r\n",
      "\r\n",
      "==> ./bcd-ben/bcd-sybyl.mol2 <==\r\n",
      "@<TRIPOS>MOLECULE\r\n",
      "Cpptraj\r\n",
      "  147   154     1     0     0\r\n",
      "SMALL\r\n",
      "No Charge or Current Charge\r\n",
      "\r\n",
      "\r\n",
      "@<TRIPOS>ATOM\r\n",
      "      1 C1          16.6430    14.6230    33.9450 C.3        1 MGO       0.304529\r\n",
      "      2 H1          15.6510    14.1480    33.8160 H          1 MGO       0.090782\r\n"
     ]
    }
   ],
   "source": [
    "!head -n 10 './bcd-ben/bcd.mol2' './bcd-ben/bcd-sybyl.mol2' "
   ]
  },
  {
   "cell_type": "code",
   "execution_count": 6,
   "metadata": {
    "ExecuteTime": {
     "end_time": "2017-12-01T18:31:14.926917Z",
     "start_time": "2017-12-01T18:31:14.810957Z"
    }
   },
   "outputs": [
    {
     "name": "stdout",
     "output_type": "stream",
     "text": [
      "==> ./bcd-ben/ben.mol2 <==\r\n",
      "@<TRIPOS>MOLECULE\r\n",
      "Cpptraj generated mol2 file.\r\n",
      "   14    14     1     0     0\r\n",
      "SMALL\r\n",
      "USER_CHARGES\r\n",
      "\r\n",
      "\r\n",
      "@<TRIPOS>ATOM\r\n",
      "      1 C1         19.6968   19.9941   32.6877 ca         1 BEN     -0.161879\r\n",
      "      2 H1         19.6968   19.9941   31.5977 ha         1 BEN      0.097073\r\n",
      "\r\n",
      "==> ./bcd-ben/ben-sybyl.mol2 <==\r\n",
      "@<TRIPOS>MOLECULE\r\n",
      "Cpptraj\r\n",
      "   14    14     1     0     0\r\n",
      "SMALL\r\n",
      "No Charge or Current Charge\r\n",
      "\r\n",
      "\r\n",
      "@<TRIPOS>ATOM\r\n",
      "      1 C1          19.6970    19.9940    32.6880 C.ar       1 BEN      -0.161879\r\n",
      "      2 H1          19.6970    19.9940    31.5980 H          1 BEN       0.097073\r\n"
     ]
    }
   ],
   "source": [
    "!head -n 10 './bcd-ben/ben.mol2' './bcd-ben/ben-sybyl.mol2'"
   ]
  },
  {
   "cell_type": "markdown",
   "metadata": {},
   "source": [
    "## Step 1: load molecules in an `oechem.OEMol`"
   ]
  },
  {
   "cell_type": "code",
   "execution_count": 7,
   "metadata": {
    "ExecuteTime": {
     "end_time": "2017-12-01T18:31:17.671583Z",
     "start_time": "2017-12-01T18:31:17.658696Z"
    },
    "collapsed": true
   },
   "outputs": [],
   "source": [
    "mols = []\n",
    "ifs = oechem.oemolistream(bcd)\n",
    "for mol in ifs.GetOEGraphMols():\n",
    "    mols.append(oechem.OEMol(mol))\n",
    "ifs = oechem.oemolistream(ben)\n",
    "for mol in ifs.GetOEGraphMols():\n",
    "    mols.append(oechem.OEMol(mol))"
   ]
  },
  {
   "cell_type": "markdown",
   "metadata": {},
   "source": [
    "## Step 2: build reference molecules for water and ions"
   ]
  },
  {
   "cell_type": "code",
   "execution_count": 8,
   "metadata": {
    "ExecuteTime": {
     "end_time": "2017-12-01T18:31:18.360615Z",
     "start_time": "2017-12-01T18:31:18.346255Z"
    },
    "collapsed": true
   },
   "outputs": [],
   "source": [
    "smiles = ['[Na+]', '[Cl-]', 'O']\n",
    "for molecule in smiles:\n",
    "    mol = oechem.OEMol()\n",
    "    oechem.OESmilesToMol(mol, molecule)\n",
    "    for atom in mol.GetAtoms():\n",
    "        atom.SetPartialCharge(atom.GetFormalCharge())\n",
    "    oechem.OEAddExplicitHydrogens(mol)\n",
    "    oechem.OETriposAtomNames(mol)\n",
    "    mols.append(mol)"
   ]
  },
  {
   "cell_type": "markdown",
   "metadata": {},
   "source": [
    "## Step 3: read in fully solvated system with host, guest, water, and ions"
   ]
  },
  {
   "cell_type": "markdown",
   "metadata": {
    "collapsed": true
   },
   "source": [
    "### Step 3.1: create a PDB of the system with CONECT records\n",
    "This requires using the \"original\" `mol2` files with GAFF atom names."
   ]
  },
  {
   "cell_type": "code",
   "execution_count": 18,
   "metadata": {
    "ExecuteTime": {
     "end_time": "2017-12-01T18:36:34.126284Z",
     "start_time": "2017-12-01T18:36:34.121490Z"
    },
    "collapsed": true
   },
   "outputs": [],
   "source": [
    "solvated_pdb = 'bcd-ben.pdb'\n",
    "amber_prmtop = 'solvated.prmtop'\n",
    "pdb_with_conect = 'bcd-ben-conect.pdb'\n",
    "cpptraj_input = 'bcd-ben-conect.in'\n",
    "\n",
    "cpptraj = \\\n",
    "'''\n",
    "parm {}\n",
    "trajin {}\n",
    "trajout {} conect\n",
    "'''.format(amber_prmtop, solvated_pdb, pdb_with_conect)"
   ]
  },
  {
   "cell_type": "code",
   "execution_count": 19,
   "metadata": {
    "ExecuteTime": {
     "end_time": "2017-12-01T18:36:40.238374Z",
     "start_time": "2017-12-01T18:36:40.233919Z"
    },
    "collapsed": true
   },
   "outputs": [],
   "source": [
    "with open(path + cpptraj_input, 'w') as file:\n",
    "    file.write(cpptraj)"
   ]
  },
  {
   "cell_type": "code",
   "execution_count": 22,
   "metadata": {
    "ExecuteTime": {
     "end_time": "2017-12-01T18:37:08.081085Z",
     "start_time": "2017-12-01T18:37:08.026172Z"
    },
    "collapsed": true
   },
   "outputs": [],
   "source": [
    "cpptraj_output = sp.check_output(['cpptraj', '-i', cpptraj_input], cwd=path)"
   ]
  },
  {
   "cell_type": "markdown",
   "metadata": {},
   "source": [
    "### Step 3.2: prune the CONECT records that correspond specifically to water molecules"
   ]
  },
  {
   "cell_type": "code",
   "execution_count": 76,
   "metadata": {
    "ExecuteTime": {
     "end_time": "2017-12-01T19:06:05.686519Z",
     "start_time": "2017-12-01T19:06:05.674273Z"
    },
    "collapsed": true
   },
   "outputs": [],
   "source": [
    "first_water = sp.check_output(['grep', '-m 1', 'WAT', pdb_with_conect], cwd=path).decode(\"utf-8\") "
   ]
  },
  {
   "cell_type": "code",
   "execution_count": 77,
   "metadata": {
    "ExecuteTime": {
     "end_time": "2017-12-01T19:06:06.527201Z",
     "start_time": "2017-12-01T19:06:06.523206Z"
    }
   },
   "outputs": [
    {
     "name": "stdout",
     "output_type": "stream",
     "text": [
      "First water residue = 175\n"
     ]
    }
   ],
   "source": [
    "first_water_residue = int(float(first_water.split()[1]))\n",
    "print('First water residue = {}'.format(first_water_residue))"
   ]
  },
  {
   "cell_type": "code",
   "execution_count": 85,
   "metadata": {
    "ExecuteTime": {
     "end_time": "2017-12-01T19:07:12.607006Z",
     "start_time": "2017-12-01T19:07:12.587294Z"
    },
    "collapsed": true
   },
   "outputs": [],
   "source": [
    "line_of_first_conect_to_delete = sp.check_output(['egrep', '-n', 'CONECT [ ]* {}'.format(str(first_water_residue)), \n",
    "                                                  pdb_with_conect], cwd=path).decode(\"utf-8\")"
   ]
  },
  {
   "cell_type": "code",
   "execution_count": 88,
   "metadata": {
    "ExecuteTime": {
     "end_time": "2017-12-01T19:08:08.286681Z",
     "start_time": "2017-12-01T19:08:08.282723Z"
    }
   },
   "outputs": [
    {
     "name": "stdout",
     "output_type": "stream",
     "text": [
      "Found first water CONECT entry at line = 9192\n"
     ]
    }
   ],
   "source": [
    "line_to_delete_from = int(float(line.split(':')[0]))\n",
    "print('Found first water CONECT entry at line = {}'.format(line_to_delete_from))"
   ]
  },
  {
   "cell_type": "code",
   "execution_count": 93,
   "metadata": {
    "ExecuteTime": {
     "end_time": "2017-12-01T19:21:25.626197Z",
     "start_time": "2017-12-01T19:21:25.610601Z"
    },
    "collapsed": true
   },
   "outputs": [],
   "source": [
    "truncated_file = sp.check_output(['awk', 'NR < {}'.format(line_to_delete_from), pdb_with_conect], cwd=path).decode(\"utf-8\")"
   ]
  },
  {
   "cell_type": "code",
   "execution_count": 96,
   "metadata": {
    "ExecuteTime": {
     "end_time": "2017-12-01T19:22:23.680264Z",
     "start_time": "2017-12-01T19:22:23.675056Z"
    },
    "collapsed": true
   },
   "outputs": [],
   "source": [
    "file = open(path + 'tmp.pdb', 'w')\n",
    "file.write(truncated_file)\n",
    "file.write(\"END\")\n",
    "file.close()"
   ]
  },
  {
   "cell_type": "code",
   "execution_count": 108,
   "metadata": {
    "ExecuteTime": {
     "end_time": "2017-12-01T19:39:48.345653Z",
     "start_time": "2017-12-01T19:39:47.626931Z"
    },
    "collapsed": true
   },
   "outputs": [],
   "source": [
    "pdb = PDBFixer(pdb_with_conect)"
   ]
  },
  {
   "cell_type": "code",
   "execution_count": 121,
   "metadata": {
    "ExecuteTime": {
     "end_time": "2017-12-02T00:31:30.695536Z",
     "start_time": "2017-12-02T00:31:30.690170Z"
    }
   },
   "outputs": [
    {
     "name": "stdout",
     "output_type": "stream",
     "text": [
      "['MGO', 'MGO', 'MGO', 'MGO', 'MGO', 'MGO', 'MGO', 'BEN', 'Na+', 'Na+', 'Na+', 'Na+', 'Na+', 'Na+', 'Na+', 'Cl-', 'Cl-', 'Cl-', 'Cl-', 'Cl-', 'Cl-', 'HOH', 'HOH', 'HOH', 'HOH', 'HOH', 'HOH', 'HOH', 'HOH', 'HOH', 'HOH', 'HOH', 'HOH', 'HOH', 'HOH', 'HOH', 'HOH', 'HOH', 'HOH', 'HOH', 'HOH', 'HOH', 'HOH', 'HOH', 'HOH', 'HOH', 'HOH', 'HOH', 'HOH', 'HOH', 'HOH', 'HOH', 'HOH', 'HOH', 'HOH', 'HOH', 'HOH', 'HOH', 'HOH', 'HOH', 'HOH', 'HOH', 'HOH', 'HOH', 'HOH', 'HOH', 'HOH', 'HOH', 'HOH', 'HOH', 'HOH', 'HOH', 'HOH', 'HOH', 'HOH', 'HOH', 'HOH', 'HOH', 'HOH', 'HOH', 'HOH', 'HOH', 'HOH', 'HOH', 'HOH', 'HOH', 'HOH', 'HOH', 'HOH', 'HOH', 'HOH', 'HOH', 'HOH', 'HOH', 'HOH', 'HOH', 'HOH', 'HOH', 'HOH', 'HOH', 'HOH', 'HOH', 'HOH', 'HOH', 'HOH', 'HOH', 'HOH', 'HOH', 'HOH', 'HOH', 'HOH', 'HOH', 'HOH', 'HOH', 'HOH', 'HOH', 'HOH', 'HOH', 'HOH', 'HOH', 'HOH', 'HOH', 'HOH', 'HOH', 'HOH', 'HOH', 'HOH', 'HOH', 'HOH', 'HOH', 'HOH', 'HOH', 'HOH', 'HOH', 'HOH', 'HOH', 'HOH', 'HOH', 'HOH', 'HOH', 'HOH', 'HOH', 'HOH', 'HOH', 'HOH', 'HOH', 'HOH', 'HOH', 'HOH', 'HOH', 'HOH', 'HOH', 'HOH', 'HOH', 'HOH', 'HOH', 'HOH', 'HOH', 'HOH', 'HOH', 'HOH', 'HOH', 'HOH', 'HOH', 'HOH', 'HOH', 'HOH', 'HOH', 'HOH', 'HOH', 'HOH', 'HOH', 'HOH', 'HOH', 'HOH', 'HOH', 'HOH', 'HOH', 'HOH', 'HOH', 'HOH', 'HOH', 'HOH', 'HOH', 'HOH', 'HOH', 'HOH', 'HOH', 'HOH', 'HOH', 'HOH', 'HOH', 'HOH', 'HOH', 'HOH', 'HOH', 'HOH', 'HOH', 'HOH', 'HOH', 'HOH', 'HOH', 'HOH', 'HOH', 'HOH', 'HOH', 'HOH', 'HOH', 'HOH', 'HOH', 'HOH', 'HOH', 'HOH', 'HOH', 'HOH', 'HOH', 'HOH', 'HOH', 'HOH', 'HOH', 'HOH', 'HOH', 'HOH', 'HOH', 'HOH', 'HOH', 'HOH', 'HOH', 'HOH', 'HOH', 'HOH', 'HOH', 'HOH', 'HOH', 'HOH', 'HOH', 'HOH', 'HOH', 'HOH', 'HOH', 'HOH', 'HOH', 'HOH', 'HOH', 'HOH', 'HOH', 'HOH', 'HOH', 'HOH', 'HOH', 'HOH', 'HOH', 'HOH', 'HOH', 'HOH', 'HOH', 'HOH', 'HOH', 'HOH', 'HOH', 'HOH', 'HOH', 'HOH', 'HOH', 'HOH', 'HOH', 'HOH', 'HOH', 'HOH', 'HOH', 'HOH', 'HOH', 'HOH', 'HOH', 'HOH', 'HOH', 'HOH', 'HOH', 'HOH', 'HOH', 'HOH', 'HOH', 'HOH', 'HOH', 'HOH', 'HOH', 'HOH', 'HOH', 'HOH', 'HOH', 'HOH', 'HOH', 'HOH', 'HOH', 'HOH', 'HOH', 'HOH', 'HOH', 'HOH', 'HOH', 'HOH', 'HOH', 'HOH', 'HOH', 'HOH', 'HOH', 'HOH', 'HOH', 'HOH', 'HOH', 'HOH', 'HOH', 'HOH', 'HOH', 'HOH', 'HOH', 'HOH', 'HOH', 'HOH', 'HOH', 'HOH', 'HOH', 'HOH', 'HOH', 'HOH', 'HOH', 'HOH', 'HOH', 'HOH', 'HOH', 'HOH', 'HOH', 'HOH', 'HOH', 'HOH', 'HOH', 'HOH', 'HOH', 'HOH', 'HOH', 'HOH', 'HOH', 'HOH', 'HOH', 'HOH', 'HOH', 'HOH', 'HOH', 'HOH', 'HOH', 'HOH', 'HOH', 'HOH', 'HOH', 'HOH', 'HOH', 'HOH', 'HOH', 'HOH', 'HOH', 'HOH', 'HOH', 'HOH', 'HOH', 'HOH', 'HOH', 'HOH', 'HOH', 'HOH', 'HOH', 'HOH', 'HOH', 'HOH', 'HOH', 'HOH', 'HOH', 'HOH', 'HOH', 'HOH', 'HOH', 'HOH', 'HOH', 'HOH', 'HOH', 'HOH', 'HOH', 'HOH', 'HOH', 'HOH', 'HOH', 'HOH', 'HOH', 'HOH', 'HOH', 'HOH', 'HOH', 'HOH', 'HOH', 'HOH', 'HOH', 'HOH', 'HOH', 'HOH', 'HOH', 'HOH', 'HOH', 'HOH', 'HOH', 'HOH', 'HOH', 'HOH', 'HOH', 'HOH', 'HOH', 'HOH', 'HOH', 'HOH', 'HOH', 'HOH', 'HOH', 'HOH', 'HOH', 'HOH', 'HOH', 'HOH', 'HOH', 'HOH', 'HOH', 'HOH', 'HOH', 'HOH', 'HOH', 'HOH', 'HOH', 'HOH', 'HOH', 'HOH', 'HOH', 'HOH', 'HOH', 'HOH', 'HOH', 'HOH', 'HOH', 'HOH', 'HOH', 'HOH', 'HOH', 'HOH', 'HOH', 'HOH', 'HOH', 'HOH', 'HOH', 'HOH', 'HOH', 'HOH', 'HOH', 'HOH', 'HOH', 'HOH', 'HOH', 'HOH', 'HOH', 'HOH', 'HOH', 'HOH', 'HOH', 'HOH', 'HOH', 'HOH', 'HOH', 'HOH', 'HOH', 'HOH', 'HOH', 'HOH', 'HOH', 'HOH', 'HOH', 'HOH', 'HOH', 'HOH', 'HOH', 'HOH', 'HOH', 'HOH', 'HOH', 'HOH', 'HOH', 'HOH', 'HOH', 'HOH', 'HOH', 'HOH', 'HOH', 'HOH', 'HOH', 'HOH', 'HOH', 'HOH', 'HOH', 'HOH', 'HOH', 'HOH', 'HOH', 'HOH', 'HOH', 'HOH', 'HOH', 'HOH', 'HOH', 'HOH', 'HOH', 'HOH', 'HOH', 'HOH', 'HOH', 'HOH', 'HOH', 'HOH', 'HOH', 'HOH', 'HOH', 'HOH', 'HOH', 'HOH', 'HOH', 'HOH', 'HOH', 'HOH', 'HOH', 'HOH', 'HOH', 'HOH', 'HOH', 'HOH', 'HOH', 'HOH', 'HOH', 'HOH', 'HOH', 'HOH', 'HOH', 'HOH', 'HOH', 'HOH', 'HOH', 'HOH', 'HOH', 'HOH', 'HOH', 'HOH', 'HOH', 'HOH', 'HOH', 'HOH', 'HOH', 'HOH', 'HOH', 'HOH', 'HOH', 'HOH', 'HOH', 'HOH', 'HOH', 'HOH', 'HOH', 'HOH', 'HOH', 'HOH', 'HOH', 'HOH', 'HOH', 'HOH', 'HOH', 'HOH', 'HOH', 'HOH', 'HOH', 'HOH', 'HOH', 'HOH', 'HOH', 'HOH', 'HOH', 'HOH', 'HOH', 'HOH', 'HOH', 'HOH', 'HOH', 'HOH', 'HOH', 'HOH', 'HOH', 'HOH', 'HOH', 'HOH', 'HOH', 'HOH', 'HOH', 'HOH', 'HOH', 'HOH', 'HOH', 'HOH', 'HOH', 'HOH', 'HOH', 'HOH', 'HOH', 'HOH', 'HOH', 'HOH', 'HOH', 'HOH', 'HOH', 'HOH', 'HOH', 'HOH', 'HOH', 'HOH', 'HOH', 'HOH', 'HOH', 'HOH', 'HOH', 'HOH', 'HOH', 'HOH', 'HOH', 'HOH', 'HOH', 'HOH', 'HOH', 'HOH', 'HOH', 'HOH', 'HOH', 'HOH', 'HOH', 'HOH', 'HOH', 'HOH', 'HOH', 'HOH', 'HOH', 'HOH', 'HOH', 'HOH', 'HOH', 'HOH', 'HOH', 'HOH', 'HOH', 'HOH', 'HOH', 'HOH', 'HOH', 'HOH', 'HOH', 'HOH', 'HOH', 'HOH', 'HOH', 'HOH', 'HOH', 'HOH', 'HOH', 'HOH', 'HOH', 'HOH', 'HOH', 'HOH', 'HOH', 'HOH', 'HOH', 'HOH', 'HOH', 'HOH', 'HOH', 'HOH', 'HOH', 'HOH', 'HOH', 'HOH', 'HOH', 'HOH', 'HOH', 'HOH', 'HOH', 'HOH', 'HOH', 'HOH', 'HOH', 'HOH', 'HOH', 'HOH', 'HOH', 'HOH', 'HOH', 'HOH', 'HOH', 'HOH', 'HOH', 'HOH', 'HOH', 'HOH', 'HOH', 'HOH', 'HOH', 'HOH', 'HOH', 'HOH', 'HOH', 'HOH', 'HOH', 'HOH', 'HOH', 'HOH', 'HOH', 'HOH', 'HOH', 'HOH', 'HOH', 'HOH', 'HOH', 'HOH', 'HOH', 'HOH', 'HOH', 'HOH', 'HOH', 'HOH', 'HOH', 'HOH', 'HOH', 'HOH', 'HOH', 'HOH', 'HOH', 'HOH', 'HOH', 'HOH', 'HOH', 'HOH', 'HOH', 'HOH', 'HOH', 'HOH', 'HOH', 'HOH', 'HOH', 'HOH', 'HOH', 'HOH', 'HOH', 'HOH', 'HOH', 'HOH', 'HOH', 'HOH', 'HOH', 'HOH', 'HOH', 'HOH', 'HOH', 'HOH', 'HOH', 'HOH', 'HOH', 'HOH', 'HOH', 'HOH', 'HOH', 'HOH', 'HOH', 'HOH', 'HOH', 'HOH', 'HOH', 'HOH', 'HOH', 'HOH', 'HOH', 'HOH', 'HOH', 'HOH', 'HOH', 'HOH', 'HOH', 'HOH', 'HOH', 'HOH', 'HOH', 'HOH', 'HOH', 'HOH', 'HOH', 'HOH', 'HOH', 'HOH', 'HOH', 'HOH', 'HOH', 'HOH', 'HOH', 'HOH', 'HOH', 'HOH', 'HOH', 'HOH', 'HOH', 'HOH', 'HOH', 'HOH', 'HOH', 'HOH', 'HOH', 'HOH', 'HOH', 'HOH', 'HOH', 'HOH', 'HOH', 'HOH', 'HOH', 'HOH', 'HOH', 'HOH', 'HOH', 'HOH', 'HOH', 'HOH', 'HOH', 'HOH', 'HOH', 'HOH', 'HOH', 'HOH', 'HOH', 'HOH', 'HOH', 'HOH', 'HOH', 'HOH', 'HOH', 'HOH', 'HOH', 'HOH', 'HOH', 'HOH', 'HOH', 'HOH', 'HOH', 'HOH', 'HOH', 'HOH', 'HOH', 'HOH', 'HOH', 'HOH', 'HOH', 'HOH', 'HOH', 'HOH', 'HOH', 'HOH', 'HOH', 'HOH', 'HOH', 'HOH', 'HOH', 'HOH', 'HOH', 'HOH', 'HOH', 'HOH', 'HOH', 'HOH', 'HOH', 'HOH', 'HOH', 'HOH', 'HOH', 'HOH', 'HOH', 'HOH', 'HOH', 'HOH', 'HOH', 'HOH', 'HOH', 'HOH', 'HOH', 'HOH', 'HOH', 'HOH', 'HOH', 'HOH', 'HOH', 'HOH', 'HOH', 'HOH', 'HOH', 'HOH', 'HOH', 'HOH', 'HOH', 'HOH', 'HOH', 'HOH', 'HOH', 'HOH', 'HOH', 'HOH', 'HOH', 'HOH', 'HOH', 'HOH', 'HOH', 'HOH', 'HOH', 'HOH', 'HOH', 'HOH', 'HOH', 'HOH', 'HOH', 'HOH', 'HOH', 'HOH', 'HOH', 'HOH', 'HOH', 'HOH', 'HOH', 'HOH', 'HOH', 'HOH', 'HOH', 'HOH', 'HOH', 'HOH', 'HOH', 'HOH', 'HOH', 'HOH', 'HOH', 'HOH', 'HOH', 'HOH', 'HOH', 'HOH', 'HOH', 'HOH', 'HOH', 'HOH', 'HOH', 'HOH', 'HOH', 'HOH', 'HOH', 'HOH', 'HOH', 'HOH', 'HOH', 'HOH', 'HOH', 'HOH', 'HOH', 'HOH', 'HOH', 'HOH', 'HOH', 'HOH', 'HOH', 'HOH', 'HOH', 'HOH', 'HOH', 'HOH', 'HOH', 'HOH', 'HOH', 'HOH', 'HOH', 'HOH', 'HOH', 'HOH', 'HOH', 'HOH', 'HOH', 'HOH', 'HOH', 'HOH', 'HOH', 'HOH', 'HOH', 'HOH', 'HOH', 'HOH', 'HOH', 'HOH', 'HOH', 'HOH', 'HOH', 'HOH', 'HOH', 'HOH', 'HOH', 'HOH', 'HOH', 'HOH', 'HOH', 'HOH', 'HOH', 'HOH', 'HOH', 'HOH', 'HOH', 'HOH', 'HOH', 'HOH', 'HOH', 'HOH', 'HOH', 'HOH', 'HOH', 'HOH', 'HOH', 'HOH', 'HOH', 'HOH', 'HOH', 'HOH', 'HOH', 'HOH', 'HOH', 'HOH', 'HOH', 'HOH', 'HOH', 'HOH', 'HOH', 'HOH', 'HOH', 'HOH', 'HOH', 'HOH', 'HOH', 'HOH', 'HOH', 'HOH', 'HOH', 'HOH', 'HOH', 'HOH', 'HOH', 'HOH', 'HOH', 'HOH', 'HOH', 'HOH', 'HOH', 'HOH', 'HOH', 'HOH', 'HOH', 'HOH', 'HOH', 'HOH', 'HOH', 'HOH', 'HOH', 'HOH', 'HOH', 'HOH', 'HOH', 'HOH', 'HOH', 'HOH', 'HOH', 'HOH', 'HOH', 'HOH', 'HOH', 'HOH', 'HOH', 'HOH', 'HOH', 'HOH', 'HOH', 'HOH', 'HOH', 'HOH', 'HOH', 'HOH', 'HOH', 'HOH', 'HOH', 'HOH', 'HOH', 'HOH', 'HOH', 'HOH', 'HOH', 'HOH', 'HOH', 'HOH', 'HOH', 'HOH', 'HOH', 'HOH', 'HOH', 'HOH', 'HOH', 'HOH', 'HOH', 'HOH', 'HOH', 'HOH', 'HOH', 'HOH', 'HOH', 'HOH', 'HOH', 'HOH', 'HOH', 'HOH', 'HOH', 'HOH', 'HOH', 'HOH', 'HOH', 'HOH', 'HOH', 'HOH', 'HOH', 'HOH', 'HOH', 'HOH', 'HOH', 'HOH', 'HOH', 'HOH', 'HOH', 'HOH', 'HOH', 'HOH', 'HOH', 'HOH', 'HOH', 'HOH', 'HOH', 'HOH', 'HOH', 'HOH', 'HOH', 'HOH', 'HOH', 'HOH', 'HOH', 'HOH', 'HOH', 'HOH', 'HOH', 'HOH', 'HOH', 'HOH', 'HOH', 'HOH', 'HOH', 'HOH', 'HOH', 'HOH', 'HOH', 'HOH', 'HOH', 'HOH', 'HOH', 'HOH', 'HOH', 'HOH', 'HOH', 'HOH', 'HOH', 'HOH', 'HOH', 'HOH', 'HOH', 'HOH', 'HOH', 'HOH', 'HOH', 'HOH', 'HOH', 'HOH', 'HOH', 'HOH', 'HOH', 'HOH', 'HOH', 'HOH', 'HOH', 'HOH', 'HOH', 'HOH', 'HOH', 'HOH', 'HOH', 'HOH', 'HOH', 'HOH', 'HOH', 'HOH', 'HOH', 'HOH', 'HOH', 'HOH', 'HOH', 'HOH', 'HOH', 'HOH', 'HOH', 'HOH', 'HOH', 'HOH', 'HOH', 'HOH', 'HOH', 'HOH', 'HOH', 'HOH', 'HOH', 'HOH', 'HOH', 'HOH', 'HOH', 'HOH', 'HOH', 'HOH', 'HOH', 'HOH', 'HOH', 'HOH', 'HOH', 'HOH', 'HOH', 'HOH', 'HOH', 'HOH', 'HOH', 'HOH', 'HOH', 'HOH', 'HOH', 'HOH', 'HOH', 'HOH', 'HOH', 'HOH', 'HOH', 'HOH', 'HOH', 'HOH', 'HOH', 'HOH', 'HOH', 'HOH', 'HOH', 'HOH', 'HOH', 'HOH', 'HOH', 'HOH', 'HOH', 'HOH', 'HOH', 'HOH', 'HOH', 'HOH', 'HOH', 'HOH', 'HOH', 'HOH', 'HOH', 'HOH', 'HOH', 'HOH', 'HOH', 'HOH', 'HOH', 'HOH', 'HOH', 'HOH', 'HOH', 'HOH', 'HOH', 'HOH', 'HOH', 'HOH', 'HOH', 'HOH', 'HOH', 'HOH', 'HOH', 'HOH', 'HOH', 'HOH', 'HOH', 'HOH', 'HOH', 'HOH', 'HOH', 'HOH', 'HOH', 'HOH', 'HOH', 'HOH', 'HOH', 'HOH', 'HOH', 'HOH', 'HOH', 'HOH', 'HOH', 'HOH', 'HOH', 'HOH', 'HOH', 'HOH', 'HOH', 'HOH', 'HOH', 'HOH', 'HOH', 'HOH', 'HOH', 'HOH', 'HOH', 'HOH', 'HOH', 'HOH', 'HOH', 'HOH', 'HOH', 'HOH', 'HOH', 'HOH', 'HOH', 'HOH', 'HOH', 'HOH', 'HOH', 'HOH', 'HOH', 'HOH', 'HOH', 'HOH', 'HOH', 'HOH', 'HOH', 'HOH', 'HOH', 'HOH', 'HOH', 'HOH', 'HOH', 'HOH', 'HOH', 'HOH', 'HOH', 'HOH', 'HOH', 'HOH', 'HOH', 'HOH', 'HOH', 'HOH', 'HOH', 'HOH', 'HOH', 'HOH', 'HOH', 'HOH', 'HOH', 'HOH', 'HOH', 'HOH', 'HOH', 'HOH', 'HOH', 'HOH', 'HOH', 'HOH', 'HOH', 'HOH', 'HOH', 'HOH', 'HOH', 'HOH', 'HOH', 'HOH', 'HOH', 'HOH', 'HOH', 'HOH', 'HOH', 'HOH', 'HOH', 'HOH', 'HOH', 'HOH', 'HOH', 'HOH', 'HOH', 'HOH', 'HOH', 'HOH', 'HOH', 'HOH', 'HOH', 'HOH', 'HOH', 'HOH', 'HOH', 'HOH', 'HOH', 'HOH', 'HOH', 'HOH', 'HOH', 'HOH', 'HOH', 'HOH', 'HOH', 'HOH', 'HOH', 'HOH', 'HOH', 'HOH', 'HOH', 'HOH', 'HOH', 'HOH', 'HOH', 'HOH', 'HOH', 'HOH', 'HOH', 'HOH', 'HOH', 'HOH', 'HOH', 'HOH', 'HOH', 'HOH', 'HOH', 'HOH', 'HOH', 'HOH', 'HOH', 'HOH', 'HOH', 'HOH', 'HOH', 'HOH', 'HOH', 'HOH', 'HOH', 'HOH', 'HOH', 'HOH', 'HOH', 'HOH', 'HOH', 'HOH', 'HOH', 'HOH', 'HOH', 'HOH', 'HOH', 'HOH', 'HOH', 'HOH', 'HOH', 'HOH', 'HOH', 'HOH', 'HOH', 'HOH', 'HOH', 'HOH', 'HOH', 'HOH', 'HOH', 'HOH', 'HOH', 'HOH', 'HOH', 'HOH', 'HOH', 'HOH', 'HOH', 'HOH', 'HOH', 'HOH', 'HOH', 'HOH', 'HOH', 'HOH', 'HOH', 'HOH', 'HOH', 'HOH', 'HOH', 'HOH', 'HOH', 'HOH', 'HOH', 'HOH', 'HOH', 'HOH', 'HOH', 'HOH', 'HOH', 'HOH', 'HOH', 'HOH', 'HOH', 'HOH', 'HOH', 'HOH', 'HOH', 'HOH', 'HOH', 'HOH', 'HOH', 'HOH', 'HOH', 'HOH', 'HOH', 'HOH', 'HOH', 'HOH', 'HOH', 'HOH', 'HOH', 'HOH', 'HOH', 'HOH', 'HOH', 'HOH', 'HOH', 'HOH', 'HOH', 'HOH', 'HOH', 'HOH', 'HOH', 'HOH', 'HOH', 'HOH', 'HOH', 'HOH', 'HOH', 'HOH', 'HOH', 'HOH', 'HOH', 'HOH', 'HOH', 'HOH', 'HOH', 'HOH', 'HOH', 'HOH', 'HOH', 'HOH', 'HOH', 'HOH', 'HOH', 'HOH', 'HOH', 'HOH', 'HOH', 'HOH', 'HOH', 'HOH', 'HOH', 'HOH', 'HOH', 'HOH', 'HOH', 'HOH', 'HOH', 'HOH', 'HOH', 'HOH', 'HOH', 'HOH', 'HOH', 'HOH', 'HOH', 'HOH', 'HOH', 'HOH', 'HOH', 'HOH', 'HOH', 'HOH', 'HOH', 'HOH', 'HOH', 'HOH', 'HOH', 'HOH', 'HOH', 'HOH', 'HOH', 'HOH', 'HOH', 'HOH', 'HOH', 'HOH', 'HOH', 'HOH', 'HOH', 'HOH', 'HOH', 'HOH', 'HOH', 'HOH', 'HOH', 'HOH', 'HOH', 'HOH', 'HOH', 'HOH', 'HOH', 'HOH', 'HOH', 'HOH', 'HOH', 'HOH', 'HOH', 'HOH', 'HOH', 'HOH', 'HOH', 'HOH', 'HOH', 'HOH', 'HOH', 'HOH', 'HOH', 'HOH', 'HOH', 'HOH', 'HOH', 'HOH', 'HOH', 'HOH', 'HOH', 'HOH', 'HOH', 'HOH', 'HOH', 'HOH', 'HOH', 'HOH', 'HOH', 'HOH', 'HOH', 'HOH', 'HOH', 'HOH', 'HOH', 'HOH', 'HOH', 'HOH', 'HOH', 'HOH', 'HOH', 'HOH', 'HOH', 'HOH', 'HOH', 'HOH', 'HOH', 'HOH', 'HOH', 'HOH', 'HOH', 'HOH', 'HOH', 'HOH', 'HOH', 'HOH', 'HOH', 'HOH', 'HOH', 'HOH', 'HOH', 'HOH', 'HOH', 'HOH', 'HOH', 'HOH', 'HOH', 'HOH', 'HOH', 'HOH', 'HOH', 'HOH', 'HOH', 'HOH', 'HOH', 'HOH', 'HOH', 'HOH', 'HOH', 'HOH', 'HOH', 'HOH', 'HOH', 'HOH', 'HOH', 'HOH', 'HOH', 'HOH', 'HOH', 'HOH', 'HOH', 'HOH', 'HOH', 'HOH', 'HOH', 'HOH', 'HOH', 'HOH', 'HOH', 'HOH', 'HOH', 'HOH', 'HOH', 'HOH', 'HOH', 'HOH', 'HOH', 'HOH', 'HOH', 'HOH', 'HOH', 'HOH', 'HOH', 'HOH', 'HOH', 'HOH', 'HOH', 'HOH', 'HOH', 'HOH', 'HOH', 'HOH', 'HOH', 'HOH', 'HOH', 'HOH', 'HOH', 'HOH', 'HOH', 'HOH', 'HOH', 'HOH', 'HOH', 'HOH', 'HOH', 'HOH', 'HOH', 'HOH', 'HOH', 'HOH', 'HOH', 'HOH', 'HOH', 'HOH', 'HOH', 'HOH', 'HOH', 'HOH', 'HOH', 'HOH', 'HOH', 'HOH', 'HOH', 'HOH', 'HOH', 'HOH', 'HOH', 'HOH', 'HOH', 'HOH', 'HOH', 'HOH', 'HOH', 'HOH', 'HOH', 'HOH', 'HOH', 'HOH', 'HOH', 'HOH', 'HOH', 'HOH', 'HOH', 'HOH', 'HOH', 'HOH', 'HOH', 'HOH', 'HOH', 'HOH', 'HOH', 'HOH', 'HOH', 'HOH', 'HOH', 'HOH', 'HOH', 'HOH', 'HOH', 'HOH', 'HOH', 'HOH', 'HOH', 'HOH', 'HOH', 'HOH', 'HOH', 'HOH', 'HOH', 'HOH', 'HOH', 'HOH', 'HOH', 'HOH', 'HOH', 'HOH', 'HOH', 'HOH', 'HOH', 'HOH', 'HOH', 'HOH', 'HOH', 'HOH', 'HOH', 'HOH', 'HOH', 'HOH', 'HOH', 'HOH', 'HOH', 'HOH', 'HOH', 'HOH', 'HOH', 'HOH', 'HOH', 'HOH', 'HOH', 'HOH', 'HOH', 'HOH', 'HOH', 'HOH', 'HOH', 'HOH', 'HOH', 'HOH', 'HOH', 'HOH', 'HOH', 'HOH', 'HOH', 'HOH', 'HOH', 'HOH', 'HOH', 'HOH', 'HOH', 'HOH', 'HOH', 'HOH', 'HOH', 'HOH', 'HOH', 'HOH', 'HOH', 'HOH', 'HOH', 'HOH', 'HOH', 'HOH', 'HOH', 'HOH', 'HOH', 'HOH', 'HOH', 'HOH', 'HOH', 'HOH', 'HOH', 'HOH', 'HOH', 'HOH', 'HOH', 'HOH', 'HOH', 'HOH', 'HOH', 'HOH', 'HOH', 'HOH', 'HOH', 'HOH', 'HOH', 'HOH', 'HOH', 'HOH', 'HOH', 'HOH', 'HOH', 'HOH', 'HOH', 'HOH', 'HOH', 'HOH', 'HOH', 'HOH', 'HOH', 'HOH', 'HOH', 'HOH', 'HOH', 'HOH', 'HOH', 'HOH', 'HOH', 'HOH', 'HOH', 'HOH', 'HOH', 'HOH', 'HOH', 'HOH', 'HOH', 'HOH', 'HOH', 'HOH', 'HOH', 'HOH', 'HOH', 'HOH', 'HOH', 'HOH', 'HOH', 'HOH', 'HOH', 'HOH', 'HOH', 'HOH', 'HOH', 'HOH', 'HOH', 'HOH', 'HOH', 'HOH', 'HOH', 'HOH', 'HOH', 'HOH', 'HOH', 'HOH', 'HOH', 'HOH', 'HOH', 'HOH', 'HOH', 'HOH', 'HOH', 'HOH', 'HOH', 'HOH', 'HOH', 'HOH', 'HOH', 'HOH', 'HOH', 'HOH', 'HOH', 'HOH', 'HOH', 'HOH', 'HOH', 'HOH', 'HOH', 'HOH', 'HOH', 'HOH', 'HOH', 'HOH', 'HOH', 'HOH', 'HOH', 'HOH', 'HOH', 'HOH', 'HOH', 'HOH', 'HOH', 'HOH', 'HOH', 'HOH', 'HOH', 'HOH', 'HOH', 'HOH', 'HOH', 'HOH', 'HOH', 'HOH', 'HOH', 'HOH', 'HOH', 'HOH', 'HOH', 'HOH', 'HOH', 'HOH', 'HOH', 'HOH', 'HOH', 'HOH', 'HOH', 'HOH', 'HOH', 'HOH', 'HOH', 'HOH', 'HOH', 'HOH', 'HOH', 'HOH', 'HOH', 'HOH', 'HOH', 'HOH', 'HOH', 'HOH', 'HOH', 'HOH', 'HOH', 'HOH', 'HOH', 'HOH', 'HOH', 'HOH', 'HOH', 'HOH', 'HOH', 'HOH', 'HOH', 'HOH', 'HOH', 'HOH', 'HOH', 'HOH', 'HOH', 'HOH', 'HOH', 'HOH', 'HOH', 'HOH', 'HOH', 'HOH', 'HOH', 'HOH', 'HOH', 'HOH', 'HOH', 'HOH', 'HOH', 'HOH', 'HOH', 'HOH', 'HOH', 'HOH', 'HOH', 'HOH', 'HOH', 'HOH', 'HOH', 'HOH', 'HOH', 'HOH', 'HOH', 'HOH', 'HOH', 'HOH', 'HOH', 'HOH', 'HOH', 'HOH', 'HOH', 'HOH', 'HOH', 'HOH', 'HOH', 'HOH', 'HOH', 'HOH', 'HOH', 'HOH', 'HOH', 'HOH', 'HOH', 'HOH', 'HOH', 'HOH', 'HOH', 'HOH', 'HOH', 'HOH', 'HOH', 'HOH', 'HOH', 'HOH', 'HOH', 'HOH', 'HOH', 'HOH', 'HOH', 'HOH', 'HOH', 'HOH', 'HOH', 'HOH', 'HOH', 'HOH', 'HOH', 'HOH', 'HOH', 'HOH', 'HOH', 'HOH', 'HOH', 'HOH', 'HOH', 'HOH', 'HOH', 'HOH', 'HOH', 'HOH', 'HOH', 'HOH', 'HOH', 'HOH', 'HOH', 'HOH', 'HOH', 'HOH', 'HOH', 'HOH', 'HOH', 'HOH', 'HOH', 'HOH', 'HOH', 'HOH', 'HOH', 'HOH', 'HOH', 'HOH', 'HOH', 'HOH', 'HOH', 'HOH', 'HOH', 'HOH', 'HOH', 'HOH', 'HOH', 'HOH', 'HOH', 'HOH', 'HOH', 'HOH', 'HOH', 'HOH', 'HOH', 'HOH', 'HOH', 'HOH', 'HOH', 'HOH', 'HOH', 'HOH', 'HOH', 'HOH', 'HOH', 'HOH', 'HOH', 'HOH', 'HOH', 'HOH', 'HOH', 'HOH', 'HOH', 'HOH', 'HOH', 'HOH', 'HOH', 'HOH', 'HOH', 'HOH', 'HOH', 'HOH']\n"
     ]
    }
   ],
   "source": [
    "residues = [r.name for r in pdb.topology.residues()]\n",
    "print(residues)"
   ]
  },
  {
   "cell_type": "code",
   "execution_count": 123,
   "metadata": {
    "ExecuteTime": {
     "end_time": "2017-12-02T00:31:49.032991Z",
     "start_time": "2017-12-02T00:31:49.027112Z"
    }
   },
   "outputs": [
    {
     "name": "stdout",
     "output_type": "stream",
     "text": [
      "['C1', 'H1', 'O1', 'C2', 'H2', 'O2', 'HO2', 'C3', 'H3', 'O3', 'HO3', 'C4', 'H4', 'C5', 'H5', 'O5', 'C6', 'H61', 'H62', 'O6', 'HO6', 'C1', 'H1', 'O1', 'C2', 'H2', 'O2', 'HO2', 'C3', 'H3', 'O3', 'HO3', 'C4', 'H4', 'C5', 'H5', 'O5', 'C6', 'H61', 'H62', 'O6', 'HO6', 'C1', 'H1', 'O1', 'C2', 'H2', 'O2', 'HO2', 'C3', 'H3', 'O3', 'HO3', 'C4', 'H4', 'C5', 'H5', 'O5', 'C6', 'H61', 'H62', 'O6', 'HO6', 'C1', 'H1', 'O1', 'C2', 'H2', 'O2', 'HO2', 'C3', 'H3', 'O3', 'HO3', 'C4', 'H4', 'C5', 'H5', 'O5', 'C6', 'H61', 'H62', 'O6', 'HO6', 'C1', 'H1', 'O1', 'C2', 'H2', 'O2', 'HO2', 'C3', 'H3', 'O3', 'HO3', 'C4', 'H4', 'C5', 'H5', 'O5', 'C6', 'H61', 'H62', 'O6', 'HO6', 'C1', 'H1', 'O1', 'C2', 'H2', 'O2', 'HO2', 'C3', 'H3', 'O3', 'HO3', 'C4', 'H4', 'C5', 'H5', 'O5', 'C6', 'H61', 'H62', 'O6', 'HO6', 'C1', 'H1', 'O1', 'C2', 'H2', 'O2', 'HO2', 'C3', 'H3', 'O3', 'HO3', 'C4', 'H4', 'C5', 'H5', 'O5', 'C6', 'H61', 'H62', 'O6', 'HO6', 'C1', 'H1', 'C2', 'H2', 'C3', 'H3', 'C4', 'C5', 'H4', 'C6', 'H5', 'C7', 'O1', 'O2', 'Na+', 'Na+', 'Na+', 'Na+', 'Na+', 'Na+', 'Na+', 'Cl-', 'Cl-', 'Cl-', 'Cl-', 'Cl-', 'Cl-', 'O', 'H1', 'H2', 'O', 'H1', 'H2', 'O', 'H1', 'H2', 'O', 'H1', 'H2', 'O', 'H1', 'H2', 'O', 'H1', 'H2', 'O', 'H1', 'H2', 'O', 'H1', 'H2', 'O', 'H1', 'H2', 'O', 'H1', 'H2', 'O', 'H1', 'H2', 'O', 'H1', 'H2', 'O', 'H1', 'H2', 'O', 'H1', 'H2', 'O', 'H1', 'H2', 'O', 'H1', 'H2', 'O', 'H1', 'H2', 'O', 'H1', 'H2', 'O', 'H1', 'H2', 'O', 'H1', 'H2', 'O', 'H1', 'H2', 'O', 'H1', 'H2', 'O', 'H1', 'H2', 'O', 'H1', 'H2', 'O', 'H1', 'H2', 'O', 'H1', 'H2', 'O', 'H1', 'H2', 'O', 'H1', 'H2', 'O', 'H1', 'H2', 'O', 'H1', 'H2', 'O', 'H1', 'H2', 'O', 'H1', 'H2', 'O', 'H1', 'H2', 'O', 'H1', 'H2', 'O', 'H1', 'H2', 'O', 'H1', 'H2', 'O', 'H1', 'H2', 'O', 'H1', 'H2', 'O', 'H1', 'H2', 'O', 'H1', 'H2', 'O', 'H1', 'H2', 'O', 'H1', 'H2', 'O', 'H1', 'H2', 'O', 'H1', 'H2', 'O', 'H1', 'H2', 'O', 'H1', 'H2', 'O', 'H1', 'H2', 'O', 'H1', 'H2', 'O', 'H1', 'H2', 'O', 'H1', 'H2', 'O', 'H1', 'H2', 'O', 'H1', 'H2', 'O', 'H1', 'H2', 'O', 'H1', 'H2', 'O', 'H1', 'H2', 'O', 'H1', 'H2', 'O', 'H1', 'H2', 'O', 'H1', 'H2', 'O', 'H1', 'H2', 'O', 'H1', 'H2', 'O', 'H1', 'H2', 'O', 'H1', 'H2', 'O', 'H1', 'H2', 'O', 'H1', 'H2', 'O', 'H1', 'H2', 'O', 'H1', 'H2', 'O', 'H1', 'H2', 'O', 'H1', 'H2', 'O', 'H1', 'H2', 'O', 'H1', 'H2', 'O', 'H1', 'H2', 'O', 'H1', 'H2', 'O', 'H1', 'H2', 'O', 'H1', 'H2', 'O', 'H1', 'H2', 'O', 'H1', 'H2', 'O', 'H1', 'H2', 'O', 'H1', 'H2', 'O', 'H1', 'H2', 'O', 'H1', 'H2', 'O', 'H1', 'H2', 'O', 'H1', 'H2', 'O', 'H1', 'H2', 'O', 'H1', 'H2', 'O', 'H1', 'H2', 'O', 'H1', 'H2', 'O', 'H1', 'H2', 'O', 'H1', 'H2', 'O', 'H1', 'H2', 'O', 'H1', 'H2', 'O', 'H1', 'H2', 'O', 'H1', 'H2', 'O', 'H1', 'H2', 'O', 'H1', 'H2', 'O', 'H1', 'H2', 'O', 'H1', 'H2', 'O', 'H1', 'H2', 'O', 'H1', 'H2', 'O', 'H1', 'H2', 'O', 'H1', 'H2', 'O', 'H1', 'H2', 'O', 'H1', 'H2', 'O', 'H1', 'H2', 'O', 'H1', 'H2', 'O', 'H1', 'H2', 'O', 'H1', 'H2', 'O', 'H1', 'H2', 'O', 'H1', 'H2', 'O', 'H1', 'H2', 'O', 'H1', 'H2', 'O', 'H1', 'H2', 'O', 'H1', 'H2', 'O', 'H1', 'H2', 'O', 'H1', 'H2', 'O', 'H1', 'H2', 'O', 'H1', 'H2', 'O', 'H1', 'H2', 'O', 'H1', 'H2', 'O', 'H1', 'H2', 'O', 'H1', 'H2', 'O', 'H1', 'H2', 'O', 'H1', 'H2', 'O', 'H1', 'H2', 'O', 'H1', 'H2', 'O', 'H1', 'H2', 'O', 'H1', 'H2', 'O', 'H1', 'H2', 'O', 'H1', 'H2', 'O', 'H1', 'H2', 'O', 'H1', 'H2', 'O', 'H1', 'H2', 'O', 'H1', 'H2', 'O', 'H1', 'H2', 'O', 'H1', 'H2', 'O', 'H1', 'H2', 'O', 'H1', 'H2', 'O', 'H1', 'H2', 'O', 'H1', 'H2', 'O', 'H1', 'H2', 'O', 'H1', 'H2', 'O', 'H1', 'H2', 'O', 'H1', 'H2', 'O', 'H1', 'H2', 'O', 'H1', 'H2', 'O', 'H1', 'H2', 'O', 'H1', 'H2', 'O', 'H1', 'H2', 'O', 'H1', 'H2', 'O', 'H1', 'H2', 'O', 'H1', 'H2', 'O', 'H1', 'H2', 'O', 'H1', 'H2', 'O', 'H1', 'H2', 'O', 'H1', 'H2', 'O', 'H1', 'H2', 'O', 'H1', 'H2', 'O', 'H1', 'H2', 'O', 'H1', 'H2', 'O', 'H1', 'H2', 'O', 'H1', 'H2', 'O', 'H1', 'H2', 'O', 'H1', 'H2', 'O', 'H1', 'H2', 'O', 'H1', 'H2', 'O', 'H1', 'H2', 'O', 'H1', 'H2', 'O', 'H1', 'H2', 'O', 'H1', 'H2', 'O', 'H1', 'H2', 'O', 'H1', 'H2', 'O', 'H1', 'H2', 'O', 'H1', 'H2', 'O', 'H1', 'H2', 'O', 'H1', 'H2', 'O', 'H1', 'H2', 'O', 'H1', 'H2', 'O', 'H1', 'H2', 'O', 'H1', 'H2', 'O', 'H1', 'H2', 'O', 'H1', 'H2', 'O', 'H1', 'H2', 'O', 'H1', 'H2', 'O', 'H1', 'H2', 'O', 'H1', 'H2', 'O', 'H1', 'H2', 'O', 'H1', 'H2', 'O', 'H1', 'H2', 'O', 'H1', 'H2', 'O', 'H1', 'H2', 'O', 'H1', 'H2', 'O', 'H1', 'H2', 'O', 'H1', 'H2', 'O', 'H1', 'H2', 'O', 'H1', 'H2', 'O', 'H1', 'H2', 'O', 'H1', 'H2', 'O', 'H1', 'H2', 'O', 'H1', 'H2', 'O', 'H1', 'H2', 'O', 'H1', 'H2', 'O', 'H1', 'H2', 'O', 'H1', 'H2', 'O', 'H1', 'H2', 'O', 'H1', 'H2', 'O', 'H1', 'H2', 'O', 'H1', 'H2', 'O', 'H1', 'H2', 'O', 'H1', 'H2', 'O', 'H1', 'H2', 'O', 'H1', 'H2', 'O', 'H1', 'H2', 'O', 'H1', 'H2', 'O', 'H1', 'H2', 'O', 'H1', 'H2', 'O', 'H1', 'H2', 'O', 'H1', 'H2', 'O', 'H1', 'H2', 'O', 'H1', 'H2', 'O', 'H1', 'H2', 'O', 'H1', 'H2', 'O', 'H1', 'H2', 'O', 'H1', 'H2', 'O', 'H1', 'H2', 'O', 'H1', 'H2', 'O', 'H1', 'H2', 'O', 'H1', 'H2', 'O', 'H1', 'H2', 'O', 'H1', 'H2', 'O', 'H1', 'H2', 'O', 'H1', 'H2', 'O', 'H1', 'H2', 'O', 'H1', 'H2', 'O', 'H1', 'H2', 'O', 'H1', 'H2', 'O', 'H1', 'H2', 'O', 'H1', 'H2', 'O', 'H1', 'H2', 'O', 'H1', 'H2', 'O', 'H1', 'H2', 'O', 'H1', 'H2', 'O', 'H1', 'H2', 'O', 'H1', 'H2', 'O', 'H1', 'H2', 'O', 'H1', 'H2', 'O', 'H1', 'H2', 'O', 'H1', 'H2', 'O', 'H1', 'H2', 'O', 'H1', 'H2', 'O', 'H1', 'H2', 'O', 'H1', 'H2', 'O', 'H1', 'H2', 'O', 'H1', 'H2', 'O', 'H1', 'H2', 'O', 'H1', 'H2', 'O', 'H1', 'H2', 'O', 'H1', 'H2', 'O', 'H1', 'H2', 'O', 'H1', 'H2', 'O', 'H1', 'H2', 'O', 'H1', 'H2', 'O', 'H1', 'H2', 'O', 'H1', 'H2', 'O', 'H1', 'H2', 'O', 'H1', 'H2', 'O', 'H1', 'H2', 'O', 'H1', 'H2', 'O', 'H1', 'H2', 'O', 'H1', 'H2', 'O', 'H1', 'H2', 'O', 'H1', 'H2', 'O', 'H1', 'H2', 'O', 'H1', 'H2', 'O', 'H1', 'H2', 'O', 'H1', 'H2', 'O', 'H1', 'H2', 'O', 'H1', 'H2', 'O', 'H1', 'H2', 'O', 'H1', 'H2', 'O', 'H1', 'H2', 'O', 'H1', 'H2', 'O', 'H1', 'H2', 'O', 'H1', 'H2', 'O', 'H1', 'H2', 'O', 'H1', 'H2', 'O', 'H1', 'H2', 'O', 'H1', 'H2', 'O', 'H1', 'H2', 'O', 'H1', 'H2', 'O', 'H1', 'H2', 'O', 'H1', 'H2', 'O', 'H1', 'H2', 'O', 'H1', 'H2', 'O', 'H1', 'H2', 'O', 'H1', 'H2', 'O', 'H1', 'H2', 'O', 'H1', 'H2', 'O', 'H1', 'H2', 'O', 'H1', 'H2', 'O', 'H1', 'H2', 'O', 'H1', 'H2', 'O', 'H1', 'H2', 'O', 'H1', 'H2', 'O', 'H1', 'H2', 'O', 'H1', 'H2', 'O', 'H1', 'H2', 'O', 'H1', 'H2', 'O', 'H1', 'H2', 'O', 'H1', 'H2', 'O', 'H1', 'H2', 'O', 'H1', 'H2', 'O', 'H1', 'H2', 'O', 'H1', 'H2', 'O', 'H1', 'H2', 'O', 'H1', 'H2', 'O', 'H1', 'H2', 'O', 'H1', 'H2', 'O', 'H1', 'H2', 'O', 'H1', 'H2', 'O', 'H1', 'H2', 'O', 'H1', 'H2', 'O', 'H1', 'H2', 'O', 'H1', 'H2', 'O', 'H1', 'H2', 'O', 'H1', 'H2', 'O', 'H1', 'H2', 'O', 'H1', 'H2', 'O', 'H1', 'H2', 'O', 'H1', 'H2', 'O', 'H1', 'H2', 'O', 'H1', 'H2', 'O', 'H1', 'H2', 'O', 'H1', 'H2', 'O', 'H1', 'H2', 'O', 'H1', 'H2', 'O', 'H1', 'H2', 'O', 'H1', 'H2', 'O', 'H1', 'H2', 'O', 'H1', 'H2', 'O', 'H1', 'H2', 'O', 'H1', 'H2', 'O', 'H1', 'H2', 'O', 'H1', 'H2', 'O', 'H1', 'H2', 'O', 'H1', 'H2', 'O', 'H1', 'H2', 'O', 'H1', 'H2', 'O', 'H1', 'H2', 'O', 'H1', 'H2', 'O', 'H1', 'H2', 'O', 'H1', 'H2', 'O', 'H1', 'H2', 'O', 'H1', 'H2', 'O', 'H1', 'H2', 'O', 'H1', 'H2', 'O', 'H1', 'H2', 'O', 'H1', 'H2', 'O', 'H1', 'H2', 'O', 'H1', 'H2', 'O', 'H1', 'H2', 'O', 'H1', 'H2', 'O', 'H1', 'H2', 'O', 'H1', 'H2', 'O', 'H1', 'H2', 'O', 'H1', 'H2', 'O', 'H1', 'H2', 'O', 'H1', 'H2', 'O', 'H1', 'H2', 'O', 'H1', 'H2', 'O', 'H1', 'H2', 'O', 'H1', 'H2', 'O', 'H1', 'H2', 'O', 'H1', 'H2', 'O', 'H1', 'H2', 'O', 'H1', 'H2', 'O', 'H1', 'H2', 'O', 'H1', 'H2', 'O', 'H1', 'H2', 'O', 'H1', 'H2', 'O', 'H1', 'H2', 'O', 'H1', 'H2', 'O', 'H1', 'H2', 'O', 'H1', 'H2', 'O', 'H1', 'H2', 'O', 'H1', 'H2', 'O', 'H1', 'H2', 'O', 'H1', 'H2', 'O', 'H1', 'H2', 'O', 'H1', 'H2', 'O', 'H1', 'H2', 'O', 'H1', 'H2', 'O', 'H1', 'H2', 'O', 'H1', 'H2', 'O', 'H1', 'H2', 'O', 'H1', 'H2', 'O', 'H1', 'H2', 'O', 'H1', 'H2', 'O', 'H1', 'H2', 'O', 'H1', 'H2', 'O', 'H1', 'H2', 'O', 'H1', 'H2', 'O', 'H1', 'H2', 'O', 'H1', 'H2', 'O', 'H1', 'H2', 'O', 'H1', 'H2', 'O', 'H1', 'H2', 'O', 'H1', 'H2', 'O', 'H1', 'H2', 'O', 'H1', 'H2', 'O', 'H1', 'H2', 'O', 'H1', 'H2', 'O', 'H1', 'H2', 'O', 'H1', 'H2', 'O', 'H1', 'H2', 'O', 'H1', 'H2', 'O', 'H1', 'H2', 'O', 'H1', 'H2', 'O', 'H1', 'H2', 'O', 'H1', 'H2', 'O', 'H1', 'H2', 'O', 'H1', 'H2', 'O', 'H1', 'H2', 'O', 'H1', 'H2', 'O', 'H1', 'H2', 'O', 'H1', 'H2', 'O', 'H1', 'H2', 'O', 'H1', 'H2', 'O', 'H1', 'H2', 'O', 'H1', 'H2', 'O', 'H1', 'H2', 'O', 'H1', 'H2', 'O', 'H1', 'H2', 'O', 'H1', 'H2', 'O', 'H1', 'H2', 'O', 'H1', 'H2', 'O', 'H1', 'H2', 'O', 'H1', 'H2', 'O', 'H1', 'H2', 'O', 'H1', 'H2', 'O', 'H1', 'H2', 'O', 'H1', 'H2', 'O', 'H1', 'H2', 'O', 'H1', 'H2', 'O', 'H1', 'H2', 'O', 'H1', 'H2', 'O', 'H1', 'H2', 'O', 'H1', 'H2', 'O', 'H1', 'H2', 'O', 'H1', 'H2', 'O', 'H1', 'H2', 'O', 'H1', 'H2', 'O', 'H1', 'H2', 'O', 'H1', 'H2', 'O', 'H1', 'H2', 'O', 'H1', 'H2', 'O', 'H1', 'H2', 'O', 'H1', 'H2', 'O', 'H1', 'H2', 'O', 'H1', 'H2', 'O', 'H1', 'H2', 'O', 'H1', 'H2', 'O', 'H1', 'H2', 'O', 'H1', 'H2', 'O', 'H1', 'H2', 'O', 'H1', 'H2', 'O', 'H1', 'H2', 'O', 'H1', 'H2', 'O', 'H1', 'H2', 'O', 'H1', 'H2', 'O', 'H1', 'H2', 'O', 'H1', 'H2', 'O', 'H1', 'H2', 'O', 'H1', 'H2', 'O', 'H1', 'H2', 'O', 'H1', 'H2', 'O', 'H1', 'H2', 'O', 'H1', 'H2', 'O', 'H1', 'H2', 'O', 'H1', 'H2', 'O', 'H1', 'H2', 'O', 'H1', 'H2', 'O', 'H1', 'H2', 'O', 'H1', 'H2', 'O', 'H1', 'H2', 'O', 'H1', 'H2', 'O', 'H1', 'H2', 'O', 'H1', 'H2', 'O', 'H1', 'H2', 'O', 'H1', 'H2', 'O', 'H1', 'H2', 'O', 'H1', 'H2', 'O', 'H1', 'H2', 'O', 'H1', 'H2', 'O', 'H1', 'H2', 'O', 'H1', 'H2', 'O', 'H1', 'H2', 'O', 'H1', 'H2', 'O', 'H1', 'H2', 'O', 'H1', 'H2', 'O', 'H1', 'H2', 'O', 'H1', 'H2', 'O', 'H1', 'H2', 'O', 'H1', 'H2', 'O', 'H1', 'H2', 'O', 'H1', 'H2', 'O', 'H1', 'H2', 'O', 'H1', 'H2', 'O', 'H1', 'H2', 'O', 'H1', 'H2', 'O', 'H1', 'H2', 'O', 'H1', 'H2', 'O', 'H1', 'H2', 'O', 'H1', 'H2', 'O', 'H1', 'H2', 'O', 'H1', 'H2', 'O', 'H1', 'H2', 'O', 'H1', 'H2', 'O', 'H1', 'H2', 'O', 'H1', 'H2', 'O', 'H1', 'H2', 'O', 'H1', 'H2', 'O', 'H1', 'H2', 'O', 'H1', 'H2', 'O', 'H1', 'H2', 'O', 'H1', 'H2', 'O', 'H1', 'H2', 'O', 'H1', 'H2', 'O', 'H1', 'H2', 'O', 'H1', 'H2', 'O', 'H1', 'H2', 'O', 'H1', 'H2', 'O', 'H1', 'H2', 'O', 'H1', 'H2', 'O', 'H1', 'H2', 'O', 'H1', 'H2', 'O', 'H1', 'H2', 'O', 'H1', 'H2', 'O', 'H1', 'H2', 'O', 'H1', 'H2', 'O', 'H1', 'H2', 'O', 'H1', 'H2', 'O', 'H1', 'H2', 'O', 'H1', 'H2', 'O', 'H1', 'H2', 'O', 'H1', 'H2', 'O', 'H1', 'H2', 'O', 'H1', 'H2', 'O', 'H1', 'H2', 'O', 'H1', 'H2', 'O', 'H1', 'H2', 'O', 'H1', 'H2', 'O', 'H1', 'H2', 'O', 'H1', 'H2', 'O', 'H1', 'H2', 'O', 'H1', 'H2', 'O', 'H1', 'H2', 'O', 'H1', 'H2', 'O', 'H1', 'H2', 'O', 'H1', 'H2', 'O', 'H1', 'H2', 'O', 'H1', 'H2', 'O', 'H1', 'H2', 'O', 'H1', 'H2', 'O', 'H1', 'H2', 'O', 'H1', 'H2', 'O', 'H1', 'H2', 'O', 'H1', 'H2', 'O', 'H1', 'H2', 'O', 'H1', 'H2', 'O', 'H1', 'H2', 'O', 'H1', 'H2', 'O', 'H1', 'H2', 'O', 'H1', 'H2', 'O', 'H1', 'H2', 'O', 'H1', 'H2', 'O', 'H1', 'H2', 'O', 'H1', 'H2', 'O', 'H1', 'H2', 'O', 'H1', 'H2', 'O', 'H1', 'H2', 'O', 'H1', 'H2', 'O', 'H1', 'H2', 'O', 'H1', 'H2', 'O', 'H1', 'H2', 'O', 'H1', 'H2', 'O', 'H1', 'H2', 'O', 'H1', 'H2', 'O', 'H1', 'H2', 'O', 'H1', 'H2', 'O', 'H1', 'H2', 'O', 'H1', 'H2', 'O', 'H1', 'H2', 'O', 'H1', 'H2', 'O', 'H1', 'H2', 'O', 'H1', 'H2', 'O', 'H1', 'H2', 'O', 'H1', 'H2', 'O', 'H1', 'H2', 'O', 'H1', 'H2', 'O', 'H1', 'H2', 'O', 'H1', 'H2', 'O', 'H1', 'H2', 'O', 'H1', 'H2', 'O', 'H1', 'H2', 'O', 'H1', 'H2', 'O', 'H1', 'H2', 'O', 'H1', 'H2', 'O', 'H1', 'H2', 'O', 'H1', 'H2', 'O', 'H1', 'H2', 'O', 'H1', 'H2', 'O', 'H1', 'H2', 'O', 'H1', 'H2', 'O', 'H1', 'H2', 'O', 'H1', 'H2', 'O', 'H1', 'H2', 'O', 'H1', 'H2', 'O', 'H1', 'H2', 'O', 'H1', 'H2', 'O', 'H1', 'H2', 'O', 'H1', 'H2', 'O', 'H1', 'H2', 'O', 'H1', 'H2', 'O', 'H1', 'H2', 'O', 'H1', 'H2', 'O', 'H1', 'H2', 'O', 'H1', 'H2', 'O', 'H1', 'H2', 'O', 'H1', 'H2', 'O', 'H1', 'H2', 'O', 'H1', 'H2', 'O', 'H1', 'H2', 'O', 'H1', 'H2', 'O', 'H1', 'H2', 'O', 'H1', 'H2', 'O', 'H1', 'H2', 'O', 'H1', 'H2', 'O', 'H1', 'H2', 'O', 'H1', 'H2', 'O', 'H1', 'H2', 'O', 'H1', 'H2', 'O', 'H1', 'H2', 'O', 'H1', 'H2', 'O', 'H1', 'H2', 'O', 'H1', 'H2', 'O', 'H1', 'H2', 'O', 'H1', 'H2', 'O', 'H1', 'H2', 'O', 'H1', 'H2', 'O', 'H1', 'H2', 'O', 'H1', 'H2', 'O', 'H1', 'H2', 'O', 'H1', 'H2', 'O', 'H1', 'H2', 'O', 'H1', 'H2', 'O', 'H1', 'H2', 'O', 'H1', 'H2', 'O', 'H1', 'H2', 'O', 'H1', 'H2', 'O', 'H1', 'H2', 'O', 'H1', 'H2', 'O', 'H1', 'H2', 'O', 'H1', 'H2', 'O', 'H1', 'H2', 'O', 'H1', 'H2', 'O', 'H1', 'H2', 'O', 'H1', 'H2', 'O', 'H1', 'H2', 'O', 'H1', 'H2', 'O', 'H1', 'H2', 'O', 'H1', 'H2', 'O', 'H1', 'H2', 'O', 'H1', 'H2', 'O', 'H1', 'H2', 'O', 'H1', 'H2', 'O', 'H1', 'H2', 'O', 'H1', 'H2', 'O', 'H1', 'H2', 'O', 'H1', 'H2', 'O', 'H1', 'H2', 'O', 'H1', 'H2', 'O', 'H1', 'H2', 'O', 'H1', 'H2', 'O', 'H1', 'H2', 'O', 'H1', 'H2', 'O', 'H1', 'H2', 'O', 'H1', 'H2', 'O', 'H1', 'H2', 'O', 'H1', 'H2', 'O', 'H1', 'H2', 'O', 'H1', 'H2', 'O', 'H1', 'H2', 'O', 'H1', 'H2', 'O', 'H1', 'H2', 'O', 'H1', 'H2', 'O', 'H1', 'H2', 'O', 'H1', 'H2', 'O', 'H1', 'H2', 'O', 'H1', 'H2', 'O', 'H1', 'H2', 'O', 'H1', 'H2', 'O', 'H1', 'H2', 'O', 'H1', 'H2', 'O', 'H1', 'H2', 'O', 'H1', 'H2', 'O', 'H1', 'H2', 'O', 'H1', 'H2', 'O', 'H1', 'H2', 'O', 'H1', 'H2', 'O', 'H1', 'H2', 'O', 'H1', 'H2', 'O', 'H1', 'H2', 'O', 'H1', 'H2', 'O', 'H1', 'H2', 'O', 'H1', 'H2', 'O', 'H1', 'H2', 'O', 'H1', 'H2', 'O', 'H1', 'H2', 'O', 'H1', 'H2', 'O', 'H1', 'H2', 'O', 'H1', 'H2', 'O', 'H1', 'H2', 'O', 'H1', 'H2', 'O', 'H1', 'H2', 'O', 'H1', 'H2', 'O', 'H1', 'H2', 'O', 'H1', 'H2', 'O', 'H1', 'H2', 'O', 'H1', 'H2', 'O', 'H1', 'H2', 'O', 'H1', 'H2', 'O', 'H1', 'H2', 'O', 'H1', 'H2', 'O', 'H1', 'H2', 'O', 'H1', 'H2', 'O', 'H1', 'H2', 'O', 'H1', 'H2', 'O', 'H1', 'H2', 'O', 'H1', 'H2', 'O', 'H1', 'H2', 'O', 'H1', 'H2', 'O', 'H1', 'H2', 'O', 'H1', 'H2', 'O', 'H1', 'H2', 'O', 'H1', 'H2', 'O', 'H1', 'H2', 'O', 'H1', 'H2', 'O', 'H1', 'H2', 'O', 'H1', 'H2', 'O', 'H1', 'H2', 'O', 'H1', 'H2', 'O', 'H1', 'H2', 'O', 'H1', 'H2', 'O', 'H1', 'H2', 'O', 'H1', 'H2', 'O', 'H1', 'H2', 'O', 'H1', 'H2', 'O', 'H1', 'H2', 'O', 'H1', 'H2', 'O', 'H1', 'H2', 'O', 'H1', 'H2', 'O', 'H1', 'H2', 'O', 'H1', 'H2', 'O', 'H1', 'H2', 'O', 'H1', 'H2', 'O', 'H1', 'H2', 'O', 'H1', 'H2', 'O', 'H1', 'H2', 'O', 'H1', 'H2', 'O', 'H1', 'H2', 'O', 'H1', 'H2', 'O', 'H1', 'H2', 'O', 'H1', 'H2', 'O', 'H1', 'H2', 'O', 'H1', 'H2', 'O', 'H1', 'H2', 'O', 'H1', 'H2', 'O', 'H1', 'H2', 'O', 'H1', 'H2', 'O', 'H1', 'H2', 'O', 'H1', 'H2', 'O', 'H1', 'H2', 'O', 'H1', 'H2', 'O', 'H1', 'H2', 'O', 'H1', 'H2', 'O', 'H1', 'H2', 'O', 'H1', 'H2', 'O', 'H1', 'H2', 'O', 'H1', 'H2', 'O', 'H1', 'H2', 'O', 'H1', 'H2', 'O', 'H1', 'H2', 'O', 'H1', 'H2', 'O', 'H1', 'H2', 'O', 'H1', 'H2', 'O', 'H1', 'H2', 'O', 'H1', 'H2', 'O', 'H1', 'H2', 'O', 'H1', 'H2', 'O', 'H1', 'H2', 'O', 'H1', 'H2', 'O', 'H1', 'H2', 'O', 'H1', 'H2', 'O', 'H1', 'H2', 'O', 'H1', 'H2', 'O', 'H1', 'H2', 'O', 'H1', 'H2', 'O', 'H1', 'H2', 'O', 'H1', 'H2', 'O', 'H1', 'H2', 'O', 'H1', 'H2', 'O', 'H1', 'H2', 'O', 'H1', 'H2', 'O', 'H1', 'H2', 'O', 'H1', 'H2', 'O', 'H1', 'H2', 'O', 'H1', 'H2', 'O', 'H1', 'H2', 'O', 'H1', 'H2', 'O', 'H1', 'H2', 'O', 'H1', 'H2', 'O', 'H1', 'H2', 'O', 'H1', 'H2', 'O', 'H1', 'H2', 'O', 'H1', 'H2', 'O', 'H1', 'H2', 'O', 'H1', 'H2', 'O', 'H1', 'H2', 'O', 'H1', 'H2', 'O', 'H1', 'H2', 'O', 'H1', 'H2', 'O', 'H1', 'H2', 'O', 'H1', 'H2', 'O', 'H1', 'H2', 'O', 'H1', 'H2', 'O', 'H1', 'H2', 'O', 'H1', 'H2', 'O', 'H1', 'H2', 'O', 'H1', 'H2', 'O', 'H1', 'H2', 'O', 'H1', 'H2', 'O', 'H1', 'H2', 'O', 'H1', 'H2', 'O', 'H1', 'H2', 'O', 'H1', 'H2', 'O', 'H1', 'H2', 'O', 'H1', 'H2', 'O', 'H1', 'H2', 'O', 'H1', 'H2', 'O', 'H1', 'H2', 'O', 'H1', 'H2', 'O', 'H1', 'H2', 'O', 'H1', 'H2', 'O', 'H1', 'H2', 'O', 'H1', 'H2', 'O', 'H1', 'H2', 'O', 'H1', 'H2', 'O', 'H1', 'H2', 'O', 'H1', 'H2', 'O', 'H1', 'H2', 'O', 'H1', 'H2', 'O', 'H1', 'H2', 'O', 'H1', 'H2', 'O', 'H1', 'H2', 'O', 'H1', 'H2', 'O', 'H1', 'H2', 'O', 'H1', 'H2', 'O', 'H1', 'H2', 'O', 'H1', 'H2', 'O', 'H1', 'H2', 'O', 'H1', 'H2', 'O', 'H1', 'H2', 'O', 'H1', 'H2', 'O', 'H1', 'H2', 'O', 'H1', 'H2', 'O', 'H1', 'H2', 'O', 'H1', 'H2', 'O', 'H1', 'H2', 'O', 'H1', 'H2', 'O', 'H1', 'H2', 'O', 'H1', 'H2', 'O', 'H1', 'H2', 'O', 'H1', 'H2', 'O', 'H1', 'H2', 'O', 'H1', 'H2', 'O', 'H1', 'H2', 'O', 'H1', 'H2', 'O', 'H1', 'H2', 'O', 'H1', 'H2', 'O', 'H1', 'H2', 'O', 'H1', 'H2', 'O', 'H1', 'H2', 'O', 'H1', 'H2', 'O', 'H1', 'H2', 'O', 'H1', 'H2', 'O', 'H1', 'H2', 'O', 'H1', 'H2', 'O', 'H1', 'H2', 'O', 'H1', 'H2', 'O', 'H1', 'H2', 'O', 'H1', 'H2', 'O', 'H1', 'H2', 'O', 'H1', 'H2', 'O', 'H1', 'H2', 'O', 'H1', 'H2', 'O', 'H1', 'H2', 'O', 'H1', 'H2', 'O', 'H1', 'H2', 'O', 'H1', 'H2', 'O', 'H1', 'H2', 'O', 'H1', 'H2', 'O', 'H1', 'H2', 'O', 'H1', 'H2', 'O', 'H1', 'H2', 'O', 'H1', 'H2', 'O', 'H1', 'H2', 'O', 'H1', 'H2', 'O', 'H1', 'H2', 'O', 'H1', 'H2', 'O', 'H1', 'H2', 'O', 'H1', 'H2', 'O', 'H1', 'H2', 'O', 'H1', 'H2', 'O', 'H1', 'H2', 'O', 'H1', 'H2', 'O', 'H1', 'H2', 'O', 'H1', 'H2', 'O', 'H1', 'H2', 'O', 'H1', 'H2', 'O', 'H1', 'H2', 'O', 'H1', 'H2', 'O', 'H1', 'H2', 'O', 'H1', 'H2', 'O', 'H1', 'H2', 'O', 'H1', 'H2', 'O', 'H1', 'H2', 'O', 'H1', 'H2', 'O', 'H1', 'H2', 'O', 'H1', 'H2', 'O', 'H1', 'H2', 'O', 'H1', 'H2', 'O', 'H1', 'H2', 'O', 'H1', 'H2', 'O', 'H1', 'H2', 'O', 'H1', 'H2', 'O', 'H1', 'H2', 'O', 'H1', 'H2', 'O', 'H1', 'H2', 'O', 'H1', 'H2', 'O', 'H1', 'H2', 'O', 'H1', 'H2', 'O', 'H1', 'H2', 'O', 'H1', 'H2', 'O', 'H1', 'H2', 'O', 'H1', 'H2', 'O', 'H1', 'H2', 'O', 'H1', 'H2', 'O', 'H1', 'H2', 'O', 'H1', 'H2', 'O', 'H1', 'H2', 'O', 'H1', 'H2', 'O', 'H1', 'H2', 'O', 'H1', 'H2', 'O', 'H1', 'H2', 'O', 'H1', 'H2', 'O', 'H1', 'H2', 'O', 'H1', 'H2', 'O', 'H1', 'H2', 'O', 'H1', 'H2', 'O', 'H1', 'H2', 'O', 'H1', 'H2', 'O', 'H1', 'H2', 'O', 'H1', 'H2', 'O', 'H1', 'H2', 'O', 'H1', 'H2', 'O', 'H1', 'H2', 'O', 'H1', 'H2', 'O', 'H1', 'H2', 'O', 'H1', 'H2', 'O', 'H1', 'H2', 'O', 'H1', 'H2', 'O', 'H1', 'H2', 'O', 'H1', 'H2', 'O', 'H1', 'H2', 'O', 'H1', 'H2', 'O', 'H1', 'H2', 'O', 'H1', 'H2', 'O', 'H1', 'H2', 'O', 'H1', 'H2', 'O', 'H1', 'H2', 'O', 'H1', 'H2', 'O', 'H1', 'H2', 'O', 'H1', 'H2', 'O', 'H1', 'H2', 'O', 'H1', 'H2', 'O', 'H1', 'H2', 'O', 'H1', 'H2', 'O', 'H1', 'H2', 'O', 'H1', 'H2', 'O', 'H1', 'H2', 'O', 'H1', 'H2', 'O', 'H1', 'H2', 'O', 'H1', 'H2', 'O', 'H1', 'H2', 'O', 'H1', 'H2', 'O', 'H1', 'H2', 'O', 'H1', 'H2', 'O', 'H1', 'H2', 'O', 'H1', 'H2', 'O', 'H1', 'H2', 'O', 'H1', 'H2', 'O', 'H1', 'H2', 'O', 'H1', 'H2', 'O', 'H1', 'H2', 'O', 'H1', 'H2', 'O', 'H1', 'H2', 'O', 'H1', 'H2', 'O', 'H1', 'H2', 'O', 'H1', 'H2', 'O', 'H1', 'H2', 'O', 'H1', 'H2', 'O', 'H1', 'H2', 'O', 'H1', 'H2', 'O', 'H1', 'H2', 'O', 'H1', 'H2', 'O', 'H1', 'H2', 'O', 'H1', 'H2', 'O', 'H1', 'H2', 'O', 'H1', 'H2', 'O', 'H1', 'H2', 'O', 'H1', 'H2', 'O', 'H1', 'H2', 'O', 'H1', 'H2', 'O', 'H1', 'H2', 'O', 'H1', 'H2', 'O', 'H1', 'H2', 'O', 'H1', 'H2', 'O', 'H1', 'H2', 'O', 'H1', 'H2', 'O', 'H1', 'H2', 'O', 'H1', 'H2', 'O', 'H1', 'H2', 'O', 'H1', 'H2', 'O', 'H1', 'H2', 'O', 'H1', 'H2', 'O', 'H1', 'H2', 'O', 'H1', 'H2', 'O', 'H1', 'H2', 'O', 'H1', 'H2', 'O', 'H1', 'H2', 'O', 'H1', 'H2', 'O', 'H1', 'H2', 'O', 'H1', 'H2', 'O', 'H1', 'H2', 'O', 'H1', 'H2', 'O', 'H1', 'H2', 'O', 'H1', 'H2', 'O', 'H1', 'H2', 'O', 'H1', 'H2', 'O', 'H1', 'H2', 'O', 'H1', 'H2', 'O', 'H1', 'H2', 'O', 'H1', 'H2', 'O', 'H1', 'H2', 'O', 'H1', 'H2', 'O', 'H1', 'H2', 'O', 'H1', 'H2', 'O', 'H1', 'H2', 'O', 'H1', 'H2', 'O', 'H1', 'H2', 'O', 'H1', 'H2', 'O', 'H1', 'H2', 'O', 'H1', 'H2', 'O', 'H1', 'H2', 'O', 'H1', 'H2', 'O', 'H1', 'H2', 'O', 'H1', 'H2', 'O', 'H1', 'H2', 'O', 'H1', 'H2', 'O', 'H1', 'H2', 'O', 'H1', 'H2', 'O', 'H1', 'H2', 'O', 'H1', 'H2', 'O', 'H1', 'H2', 'O', 'H1', 'H2', 'O', 'H1', 'H2', 'O', 'H1', 'H2', 'O', 'H1', 'H2', 'O', 'H1', 'H2', 'O', 'H1', 'H2', 'O', 'H1', 'H2', 'O', 'H1', 'H2', 'O', 'H1', 'H2', 'O', 'H1', 'H2', 'O', 'H1', 'H2', 'O', 'H1', 'H2', 'O', 'H1', 'H2', 'O', 'H1', 'H2', 'O', 'H1', 'H2', 'O', 'H1', 'H2', 'O', 'H1', 'H2', 'O', 'H1', 'H2', 'O', 'H1', 'H2', 'O', 'H1', 'H2', 'O', 'H1', 'H2', 'O', 'H1', 'H2', 'O', 'H1', 'H2', 'O', 'H1', 'H2', 'O', 'H1', 'H2', 'O', 'H1', 'H2', 'O', 'H1', 'H2', 'O', 'H1', 'H2', 'O', 'H1', 'H2', 'O', 'H1', 'H2', 'O', 'H1', 'H2', 'O', 'H1', 'H2', 'O', 'H1', 'H2', 'O', 'H1', 'H2', 'O', 'H1', 'H2', 'O', 'H1', 'H2', 'O', 'H1', 'H2', 'O', 'H1', 'H2', 'O', 'H1', 'H2', 'O', 'H1', 'H2', 'O', 'H1', 'H2', 'O', 'H1', 'H2', 'O', 'H1', 'H2', 'O', 'H1', 'H2', 'O', 'H1', 'H2', 'O', 'H1', 'H2', 'O', 'H1', 'H2', 'O', 'H1', 'H2', 'O', 'H1', 'H2', 'O', 'H1', 'H2', 'O', 'H1', 'H2', 'O', 'H1', 'H2', 'O', 'H1', 'H2', 'O', 'H1', 'H2', 'O', 'H1', 'H2', 'O', 'H1', 'H2', 'O', 'H1', 'H2', 'O', 'H1', 'H2', 'O', 'H1', 'H2', 'O', 'H1', 'H2', 'O', 'H1', 'H2', 'O', 'H1', 'H2', 'O', 'H1', 'H2', 'O', 'H1', 'H2', 'O', 'H1', 'H2', 'O', 'H1', 'H2', 'O', 'H1', 'H2', 'O', 'H1', 'H2', 'O', 'H1', 'H2', 'O', 'H1', 'H2', 'O', 'H1', 'H2', 'O', 'H1', 'H2', 'O', 'H1', 'H2', 'O', 'H1', 'H2', 'O', 'H1', 'H2', 'O', 'H1', 'H2', 'O', 'H1', 'H2', 'O', 'H1', 'H2', 'O', 'H1', 'H2', 'O', 'H1', 'H2', 'O', 'H1', 'H2', 'O', 'H1', 'H2', 'O', 'H1', 'H2', 'O', 'H1', 'H2', 'O', 'H1', 'H2', 'O', 'H1', 'H2', 'O', 'H1', 'H2', 'O', 'H1', 'H2', 'O', 'H1', 'H2', 'O', 'H1', 'H2', 'O', 'H1', 'H2', 'O', 'H1', 'H2', 'O', 'H1', 'H2', 'O', 'H1', 'H2', 'O', 'H1', 'H2', 'O', 'H1', 'H2', 'O', 'H1', 'H2', 'O', 'H1', 'H2', 'O', 'H1', 'H2', 'O', 'H1', 'H2', 'O', 'H1', 'H2', 'O', 'H1', 'H2', 'O', 'H1', 'H2', 'O', 'H1', 'H2', 'O', 'H1', 'H2', 'O', 'H1', 'H2', 'O', 'H1', 'H2', 'O', 'H1', 'H2', 'O', 'H1', 'H2', 'O', 'H1', 'H2', 'O', 'H1', 'H2', 'O', 'H1', 'H2', 'O', 'H1', 'H2', 'O', 'H1', 'H2', 'O', 'H1', 'H2', 'O', 'H1', 'H2', 'O', 'H1', 'H2', 'O', 'H1', 'H2', 'O', 'H1', 'H2', 'O', 'H1', 'H2', 'O', 'H1', 'H2', 'O', 'H1', 'H2', 'O', 'H1', 'H2', 'O', 'H1', 'H2', 'O', 'H1', 'H2', 'O', 'H1', 'H2', 'O', 'H1', 'H2', 'O', 'H1', 'H2', 'O', 'H1', 'H2', 'O', 'H1', 'H2', 'O', 'H1', 'H2', 'O', 'H1', 'H2', 'O', 'H1', 'H2', 'O', 'H1', 'H2', 'O', 'H1', 'H2', 'O', 'H1', 'H2', 'O', 'H1', 'H2', 'O', 'H1', 'H2', 'O', 'H1', 'H2', 'O', 'H1', 'H2', 'O', 'H1', 'H2', 'O', 'H1', 'H2', 'O', 'H1', 'H2', 'O', 'H1', 'H2', 'O', 'H1', 'H2', 'O', 'H1', 'H2', 'O', 'H1', 'H2', 'O', 'H1', 'H2', 'O', 'H1', 'H2', 'O', 'H1', 'H2', 'O', 'H1', 'H2', 'O', 'H1', 'H2', 'O', 'H1', 'H2', 'O', 'H1', 'H2', 'O', 'H1', 'H2', 'O', 'H1', 'H2', 'O', 'H1', 'H2', 'O', 'H1', 'H2', 'O', 'H1', 'H2', 'O', 'H1', 'H2', 'O', 'H1', 'H2', 'O', 'H1', 'H2', 'O', 'H1', 'H2', 'O', 'H1', 'H2', 'O', 'H1', 'H2', 'O', 'H1', 'H2', 'O', 'H1', 'H2', 'O', 'H1', 'H2', 'O', 'H1', 'H2', 'O', 'H1', 'H2', 'O', 'H1', 'H2', 'O', 'H1', 'H2', 'O', 'H1', 'H2', 'O', 'H1', 'H2', 'O', 'H1', 'H2', 'O', 'H1', 'H2', 'O', 'H1', 'H2', 'O', 'H1', 'H2', 'O', 'H1', 'H2', 'O', 'H1', 'H2', 'O', 'H1', 'H2', 'O', 'H1', 'H2', 'O', 'H1', 'H2', 'O', 'H1', 'H2', 'O', 'H1', 'H2', 'O', 'H1', 'H2', 'O', 'H1', 'H2', 'O', 'H1', 'H2', 'O', 'H1', 'H2', 'O', 'H1', 'H2', 'O', 'H1', 'H2', 'O', 'H1', 'H2', 'O', 'H1', 'H2', 'O', 'H1', 'H2', 'O', 'H1', 'H2', 'O', 'H1', 'H2', 'O', 'H1', 'H2', 'O', 'H1', 'H2', 'O', 'H1', 'H2', 'O', 'H1', 'H2', 'O', 'H1', 'H2', 'O', 'H1', 'H2', 'O', 'H1', 'H2', 'O', 'H1', 'H2', 'O', 'H1', 'H2', 'O', 'H1', 'H2', 'O', 'H1', 'H2', 'O', 'H1', 'H2', 'O', 'H1', 'H2', 'O', 'H1', 'H2', 'O', 'H1', 'H2', 'O', 'H1', 'H2', 'O', 'H1', 'H2', 'O', 'H1', 'H2', 'O', 'H1', 'H2', 'O', 'H1', 'H2', 'O', 'H1', 'H2', 'O', 'H1', 'H2', 'O', 'H1', 'H2', 'O', 'H1', 'H2', 'O', 'H1', 'H2', 'O', 'H1', 'H2', 'O', 'H1', 'H2', 'O', 'H1', 'H2', 'O', 'H1', 'H2', 'O', 'H1', 'H2', 'O', 'H1', 'H2', 'O', 'H1', 'H2', 'O', 'H1', 'H2', 'O', 'H1', 'H2', 'O', 'H1', 'H2', 'O', 'H1', 'H2', 'O', 'H1', 'H2', 'O', 'H1', 'H2', 'O', 'H1', 'H2', 'O', 'H1', 'H2', 'O', 'H1', 'H2', 'O', 'H1', 'H2', 'O', 'H1', 'H2', 'O', 'H1', 'H2', 'O', 'H1', 'H2', 'O', 'H1', 'H2', 'O', 'H1', 'H2', 'O', 'H1', 'H2', 'O', 'H1', 'H2', 'O', 'H1', 'H2', 'O', 'H1', 'H2', 'O', 'H1', 'H2', 'O', 'H1', 'H2', 'O', 'H1', 'H2', 'O', 'H1', 'H2', 'O', 'H1', 'H2', 'O', 'H1', 'H2', 'O', 'H1', 'H2', 'O', 'H1', 'H2', 'O', 'H1', 'H2', 'O', 'H1', 'H2', 'O', 'H1', 'H2', 'O', 'H1', 'H2', 'O', 'H1', 'H2', 'O', 'H1', 'H2', 'O', 'H1', 'H2', 'O', 'H1', 'H2', 'O', 'H1', 'H2', 'O', 'H1', 'H2', 'O', 'H1', 'H2', 'O', 'H1', 'H2', 'O', 'H1', 'H2', 'O', 'H1', 'H2', 'O', 'H1', 'H2', 'O', 'H1', 'H2', 'O', 'H1', 'H2', 'O', 'H1', 'H2', 'O', 'H1', 'H2', 'O', 'H1', 'H2', 'O', 'H1', 'H2', 'O', 'H1', 'H2', 'O', 'H1', 'H2', 'O', 'H1', 'H2', 'O', 'H1', 'H2', 'O', 'H1', 'H2', 'O', 'H1', 'H2', 'O', 'H1', 'H2', 'O', 'H1', 'H2', 'O', 'H1', 'H2', 'O', 'H1', 'H2', 'O', 'H1', 'H2', 'O', 'H1', 'H2', 'O', 'H1', 'H2', 'O', 'H1', 'H2', 'O', 'H1', 'H2', 'O', 'H1', 'H2', 'O', 'H1', 'H2', 'O', 'H1', 'H2', 'O', 'H1', 'H2', 'O', 'H1', 'H2', 'O', 'H1', 'H2', 'O', 'H1', 'H2', 'O', 'H1', 'H2', 'O', 'H1', 'H2', 'O', 'H1', 'H2', 'O', 'H1', 'H2', 'O', 'H1', 'H2', 'O', 'H1', 'H2', 'O', 'H1', 'H2', 'O', 'H1', 'H2', 'O', 'H1', 'H2', 'O', 'H1', 'H2', 'O', 'H1', 'H2', 'O', 'H1', 'H2', 'O', 'H1', 'H2', 'O', 'H1', 'H2', 'O', 'H1', 'H2', 'O', 'H1', 'H2', 'O', 'H1', 'H2', 'O', 'H1', 'H2', 'O', 'H1', 'H2', 'O', 'H1', 'H2', 'O', 'H1', 'H2', 'O', 'H1', 'H2', 'O', 'H1', 'H2', 'O', 'H1', 'H2', 'O', 'H1', 'H2', 'O', 'H1', 'H2', 'O', 'H1', 'H2', 'O', 'H1', 'H2', 'O', 'H1', 'H2', 'O', 'H1', 'H2', 'O', 'H1', 'H2', 'O', 'H1', 'H2', 'O', 'H1', 'H2', 'O', 'H1', 'H2', 'O', 'H1', 'H2', 'O', 'H1', 'H2', 'O', 'H1', 'H2', 'O', 'H1', 'H2', 'O', 'H1', 'H2', 'O', 'H1', 'H2', 'O', 'H1', 'H2', 'O', 'H1', 'H2', 'O', 'H1', 'H2', 'O', 'H1', 'H2', 'O', 'H1', 'H2', 'O', 'H1', 'H2', 'O', 'H1', 'H2', 'O', 'H1', 'H2', 'O', 'H1', 'H2', 'O', 'H1', 'H2', 'O', 'H1', 'H2', 'O', 'H1', 'H2', 'O', 'H1', 'H2', 'O', 'H1', 'H2', 'O', 'H1', 'H2', 'O', 'H1', 'H2', 'O', 'H1', 'H2', 'O', 'H1', 'H2', 'O', 'H1', 'H2', 'O', 'H1', 'H2', 'O', 'H1', 'H2', 'O', 'H1', 'H2', 'O', 'H1', 'H2', 'O', 'H1', 'H2', 'O', 'H1', 'H2', 'O', 'H1', 'H2', 'O', 'H1', 'H2', 'O', 'H1', 'H2', 'O', 'H1', 'H2', 'O', 'H1', 'H2', 'O', 'H1', 'H2', 'O', 'H1', 'H2', 'O', 'H1', 'H2', 'O', 'H1', 'H2', 'O', 'H1', 'H2', 'O', 'H1', 'H2', 'O', 'H1', 'H2', 'O', 'H1', 'H2', 'O', 'H1', 'H2', 'O', 'H1', 'H2', 'O', 'H1', 'H2', 'O', 'H1', 'H2', 'O', 'H1', 'H2', 'O', 'H1', 'H2', 'O', 'H1', 'H2', 'O', 'H1', 'H2', 'O', 'H1', 'H2', 'O', 'H1', 'H2', 'O', 'H1', 'H2', 'O', 'H1', 'H2', 'O', 'H1', 'H2', 'O', 'H1', 'H2', 'O', 'H1', 'H2', 'O', 'H1', 'H2', 'O', 'H1', 'H2', 'O', 'H1', 'H2', 'O', 'H1', 'H2', 'O', 'H1', 'H2', 'O', 'H1', 'H2', 'O', 'H1', 'H2', 'O', 'H1', 'H2', 'O', 'H1', 'H2', 'O', 'H1', 'H2', 'O', 'H1', 'H2', 'O', 'H1', 'H2', 'O', 'H1', 'H2', 'O', 'H1', 'H2', 'O', 'H1', 'H2', 'O', 'H1', 'H2', 'O', 'H1', 'H2', 'O', 'H1', 'H2', 'O', 'H1', 'H2', 'O', 'H1', 'H2', 'O', 'H1', 'H2', 'O', 'H1', 'H2', 'O', 'H1', 'H2', 'O', 'H1', 'H2', 'O', 'H1', 'H2', 'O', 'H1', 'H2', 'O', 'H1', 'H2', 'O', 'H1', 'H2', 'O', 'H1', 'H2', 'O', 'H1', 'H2', 'O', 'H1', 'H2', 'O', 'H1', 'H2', 'O', 'H1', 'H2', 'O', 'H1', 'H2', 'O', 'H1', 'H2', 'O', 'H1', 'H2', 'O', 'H1', 'H2', 'O', 'H1', 'H2', 'O', 'H1', 'H2', 'O', 'H1', 'H2', 'O', 'H1', 'H2', 'O', 'H1', 'H2', 'O', 'H1', 'H2', 'O', 'H1', 'H2', 'O', 'H1', 'H2', 'O', 'H1', 'H2', 'O', 'H1', 'H2', 'O', 'H1', 'H2', 'O', 'H1', 'H2', 'O', 'H1', 'H2', 'O', 'H1', 'H2', 'O', 'H1', 'H2', 'O', 'H1', 'H2', 'O', 'H1', 'H2', 'O', 'H1', 'H2', 'O', 'H1', 'H2', 'O', 'H1', 'H2', 'O', 'H1', 'H2', 'O', 'H1', 'H2', 'O', 'H1', 'H2', 'O', 'H1', 'H2', 'O', 'H1', 'H2', 'O', 'H1', 'H2', 'O', 'H1', 'H2', 'O', 'H1', 'H2', 'O', 'H1', 'H2', 'O', 'H1', 'H2', 'O', 'H1', 'H2', 'O', 'H1', 'H2', 'O', 'H1', 'H2', 'O', 'H1', 'H2', 'O', 'H1', 'H2', 'O', 'H1', 'H2', 'O', 'H1', 'H2', 'O', 'H1', 'H2', 'O', 'H1', 'H2', 'O', 'H1', 'H2', 'O', 'H1', 'H2', 'O', 'H1', 'H2', 'O', 'H1', 'H2', 'O', 'H1', 'H2', 'O', 'H1', 'H2', 'O', 'H1', 'H2', 'O', 'H1', 'H2', 'O', 'H1', 'H2', 'O', 'H1', 'H2', 'O', 'H1', 'H2', 'O', 'H1', 'H2', 'O', 'H1', 'H2', 'O', 'H1', 'H2', 'O', 'H1', 'H2', 'O', 'H1', 'H2', 'O', 'H1', 'H2', 'O', 'H1', 'H2', 'O', 'H1', 'H2', 'O', 'H1', 'H2', 'O', 'H1', 'H2', 'O', 'H1', 'H2', 'O', 'H1', 'H2', 'O', 'H1', 'H2', 'O', 'H1', 'H2', 'O', 'H1', 'H2', 'O', 'H1', 'H2', 'O', 'H1', 'H2', 'O', 'H1', 'H2', 'O', 'H1', 'H2', 'O', 'H1', 'H2', 'O', 'H1', 'H2', 'O', 'H1', 'H2', 'O', 'H1', 'H2', 'O', 'H1', 'H2', 'O', 'H1', 'H2', 'O', 'H1', 'H2', 'O', 'H1', 'H2', 'O', 'H1', 'H2', 'O', 'H1', 'H2', 'O', 'H1', 'H2', 'O', 'H1', 'H2', 'O', 'H1', 'H2', 'O', 'H1', 'H2', 'O', 'H1', 'H2', 'O', 'H1', 'H2', 'O', 'H1', 'H2', 'O', 'H1', 'H2', 'O', 'H1', 'H2', 'O', 'H1', 'H2', 'O', 'H1', 'H2', 'O', 'H1', 'H2', 'O', 'H1', 'H2', 'O', 'H1', 'H2', 'O', 'H1', 'H2', 'O', 'H1', 'H2', 'O', 'H1', 'H2', 'O', 'H1', 'H2', 'O', 'H1', 'H2', 'O', 'H1', 'H2', 'O', 'H1', 'H2', 'O', 'H1', 'H2', 'O', 'H1', 'H2', 'O', 'H1', 'H2', 'O', 'H1', 'H2', 'O', 'H1', 'H2', 'O', 'H1', 'H2', 'O', 'H1', 'H2', 'O', 'H1', 'H2', 'O', 'H1', 'H2', 'O', 'H1', 'H2', 'O', 'H1', 'H2', 'O', 'H1', 'H2', 'O', 'H1', 'H2', 'O', 'H1', 'H2', 'O', 'H1', 'H2', 'O', 'H1', 'H2', 'O', 'H1', 'H2', 'O', 'H1', 'H2', 'O', 'H1', 'H2', 'O', 'H1', 'H2', 'O', 'H1', 'H2', 'O', 'H1', 'H2', 'O', 'H1', 'H2', 'O', 'H1', 'H2', 'O', 'H1', 'H2', 'O', 'H1', 'H2', 'O', 'H1', 'H2', 'O', 'H1', 'H2', 'O', 'H1', 'H2', 'O', 'H1', 'H2', 'O', 'H1', 'H2', 'O', 'H1', 'H2', 'O', 'H1', 'H2', 'O', 'H1', 'H2', 'O', 'H1', 'H2', 'O', 'H1', 'H2', 'O', 'H1', 'H2', 'O', 'H1', 'H2', 'O', 'H1', 'H2', 'O', 'H1', 'H2', 'O', 'H1', 'H2', 'O', 'H1', 'H2', 'O', 'H1', 'H2', 'O', 'H1', 'H2', 'O', 'H1', 'H2', 'O', 'H1', 'H2', 'O', 'H1', 'H2', 'O', 'H1', 'H2', 'O', 'H1', 'H2', 'O', 'H1', 'H2', 'O', 'H1', 'H2', 'O', 'H1', 'H2', 'O', 'H1', 'H2', 'O', 'H1', 'H2', 'O', 'H1', 'H2', 'O', 'H1', 'H2', 'O', 'H1', 'H2', 'O', 'H1', 'H2', 'O', 'H1', 'H2', 'O', 'H1', 'H2', 'O', 'H1', 'H2', 'O', 'H1', 'H2', 'O', 'H1', 'H2', 'O', 'H1', 'H2', 'O', 'H1', 'H2', 'O', 'H1', 'H2', 'O', 'H1', 'H2', 'O', 'H1', 'H2', 'O', 'H1', 'H2', 'O', 'H1', 'H2', 'O', 'H1', 'H2', 'O', 'H1', 'H2', 'O', 'H1', 'H2', 'O', 'H1', 'H2', 'O', 'H1', 'H2', 'O', 'H1', 'H2', 'O', 'H1', 'H2', 'O', 'H1', 'H2', 'O', 'H1', 'H2', 'O', 'H1', 'H2', 'O', 'H1', 'H2', 'O', 'H1', 'H2', 'O', 'H1', 'H2', 'O', 'H1', 'H2', 'O', 'H1', 'H2', 'O', 'H1', 'H2', 'O', 'H1', 'H2', 'O', 'H1', 'H2', 'O', 'H1', 'H2', 'O', 'H1', 'H2', 'O', 'H1', 'H2', 'O', 'H1', 'H2', 'O', 'H1', 'H2', 'O', 'H1', 'H2', 'O', 'H1', 'H2', 'O', 'H1', 'H2', 'O', 'H1', 'H2', 'O', 'H1', 'H2', 'O', 'H1', 'H2', 'O', 'H1', 'H2', 'O', 'H1', 'H2', 'O', 'H1', 'H2', 'O', 'H1', 'H2', 'O', 'H1', 'H2', 'O', 'H1', 'H2', 'O', 'H1', 'H2', 'O', 'H1', 'H2', 'O', 'H1', 'H2', 'O', 'H1', 'H2', 'O', 'H1', 'H2', 'O', 'H1', 'H2', 'O', 'H1', 'H2', 'O', 'H1', 'H2', 'O', 'H1', 'H2', 'O', 'H1', 'H2', 'O', 'H1', 'H2', 'O', 'H1', 'H2', 'O', 'H1', 'H2', 'O', 'H1', 'H2', 'O', 'H1', 'H2', 'O', 'H1', 'H2', 'O', 'H1', 'H2', 'O', 'H1', 'H2', 'O', 'H1', 'H2', 'O', 'H1', 'H2', 'O', 'H1', 'H2', 'O', 'H1', 'H2', 'O', 'H1', 'H2', 'O', 'H1', 'H2', 'O', 'H1', 'H2', 'O', 'H1', 'H2', 'O', 'H1', 'H2', 'O', 'H1', 'H2', 'O', 'H1', 'H2', 'O', 'H1', 'H2', 'O', 'H1', 'H2', 'O', 'H1', 'H2', 'O', 'H1', 'H2', 'O', 'H1', 'H2', 'O', 'H1', 'H2', 'O', 'H1', 'H2', 'O', 'H1', 'H2', 'O', 'H1', 'H2', 'O', 'H1', 'H2', 'O', 'H1', 'H2', 'O', 'H1', 'H2', 'O', 'H1', 'H2', 'O', 'H1', 'H2', 'O', 'H1', 'H2', 'O', 'H1', 'H2', 'O', 'H1', 'H2', 'O', 'H1', 'H2', 'O', 'H1', 'H2', 'O', 'H1', 'H2', 'O', 'H1', 'H2', 'O', 'H1', 'H2', 'O', 'H1', 'H2', 'O', 'H1', 'H2', 'O', 'H1', 'H2', 'O', 'H1', 'H2', 'O', 'H1', 'H2', 'O', 'H1', 'H2', 'O', 'H1', 'H2', 'O', 'H1', 'H2', 'O', 'H1', 'H2', 'O', 'H1', 'H2', 'O', 'H1', 'H2', 'O', 'H1', 'H2', 'O', 'H1', 'H2', 'O', 'H1', 'H2', 'O', 'H1', 'H2', 'O', 'H1', 'H2', 'O', 'H1', 'H2', 'O', 'H1', 'H2', 'O', 'H1', 'H2', 'O', 'H1', 'H2', 'O', 'H1', 'H2', 'O', 'H1', 'H2', 'O', 'H1', 'H2', 'O', 'H1', 'H2', 'O', 'H1', 'H2', 'O', 'H1', 'H2', 'O', 'H1', 'H2', 'O', 'H1', 'H2', 'O', 'H1', 'H2', 'O', 'H1', 'H2', 'O', 'H1', 'H2', 'O', 'H1', 'H2', 'O', 'H1', 'H2', 'O', 'H1', 'H2', 'O', 'H1', 'H2', 'O', 'H1', 'H2', 'O', 'H1', 'H2', 'O', 'H1', 'H2', 'O', 'H1', 'H2', 'O', 'H1', 'H2', 'O', 'H1', 'H2', 'O', 'H1', 'H2', 'O', 'H1', 'H2', 'O', 'H1', 'H2', 'O', 'H1', 'H2', 'O', 'H1', 'H2', 'O', 'H1', 'H2', 'O', 'H1', 'H2', 'O', 'H1', 'H2', 'O', 'H1', 'H2', 'O', 'H1', 'H2', 'O', 'H1', 'H2', 'O', 'H1', 'H2', 'O', 'H1', 'H2', 'O', 'H1', 'H2', 'O', 'H1', 'H2', 'O', 'H1', 'H2', 'O', 'H1', 'H2', 'O', 'H1', 'H2', 'O', 'H1', 'H2', 'O', 'H1', 'H2', 'O', 'H1', 'H2', 'O', 'H1', 'H2', 'O', 'H1', 'H2', 'O', 'H1', 'H2', 'O', 'H1', 'H2', 'O', 'H1', 'H2', 'O', 'H1', 'H2', 'O', 'H1', 'H2', 'O', 'H1', 'H2', 'O', 'H1', 'H2', 'O', 'H1', 'H2', 'O', 'H1', 'H2', 'O', 'H1', 'H2', 'O', 'H1', 'H2', 'O', 'H1', 'H2', 'O', 'H1', 'H2', 'O', 'H1', 'H2', 'O', 'H1', 'H2', 'O', 'H1', 'H2', 'O', 'H1', 'H2', 'O', 'H1', 'H2', 'O', 'H1', 'H2', 'O', 'H1', 'H2', 'O', 'H1', 'H2', 'O', 'H1', 'H2', 'O', 'H1', 'H2', 'O', 'H1', 'H2', 'O', 'H1', 'H2', 'O', 'H1', 'H2', 'O', 'H1', 'H2', 'O', 'H1', 'H2', 'O', 'H1', 'H2', 'O', 'H1', 'H2', 'O', 'H1', 'H2', 'O', 'H1', 'H2', 'O', 'H1', 'H2', 'O', 'H1', 'H2', 'O', 'H1', 'H2', 'O', 'H1', 'H2', 'O', 'H1', 'H2', 'O', 'H1', 'H2', 'O', 'H1', 'H2', 'O', 'H1', 'H2', 'O', 'H1', 'H2', 'O', 'H1', 'H2', 'O', 'H1', 'H2', 'O', 'H1', 'H2', 'O', 'H1', 'H2', 'O', 'H1', 'H2', 'O', 'H1', 'H2', 'O', 'H1', 'H2', 'O', 'H1', 'H2', 'O', 'H1', 'H2', 'O', 'H1', 'H2', 'O', 'H1', 'H2', 'O', 'H1', 'H2', 'O', 'H1', 'H2', 'O', 'H1', 'H2', 'O', 'H1', 'H2', 'O', 'H1', 'H2', 'O', 'H1', 'H2', 'O', 'H1', 'H2', 'O', 'H1', 'H2', 'O', 'H1', 'H2', 'O', 'H1', 'H2', 'O', 'H1', 'H2', 'O', 'H1', 'H2', 'O', 'H1', 'H2', 'O', 'H1', 'H2', 'O', 'H1', 'H2', 'O', 'H1', 'H2', 'O', 'H1', 'H2', 'O', 'H1', 'H2', 'O', 'H1', 'H2', 'O', 'H1', 'H2', 'O', 'H1', 'H2', 'O', 'H1', 'H2', 'O', 'H1', 'H2', 'O', 'H1', 'H2', 'O', 'H1', 'H2', 'O', 'H1', 'H2', 'O', 'H1', 'H2', 'O', 'H1', 'H2', 'O', 'H1', 'H2', 'O', 'H1', 'H2', 'O', 'H1', 'H2', 'O', 'H1', 'H2', 'O', 'H1', 'H2', 'O', 'H1', 'H2', 'O', 'H1', 'H2', 'O', 'H1', 'H2', 'O', 'H1', 'H2', 'O', 'H1', 'H2', 'O', 'H1', 'H2', 'O', 'H1', 'H2', 'O', 'H1', 'H2', 'O', 'H1', 'H2', 'O', 'H1', 'H2', 'O', 'H1', 'H2', 'O', 'H1', 'H2', 'O', 'H1', 'H2', 'O', 'H1', 'H2', 'O', 'H1', 'H2', 'O', 'H1', 'H2', 'O', 'H1', 'H2', 'O', 'H1', 'H2', 'O', 'H1', 'H2', 'O', 'H1', 'H2', 'O', 'H1', 'H2', 'O', 'H1', 'H2', 'O', 'H1', 'H2', 'O', 'H1', 'H2', 'O', 'H1', 'H2', 'O', 'H1', 'H2', 'O', 'H1', 'H2', 'O', 'H1', 'H2', 'O', 'H1', 'H2', 'O', 'H1', 'H2', 'O', 'H1', 'H2', 'O', 'H1', 'H2', 'O', 'H1', 'H2', 'O', 'H1', 'H2', 'O', 'H1', 'H2', 'O', 'H1', 'H2', 'O', 'H1', 'H2', 'O', 'H1', 'H2', 'O', 'H1', 'H2', 'O', 'H1', 'H2', 'O', 'H1', 'H2', 'O', 'H1', 'H2', 'O', 'H1', 'H2', 'O', 'H1', 'H2', 'O', 'H1', 'H2', 'O', 'H1', 'H2', 'O', 'H1', 'H2', 'O', 'H1', 'H2', 'O', 'H1', 'H2', 'O', 'H1', 'H2', 'O', 'H1', 'H2', 'O', 'H1', 'H2', 'O', 'H1', 'H2', 'O', 'H1', 'H2', 'O', 'H1', 'H2', 'O', 'H1', 'H2', 'O', 'H1', 'H2', 'O', 'H1', 'H2', 'O', 'H1', 'H2', 'O', 'H1', 'H2', 'O', 'H1', 'H2', 'O', 'H1', 'H2', 'O', 'H1', 'H2', 'O', 'H1', 'H2', 'O', 'H1', 'H2', 'O', 'H1', 'H2', 'O', 'H1', 'H2', 'O', 'H1', 'H2', 'O', 'H1', 'H2', 'O', 'H1', 'H2', 'O', 'H1', 'H2', 'O', 'H1', 'H2', 'O', 'H1', 'H2', 'O', 'H1', 'H2', 'O', 'H1', 'H2', 'O', 'H1', 'H2', 'O', 'H1', 'H2', 'O', 'H1', 'H2', 'O', 'H1', 'H2', 'O', 'H1', 'H2', 'O', 'H1', 'H2', 'O', 'H1', 'H2', 'O', 'H1', 'H2', 'O', 'H1', 'H2', 'O', 'H1', 'H2', 'O', 'H1', 'H2', 'O', 'H1', 'H2', 'O', 'H1', 'H2', 'O', 'H1', 'H2', 'O', 'H1', 'H2', 'O', 'H1', 'H2', 'O', 'H1', 'H2', 'O', 'H1', 'H2', 'O', 'H1', 'H2', 'O', 'H1', 'H2', 'O', 'H1', 'H2', 'O', 'H1', 'H2', 'O', 'H1', 'H2', 'O', 'H1', 'H2', 'O', 'H1', 'H2', 'O', 'H1', 'H2', 'O', 'H1', 'H2', 'O', 'H1', 'H2', 'O', 'H1', 'H2', 'O', 'H1', 'H2', 'O', 'H1', 'H2', 'O', 'H1', 'H2', 'O', 'H1', 'H2', 'O', 'H1', 'H2', 'O', 'H1', 'H2', 'O', 'H1', 'H2', 'O', 'H1', 'H2', 'O', 'H1', 'H2', 'O', 'H1', 'H2', 'O', 'H1', 'H2', 'O', 'H1', 'H2', 'O', 'H1', 'H2', 'O', 'H1', 'H2', 'O', 'H1', 'H2', 'O', 'H1', 'H2', 'O', 'H1', 'H2', 'O', 'H1', 'H2', 'O', 'H1', 'H2', 'O', 'H1', 'H2', 'O', 'H1', 'H2', 'O', 'H1', 'H2', 'O', 'H1', 'H2', 'O', 'H1', 'H2', 'O', 'H1', 'H2', 'O', 'H1', 'H2', 'O', 'H1', 'H2', 'O', 'H1', 'H2', 'O', 'H1', 'H2', 'O', 'H1', 'H2', 'O', 'H1', 'H2', 'O', 'H1', 'H2', 'O', 'H1', 'H2', 'O', 'H1', 'H2', 'O', 'H1', 'H2', 'O', 'H1', 'H2', 'O', 'H1', 'H2', 'O', 'H1', 'H2', 'O', 'H1', 'H2', 'O', 'H1', 'H2', 'O', 'H1', 'H2', 'O', 'H1', 'H2', 'O', 'H1', 'H2', 'O', 'H1', 'H2', 'O', 'H1', 'H2', 'O', 'H1', 'H2', 'O', 'H1', 'H2', 'O', 'H1', 'H2', 'O', 'H1', 'H2', 'O', 'H1', 'H2', 'O', 'H1', 'H2', 'O', 'H1', 'H2', 'O', 'H1', 'H2', 'O', 'H1', 'H2', 'O', 'H1', 'H2', 'O', 'H1', 'H2', 'O', 'H1', 'H2', 'O', 'H1', 'H2', 'O', 'H1', 'H2', 'O', 'H1', 'H2', 'O', 'H1', 'H2', 'O', 'H1', 'H2', 'O', 'H1', 'H2', 'O', 'H1', 'H2', 'O', 'H1', 'H2', 'O', 'H1', 'H2', 'O', 'H1', 'H2', 'O', 'H1', 'H2', 'O', 'H1', 'H2', 'O', 'H1', 'H2', 'O', 'H1', 'H2', 'O', 'H1', 'H2', 'O', 'H1', 'H2', 'O', 'H1', 'H2', 'O', 'H1', 'H2', 'O', 'H1', 'H2', 'O', 'H1', 'H2', 'O', 'H1', 'H2', 'O', 'H1', 'H2', 'O', 'H1', 'H2', 'O', 'H1', 'H2', 'O', 'H1', 'H2', 'O', 'H1', 'H2', 'O', 'H1', 'H2', 'O', 'H1', 'H2', 'O', 'H1', 'H2', 'O', 'H1', 'H2', 'O', 'H1', 'H2', 'O', 'H1', 'H2', 'O', 'H1', 'H2', 'O', 'H1', 'H2', 'O', 'H1', 'H2', 'O', 'H1', 'H2', 'O', 'H1', 'H2', 'O', 'H1', 'H2', 'O', 'H1', 'H2', 'O', 'H1', 'H2', 'O', 'H1', 'H2', 'O', 'H1', 'H2', 'O', 'H1', 'H2', 'O', 'H1', 'H2', 'O', 'H1', 'H2', 'O', 'H1', 'H2', 'O', 'H1', 'H2', 'O', 'H1', 'H2', 'O', 'H1', 'H2', 'O', 'H1', 'H2', 'O', 'H1', 'H2', 'O', 'H1', 'H2', 'O', 'H1', 'H2', 'O', 'H1', 'H2', 'O', 'H1', 'H2', 'O', 'H1', 'H2', 'O', 'H1', 'H2', 'O', 'H1', 'H2', 'O', 'H1', 'H2', 'O', 'H1', 'H2', 'O', 'H1', 'H2', 'O', 'H1', 'H2', 'O', 'H1', 'H2', 'O', 'H1', 'H2', 'O', 'H1', 'H2', 'O', 'H1', 'H2', 'O', 'H1', 'H2', 'O', 'H1', 'H2', 'O', 'H1', 'H2', 'O', 'H1', 'H2', 'O', 'H1', 'H2', 'O', 'H1', 'H2', 'O', 'H1', 'H2', 'O', 'H1', 'H2', 'O', 'H1', 'H2', 'O', 'H1', 'H2', 'O', 'H1', 'H2', 'O', 'H1', 'H2', 'O', 'H1', 'H2', 'O', 'H1', 'H2', 'O', 'H1', 'H2', 'O', 'H1', 'H2', 'O', 'H1', 'H2', 'O', 'H1', 'H2', 'O', 'H1', 'H2', 'O', 'H1', 'H2', 'O', 'H1', 'H2', 'O', 'H1', 'H2', 'O', 'H1', 'H2', 'O', 'H1', 'H2', 'O', 'H1', 'H2', 'O', 'H1', 'H2', 'O', 'H1', 'H2', 'O', 'H1', 'H2', 'O', 'H1', 'H2', 'O', 'H1', 'H2', 'O', 'H1', 'H2', 'O', 'H1', 'H2', 'O', 'H1', 'H2', 'O', 'H1', 'H2', 'O', 'H1', 'H2', 'O', 'H1', 'H2', 'O', 'H1', 'H2', 'O', 'H1', 'H2', 'O', 'H1', 'H2', 'O', 'H1', 'H2', 'O', 'H1', 'H2', 'O', 'H1', 'H2', 'O', 'H1', 'H2', 'O', 'H1', 'H2', 'O', 'H1', 'H2', 'O', 'H1', 'H2', 'O', 'H1', 'H2', 'O', 'H1', 'H2', 'O', 'H1', 'H2', 'O', 'H1', 'H2', 'O', 'H1', 'H2', 'O', 'H1', 'H2', 'O', 'H1', 'H2', 'O', 'H1', 'H2', 'O', 'H1', 'H2', 'O', 'H1', 'H2', 'O', 'H1', 'H2', 'O', 'H1', 'H2', 'O', 'H1', 'H2', 'O', 'H1', 'H2', 'O', 'H1', 'H2', 'O', 'H1', 'H2', 'O', 'H1', 'H2', 'O', 'H1', 'H2', 'O', 'H1', 'H2', 'O', 'H1', 'H2', 'O', 'H1', 'H2']\n"
     ]
    }
   ],
   "source": [
    "names = [a.name for a in pdb.topology.atoms()]\n",
    "print(names)"
   ]
  },
  {
   "cell_type": "markdown",
   "metadata": {},
   "source": [
    "## Step 4: create a ParmEd structure"
   ]
  },
  {
   "cell_type": "code",
   "execution_count": 112,
   "metadata": {
    "ExecuteTime": {
     "end_time": "2017-12-01T19:43:14.894921Z",
     "start_time": "2017-12-01T19:43:14.737058Z"
    }
   },
   "outputs": [
    {
     "ename": "Exception",
     "evalue": "Error: Reference molecule must have unique atom names in order to create a Topology.",
     "output_type": "error",
     "traceback": [
      "\u001b[0;31m---------------------------------------------------------------------------\u001b[0m",
      "\u001b[0;31mException\u001b[0m                                 Traceback (most recent call last)",
      "\u001b[0;32m<ipython-input-112-adb0c0bab57b>\u001b[0m in \u001b[0;36m<module>\u001b[0;34m()\u001b[0m\n\u001b[1;32m      1\u001b[0m \u001b[0mff\u001b[0m \u001b[0;34m=\u001b[0m \u001b[0mForceField\u001b[0m\u001b[0;34m(\u001b[0m\u001b[0;34m'forcefield/smirnoff99Frosst.ffxml'\u001b[0m\u001b[0;34m,\u001b[0m \u001b[0;34m'forcefield/tip3p.ffxml'\u001b[0m\u001b[0;34m)\u001b[0m\u001b[0;34m\u001b[0m\u001b[0m\n\u001b[1;32m      2\u001b[0m system = ff.createSystem(pdb.topology, \n\u001b[0;32m----> 3\u001b[0;31m                          mols)\n\u001b[0m",
      "\u001b[0;32m~/hgst-3tb-data/projects/openforcefield/openforcefield/openforcefield/typing/engines/smirnoff/forcefield.py\u001b[0m in \u001b[0;36mcreateSystem\u001b[0;34m(self, topology, molecules, nonbondedMethod, nonbondedCutoff, constraints, rigidWater, removeCMMotion, hydrogenMass, residueTemplates, chargeMethod, verbose, **kwargs)\u001b[0m\n\u001b[1;32m    967\u001b[0m \u001b[0;34m\u001b[0m\u001b[0m\n\u001b[1;32m    968\u001b[0m         \u001b[0;31m# Work with a modified form of the topology that provides additional accessors.\u001b[0m\u001b[0;34m\u001b[0m\u001b[0;34m\u001b[0m\u001b[0m\n\u001b[0;32m--> 969\u001b[0;31m         \u001b[0mtopology\u001b[0m \u001b[0;34m=\u001b[0m \u001b[0m_Topology\u001b[0m\u001b[0;34m(\u001b[0m\u001b[0mtopology\u001b[0m\u001b[0;34m,\u001b[0m \u001b[0mmolecules\u001b[0m\u001b[0;34m)\u001b[0m\u001b[0;34m\u001b[0m\u001b[0m\n\u001b[0m\u001b[1;32m    970\u001b[0m \u001b[0;34m\u001b[0m\u001b[0m\n\u001b[1;32m    971\u001b[0m         \u001b[0;31m# If the charge method was not an OpenEye AM1 method and we need Wiberg bond orders, obtain Wiberg bond orders\u001b[0m\u001b[0;34m\u001b[0m\u001b[0;34m\u001b[0m\u001b[0m\n",
      "\u001b[0;32m~/hgst-3tb-data/projects/openforcefield/openforcefield/openforcefield/typing/engines/smirnoff/forcefield.py\u001b[0m in \u001b[0;36m__init__\u001b[0;34m(self, topology, reference_molecules)\u001b[0m\n\u001b[1;32m    193\u001b[0m \u001b[0;34m\u001b[0m\u001b[0m\n\u001b[1;32m    194\u001b[0m         \u001b[0;31m# Identify all molecules and atom mappings.\u001b[0m\u001b[0;34m\u001b[0m\u001b[0;34m\u001b[0m\u001b[0m\n\u001b[0;32m--> 195\u001b[0;31m         \u001b[0mself\u001b[0m\u001b[0;34m.\u001b[0m\u001b[0m_identifyMolecules\u001b[0m\u001b[0;34m(\u001b[0m\u001b[0;34m)\u001b[0m\u001b[0;34m\u001b[0m\u001b[0m\n\u001b[0m\u001b[1;32m    196\u001b[0m \u001b[0;34m\u001b[0m\u001b[0m\n\u001b[1;32m    197\u001b[0m         \u001b[0;31m# Get/initialize bond orders\u001b[0m\u001b[0;34m\u001b[0m\u001b[0;34m\u001b[0m\u001b[0m\n",
      "\u001b[0;32m~/hgst-3tb-data/projects/openforcefield/openforcefield/openforcefield/typing/engines/smirnoff/forcefield.py\u001b[0m in \u001b[0;36m_identifyMolecules\u001b[0;34m(self)\u001b[0m\n\u001b[1;32m    340\u001b[0m         \u001b[0;32mfor\u001b[0m \u001b[0mreference_molecule\u001b[0m \u001b[0;32min\u001b[0m \u001b[0mself\u001b[0m\u001b[0;34m.\u001b[0m\u001b[0m_reference_molecules\u001b[0m\u001b[0;34m:\u001b[0m\u001b[0;34m\u001b[0m\u001b[0m\n\u001b[1;32m    341\u001b[0m             \u001b[0;31m# Generate Topology\u001b[0m\u001b[0;34m\u001b[0m\u001b[0;34m\u001b[0m\u001b[0m\n\u001b[0;32m--> 342\u001b[0;31m             \u001b[0mreference_molecule_topology\u001b[0m \u001b[0;34m=\u001b[0m \u001b[0mgenerateTopologyFromOEMol\u001b[0m\u001b[0;34m(\u001b[0m\u001b[0mreference_molecule\u001b[0m\u001b[0;34m)\u001b[0m\u001b[0;34m\u001b[0m\u001b[0m\n\u001b[0m\u001b[1;32m    343\u001b[0m             \u001b[0;31m# Generate Graph\u001b[0m\u001b[0;34m\u001b[0m\u001b[0;34m\u001b[0m\u001b[0m\n\u001b[1;32m    344\u001b[0m             \u001b[0mreference_molecule_graph\u001b[0m \u001b[0;34m=\u001b[0m \u001b[0mgenerateGraphFromTopology\u001b[0m\u001b[0;34m(\u001b[0m\u001b[0mreference_molecule_topology\u001b[0m\u001b[0;34m)\u001b[0m\u001b[0;34m\u001b[0m\u001b[0m\n",
      "\u001b[0;32m~/hgst-3tb-data/projects/openforcefield/openforcefield/openforcefield/utils/utils.py\u001b[0m in \u001b[0;36mgenerateTopologyFromOEMol\u001b[0;34m(molecule)\u001b[0m\n\u001b[1;32m    186\u001b[0m     \u001b[0matomnames\u001b[0m \u001b[0;34m=\u001b[0m \u001b[0;34m[\u001b[0m \u001b[0matom\u001b[0m\u001b[0;34m.\u001b[0m\u001b[0mGetName\u001b[0m\u001b[0;34m(\u001b[0m\u001b[0;34m)\u001b[0m \u001b[0;32mfor\u001b[0m \u001b[0matom\u001b[0m \u001b[0;32min\u001b[0m \u001b[0mmol\u001b[0m\u001b[0;34m.\u001b[0m\u001b[0mGetAtoms\u001b[0m\u001b[0;34m(\u001b[0m\u001b[0;34m)\u001b[0m \u001b[0;34m]\u001b[0m\u001b[0;34m\u001b[0m\u001b[0m\n\u001b[1;32m    187\u001b[0m     \u001b[0;32mif\u001b[0m \u001b[0many\u001b[0m\u001b[0;34m(\u001b[0m \u001b[0matomnames\u001b[0m\u001b[0;34m.\u001b[0m\u001b[0mcount\u001b[0m\u001b[0;34m(\u001b[0m\u001b[0matom\u001b[0m\u001b[0;34m.\u001b[0m\u001b[0mGetName\u001b[0m\u001b[0;34m(\u001b[0m\u001b[0;34m)\u001b[0m\u001b[0;34m)\u001b[0m\u001b[0;34m>\u001b[0m\u001b[0;36m1\u001b[0m \u001b[0;32mfor\u001b[0m \u001b[0matom\u001b[0m \u001b[0;32min\u001b[0m \u001b[0mmol\u001b[0m\u001b[0;34m.\u001b[0m\u001b[0mGetAtoms\u001b[0m\u001b[0;34m(\u001b[0m\u001b[0;34m)\u001b[0m\u001b[0;34m)\u001b[0m\u001b[0;34m:\u001b[0m\u001b[0;34m\u001b[0m\u001b[0m\n\u001b[0;32m--> 188\u001b[0;31m         \u001b[0;32mraise\u001b[0m \u001b[0mException\u001b[0m\u001b[0;34m(\u001b[0m\u001b[0;34m\"Error: Reference molecule must have unique atom names in order to create a Topology.\"\u001b[0m\u001b[0;34m)\u001b[0m\u001b[0;34m\u001b[0m\u001b[0m\n\u001b[0m\u001b[1;32m    189\u001b[0m \u001b[0;34m\u001b[0m\u001b[0m\n\u001b[1;32m    190\u001b[0m     \u001b[0;31m# Create atoms in the residue.\u001b[0m\u001b[0;34m\u001b[0m\u001b[0;34m\u001b[0m\u001b[0m\n",
      "\u001b[0;31mException\u001b[0m: Error: Reference molecule must have unique atom names in order to create a Topology."
     ]
    }
   ],
   "source": [
    "ff = ForceField('forcefield/smirnoff99Frosst.ffxml', 'forcefield/tip3p.ffxml') \n",
    "system = ff.createSystem(pdb.topology, \n",
    "                         mols)"
   ]
  },
  {
   "cell_type": "markdown",
   "metadata": {},
   "source": [
    "## Step 5: save the ParmEd structure as a `.prmtop` file"
   ]
  },
  {
   "cell_type": "code",
   "execution_count": 111,
   "metadata": {
    "ExecuteTime": {
     "end_time": "2017-12-01T19:42:21.326616Z",
     "start_time": "2017-12-01T19:42:21.308269Z"
    },
    "scrolled": true
   },
   "outputs": [
    {
     "ename": "NameError",
     "evalue": "name 'pdbfile' is not defined",
     "output_type": "error",
     "traceback": [
      "\u001b[0;31m---------------------------------------------------------------------------\u001b[0m",
      "\u001b[0;31mNameError\u001b[0m                                 Traceback (most recent call last)",
      "\u001b[0;32m<ipython-input-111-6663b91f2b87>\u001b[0m in \u001b[0;36m<module>\u001b[0;34m()\u001b[0m\n\u001b[0;32m----> 1\u001b[0;31m \u001b[0mstructure\u001b[0m \u001b[0;34m=\u001b[0m \u001b[0mpmd\u001b[0m\u001b[0;34m.\u001b[0m\u001b[0mopenmm\u001b[0m\u001b[0;34m.\u001b[0m\u001b[0mtopsystem\u001b[0m\u001b[0;34m.\u001b[0m\u001b[0mload_topology\u001b[0m\u001b[0;34m(\u001b[0m\u001b[0mpdbfile\u001b[0m\u001b[0;34m.\u001b[0m\u001b[0mtopology\u001b[0m\u001b[0;34m,\u001b[0m \u001b[0msystem\u001b[0m\u001b[0;34m,\u001b[0m \u001b[0mpdbfile\u001b[0m\u001b[0;34m.\u001b[0m\u001b[0mpositions\u001b[0m\u001b[0;34m)\u001b[0m\u001b[0;34m\u001b[0m\u001b[0m\n\u001b[0m",
      "\u001b[0;31mNameError\u001b[0m: name 'pdbfile' is not defined"
     ]
    }
   ],
   "source": [
    "structure = pmd.openmm.topsystem.load_topology(pdbfile.topology, system, pdbfile.positions)"
   ]
  },
  {
   "cell_type": "code",
   "execution_count": null,
   "metadata": {
    "collapsed": true
   },
   "outputs": [],
   "source": []
  }
 ],
 "metadata": {
  "_draft": {
   "nbviewer_url": "https://gist.github.com/011f2438aada32f1bf16bdec57d9722c"
  },
  "gist": {
   "data": {
    "description": "host-guest-example.ipynb",
    "public": true
   },
   "id": "011f2438aada32f1bf16bdec57d9722c"
  },
  "kernelspec": {
   "display_name": "Python [conda env:openforcefield]",
   "language": "python",
   "name": "conda-env-openforcefield-py"
  },
  "language_info": {
   "codemirror_mode": {
    "name": "ipython",
    "version": 3
   },
   "file_extension": ".py",
   "mimetype": "text/x-python",
   "name": "python",
   "nbconvert_exporter": "python",
   "pygments_lexer": "ipython3",
   "version": "3.6.1"
  }
 },
 "nbformat": 4,
 "nbformat_minor": 2
}
