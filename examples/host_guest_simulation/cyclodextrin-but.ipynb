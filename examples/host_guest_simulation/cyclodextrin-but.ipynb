{
 "cells": [
  {
   "cell_type": "markdown",
   "metadata": {},
   "source": [
    "# How to build an AMBER-compatible host-guest complex using the SMIRNOFF force field starting with SYBYL-formatted `mol2` files"
   ]
  },
  {
   "cell_type": "code",
   "execution_count": 38,
   "metadata": {
    "ExecuteTime": {
     "end_time": "2017-12-04T23:07:35.539951Z",
     "start_time": "2017-12-04T23:07:35.534760Z"
    },
    "collapsed": true
   },
   "outputs": [],
   "source": [
    "import parmed as pmd\n",
    "import subprocess as sp\n",
    "import numpy as np\n",
    "\n",
    "from openeye import oechem\n",
    "from openforcefield.typing.engines.smirnoff import *\n",
    "from pdbfixer import PDBFixer"
   ]
  },
  {
   "cell_type": "markdown",
   "metadata": {},
   "source": [
    "## Step 0: generate SYBYL-formatted `mol2` files\n",
    "\n",
    "Starting with files containing AM1-BCC charges and GAFF v1.7 Lennard-Jones and bonded parameters:\n",
    "\n",
    "```\n",
    "antechamber -i bcd.mol2 -fi mol2 -o bcd-sybyl.mol2 -fo mol2 -at sybyl\n",
    "antechamber -i ben.mol2 -fi mol2 -o ben-sybyl.mol2 -fo mol2 -at sybyl -dr n \n",
    "# Disable `acdoctor` to handle carboxylate group\n",
    "```"
   ]
  },
  {
   "cell_type": "code",
   "execution_count": 39,
   "metadata": {
    "ExecuteTime": {
     "end_time": "2017-12-04T23:07:35.668827Z",
     "start_time": "2017-12-04T23:07:35.541874Z"
    },
    "collapsed": true
   },
   "outputs": [],
   "source": [
    "path = './bcd-ben/'\n",
    "bcd = path + 'bcd-sybyl.mol2'\n",
    "ben = path + 'ben-sybyl.mol2'"
   ]
  },
  {
   "cell_type": "code",
   "execution_count": 40,
   "metadata": {
    "ExecuteTime": {
     "end_time": "2017-12-04T23:07:35.874839Z",
     "start_time": "2017-12-04T23:07:35.670673Z"
    }
   },
   "outputs": [
    {
     "name": "stdout",
     "output_type": "stream",
     "text": [
      "==> ./bcd-ben/bcd.mol2 <==\r\n",
      "@<TRIPOS>MOLECULE\r\n",
      "Cpptraj generated mol2 file.\r\n",
      "  147   154     7     0     0\r\n",
      "SMALL\r\n",
      "USER_CHARGES\r\n",
      "\r\n",
      "\r\n",
      "@<TRIPOS>ATOM\r\n",
      "      1 C1         16.6428   14.6231   33.9447 c3         1 MGO      0.304529\r\n",
      "      2 H1         15.6508   14.1481   33.8157 h2         1 MGO      0.090782\r\n",
      "\r\n",
      "==> ./bcd-ben/bcd-sybyl.mol2 <==\r\n",
      "@<TRIPOS>MOLECULE\r\n",
      "Cpptraj\r\n",
      "  147   154     1     0     0\r\n",
      "SMALL\r\n",
      "No Charge or Current Charge\r\n",
      "\r\n",
      "\r\n",
      "@<TRIPOS>ATOM\r\n",
      "      1 C1          16.6430    14.6230    33.9450 C.3        1 MGO       0.304529\r\n",
      "      2 H1          15.6510    14.1480    33.8160 H          1 MGO       0.090782\r\n"
     ]
    }
   ],
   "source": [
    "!head -n 10 './bcd-ben/bcd.mol2' './bcd-ben/bcd-sybyl.mol2' "
   ]
  },
  {
   "cell_type": "code",
   "execution_count": 41,
   "metadata": {
    "ExecuteTime": {
     "end_time": "2017-12-04T23:07:35.997226Z",
     "start_time": "2017-12-04T23:07:35.876902Z"
    }
   },
   "outputs": [
    {
     "name": "stdout",
     "output_type": "stream",
     "text": [
      "==> ./bcd-ben/ben.mol2 <==\r\n",
      "@<TRIPOS>MOLECULE\r\n",
      "Cpptraj generated mol2 file.\r\n",
      "   14    14     1     0     0\r\n",
      "SMALL\r\n",
      "USER_CHARGES\r\n",
      "\r\n",
      "\r\n",
      "@<TRIPOS>ATOM\r\n",
      "      1 C1         19.6968   19.9941   32.6877 ca         1 BEN     -0.161879\r\n",
      "      2 H1         19.6968   19.9941   31.5977 ha         1 BEN      0.097073\r\n",
      "\r\n",
      "==> ./bcd-ben/ben-sybyl.mol2 <==\r\n",
      "@<TRIPOS>MOLECULE\r\n",
      "Cpptraj\r\n",
      "   14    14     1     0     0\r\n",
      "SMALL\r\n",
      "No Charge or Current Charge\r\n",
      "\r\n",
      "\r\n",
      "@<TRIPOS>ATOM\r\n",
      "      1 C1          19.6970    19.9940    32.6880 C.ar       1 BEN      -0.161879\r\n",
      "      2 H1          19.6970    19.9940    31.5980 H          1 BEN       0.097073\r\n"
     ]
    }
   ],
   "source": [
    "!head -n 10 './bcd-ben/ben.mol2' './bcd-ben/ben-sybyl.mol2'"
   ]
  },
  {
   "cell_type": "markdown",
   "metadata": {},
   "source": [
    "## Step 1: load molecules in an `oechem.OEMol`"
   ]
  },
  {
   "cell_type": "code",
   "execution_count": 42,
   "metadata": {
    "ExecuteTime": {
     "end_time": "2017-12-04T23:07:36.009893Z",
     "start_time": "2017-12-04T23:07:35.999244Z"
    },
    "collapsed": true
   },
   "outputs": [],
   "source": [
    "mols = []\n",
    "ifs = oechem.oemolistream(bcd)\n",
    "for mol in ifs.GetOEGraphMols():\n",
    "    mols.append(oechem.OEMol(mol))"
   ]
  },
  {
   "cell_type": "markdown",
   "metadata": {},
   "source": [
    "## Step 1.5: since `bcd` is a cyclic molecule, let's write a version without connectivity and then have OpenEye perceive connectivity based on [this issue](https://github.com/openforcefield/openforcefield/issues/66)"
   ]
  },
  {
   "cell_type": "code",
   "execution_count": 43,
   "metadata": {
    "ExecuteTime": {
     "end_time": "2017-12-04T23:07:36.143058Z",
     "start_time": "2017-12-04T23:07:36.011791Z"
    },
    "collapsed": true
   },
   "outputs": [],
   "source": [
    "ofs = oechem.oemolostream()\n",
    "ofs.open(path + 'bcd-no-conect.xyz')\n",
    "flavor = oechem.OEOFlavor_Generic_Default\n",
    "ofs.SetFlavor(oechem.OEFormat_XYZ, flavor)\n",
    "oechem.OEWriteXYZFile(ofs, mols[0])\n",
    "ofs.close()"
   ]
  },
  {
   "cell_type": "code",
   "execution_count": 44,
   "metadata": {
    "ExecuteTime": {
     "end_time": "2017-12-04T23:07:36.276462Z",
     "start_time": "2017-12-04T23:07:36.144815Z"
    },
    "collapsed": true
   },
   "outputs": [],
   "source": [
    "ifs = oechem.oemolistream(path + 'bcd-no-conect.xyz')\n",
    "for mol in ifs.GetOEGraphMols():\n",
    "    oechem.OEDetermineConnectivity(mol)\n",
    "    oechem.OEPerceiveBondOrders(mol)\n",
    "    # Replace existing cyclodextrin\n",
    "    mols[0] = oechem.OEMol(mol)"
   ]
  },
  {
   "cell_type": "code",
   "execution_count": 45,
   "metadata": {
    "ExecuteTime": {
     "end_time": "2017-12-04T23:07:36.417351Z",
     "start_time": "2017-12-04T23:07:36.278575Z"
    },
    "collapsed": true
   },
   "outputs": [],
   "source": [
    "ifs = oechem.oemolistream(ben)\n",
    "for mol in ifs.GetOEGraphMols():\n",
    "    mols.append(oechem.OEMol(mol))"
   ]
  },
  {
   "cell_type": "markdown",
   "metadata": {},
   "source": [
    "## Step 2: build reference molecules for water and ions"
   ]
  },
  {
   "cell_type": "code",
   "execution_count": 46,
   "metadata": {
    "ExecuteTime": {
     "end_time": "2017-12-04T23:07:36.550986Z",
     "start_time": "2017-12-04T23:07:36.419141Z"
    },
    "collapsed": true
   },
   "outputs": [],
   "source": [
    "smiles = ['[Na+]', '[Cl-]', 'O']\n",
    "for molecule in smiles:\n",
    "    mol = oechem.OEMol()\n",
    "    oechem.OESmilesToMol(mol, molecule)\n",
    "    for atom in mol.GetAtoms():\n",
    "        atom.SetPartialCharge(atom.GetFormalCharge())\n",
    "    oechem.OEAddExplicitHydrogens(mol)\n",
    "    oechem.OETriposAtomNames(mol)\n",
    "    mols.append(mol)"
   ]
  },
  {
   "cell_type": "markdown",
   "metadata": {},
   "source": [
    "## Step 3: read in fully solvated system with host, guest, water, and ions"
   ]
  },
  {
   "cell_type": "markdown",
   "metadata": {
    "collapsed": true
   },
   "source": [
    "### Step 3.1: create a PDB of the system with CONECT records\n",
    "This requires using the \"original\" `mol2` files with GAFF atom names."
   ]
  },
  {
   "cell_type": "code",
   "execution_count": 47,
   "metadata": {
    "ExecuteTime": {
     "end_time": "2017-12-04T23:07:36.725537Z",
     "start_time": "2017-12-04T23:07:36.552954Z"
    },
    "collapsed": true
   },
   "outputs": [],
   "source": [
    "solvated_pdb = 'bcd-ben.pdb'\n",
    "amber_prmtop = 'solvated.prmtop'\n",
    "pdb_with_conect = 'bcd-ben-conect.pdb'\n",
    "cpptraj_input = 'bcd-ben-conect.in'\n",
    "\n",
    "cpptraj = \\\n",
    "'''\n",
    "parm {}\n",
    "trajin {}\n",
    "trajout {} conect\n",
    "'''.format(amber_prmtop, solvated_pdb, pdb_with_conect)"
   ]
  },
  {
   "cell_type": "code",
   "execution_count": 48,
   "metadata": {
    "ExecuteTime": {
     "end_time": "2017-12-04T23:07:36.908919Z",
     "start_time": "2017-12-04T23:07:36.727388Z"
    },
    "collapsed": true
   },
   "outputs": [],
   "source": [
    "with open(path + cpptraj_input, 'w') as file:\n",
    "    file.write(cpptraj)"
   ]
  },
  {
   "cell_type": "code",
   "execution_count": 49,
   "metadata": {
    "ExecuteTime": {
     "end_time": "2017-12-04T23:07:37.069230Z",
     "start_time": "2017-12-04T23:07:36.910849Z"
    },
    "collapsed": true
   },
   "outputs": [],
   "source": [
    "cpptraj_output = sp.check_output(['cpptraj', '-i', cpptraj_input], cwd=path)"
   ]
  },
  {
   "cell_type": "markdown",
   "metadata": {},
   "source": [
    "### Step 3.2: prune the CONECT records that correspond specifically to water molecules"
   ]
  },
  {
   "cell_type": "code",
   "execution_count": 50,
   "metadata": {
    "ExecuteTime": {
     "end_time": "2017-12-04T23:07:37.203712Z",
     "start_time": "2017-12-04T23:07:37.071438Z"
    },
    "collapsed": true
   },
   "outputs": [],
   "source": [
    "first_water = sp.check_output(['grep', '-m 1', 'WAT', pdb_with_conect], cwd=path).decode(\"utf-8\") "
   ]
  },
  {
   "cell_type": "code",
   "execution_count": 51,
   "metadata": {
    "ExecuteTime": {
     "end_time": "2017-12-04T23:07:37.334760Z",
     "start_time": "2017-12-04T23:07:37.206377Z"
    }
   },
   "outputs": [
    {
     "name": "stdout",
     "output_type": "stream",
     "text": [
      "First water residue = 175\n"
     ]
    }
   ],
   "source": [
    "first_water_residue = int(float(first_water.split()[1]))\n",
    "print('First water residue = {}'.format(first_water_residue))"
   ]
  },
  {
   "cell_type": "code",
   "execution_count": 52,
   "metadata": {
    "ExecuteTime": {
     "end_time": "2017-12-04T23:07:37.579906Z",
     "start_time": "2017-12-04T23:07:37.337287Z"
    },
    "collapsed": true
   },
   "outputs": [],
   "source": [
    "line_of_first_conect_to_delete = sp.check_output(['egrep', '-n', 'CONECT [ ]* {}'.format(str(first_water_residue)), \n",
    "                                                  pdb_with_conect], cwd=path).decode(\"utf-8\")"
   ]
  },
  {
   "cell_type": "code",
   "execution_count": 53,
   "metadata": {
    "ExecuteTime": {
     "end_time": "2017-12-04T23:07:37.818129Z",
     "start_time": "2017-12-04T23:07:37.582654Z"
    }
   },
   "outputs": [
    {
     "name": "stdout",
     "output_type": "stream",
     "text": [
      "Found first water CONECT entry at line = 9192\n"
     ]
    }
   ],
   "source": [
    "line_to_delete_from = int(float(line_of_first_conect_to_delete.split(':')[0]))\n",
    "print('Found first water CONECT entry at line = {}'.format(line_to_delete_from))"
   ]
  },
  {
   "cell_type": "code",
   "execution_count": 54,
   "metadata": {
    "ExecuteTime": {
     "end_time": "2017-12-04T23:07:37.923593Z",
     "start_time": "2017-12-04T23:07:37.820956Z"
    },
    "collapsed": true
   },
   "outputs": [],
   "source": [
    "truncated_file = sp.check_output(['awk', 'NR < {}'.format(line_to_delete_from), pdb_with_conect], cwd=path).decode(\"utf-8\")"
   ]
  },
  {
   "cell_type": "code",
   "execution_count": 55,
   "metadata": {
    "ExecuteTime": {
     "end_time": "2017-12-04T23:07:38.022155Z",
     "start_time": "2017-12-04T23:07:37.926299Z"
    }
   },
   "outputs": [],
   "source": [
    "file = open(path + 'tmp.pdb', 'w')\n",
    "file.write(truncated_file)\n",
    "file.write(\"END\")\n",
    "file.close()\n",
    "p = sp.check_output(['mv', 'tmp.pdb', '{}'.format(pdb_with_conect)], cwd=path)"
   ]
  },
  {
   "cell_type": "code",
   "execution_count": 56,
   "metadata": {
    "ExecuteTime": {
     "end_time": "2017-12-04T23:07:38.756928Z",
     "start_time": "2017-12-04T23:07:38.024844Z"
    },
    "collapsed": true
   },
   "outputs": [],
   "source": [
    "pdb = PDBFixer(path + pdb_with_conect)"
   ]
  },
  {
   "cell_type": "code",
   "execution_count": 57,
   "metadata": {
    "ExecuteTime": {
     "end_time": "2017-12-04T23:07:38.762646Z",
     "start_time": "2017-12-04T23:07:38.759376Z"
    },
    "collapsed": true
   },
   "outputs": [],
   "source": [
    "# residues = [r.name for r in pdb.topology.residues()]\n",
    "# print(residues)"
   ]
  },
  {
   "cell_type": "code",
   "execution_count": 58,
   "metadata": {
    "ExecuteTime": {
     "end_time": "2017-12-04T23:07:38.859044Z",
     "start_time": "2017-12-04T23:07:38.764914Z"
    },
    "collapsed": true
   },
   "outputs": [],
   "source": [
    "# names = [a.name for a in pdb.topology.atoms()]\n",
    "# print(names)"
   ]
  },
  {
   "cell_type": "markdown",
   "metadata": {},
   "source": [
    "## Step 4: create a ParmEd structure"
   ]
  },
  {
   "cell_type": "code",
   "execution_count": 59,
   "metadata": {
    "ExecuteTime": {
     "end_time": "2017-12-04T23:07:41.220759Z",
     "start_time": "2017-12-04T23:07:38.860888Z"
    }
   },
   "outputs": [],
   "source": [
    "ff = ForceField('forcefield/smirnoff99Frosst.ffxml', 'forcefield/tip3p.ffxml') \n",
    "system = ff.createSystem(pdb.topology, \n",
    "                         mols)\n",
    "integrator = openmm.VerletIntegrator(1.0 * unit.femtoseconds)\n",
    "context = openmm.Context(system, integrator)\n",
    "context.setPositions(pdb.positions)"
   ]
  },
  {
   "cell_type": "markdown",
   "metadata": {},
   "source": [
    "## Step 5: save the ParmEd structure as a `.prmtop` file"
   ]
  },
  {
   "cell_type": "code",
   "execution_count": 60,
   "metadata": {
    "ExecuteTime": {
     "end_time": "2017-12-04T23:07:42.183441Z",
     "start_time": "2017-12-04T23:07:41.222902Z"
    },
    "collapsed": true,
    "scrolled": true
   },
   "outputs": [],
   "source": [
    "structure = pmd.openmm.topsystem.load_topology(pdb.topology, system, pdb.positions)"
   ]
  },
  {
   "cell_type": "code",
   "execution_count": 61,
   "metadata": {
    "ExecuteTime": {
     "end_time": "2017-12-04T23:08:06.776675Z",
     "start_time": "2017-12-04T23:07:42.185251Z"
    }
   },
   "outputs": [
    {
     "ename": "AttributeError",
     "evalue": "'NoneType' object has no attribute 'used'",
     "output_type": "error",
     "traceback": [
      "\u001b[0;31m---------------------------------------------------------------------------\u001b[0m",
      "\u001b[0;31mAttributeError\u001b[0m                            Traceback (most recent call last)",
      "\u001b[0;32m<ipython-input-61-3f16fadfe87f>\u001b[0m in \u001b[0;36m<module>\u001b[0;34m()\u001b[0m\n\u001b[0;32m----> 1\u001b[0;31m \u001b[0mstructure\u001b[0m\u001b[0;34m.\u001b[0m\u001b[0msave\u001b[0m\u001b[0;34m(\u001b[0m\u001b[0mpath\u001b[0m \u001b[0;34m+\u001b[0m \u001b[0;34m'bcd-ben-smirnoff.prmtop'\u001b[0m\u001b[0;34m)\u001b[0m\u001b[0;34m\u001b[0m\u001b[0m\n\u001b[0m",
      "\u001b[0;32m~/data/applications/anaconda3/envs/openforcefield/lib/python3.6/site-packages/parmed/structure.py\u001b[0m in \u001b[0;36msave\u001b[0;34m(self, fname, format, overwrite, **kwargs)\u001b[0m\n\u001b[1;32m   1531\u001b[0m                 \u001b[0;32melse\u001b[0m\u001b[0;34m:\u001b[0m\u001b[0;34m\u001b[0m\u001b[0m\n\u001b[1;32m   1532\u001b[0m                     \u001b[0;32mtry\u001b[0m\u001b[0;34m:\u001b[0m\u001b[0;34m\u001b[0m\u001b[0m\n\u001b[0;32m-> 1533\u001b[0;31m                         \u001b[0ms\u001b[0m \u001b[0;34m=\u001b[0m \u001b[0mamber\u001b[0m\u001b[0;34m.\u001b[0m\u001b[0mAmberParm\u001b[0m\u001b[0;34m.\u001b[0m\u001b[0mfrom_structure\u001b[0m\u001b[0;34m(\u001b[0m\u001b[0mself\u001b[0m\u001b[0;34m)\u001b[0m\u001b[0;34m\u001b[0m\u001b[0m\n\u001b[0m\u001b[1;32m   1534\u001b[0m                     \u001b[0;32mexcept\u001b[0m \u001b[0mTypeError\u001b[0m \u001b[0;32mas\u001b[0m \u001b[0me\u001b[0m\u001b[0;34m:\u001b[0m\u001b[0;34m\u001b[0m\u001b[0m\n\u001b[1;32m   1535\u001b[0m                         \u001b[0;32mif\u001b[0m \u001b[0;34m'Cannot translate exceptions'\u001b[0m \u001b[0;32min\u001b[0m \u001b[0mstr\u001b[0m\u001b[0;34m(\u001b[0m\u001b[0me\u001b[0m\u001b[0;34m)\u001b[0m\u001b[0;34m:\u001b[0m\u001b[0;34m\u001b[0m\u001b[0m\n",
      "\u001b[0;32m~/data/applications/anaconda3/envs/openforcefield/lib/python3.6/site-packages/parmed/amber/_amberparm.py\u001b[0m in \u001b[0;36mfrom_structure\u001b[0;34m(cls, struct, copy)\u001b[0m\n\u001b[1;32m    381\u001b[0m                 \u001b[0mdt\u001b[0m\u001b[0;34m.\u001b[0m\u001b[0mphi_k\u001b[0m \u001b[0;34m=\u001b[0m \u001b[0;36m0.0\u001b[0m\u001b[0;34m\u001b[0m\u001b[0m\n\u001b[1;32m    382\u001b[0m                 \u001b[0mdt\u001b[0m\u001b[0;34m.\u001b[0m\u001b[0mper\u001b[0m \u001b[0;34m=\u001b[0m \u001b[0;36m1.0\u001b[0m\u001b[0;34m\u001b[0m\u001b[0m\n\u001b[0;32m--> 383\u001b[0;31m         \u001b[0minst\u001b[0m\u001b[0;34m.\u001b[0m\u001b[0mremake_parm\u001b[0m\u001b[0;34m(\u001b[0m\u001b[0;34m)\u001b[0m\u001b[0;34m\u001b[0m\u001b[0m\n\u001b[0m\u001b[1;32m    384\u001b[0m         \u001b[0minst\u001b[0m\u001b[0;34m.\u001b[0m\u001b[0m_set_nonbonded_tables\u001b[0m\u001b[0;34m(\u001b[0m\u001b[0mnbfixes\u001b[0m\u001b[0;34m)\u001b[0m\u001b[0;34m\u001b[0m\u001b[0m\n\u001b[1;32m    385\u001b[0m         \u001b[0mn_copy\u001b[0m \u001b[0;34m=\u001b[0m \u001b[0minst\u001b[0m\u001b[0;34m.\u001b[0m\u001b[0mpointers\u001b[0m\u001b[0;34m.\u001b[0m\u001b[0mget\u001b[0m\u001b[0;34m(\u001b[0m\u001b[0;34m'NCOPY'\u001b[0m\u001b[0;34m,\u001b[0m \u001b[0;36m1\u001b[0m\u001b[0;34m)\u001b[0m\u001b[0;34m\u001b[0m\u001b[0m\n",
      "\u001b[0;32m~/data/applications/anaconda3/envs/openforcefield/lib/python3.6/site-packages/parmed/amber/_amberparm.py\u001b[0m in \u001b[0;36mremake_parm\u001b[0;34m(self)\u001b[0m\n\u001b[1;32m    678\u001b[0m         \u001b[0mself\u001b[0m\u001b[0;34m.\u001b[0m\u001b[0m_xfer_atom_info\u001b[0m\u001b[0;34m(\u001b[0m\u001b[0;34m)\u001b[0m\u001b[0;34m\u001b[0m\u001b[0m\n\u001b[1;32m    679\u001b[0m         \u001b[0mself\u001b[0m\u001b[0;34m.\u001b[0m\u001b[0m_xfer_residue_info\u001b[0m\u001b[0;34m(\u001b[0m\u001b[0;34m)\u001b[0m\u001b[0;34m\u001b[0m\u001b[0m\n\u001b[0;32m--> 680\u001b[0;31m         \u001b[0mself\u001b[0m\u001b[0;34m.\u001b[0m\u001b[0m_xfer_bond_info\u001b[0m\u001b[0;34m(\u001b[0m\u001b[0;34m)\u001b[0m\u001b[0;34m\u001b[0m\u001b[0m\n\u001b[0m\u001b[1;32m    681\u001b[0m         \u001b[0mself\u001b[0m\u001b[0;34m.\u001b[0m\u001b[0m_xfer_angle_info\u001b[0m\u001b[0;34m(\u001b[0m\u001b[0;34m)\u001b[0m\u001b[0;34m\u001b[0m\u001b[0m\n\u001b[1;32m    682\u001b[0m         \u001b[0mself\u001b[0m\u001b[0;34m.\u001b[0m\u001b[0m_xfer_dihedral_info\u001b[0m\u001b[0;34m(\u001b[0m\u001b[0;34m)\u001b[0m\u001b[0;34m\u001b[0m\u001b[0m\n",
      "\u001b[0;32m~/data/applications/anaconda3/envs/openforcefield/lib/python3.6/site-packages/parmed/amber/_amberparm.py\u001b[0m in \u001b[0;36m_xfer_bond_info\u001b[0;34m(self)\u001b[0m\n\u001b[1;32m   1559\u001b[0m             \u001b[0mbond_type\u001b[0m\u001b[0;34m.\u001b[0m\u001b[0mused\u001b[0m \u001b[0;34m=\u001b[0m \u001b[0;32mFalse\u001b[0m\u001b[0;34m\u001b[0m\u001b[0m\n\u001b[1;32m   1560\u001b[0m         \u001b[0;32mfor\u001b[0m \u001b[0mbond\u001b[0m \u001b[0;32min\u001b[0m \u001b[0mself\u001b[0m\u001b[0;34m.\u001b[0m\u001b[0mbonds\u001b[0m\u001b[0;34m:\u001b[0m\u001b[0;34m\u001b[0m\u001b[0m\n\u001b[0;32m-> 1561\u001b[0;31m             \u001b[0mbond\u001b[0m\u001b[0;34m.\u001b[0m\u001b[0mtype\u001b[0m\u001b[0;34m.\u001b[0m\u001b[0mused\u001b[0m \u001b[0;34m=\u001b[0m \u001b[0;32mTrue\u001b[0m\u001b[0;34m\u001b[0m\u001b[0m\n\u001b[0m\u001b[1;32m   1562\u001b[0m         \u001b[0mself\u001b[0m\u001b[0;34m.\u001b[0m\u001b[0mbond_types\u001b[0m\u001b[0;34m.\u001b[0m\u001b[0mprune_unused\u001b[0m\u001b[0;34m(\u001b[0m\u001b[0;34m)\u001b[0m\u001b[0;34m\u001b[0m\u001b[0m\n\u001b[1;32m   1563\u001b[0m         \u001b[0mdata\u001b[0m\u001b[0;34m[\u001b[0m\u001b[0;34m'BOND_FORCE_CONSTANT'\u001b[0m\u001b[0;34m]\u001b[0m \u001b[0;34m=\u001b[0m \u001b[0;34m[\u001b[0m\u001b[0mtype\u001b[0m\u001b[0;34m.\u001b[0m\u001b[0mk\u001b[0m \u001b[0;32mfor\u001b[0m \u001b[0mtype\u001b[0m \u001b[0;32min\u001b[0m \u001b[0mself\u001b[0m\u001b[0;34m.\u001b[0m\u001b[0mbond_types\u001b[0m\u001b[0;34m]\u001b[0m\u001b[0;34m\u001b[0m\u001b[0m\n",
      "\u001b[0;31mAttributeError\u001b[0m: 'NoneType' object has no attribute 'used'"
     ]
    }
   ],
   "source": [
    "structure.save(path + 'bcd-ben-smirnoff.prmtop')"
   ]
  },
  {
   "cell_type": "markdown",
   "metadata": {
    "collapsed": true
   },
   "source": [
    "# Investigate whether the cyclodextrin `OEMol` is correct"
   ]
  },
  {
   "cell_type": "code",
   "execution_count": null,
   "metadata": {
    "ExecuteTime": {
     "end_time": "2017-12-04T23:08:06.777525Z",
     "start_time": "2017-12-04T23:07:35.599Z"
    },
    "collapsed": true
   },
   "outputs": [],
   "source": [
    "bcd = mols[0]"
   ]
  },
  {
   "cell_type": "code",
   "execution_count": null,
   "metadata": {
    "ExecuteTime": {
     "end_time": "2017-12-04T23:08:06.778587Z",
     "start_time": "2017-12-04T23:07:35.602Z"
    }
   },
   "outputs": [],
   "source": [
    "from openeye.oedepict import *\n",
    "OEPrepareDepiction(bcd)"
   ]
  },
  {
   "cell_type": "code",
   "execution_count": null,
   "metadata": {
    "ExecuteTime": {
     "end_time": "2017-12-04T23:08:06.779704Z",
     "start_time": "2017-12-04T23:07:35.604Z"
    }
   },
   "outputs": [],
   "source": [
    "OERenderMolecule(path + \"bcd.png\", bcd)\n",
    "from IPython.display import Image\n",
    "Image(path + \"bcd.png\")"
   ]
  },
  {
   "cell_type": "markdown",
   "metadata": {},
   "source": [
    "This seems okay."
   ]
  },
  {
   "cell_type": "code",
   "execution_count": 62,
   "metadata": {
    "ExecuteTime": {
     "end_time": "2017-12-04T23:08:16.440338Z",
     "start_time": "2017-12-04T23:08:16.435874Z"
    }
   },
   "outputs": [
    {
     "data": {
      "text/plain": [
       "AtomList([\n",
       "\t<Atom C1 [0]; In MGO 0>\n",
       "\t<Atom H1 [1]; In MGO 0>\n",
       "\t<Atom O1 [2]; In MGO 0>\n",
       "\t<Atom C2 [3]; In MGO 0>\n",
       "\t<Atom H2 [4]; In MGO 0>\n",
       "\t<Atom O2 [5]; In MGO 0>\n",
       "\t<Atom HO2 [6]; In MGO 0>\n",
       "\t<Atom C3 [7]; In MGO 0>\n",
       "\t<Atom H3 [8]; In MGO 0>\n",
       "\t<Atom O3 [9]; In MGO 0>\n",
       "\t<Atom HO3 [10]; In MGO 0>\n",
       "\t<Atom C4 [11]; In MGO 0>\n",
       "\t<Atom H4 [12]; In MGO 0>\n",
       "\t<Atom C5 [13]; In MGO 0>\n",
       "\t<Atom H5 [14]; In MGO 0>\n",
       "\t<Atom O5 [15]; In MGO 0>\n",
       "\t<Atom C6 [16]; In MGO 0>\n",
       "\t<Atom H61 [17]; In MGO 0>\n",
       "\t<Atom H62 [18]; In MGO 0>\n",
       "\t<Atom O6 [19]; In MGO 0>\n",
       "\t<Atom HO6 [20]; In MGO 0>\n",
       "\t<Atom C1 [21]; In MGO 1>\n",
       "\t<Atom H1 [22]; In MGO 1>\n",
       "\t<Atom O1 [23]; In MGO 1>\n",
       "\t...\n",
       "\t<Atom H1 [6799]; In HOH 2229>\n",
       "\t<Atom H2 [6800]; In HOH 2229>\n",
       "\t<Atom O [6801]; In HOH 2230>\n",
       "\t<Atom H1 [6802]; In HOH 2230>\n",
       "\t<Atom H2 [6803]; In HOH 2230>\n",
       "])"
      ]
     },
     "execution_count": 62,
     "metadata": {},
     "output_type": "execute_result"
    }
   ],
   "source": [
    "structure.atoms"
   ]
  },
  {
   "cell_type": "code",
   "execution_count": 63,
   "metadata": {
    "ExecuteTime": {
     "end_time": "2017-12-04T23:08:22.376944Z",
     "start_time": "2017-12-04T23:08:22.371543Z"
    }
   },
   "outputs": [
    {
     "data": {
      "text/plain": [
       "TrackedList([\n",
       "\t<BondType; k=340.000, req=1.090>\n",
       "\t<BondType; k=320.000, req=1.370>\n",
       "\t<BondType; k=310.000, req=1.526>\n",
       "\t<BondType; k=320.000, req=1.410>\n",
       "\t<BondType; k=553.000, req=0.960>\n",
       "\t<BondType; k=469.000, req=1.400>\n",
       "\t<BondType; k=367.000, req=1.080>\n",
       "\t<BondType; k=410.000, req=1.450>\n",
       "\t<BondType; k=656.000, req=1.250>\n",
       "])"
      ]
     },
     "execution_count": 63,
     "metadata": {},
     "output_type": "execute_result"
    }
   ],
   "source": [
    "structure.bond_types"
   ]
  },
  {
   "cell_type": "code",
   "execution_count": 64,
   "metadata": {
    "ExecuteTime": {
     "end_time": "2017-12-04T23:08:26.918667Z",
     "start_time": "2017-12-04T23:08:26.914802Z"
    },
    "scrolled": true
   },
   "outputs": [
    {
     "data": {
      "text/plain": [
       "TrackedList([\n",
       "\t<Bond <Atom H1 [175]; In HOH 21>--<Atom O [174]; In HOH 21>; type=None>\n",
       "\t<Bond <Atom H2 [176]; In HOH 21>--<Atom O [174]; In HOH 21>; type=None>\n",
       "\t<Bond <Atom H1 [178]; In HOH 22>--<Atom O [177]; In HOH 22>; type=None>\n",
       "\t<Bond <Atom H2 [179]; In HOH 22>--<Atom O [177]; In HOH 22>; type=None>\n",
       "\t<Bond <Atom H1 [181]; In HOH 23>--<Atom O [180]; In HOH 23>; type=None>\n",
       "\t<Bond <Atom H2 [182]; In HOH 23>--<Atom O [180]; In HOH 23>; type=None>\n",
       "\t<Bond <Atom H1 [184]; In HOH 24>--<Atom O [183]; In HOH 24>; type=None>\n",
       "\t<Bond <Atom H2 [185]; In HOH 24>--<Atom O [183]; In HOH 24>; type=None>\n",
       "\t<Bond <Atom H1 [187]; In HOH 25>--<Atom O [186]; In HOH 25>; type=None>\n",
       "\t<Bond <Atom H2 [188]; In HOH 25>--<Atom O [186]; In HOH 25>; type=None>\n",
       "\t<Bond <Atom H1 [190]; In HOH 26>--<Atom O [189]; In HOH 26>; type=None>\n",
       "\t<Bond <Atom H2 [191]; In HOH 26>--<Atom O [189]; In HOH 26>; type=None>\n",
       "\t<Bond <Atom H1 [193]; In HOH 27>--<Atom O [192]; In HOH 27>; type=None>\n",
       "\t<Bond <Atom H2 [194]; In HOH 27>--<Atom O [192]; In HOH 27>; type=None>\n",
       "\t<Bond <Atom H1 [196]; In HOH 28>--<Atom O [195]; In HOH 28>; type=None>\n",
       "\t<Bond <Atom H2 [197]; In HOH 28>--<Atom O [195]; In HOH 28>; type=None>\n",
       "\t<Bond <Atom H1 [199]; In HOH 29>--<Atom O [198]; In HOH 29>; type=None>\n",
       "\t<Bond <Atom H2 [200]; In HOH 29>--<Atom O [198]; In HOH 29>; type=None>\n",
       "\t<Bond <Atom H1 [202]; In HOH 30>--<Atom O [201]; In HOH 30>; type=None>\n",
       "\t<Bond <Atom H2 [203]; In HOH 30>--<Atom O [201]; In HOH 30>; type=None>\n",
       "\t<Bond <Atom H1 [205]; In HOH 31>--<Atom O [204]; In HOH 31>; type=None>\n",
       "\t<Bond <Atom H2 [206]; In HOH 31>--<Atom O [204]; In HOH 31>; type=None>\n",
       "\t<Bond <Atom H1 [208]; In HOH 32>--<Atom O [207]; In HOH 32>; type=None>\n",
       "\t<Bond <Atom H2 [209]; In HOH 32>--<Atom O [207]; In HOH 32>; type=None>\n",
       "\t...\n",
       "\t<Bond <Atom C5 [154]; In BEN 7>--<Atom H4 [155]; In BEN 7>; type=<BondType; k=367.000, req=1.080>>\n",
       "\t<Bond <Atom C5 [154]; In BEN 7>--<Atom C6 [156]; In BEN 7>; type=<BondType; k=469.000, req=1.400>>\n",
       "\t<Bond <Atom C6 [156]; In BEN 7>--<Atom H5 [157]; In BEN 7>; type=<BondType; k=367.000, req=1.080>>\n",
       "\t<Bond <Atom C7 [158]; In BEN 7>--<Atom O1 [159]; In BEN 7>; type=<BondType; k=656.000, req=1.250>>\n",
       "\t<Bond <Atom C7 [158]; In BEN 7>--<Atom O2 [160]; In BEN 7>; type=<BondType; k=656.000, req=1.250>>\n",
       "])"
      ]
     },
     "execution_count": 64,
     "metadata": {},
     "output_type": "execute_result"
    }
   ],
   "source": [
    "structure.bonds"
   ]
  },
  {
   "cell_type": "code",
   "execution_count": 68,
   "metadata": {
    "ExecuteTime": {
     "end_time": "2017-12-04T23:09:41.527732Z",
     "start_time": "2017-12-04T23:09:41.525048Z"
    }
   },
   "outputs": [],
   "source": [
    "bonds = structure.bonds"
   ]
  },
  {
   "cell_type": "code",
   "execution_count": 80,
   "metadata": {
    "ExecuteTime": {
     "end_time": "2017-12-04T23:48:20.043437Z",
     "start_time": "2017-12-04T23:48:20.040799Z"
    }
   },
   "outputs": [],
   "source": [
    "atoms = structure.atoms"
   ]
  },
  {
   "cell_type": "code",
   "execution_count": 90,
   "metadata": {
    "ExecuteTime": {
     "end_time": "2017-12-04T23:50:20.110829Z",
     "start_time": "2017-12-04T23:50:20.067921Z"
    }
   },
   "outputs": [
    {
     "name": "stdout",
     "output_type": "stream",
     "text": [
      "<Atom Na+ [161]; In Na+ 8> []\n",
      "<Atom Na+ [162]; In Na+ 9> []\n",
      "<Atom Na+ [163]; In Na+ 10> []\n",
      "<Atom Na+ [164]; In Na+ 11> []\n",
      "<Atom Na+ [165]; In Na+ 12> []\n",
      "<Atom Na+ [166]; In Na+ 13> []\n",
      "<Atom Na+ [167]; In Na+ 14> []\n",
      "<Atom Cl- [168]; In Cl- 15> []\n",
      "<Atom Cl- [169]; In Cl- 16> []\n",
      "<Atom Cl- [170]; In Cl- 17> []\n",
      "<Atom Cl- [171]; In Cl- 18> []\n",
      "<Atom Cl- [172]; In Cl- 19> []\n",
      "<Atom Cl- [173]; In Cl- 20> []\n"
     ]
    }
   ],
   "source": [
    "for atom in atoms:\n",
    "    if len(atom.bond_partners) == 0:\n",
    "        print(atom, atom.bond_partners)\n",
    "    if atom.bond_partners is None:\n",
    "        print(atom, atom.bond_partners)"
   ]
  },
  {
   "cell_type": "code",
   "execution_count": 95,
   "metadata": {
    "ExecuteTime": {
     "end_time": "2017-12-05T01:10:17.265751Z",
     "start_time": "2017-12-05T01:10:17.259912Z"
    }
   },
   "outputs": [
    {
     "data": {
      "text/plain": [
       "'2.7.3'"
      ]
     },
     "execution_count": 95,
     "metadata": {},
     "output_type": "execute_result"
    }
   ],
   "source": [
    "pmd.__version__"
   ]
  },
  {
   "cell_type": "code",
   "execution_count": null,
   "metadata": {
    "collapsed": true
   },
   "outputs": [],
   "source": []
  }
 ],
 "metadata": {
  "_draft": {
   "nbviewer_url": "https://gist.github.com/011f2438aada32f1bf16bdec57d9722c"
  },
  "gist": {
   "data": {
    "description": "host-guest-example.ipynb",
    "public": true
   },
   "id": "011f2438aada32f1bf16bdec57d9722c"
  },
  "kernelspec": {
   "display_name": "Python [conda env:openforcefield]",
   "language": "python",
   "name": "conda-env-openforcefield-py"
  },
  "language_info": {
   "codemirror_mode": {
    "name": "ipython",
    "version": 3
   },
   "file_extension": ".py",
   "mimetype": "text/x-python",
   "name": "python",
   "nbconvert_exporter": "python",
   "pygments_lexer": "ipython3",
   "version": "3.6.1"
  }
 },
 "nbformat": 4,
 "nbformat_minor": 2
}
