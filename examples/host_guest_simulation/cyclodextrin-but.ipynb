{
 "cells": [
  {
   "cell_type": "markdown",
   "metadata": {},
   "source": [
    "# How to build an AMBER-compatible host-guest complex using the SMIRNOFF force field starting with SYBYL-formatted `mol2` files"
   ]
  },
  {
   "cell_type": "code",
   "execution_count": 65,
   "metadata": {
    "ExecuteTime": {
     "end_time": "2017-12-04T20:18:51.988323Z",
     "start_time": "2017-12-04T20:18:51.983240Z"
    },
    "collapsed": true
   },
   "outputs": [],
   "source": [
    "import parmed as pmd\n",
    "import subprocess as sp\n",
    "import numpy as np\n",
    "\n",
    "from openeye import oechem\n",
    "from openforcefield.typing.engines.smirnoff import *\n",
    "from pdbfixer import PDBFixer"
   ]
  },
  {
   "cell_type": "markdown",
   "metadata": {},
   "source": [
    "## Step 0: generate SYBYL-formatted `mol2` files\n",
    "\n",
    "Starting with files containing AM1-BCC charges and GAFF v1.7 Lennard-Jones and bonded parameters:\n",
    "\n",
    "```\n",
    "antechamber -i bcd.mol2 -fi mol2 -o bcd-sybyl.mol2 -fo mol2 -at sybyl\n",
    "antechamber -i ben.mol2 -fi mol2 -o ben-sybyl.mol2 -fo mol2 -at sybyl -dr n \n",
    "# Disable `acdoctor` to handle carboxylate group\n",
    "```"
   ]
  },
  {
   "cell_type": "code",
   "execution_count": 66,
   "metadata": {
    "ExecuteTime": {
     "end_time": "2017-12-04T20:18:53.427638Z",
     "start_time": "2017-12-04T20:18:53.423244Z"
    },
    "collapsed": true
   },
   "outputs": [],
   "source": [
    "path = './bcd-ben/'\n",
    "bcd = path + 'bcd-sybyl.mol2'\n",
    "ben = path + 'ben-sybyl.mol2'"
   ]
  },
  {
   "cell_type": "code",
   "execution_count": 67,
   "metadata": {
    "ExecuteTime": {
     "end_time": "2017-12-04T20:18:53.799483Z",
     "start_time": "2017-12-04T20:18:53.678953Z"
    }
   },
   "outputs": [
    {
     "name": "stdout",
     "output_type": "stream",
     "text": [
      "==> ./bcd-ben/bcd.mol2 <==\r\n",
      "@<TRIPOS>MOLECULE\r\n",
      "Cpptraj generated mol2 file.\r\n",
      "  147   154     7     0     0\r\n",
      "SMALL\r\n",
      "USER_CHARGES\r\n",
      "\r\n",
      "\r\n",
      "@<TRIPOS>ATOM\r\n",
      "      1 C1         16.6428   14.6231   33.9447 c3         1 MGO      0.304529\r\n",
      "      2 H1         15.6508   14.1481   33.8157 h2         1 MGO      0.090782\r\n",
      "\r\n",
      "==> ./bcd-ben/bcd-sybyl.mol2 <==\r\n",
      "@<TRIPOS>MOLECULE\r\n",
      "Cpptraj\r\n",
      "  147   154     1     0     0\r\n",
      "SMALL\r\n",
      "No Charge or Current Charge\r\n",
      "\r\n",
      "\r\n",
      "@<TRIPOS>ATOM\r\n",
      "      1 C1          16.6430    14.6230    33.9450 C.3        1 MGO       0.304529\r\n",
      "      2 H1          15.6510    14.1480    33.8160 H          1 MGO       0.090782\r\n"
     ]
    }
   ],
   "source": [
    "!head -n 10 './bcd-ben/bcd.mol2' './bcd-ben/bcd-sybyl.mol2' "
   ]
  },
  {
   "cell_type": "code",
   "execution_count": 68,
   "metadata": {
    "ExecuteTime": {
     "end_time": "2017-12-04T20:18:54.197785Z",
     "start_time": "2017-12-04T20:18:54.079152Z"
    }
   },
   "outputs": [
    {
     "name": "stdout",
     "output_type": "stream",
     "text": [
      "==> ./bcd-ben/ben.mol2 <==\r\n",
      "@<TRIPOS>MOLECULE\r\n",
      "Cpptraj generated mol2 file.\r\n",
      "   14    14     1     0     0\r\n",
      "SMALL\r\n",
      "USER_CHARGES\r\n",
      "\r\n",
      "\r\n",
      "@<TRIPOS>ATOM\r\n",
      "      1 C1         19.6968   19.9941   32.6877 ca         1 BEN     -0.161879\r\n",
      "      2 H1         19.6968   19.9941   31.5977 ha         1 BEN      0.097073\r\n",
      "\r\n",
      "==> ./bcd-ben/ben-sybyl.mol2 <==\r\n",
      "@<TRIPOS>MOLECULE\r\n",
      "Cpptraj\r\n",
      "   14    14     1     0     0\r\n",
      "SMALL\r\n",
      "No Charge or Current Charge\r\n",
      "\r\n",
      "\r\n",
      "@<TRIPOS>ATOM\r\n",
      "      1 C1          19.6970    19.9940    32.6880 C.ar       1 BEN      -0.161879\r\n",
      "      2 H1          19.6970    19.9940    31.5980 H          1 BEN       0.097073\r\n"
     ]
    }
   ],
   "source": [
    "!head -n 10 './bcd-ben/ben.mol2' './bcd-ben/ben-sybyl.mol2'"
   ]
  },
  {
   "cell_type": "markdown",
   "metadata": {},
   "source": [
    "## Step 1: load molecules in an `oechem.OEMol`"
   ]
  },
  {
   "cell_type": "code",
   "execution_count": 69,
   "metadata": {
    "ExecuteTime": {
     "end_time": "2017-12-04T20:18:56.468209Z",
     "start_time": "2017-12-04T20:18:56.463150Z"
    }
   },
   "outputs": [],
   "source": [
    "mols = []\n",
    "ifs = oechem.oemolistream(bcd)\n",
    "for mol in ifs.GetOEGraphMols():\n",
    "    mols.append(oechem.OEMol(mol))"
   ]
  },
  {
   "cell_type": "markdown",
   "metadata": {},
   "source": [
    "## Step 1.5: since `bcd` is a cyclic molecule, let's write a version without connectivity and then have OpenEye perceive connectivity based on [this issue](https://github.com/openforcefield/openforcefield/issues/66)"
   ]
  },
  {
   "cell_type": "code",
   "execution_count": 70,
   "metadata": {
    "ExecuteTime": {
     "end_time": "2017-12-04T20:18:57.318515Z",
     "start_time": "2017-12-04T20:18:57.311235Z"
    }
   },
   "outputs": [],
   "source": [
    "ofs = oechem.oemolostream()\n",
    "ofs.open(path + 'bcd-no-conect.xyz')\n",
    "flavor = oechem.OEOFlavor_Generic_Default\n",
    "ofs.SetFlavor(oechem.OEFormat_XYZ, flavor)\n",
    "oechem.OEWriteXYZFile(ofs, mols[0])\n",
    "ofs.close()"
   ]
  },
  {
   "cell_type": "code",
   "execution_count": 71,
   "metadata": {
    "ExecuteTime": {
     "end_time": "2017-12-04T20:18:57.686200Z",
     "start_time": "2017-12-04T20:18:57.679776Z"
    },
    "collapsed": true
   },
   "outputs": [],
   "source": [
    "ifs = oechem.oemolistream(path + 'bcd-no-conect.xyz')\n",
    "for mol in ifs.GetOEGraphMols():\n",
    "    oechem.OEDetermineConnectivity(mol)\n",
    "    oechem.OEPerceiveBondOrders(mol)\n",
    "    # Replace existing cyclodextrin\n",
    "    mols[0] = oechem.OEMol(mol)"
   ]
  },
  {
   "cell_type": "code",
   "execution_count": 72,
   "metadata": {
    "ExecuteTime": {
     "end_time": "2017-12-04T20:18:58.483121Z",
     "start_time": "2017-12-04T20:18:58.479282Z"
    },
    "collapsed": true
   },
   "outputs": [],
   "source": [
    "ifs = oechem.oemolistream(ben)\n",
    "for mol in ifs.GetOEGraphMols():\n",
    "    mols.append(oechem.OEMol(mol))"
   ]
  },
  {
   "cell_type": "markdown",
   "metadata": {},
   "source": [
    "## Step 2: build reference molecules for water and ions"
   ]
  },
  {
   "cell_type": "code",
   "execution_count": 73,
   "metadata": {
    "ExecuteTime": {
     "end_time": "2017-12-04T20:18:59.655714Z",
     "start_time": "2017-12-04T20:18:59.647040Z"
    },
    "collapsed": true
   },
   "outputs": [],
   "source": [
    "smiles = ['[Na+]', '[Cl-]', 'O']\n",
    "for molecule in smiles:\n",
    "    mol = oechem.OEMol()\n",
    "    oechem.OESmilesToMol(mol, molecule)\n",
    "    for atom in mol.GetAtoms():\n",
    "        atom.SetPartialCharge(atom.GetFormalCharge())\n",
    "    oechem.OEAddExplicitHydrogens(mol)\n",
    "    oechem.OETriposAtomNames(mol)\n",
    "    mols.append(mol)"
   ]
  },
  {
   "cell_type": "markdown",
   "metadata": {},
   "source": [
    "## Step 3: read in fully solvated system with host, guest, water, and ions"
   ]
  },
  {
   "cell_type": "markdown",
   "metadata": {
    "collapsed": true
   },
   "source": [
    "### Step 3.1: create a PDB of the system with CONECT records\n",
    "This requires using the \"original\" `mol2` files with GAFF atom names."
   ]
  },
  {
   "cell_type": "code",
   "execution_count": 74,
   "metadata": {
    "ExecuteTime": {
     "end_time": "2017-12-04T20:19:10.995500Z",
     "start_time": "2017-12-04T20:19:10.990658Z"
    },
    "collapsed": true
   },
   "outputs": [],
   "source": [
    "solvated_pdb = 'bcd-ben.pdb'\n",
    "amber_prmtop = 'solvated.prmtop'\n",
    "pdb_with_conect = 'bcd-ben-conect.pdb'\n",
    "cpptraj_input = 'bcd-ben-conect.in'\n",
    "\n",
    "cpptraj = \\\n",
    "'''\n",
    "parm {}\n",
    "trajin {}\n",
    "trajout {} conect\n",
    "'''.format(amber_prmtop, solvated_pdb, pdb_with_conect)"
   ]
  },
  {
   "cell_type": "code",
   "execution_count": 75,
   "metadata": {
    "ExecuteTime": {
     "end_time": "2017-12-04T20:19:16.722810Z",
     "start_time": "2017-12-04T20:19:16.719281Z"
    },
    "collapsed": true
   },
   "outputs": [],
   "source": [
    "with open(path + cpptraj_input, 'w') as file:\n",
    "    file.write(cpptraj)"
   ]
  },
  {
   "cell_type": "code",
   "execution_count": 76,
   "metadata": {
    "ExecuteTime": {
     "end_time": "2017-12-04T20:19:17.064048Z",
     "start_time": "2017-12-04T20:19:17.008294Z"
    },
    "collapsed": true
   },
   "outputs": [],
   "source": [
    "cpptraj_output = sp.check_output(['cpptraj', '-i', cpptraj_input], cwd=path)"
   ]
  },
  {
   "cell_type": "markdown",
   "metadata": {},
   "source": [
    "### Step 3.2: prune the CONECT records that correspond specifically to water molecules"
   ]
  },
  {
   "cell_type": "code",
   "execution_count": 77,
   "metadata": {
    "ExecuteTime": {
     "end_time": "2017-12-04T20:19:23.838647Z",
     "start_time": "2017-12-04T20:19:23.823401Z"
    },
    "collapsed": true
   },
   "outputs": [],
   "source": [
    "first_water = sp.check_output(['grep', '-m 1', 'WAT', pdb_with_conect], cwd=path).decode(\"utf-8\") "
   ]
  },
  {
   "cell_type": "code",
   "execution_count": 78,
   "metadata": {
    "ExecuteTime": {
     "end_time": "2017-12-04T20:19:24.451969Z",
     "start_time": "2017-12-04T20:19:24.447875Z"
    }
   },
   "outputs": [
    {
     "name": "stdout",
     "output_type": "stream",
     "text": [
      "First water residue = 175\n"
     ]
    }
   ],
   "source": [
    "first_water_residue = int(float(first_water.split()[1]))\n",
    "print('First water residue = {}'.format(first_water_residue))"
   ]
  },
  {
   "cell_type": "code",
   "execution_count": 79,
   "metadata": {
    "ExecuteTime": {
     "end_time": "2017-12-04T20:19:26.784860Z",
     "start_time": "2017-12-04T20:19:26.767241Z"
    }
   },
   "outputs": [],
   "source": [
    "line_of_first_conect_to_delete = sp.check_output(['egrep', '-n', 'CONECT [ ]* {}'.format(str(first_water_residue)), \n",
    "                                                  pdb_with_conect], cwd=path).decode(\"utf-8\")"
   ]
  },
  {
   "cell_type": "code",
   "execution_count": 81,
   "metadata": {
    "ExecuteTime": {
     "end_time": "2017-12-04T20:19:36.692251Z",
     "start_time": "2017-12-04T20:19:36.687707Z"
    }
   },
   "outputs": [
    {
     "name": "stdout",
     "output_type": "stream",
     "text": [
      "Found first water CONECT entry at line = 9192\n"
     ]
    }
   ],
   "source": [
    "line_to_delete_from = int(float(line_of_first_conect_to_delete.split(':')[0]))\n",
    "print('Found first water CONECT entry at line = {}'.format(line_to_delete_from))"
   ]
  },
  {
   "cell_type": "code",
   "execution_count": 82,
   "metadata": {
    "ExecuteTime": {
     "end_time": "2017-12-04T20:19:38.786039Z",
     "start_time": "2017-12-04T20:19:38.767479Z"
    }
   },
   "outputs": [],
   "source": [
    "truncated_file = sp.check_output(['awk', 'NR < {}'.format(line_to_delete_from), pdb_with_conect], cwd=path).decode(\"utf-8\")"
   ]
  },
  {
   "cell_type": "code",
   "execution_count": 87,
   "metadata": {
    "ExecuteTime": {
     "end_time": "2017-12-04T20:26:01.748430Z",
     "start_time": "2017-12-04T20:26:01.728443Z"
    }
   },
   "outputs": [
    {
     "data": {
      "text/plain": [
       "b''"
      ]
     },
     "execution_count": 87,
     "metadata": {},
     "output_type": "execute_result"
    }
   ],
   "source": [
    "file = open(path + 'tmp.pdb', 'w')\n",
    "file.write(truncated_file)\n",
    "file.write(\"END\")\n",
    "file.close()\n",
    "p = sp.check_output(['mv', 'tmp.pdb', '{}'.format(pdb_with_conect)], cwd=path)"
   ]
  },
  {
   "cell_type": "code",
   "execution_count": 88,
   "metadata": {
    "ExecuteTime": {
     "end_time": "2017-12-04T20:26:08.074301Z",
     "start_time": "2017-12-04T20:26:07.263340Z"
    }
   },
   "outputs": [],
   "source": [
    "pdb = PDBFixer(path + pdb_with_conect)"
   ]
  },
  {
   "cell_type": "code",
   "execution_count": 90,
   "metadata": {
    "ExecuteTime": {
     "end_time": "2017-12-04T20:26:12.260945Z",
     "start_time": "2017-12-04T20:26:12.256660Z"
    }
   },
   "outputs": [],
   "source": [
    "# residues = [r.name for r in pdb.topology.residues()]\n",
    "# print(residues)"
   ]
  },
  {
   "cell_type": "code",
   "execution_count": 92,
   "metadata": {
    "ExecuteTime": {
     "end_time": "2017-12-04T20:26:21.620949Z",
     "start_time": "2017-12-04T20:26:21.616254Z"
    }
   },
   "outputs": [],
   "source": [
    "# names = [a.name for a in pdb.topology.atoms()]\n",
    "# print(names)"
   ]
  },
  {
   "cell_type": "markdown",
   "metadata": {},
   "source": [
    "## Step 4: create a ParmEd structure"
   ]
  },
  {
   "cell_type": "code",
   "execution_count": 101,
   "metadata": {
    "ExecuteTime": {
     "end_time": "2017-12-04T20:40:51.331410Z",
     "start_time": "2017-12-04T20:40:46.735494Z"
    }
   },
   "outputs": [],
   "source": [
    "ff = ForceField('forcefield/smirnoff99Frosst.ffxml', 'forcefield/tip3p.ffxml') \n",
    "system = ff.createSystem(pdb.topology, \n",
    "                         mols)\n",
    "integrator = openmm.VerletIntegrator(1.0 * unit.femtoseconds)\n",
    "context = openmm.Context(system, integrator)\n",
    "context.setPositions(pdb.positions)"
   ]
  },
  {
   "cell_type": "markdown",
   "metadata": {},
   "source": [
    "## Step 5: save the ParmEd structure as a `.prmtop` file"
   ]
  },
  {
   "cell_type": "code",
   "execution_count": 102,
   "metadata": {
    "ExecuteTime": {
     "end_time": "2017-12-04T20:40:53.598539Z",
     "start_time": "2017-12-04T20:40:52.463353Z"
    },
    "scrolled": true
   },
   "outputs": [],
   "source": [
    "structure = pmd.openmm.topsystem.load_topology(pdb.topology, system, pdb.positions)"
   ]
  },
  {
   "cell_type": "code",
   "execution_count": 104,
   "metadata": {
    "ExecuteTime": {
     "end_time": "2017-12-04T20:41:38.436227Z",
     "start_time": "2017-12-04T20:41:14.946130Z"
    }
   },
   "outputs": [
    {
     "ename": "AttributeError",
     "evalue": "'NoneType' object has no attribute 'used'",
     "output_type": "error",
     "traceback": [
      "\u001b[0;31m---------------------------------------------------------------------------\u001b[0m",
      "\u001b[0;31mAttributeError\u001b[0m                            Traceback (most recent call last)",
      "\u001b[0;32m<ipython-input-104-3f16fadfe87f>\u001b[0m in \u001b[0;36m<module>\u001b[0;34m()\u001b[0m\n\u001b[0;32m----> 1\u001b[0;31m \u001b[0mstructure\u001b[0m\u001b[0;34m.\u001b[0m\u001b[0msave\u001b[0m\u001b[0;34m(\u001b[0m\u001b[0mpath\u001b[0m \u001b[0;34m+\u001b[0m \u001b[0;34m'bcd-ben-smirnoff.prmtop'\u001b[0m\u001b[0;34m)\u001b[0m\u001b[0;34m\u001b[0m\u001b[0m\n\u001b[0m",
      "\u001b[0;32m~/data/applications/anaconda3/envs/openforcefield/lib/python3.6/site-packages/parmed/structure.py\u001b[0m in \u001b[0;36msave\u001b[0;34m(self, fname, format, overwrite, **kwargs)\u001b[0m\n\u001b[1;32m   1531\u001b[0m                 \u001b[0;32melse\u001b[0m\u001b[0;34m:\u001b[0m\u001b[0;34m\u001b[0m\u001b[0m\n\u001b[1;32m   1532\u001b[0m                     \u001b[0;32mtry\u001b[0m\u001b[0;34m:\u001b[0m\u001b[0;34m\u001b[0m\u001b[0m\n\u001b[0;32m-> 1533\u001b[0;31m                         \u001b[0ms\u001b[0m \u001b[0;34m=\u001b[0m \u001b[0mamber\u001b[0m\u001b[0;34m.\u001b[0m\u001b[0mAmberParm\u001b[0m\u001b[0;34m.\u001b[0m\u001b[0mfrom_structure\u001b[0m\u001b[0;34m(\u001b[0m\u001b[0mself\u001b[0m\u001b[0;34m)\u001b[0m\u001b[0;34m\u001b[0m\u001b[0m\n\u001b[0m\u001b[1;32m   1534\u001b[0m                     \u001b[0;32mexcept\u001b[0m \u001b[0mTypeError\u001b[0m \u001b[0;32mas\u001b[0m \u001b[0me\u001b[0m\u001b[0;34m:\u001b[0m\u001b[0;34m\u001b[0m\u001b[0m\n\u001b[1;32m   1535\u001b[0m                         \u001b[0;32mif\u001b[0m \u001b[0;34m'Cannot translate exceptions'\u001b[0m \u001b[0;32min\u001b[0m \u001b[0mstr\u001b[0m\u001b[0;34m(\u001b[0m\u001b[0me\u001b[0m\u001b[0;34m)\u001b[0m\u001b[0;34m:\u001b[0m\u001b[0;34m\u001b[0m\u001b[0m\n",
      "\u001b[0;32m~/data/applications/anaconda3/envs/openforcefield/lib/python3.6/site-packages/parmed/amber/_amberparm.py\u001b[0m in \u001b[0;36mfrom_structure\u001b[0;34m(cls, struct, copy)\u001b[0m\n\u001b[1;32m    381\u001b[0m                 \u001b[0mdt\u001b[0m\u001b[0;34m.\u001b[0m\u001b[0mphi_k\u001b[0m \u001b[0;34m=\u001b[0m \u001b[0;36m0.0\u001b[0m\u001b[0;34m\u001b[0m\u001b[0m\n\u001b[1;32m    382\u001b[0m                 \u001b[0mdt\u001b[0m\u001b[0;34m.\u001b[0m\u001b[0mper\u001b[0m \u001b[0;34m=\u001b[0m \u001b[0;36m1.0\u001b[0m\u001b[0;34m\u001b[0m\u001b[0m\n\u001b[0;32m--> 383\u001b[0;31m         \u001b[0minst\u001b[0m\u001b[0;34m.\u001b[0m\u001b[0mremake_parm\u001b[0m\u001b[0;34m(\u001b[0m\u001b[0;34m)\u001b[0m\u001b[0;34m\u001b[0m\u001b[0m\n\u001b[0m\u001b[1;32m    384\u001b[0m         \u001b[0minst\u001b[0m\u001b[0;34m.\u001b[0m\u001b[0m_set_nonbonded_tables\u001b[0m\u001b[0;34m(\u001b[0m\u001b[0mnbfixes\u001b[0m\u001b[0;34m)\u001b[0m\u001b[0;34m\u001b[0m\u001b[0m\n\u001b[1;32m    385\u001b[0m         \u001b[0mn_copy\u001b[0m \u001b[0;34m=\u001b[0m \u001b[0minst\u001b[0m\u001b[0;34m.\u001b[0m\u001b[0mpointers\u001b[0m\u001b[0;34m.\u001b[0m\u001b[0mget\u001b[0m\u001b[0;34m(\u001b[0m\u001b[0;34m'NCOPY'\u001b[0m\u001b[0;34m,\u001b[0m \u001b[0;36m1\u001b[0m\u001b[0;34m)\u001b[0m\u001b[0;34m\u001b[0m\u001b[0m\n",
      "\u001b[0;32m~/data/applications/anaconda3/envs/openforcefield/lib/python3.6/site-packages/parmed/amber/_amberparm.py\u001b[0m in \u001b[0;36mremake_parm\u001b[0;34m(self)\u001b[0m\n\u001b[1;32m    678\u001b[0m         \u001b[0mself\u001b[0m\u001b[0;34m.\u001b[0m\u001b[0m_xfer_atom_info\u001b[0m\u001b[0;34m(\u001b[0m\u001b[0;34m)\u001b[0m\u001b[0;34m\u001b[0m\u001b[0m\n\u001b[1;32m    679\u001b[0m         \u001b[0mself\u001b[0m\u001b[0;34m.\u001b[0m\u001b[0m_xfer_residue_info\u001b[0m\u001b[0;34m(\u001b[0m\u001b[0;34m)\u001b[0m\u001b[0;34m\u001b[0m\u001b[0m\n\u001b[0;32m--> 680\u001b[0;31m         \u001b[0mself\u001b[0m\u001b[0;34m.\u001b[0m\u001b[0m_xfer_bond_info\u001b[0m\u001b[0;34m(\u001b[0m\u001b[0;34m)\u001b[0m\u001b[0;34m\u001b[0m\u001b[0m\n\u001b[0m\u001b[1;32m    681\u001b[0m         \u001b[0mself\u001b[0m\u001b[0;34m.\u001b[0m\u001b[0m_xfer_angle_info\u001b[0m\u001b[0;34m(\u001b[0m\u001b[0;34m)\u001b[0m\u001b[0;34m\u001b[0m\u001b[0m\n\u001b[1;32m    682\u001b[0m         \u001b[0mself\u001b[0m\u001b[0;34m.\u001b[0m\u001b[0m_xfer_dihedral_info\u001b[0m\u001b[0;34m(\u001b[0m\u001b[0;34m)\u001b[0m\u001b[0;34m\u001b[0m\u001b[0m\n",
      "\u001b[0;32m~/data/applications/anaconda3/envs/openforcefield/lib/python3.6/site-packages/parmed/amber/_amberparm.py\u001b[0m in \u001b[0;36m_xfer_bond_info\u001b[0;34m(self)\u001b[0m\n\u001b[1;32m   1559\u001b[0m             \u001b[0mbond_type\u001b[0m\u001b[0;34m.\u001b[0m\u001b[0mused\u001b[0m \u001b[0;34m=\u001b[0m \u001b[0;32mFalse\u001b[0m\u001b[0;34m\u001b[0m\u001b[0m\n\u001b[1;32m   1560\u001b[0m         \u001b[0;32mfor\u001b[0m \u001b[0mbond\u001b[0m \u001b[0;32min\u001b[0m \u001b[0mself\u001b[0m\u001b[0;34m.\u001b[0m\u001b[0mbonds\u001b[0m\u001b[0;34m:\u001b[0m\u001b[0;34m\u001b[0m\u001b[0m\n\u001b[0;32m-> 1561\u001b[0;31m             \u001b[0mbond\u001b[0m\u001b[0;34m.\u001b[0m\u001b[0mtype\u001b[0m\u001b[0;34m.\u001b[0m\u001b[0mused\u001b[0m \u001b[0;34m=\u001b[0m \u001b[0;32mTrue\u001b[0m\u001b[0;34m\u001b[0m\u001b[0m\n\u001b[0m\u001b[1;32m   1562\u001b[0m         \u001b[0mself\u001b[0m\u001b[0;34m.\u001b[0m\u001b[0mbond_types\u001b[0m\u001b[0;34m.\u001b[0m\u001b[0mprune_unused\u001b[0m\u001b[0;34m(\u001b[0m\u001b[0;34m)\u001b[0m\u001b[0;34m\u001b[0m\u001b[0m\n\u001b[1;32m   1563\u001b[0m         \u001b[0mdata\u001b[0m\u001b[0;34m[\u001b[0m\u001b[0;34m'BOND_FORCE_CONSTANT'\u001b[0m\u001b[0;34m]\u001b[0m \u001b[0;34m=\u001b[0m \u001b[0;34m[\u001b[0m\u001b[0mtype\u001b[0m\u001b[0;34m.\u001b[0m\u001b[0mk\u001b[0m \u001b[0;32mfor\u001b[0m \u001b[0mtype\u001b[0m \u001b[0;32min\u001b[0m \u001b[0mself\u001b[0m\u001b[0;34m.\u001b[0m\u001b[0mbond_types\u001b[0m\u001b[0;34m]\u001b[0m\u001b[0;34m\u001b[0m\u001b[0m\n",
      "\u001b[0;31mAttributeError\u001b[0m: 'NoneType' object has no attribute 'used'"
     ]
    }
   ],
   "source": [
    "structure.save(path + 'bcd-ben-smirnoff.prmtop')"
   ]
  },
  {
   "cell_type": "code",
   "execution_count": null,
   "metadata": {
    "collapsed": true
   },
   "outputs": [],
   "source": []
  }
 ],
 "metadata": {
  "_draft": {
   "nbviewer_url": "https://gist.github.com/011f2438aada32f1bf16bdec57d9722c"
  },
  "gist": {
   "data": {
    "description": "host-guest-example.ipynb",
    "public": true
   },
   "id": "011f2438aada32f1bf16bdec57d9722c"
  },
  "kernelspec": {
   "display_name": "Python [conda env:openforcefield]",
   "language": "python",
   "name": "conda-env-openforcefield-py"
  },
  "language_info": {
   "codemirror_mode": {
    "name": "ipython",
    "version": 3
   },
   "file_extension": ".py",
   "mimetype": "text/x-python",
   "name": "python",
   "nbconvert_exporter": "python",
   "pygments_lexer": "ipython3",
   "version": "3.6.1"
  }
 },
 "nbformat": 4,
 "nbformat_minor": 2
}
