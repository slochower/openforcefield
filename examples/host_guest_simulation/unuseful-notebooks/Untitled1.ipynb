{
 "cells": [
  {
   "cell_type": "code",
   "execution_count": 1,
   "metadata": {
    "ExecuteTime": {
     "end_time": "2017-12-14T22:59:08.965674Z",
     "start_time": "2017-12-14T22:59:08.905656Z"
    },
    "collapsed": true
   },
   "outputs": [],
   "source": [
    "from openeye import oechem"
   ]
  },
  {
   "cell_type": "code",
   "execution_count": 2,
   "metadata": {
    "ExecuteTime": {
     "end_time": "2017-12-14T22:59:09.000617Z",
     "start_time": "2017-12-14T22:59:08.967594Z"
    },
    "collapsed": true
   },
   "outputs": [],
   "source": [
    "# From: https://github.com/MobleyLab/benchmarksets/tree/master/input_files/cd-set2\n",
    "# and confirmed with:\n",
    "# curl -s https://cactus.nci.nih.gov/chemical/structure/benzoate/SMILES\n",
    "ben_smiles = '[O-]C(=O)c1ccccc1'"
   ]
  },
  {
   "cell_type": "code",
   "execution_count": 3,
   "metadata": {
    "ExecuteTime": {
     "end_time": "2017-12-14T22:59:09.101677Z",
     "start_time": "2017-12-14T22:59:09.002280Z"
    }
   },
   "outputs": [
    {
     "data": {
      "text/plain": [
       "True"
      ]
     },
     "execution_count": 3,
     "metadata": {},
     "output_type": "execute_result"
    }
   ],
   "source": [
    "mol = oechem.OEMol()\n",
    "oechem.OESmilesToMol(mol, ben_smiles)"
   ]
  },
  {
   "cell_type": "code",
   "execution_count": 4,
   "metadata": {
    "ExecuteTime": {
     "end_time": "2017-12-14T22:59:09.319977Z",
     "start_time": "2017-12-14T22:59:09.103315Z"
    }
   },
   "outputs": [
    {
     "data": {
      "text/plain": [
       "<oechem.OEMol; proxy of <Swig Object of type 'OEMolWrapper *' at 0x7f28f809dd20> >"
      ]
     },
     "execution_count": 4,
     "metadata": {},
     "output_type": "execute_result"
    }
   ],
   "source": [
    "mol"
   ]
  },
  {
   "cell_type": "code",
   "execution_count": null,
   "metadata": {
    "collapsed": true
   },
   "outputs": [],
   "source": []
  }
 ],
 "metadata": {
  "kernelspec": {
   "display_name": "Python [conda env:openforcefield]",
   "language": "python",
   "name": "conda-env-openforcefield-py"
  },
  "language_info": {
   "codemirror_mode": {
    "name": "ipython",
    "version": 3
   },
   "file_extension": ".py",
   "mimetype": "text/x-python",
   "name": "python",
   "nbconvert_exporter": "python",
   "pygments_lexer": "ipython3",
   "version": "3.6.1"
  }
 },
 "nbformat": 4,
 "nbformat_minor": 2
}
