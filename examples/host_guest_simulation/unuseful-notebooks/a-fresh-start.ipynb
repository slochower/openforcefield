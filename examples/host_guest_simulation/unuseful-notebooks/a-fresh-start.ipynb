{
 "cells": [
  {
   "cell_type": "markdown",
   "metadata": {},
   "source": [
    "# A fresh start"
   ]
  },
  {
   "cell_type": "code",
   "execution_count": 17,
   "metadata": {
    "ExecuteTime": {
     "end_time": "2017-12-15T21:33:11.255290Z",
     "start_time": "2017-12-15T21:33:11.247944Z"
    },
    "collapsed": true
   },
   "outputs": [],
   "source": [
    "import parmed as pmd\n",
    "import subprocess as sp\n",
    "import numpy as np\n",
    "\n",
    "from openeye.oechem import *\n",
    "from openeye.oeomega import *\n",
    "from openforcefield.typing.engines.smirnoff import *\n",
    "from pdbfixer import PDBFixer\n",
    "from networkx.algorithms import isomorphism"
   ]
  },
  {
   "cell_type": "markdown",
   "metadata": {},
   "source": [
    "## Step 1\n",
    "\n",
    "Generate beta-cyclodextrin and benzoate[-1] from SMILES strings then grab the charges for these molecules from existing `mol2` files containing AM1-BCC charges."
   ]
  },
  {
   "cell_type": "code",
   "execution_count": 2,
   "metadata": {
    "ExecuteTime": {
     "end_time": "2017-12-15T18:30:59.986562Z",
     "start_time": "2017-12-15T18:30:59.978762Z"
    },
    "collapsed": true
   },
   "outputs": [],
   "source": [
    "bcd_smiles = 'C([C@@H]1[C@@H]2[C@@H]([C@H]([C@H](O1)O[C@@H]3[C@H](O[C@@H]([C@@H]([C@H]3O)O)O[C@@H]4[C@H](O[C@@H]([C@@H]([C@H]4O)O)O[C@@H]5[C@H](O[C@@H]([C@@H]([C@H]5O)O)O[C@@H]6[C@H](O[C@@H]([C@@H]([C@H]6O)O)O[C@@H]7[C@H](O[C@@H]([C@@H]([C@H]7O)O)O[C@@H]8[C@H](O[C@H](O2)[C@@H]([C@H]8O)O)CO)CO)CO)CO)CO)CO)O)O)O'\n",
    "# https://pubchem.ncbi.nlm.nih.gov/compound/517055#section=Top\n",
    "ben_smiles = '[O-]C(=O)c1ccccc1'\n",
    "\n",
    "smiles = [bcd_smiles, ben_smiles]\n",
    "names = ['bcd', 'ben']\n",
    "molecules = [] * len(smiles)"
   ]
  },
  {
   "cell_type": "code",
   "execution_count": 3,
   "metadata": {
    "ExecuteTime": {
     "end_time": "2017-12-15T18:31:00.903166Z",
     "start_time": "2017-12-15T18:31:00.888299Z"
    }
   },
   "outputs": [
    {
     "name": "stdout",
     "output_type": "stream",
     "text": [
      "Canonical isomeric SMILES is C([C@@H]1[C@@H]2[C@@H]([C@H]([C@H](O1)O[C@@H]3[C@H](O[C@@H]([C@@H]([C@H]3O)O)O[C@@H]4[C@H](O[C@@H]([C@@H]([C@H]4O)O)O[C@@H]5[C@H](O[C@@H]([C@@H]([C@H]5O)O)O[C@@H]6[C@H](O[C@@H]([C@@H]([C@H]6O)O)O[C@@H]7[C@H](O[C@@H]([C@@H]([C@H]7O)O)O[C@@H]8[C@H](O[C@H](O2)[C@@H]([C@H]8O)O)CO)CO)CO)CO)CO)CO)O)O)O\n",
      "Canonical isomeric SMILES is c1ccc(cc1)C(=O)[O-]\n"
     ]
    }
   ],
   "source": [
    "for (smile, name) in zip(smiles, names):\n",
    "    mol = oechem.OEMol()\n",
    "    oechem.OESmilesToMol(mol, smile)\n",
    "    print (\"Canonical isomeric SMILES is\", OEMolToSmiles(mol))\n",
    "    oechem.OEAddExplicitHydrogens(mol)\n",
    "    mol.SetTitle(name)\n",
    "    \n",
    "#     omegaOpts = OEOmegaOptions()\n",
    "#     omegaOpts.SetMaxConfs(1)\n",
    "#     omega = OEOmega(omegaOpts)\n",
    "#     omega(mol)\n",
    "    \n",
    "    molecules.append(mol)"
   ]
  },
  {
   "cell_type": "markdown",
   "metadata": {
    "ExecuteTime": {
     "end_time": "2017-12-14T23:00:03.288355Z",
     "start_time": "2017-12-14T23:00:03.276465Z"
    }
   },
   "source": [
    "Instead of using `omega` to generate the structure, which takes a long time or chokes on bcd, I'll grab the coordinates from the `mol2` file."
   ]
  },
  {
   "cell_type": "markdown",
   "metadata": {},
   "source": [
    "## Step 2\n",
    "Make the mapping using **link**..."
   ]
  },
  {
   "cell_type": "code",
   "execution_count": 6,
   "metadata": {
    "ExecuteTime": {
     "end_time": "2017-12-15T18:31:25.406805Z",
     "start_time": "2017-12-15T18:31:25.383048Z"
    },
    "collapsed": true
   },
   "outputs": [],
   "source": [
    "topologies = [] * len(molecules)\n",
    "graphs = [] * len(molecules)\n",
    "\n",
    "for mol in molecules:\n",
    "    topology = generateTopologyFromOEMol(mol)\n",
    "    topologies.append(topology)\n",
    "    \n",
    "    graph = generateGraphFromTopology(topology)\n",
    "    graphs.append(graph)"
   ]
  },
  {
   "cell_type": "code",
   "execution_count": 14,
   "metadata": {
    "ExecuteTime": {
     "end_time": "2017-12-15T20:55:11.449535Z",
     "start_time": "2017-12-15T20:55:11.421448Z"
    }
   },
   "outputs": [
    {
     "name": "stdout",
     "output_type": "stream",
     "text": [
      "Canonical isomeric SMILES is C([C@@H]1[C@@H]2[C@@H]([C@H]([C@H]([Os]1)[Os][C@@H]3[C@H]([Os][C@@H]([C@@H]([C@H]3O[Ho])O[Ho])[Os][C@@H]4[C@H]([Os][C@@H]([C@@H]([C@H]4O[Ho])O[Ho])[Os][C@@H]5[C@H]([Os][C@@H]([C@@H]([C@H]5O[Ho])O[Ho])[Os][C@@H]6[C@H]([Os][C@@H]([C@@H]([C@H]6O[Ho])O[Ho])[Os][C@@H]7[C@H]([Os][C@@H]([C@@H]([C@H]7O[Ho])O[Ho])[Os][C@@H]8[C@H]([Os][C@H]([Os]2)[C@@H]([C@H]8O[Ho])O[Ho])CO[Ho])CO[Ho])CO[Ho])CO[Ho])CO[Ho])CO[Ho])O[Ho])O[Ho])O[Ho]\n",
      "Canonical isomeric SMILES is [C+]([O-])([O-])[Ca]1[CaH][CaH][CaH][CaH][CaH]1\n"
     ]
    }
   ],
   "source": [
    "path = 'bcd-ben/'\n",
    "reference_files = ['bcd.mol2', 'ben.mol2']\n",
    "names = ['bcd-reference',  'ben-reference']\n",
    "\n",
    "for (reference, name) in zip(reference_files, names):\n",
    "    mol = oechem.OEMol()\n",
    "    ifs = oechem.oemolistream(path + reference)\n",
    "    for mol in ifs.GetOEGraphMols():\n",
    "        # Make sure we have unique atom names for the mapping, or else things will be sticky.\n",
    "        oechem.OETriposAtomNames(mol)\n",
    "        print (\"Canonical isomeric SMILES is\", OEMolToSmiles(mol))\n",
    "        mol.SetTitle(name)\n",
    "        reference_molecules.append(mol)"
   ]
  },
  {
   "cell_type": "code",
   "execution_count": 40,
   "metadata": {
    "ExecuteTime": {
     "end_time": "2017-12-15T22:41:18.741987Z",
     "start_time": "2017-12-15T22:41:18.734057Z"
    },
    "collapsed": true
   },
   "outputs": [],
   "source": [
    "reference_topologies = [] * len(reference_molecules)\n",
    "reference_graphs = [] * len(reference_molecules)\n",
    "\n",
    "for mol in reference_molecules:\n",
    "    topology = generateTopologyFromOEMol(mol)\n",
    "    reference_topologies.append(topology)\n",
    "    \n",
    "    graph = generateGraphFromTopology(topology)\n",
    "    reference_graphs.append(graph)"
   ]
  },
  {
   "cell_type": "code",
   "execution_count": 43,
   "metadata": {
    "ExecuteTime": {
     "end_time": "2017-12-15T22:41:33.552735Z",
     "start_time": "2017-12-15T22:41:33.549319Z"
    }
   },
   "outputs": [
    {
     "name": "stdout",
     "output_type": "stream",
     "text": [
      "0\n"
     ]
    }
   ],
   "source": [
    "print(reference_graphs[0].size())"
   ]
  },
  {
   "cell_type": "code",
   "execution_count": 38,
   "metadata": {
    "ExecuteTime": {
     "end_time": "2017-12-15T22:11:19.353432Z",
     "start_time": "2017-12-15T22:11:19.340152Z"
    }
   },
   "outputs": [
    {
     "name": "stdout",
     "output_type": "stream",
     "text": [
      "0\n",
      "154\n",
      "0\n",
      "14\n"
     ]
    }
   ],
   "source": [
    "reference_to_topology_atom_mappings = [] * len(molecules)\n",
    "\n",
    "for (reference, target) in zip(reference_graphs, graphs):\n",
    "    print(reference.size())\n",
    "    print(target.size())\n",
    "\n",
    "    GM = isomorphism.GraphMatcher(target, reference)\n",
    "    if GM.is_isomorphic():\n",
    "        reference_to_topology_atom_mapping = dict()\n",
    "        for (topology_atom, reference_atom) in GM.mapping.items():\n",
    "            reference_to_topology_atom_mapping[reference_atom] = topology_atom\n",
    "        reference_to_topology_atom_mappings.append(reference_to_topology_atom_mapping)"
   ]
  },
  {
   "cell_type": "code",
   "execution_count": 35,
   "metadata": {
    "ExecuteTime": {
     "end_time": "2017-12-15T22:11:09.086948Z",
     "start_time": "2017-12-15T22:11:09.084219Z"
    },
    "collapsed": true
   },
   "outputs": [],
   "source": [
    "gm = isomorphism.GraphMatcher(reference_graphs[0], graphs[0])"
   ]
  },
  {
   "cell_type": "code",
   "execution_count": 30,
   "metadata": {
    "ExecuteTime": {
     "end_time": "2017-12-15T22:08:56.640710Z",
     "start_time": "2017-12-15T22:08:56.637007Z"
    }
   },
   "outputs": [
    {
     "data": {
      "text/plain": [
       "False"
      ]
     },
     "execution_count": 30,
     "metadata": {},
     "output_type": "execute_result"
    }
   ],
   "source": [
    "gm.is_isomorphic()"
   ]
  },
  {
   "cell_type": "code",
   "execution_count": 31,
   "metadata": {
    "ExecuteTime": {
     "end_time": "2017-12-15T22:09:15.215472Z",
     "start_time": "2017-12-15T22:09:15.211970Z"
    }
   },
   "outputs": [
    {
     "data": {
      "text/plain": [
       "{}"
      ]
     },
     "execution_count": 31,
     "metadata": {},
     "output_type": "execute_result"
    }
   ],
   "source": [
    "gm.mapping"
   ]
  },
  {
   "cell_type": "markdown",
   "metadata": {
    "collapsed": true
   },
   "source": [
    "## Step 3: the complex"
   ]
  },
  {
   "cell_type": "code",
   "execution_count": null,
   "metadata": {
    "collapsed": true
   },
   "outputs": [],
   "source": []
  }
 ],
 "metadata": {
  "kernelspec": {
   "display_name": "Python [conda env:openforcefield]",
   "language": "python",
   "name": "conda-env-openforcefield-py"
  },
  "language_info": {
   "codemirror_mode": {
    "name": "ipython",
    "version": 3
   },
   "file_extension": ".py",
   "mimetype": "text/x-python",
   "name": "python",
   "nbconvert_exporter": "python",
   "pygments_lexer": "ipython3",
   "version": "3.6.1"
  }
 },
 "nbformat": 4,
 "nbformat_minor": 2
}
