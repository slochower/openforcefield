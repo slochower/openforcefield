{
 "cells": [
  {
   "cell_type": "code",
   "execution_count": 2,
   "metadata": {
    "ExecuteTime": {
     "end_time": "2017-12-14T01:08:53.641733Z",
     "start_time": "2017-12-14T01:08:52.770157Z"
    },
    "collapsed": true
   },
   "outputs": [],
   "source": [
    "import parmed as pmd\n",
    "import subprocess as sp\n",
    "import numpy as np\n",
    "\n",
    "from openeye.oechem import *\n",
    "from openeye.oeomega import *\n",
    "from openforcefield.typing.engines.smirnoff import *\n",
    "from pdbfixer import PDBFixer"
   ]
  },
  {
   "cell_type": "code",
   "execution_count": 3,
   "metadata": {
    "ExecuteTime": {
     "end_time": "2017-12-14T01:08:53.646310Z",
     "start_time": "2017-12-14T01:08:53.643628Z"
    },
    "collapsed": true
   },
   "outputs": [],
   "source": [
    "ben_smiles = '[O-]C(=O)c1ccccc1'\n",
    "bcd_smiles = 'C([C@@H]1[C@@H]2[C@@H]([C@H]([C@H](O1)O[C@@H]3[C@H](O[C@@H]([C@@H]([C@H]3O)O)O[C@@H]4[C@H](O[C@@H]([C@@H]([C@H]4O)O)O[C@@H]5[C@H](O[C@@H]([C@@H]([C@H]5O)O)O[C@@H]6[C@H](O[C@@H]([C@@H]([C@H]6O)O)O[C@@H]7[C@H](O[C@@H]([C@@H]([C@H]7O)O)O[C@@H]8[C@H](O[C@H](O2)[C@@H]([C@H]8O)O)CO)CO)CO)CO)CO)CO)O)O)O'"
   ]
  },
  {
   "cell_type": "code",
   "execution_count": 5,
   "metadata": {
    "ExecuteTime": {
     "end_time": "2017-12-09T00:03:50.460975Z",
     "start_time": "2017-12-09T00:03:50.440807Z"
    },
    "collapsed": true
   },
   "outputs": [],
   "source": [
    "mols = []\n",
    "for smiles in [ben_smiles, bcd_smiles]:\n",
    "    mol = oechem.OEMol()\n",
    "    oechem.OESmilesToMol(mol, smiles)\n",
    "    for atom in mol.GetAtoms():\n",
    "        atom.SetPartialCharge(atom.GetFormalCharge())\n",
    "    oechem.OEAddExplicitHydrogens(mol)\n",
    "    oechem.OETriposAtomNames(mol)\n",
    "    mols.append(mol)"
   ]
  },
  {
   "cell_type": "code",
   "execution_count": 7,
   "metadata": {
    "ExecuteTime": {
     "end_time": "2017-12-09T00:25:41.894140Z",
     "start_time": "2017-12-09T00:06:45.928879Z"
    }
   },
   "outputs": [
    {
     "name": "stdout",
     "output_type": "stream",
     "text": [
      ": 1 formal charges give total charge -1; sum of partial charges -1.0000\n",
      ": 0 formal charges give total charge 0; sum of partial charges 0.0000\n"
     ]
    }
   ],
   "source": [
    "omegaOpts = OEOmegaOptions()\n",
    "omega = OEOmega(omegaOpts)\n",
    "\n",
    "for mol in mols:\n",
    "    if omega(mol):\n",
    "        oequacpac.OEAssignCharges(mol, oequacpac.OEAM1BCCELF10Charges())\n",
    "        conf = mol.GetConf(oechem.OEHasConfIdx(0))\n",
    "        absFCharge = 0\n",
    "        sumFCharge = 0\n",
    "        sumPCharge = 0.0\n",
    "        for atm in mol.GetAtoms():\n",
    "            sumFCharge += atm.GetFormalCharge()\n",
    "            absFCharge += abs(atm.GetFormalCharge())\n",
    "            sumPCharge += atm.GetPartialCharge()\n",
    "        print(\"{}: {} formal charges give total charge {}\"\n",
    "              \"; sum of partial charges {:5.4f}\".format(mol.GetTitle(), absFCharge,\n",
    "                                                        sumFCharge, sumPCharge))\n",
    "        # oechem.OEWriteMolecule(ofs, conf)\n"
   ]
  },
  {
   "cell_type": "code",
   "execution_count": 14,
   "metadata": {
    "ExecuteTime": {
     "end_time": "2017-12-09T00:30:17.983383Z",
     "start_time": "2017-12-09T00:30:17.976349Z"
    },
    "scrolled": false
   },
   "outputs": [
    {
     "name": "stdout",
     "output_type": "stream",
     "text": [
      " 0 C -0.16098999977111816\n",
      " 1 C -0.1662600040435791\n",
      " 2 C -0.1662600040435791\n",
      " 3 C -0.10735999792814255\n",
      " 4 C -0.10735999792814255\n",
      " 5 C -0.12452999502420425\n",
      " 6 C 0.9059900045394897\n",
      " 7 O -0.8342499732971191\n",
      " 8 O -0.8342499732971191\n",
      " 9 H 0.09599000215530396\n",
      "10 H 0.1014999970793724\n",
      "11 H 0.1014999970793724\n",
      "12 H 0.14813999831676483\n",
      "13 H 0.14813999831676483\n"
     ]
    }
   ],
   "source": [
    "for atom in mols[0].GetAtoms():\n",
    "        print(atom, atom.GetPartialCharge())"
   ]
  },
  {
   "cell_type": "code",
   "execution_count": 16,
   "metadata": {
    "ExecuteTime": {
     "end_time": "2017-12-09T00:52:00.424987Z",
     "start_time": "2017-12-09T00:52:00.411785Z"
    }
   },
   "outputs": [
    {
     "data": {
      "text/plain": [
       "0"
      ]
     },
     "execution_count": 16,
     "metadata": {},
     "output_type": "execute_result"
    }
   ],
   "source": [
    "ofs = oemolostream()\n",
    "ofs.open('ben-openeye.mol2')\n",
    "OEWriteMolecule(ofs, mols[0])"
   ]
  },
  {
   "cell_type": "code",
   "execution_count": 21,
   "metadata": {
    "ExecuteTime": {
     "end_time": "2017-12-09T01:00:13.212668Z",
     "start_time": "2017-12-09T01:00:13.208909Z"
    }
   },
   "outputs": [
    {
     "data": {
      "text/plain": [
       "200"
      ]
     },
     "execution_count": 21,
     "metadata": {},
     "output_type": "execute_result"
    }
   ],
   "source": [
    "omega.GetMaxConfs()"
   ]
  },
  {
   "cell_type": "code",
   "execution_count": 22,
   "metadata": {
    "ExecuteTime": {
     "end_time": "2017-12-09T01:01:12.620843Z",
     "start_time": "2017-12-09T01:01:12.601988Z"
    }
   },
   "outputs": [
    {
     "data": {
      "text/plain": [
       "0"
      ]
     },
     "execution_count": 22,
     "metadata": {},
     "output_type": "execute_result"
    }
   ],
   "source": [
    "ofs = oemolostream()\n",
    "ofs.open('bcd-openeye.mol2')\n",
    "OEWriteMolecule(ofs, mols[1])"
   ]
  },
  {
   "cell_type": "code",
   "execution_count": 23,
   "metadata": {
    "ExecuteTime": {
     "end_time": "2017-12-09T01:14:31.406471Z",
     "start_time": "2017-12-09T01:14:31.402581Z"
    }
   },
   "outputs": [
    {
     "data": {
      "text/plain": [
       "<oechem.OEMol; proxy of <Swig Object of type 'OEMolWrapper *' at 0x7f8eb709fe40> >"
      ]
     },
     "execution_count": 23,
     "metadata": {},
     "output_type": "execute_result"
    }
   ],
   "source": [
    "mols[1]"
   ]
  },
  {
   "cell_type": "code",
   "execution_count": 25,
   "metadata": {
    "ExecuteTime": {
     "end_time": "2017-12-09T01:19:01.471011Z",
     "start_time": "2017-12-09T01:19:01.467166Z"
    }
   },
   "outputs": [
    {
     "data": {
      "text/plain": [
       "13"
      ]
     },
     "execution_count": 25,
     "metadata": {},
     "output_type": "execute_result"
    }
   ],
   "source": [
    "mols[1].NumConfs()"
   ]
  },
  {
   "cell_type": "markdown",
   "metadata": {},
   "source": [
    "Why are there 13 conformations?"
   ]
  },
  {
   "cell_type": "markdown",
   "metadata": {},
   "source": [
    "# Map between atoms!"
   ]
  },
  {
   "cell_type": "code",
   "execution_count": 4,
   "metadata": {
    "ExecuteTime": {
     "end_time": "2017-12-14T01:08:58.231429Z",
     "start_time": "2017-12-14T01:08:58.191033Z"
    },
    "collapsed": true
   },
   "outputs": [],
   "source": [
    "\n",
    "import sys\n",
    "import string\n",
    "\n",
    "import lxml.etree as etree\n",
    "\n",
    "from simtk.openmm.app import element as elem\n",
    "from simtk.openmm.app import Topology\n",
    "from openforcefield.utils import generateTopologyFromOEMol, get_data_filename\n",
    "\n",
    "import os\n",
    "import math\n",
    "import copy\n",
    "import re\n",
    "import numpy\n",
    "import random\n",
    "\n",
    "import openeye.oechem\n",
    "import openeye.oeomega\n",
    "import openeye.oequacpac\n",
    "\n",
    "from openeye import oechem, oequacpac\n",
    "\n",
    "from openforcefield.typing.chemistry import ChemicalEnvironment, SMIRKSParsingError\n",
    "\n",
    "from simtk import openmm, unit\n",
    "\n",
    "import time\n",
    "\n",
    "import networkx as nx\n",
    "\n",
    "import itertools\n"
   ]
  },
  {
   "cell_type": "code",
   "execution_count": 5,
   "metadata": {
    "ExecuteTime": {
     "end_time": "2017-12-14T01:08:58.528482Z",
     "start_time": "2017-12-14T01:08:58.511059Z"
    },
    "collapsed": true
   },
   "outputs": [],
   "source": [
    "def generateGraphFromTopology(topology):\n",
    "    \"\"\"Geneate a NetworkX graph from a Topology object.\n",
    "    Parameters\n",
    "    ----------\n",
    "    topology : simtk.openmm.app.Topology\n",
    "        The source topology.\n",
    "    Returns\n",
    "    -------\n",
    "    graph : networkx.Graph\n",
    "        The resulting graph, with nodes labeled with atom indices and elements\n",
    "    \"\"\"\n",
    "    import networkx as nx\n",
    "    # Create graph of atoms connected by bonds.\n",
    "    G = nx.Graph()\n",
    "    for atom in topology.atoms():\n",
    "        G.add_node(atom.index, element=atom.element)\n",
    "    for (atom1, atom2) in topology.bonds():\n",
    "        G.add_edge(atom1.index, atom2.index)\n",
    "\n",
    "    return G"
   ]
  },
  {
   "cell_type": "code",
   "execution_count": 6,
   "metadata": {
    "ExecuteTime": {
     "end_time": "2017-12-14T01:08:59.447068Z",
     "start_time": "2017-12-14T01:08:59.423179Z"
    }
   },
   "outputs": [
    {
     "data": {
      "text/plain": [
       "True"
      ]
     },
     "execution_count": 6,
     "metadata": {},
     "output_type": "execute_result"
    }
   ],
   "source": [
    "bcd_smiles = 'C([C@@H]1[C@@H]2[C@@H]([C@H]([C@H](O1)O[C@@H]3[C@H](O[C@@H]([C@@H]([C@H]3O)O)O[C@@H]4[C@H](O[C@@H]([C@@H]([C@H]4O)O)O[C@@H]5[C@H](O[C@@H]([C@@H]([C@H]5O)O)O[C@@H]6[C@H](O[C@@H]([C@@H]([C@H]6O)O)O[C@@H]7[C@H](O[C@@H]([C@@H]([C@H]7O)O)O[C@@H]8[C@H](O[C@H](O2)[C@@H]([C@H]8O)O)CO)CO)CO)CO)CO)CO)O)O)O'\n",
    "bcd_smiles_mol = oechem.OEMol()\n",
    "oechem.OESmilesToMol(bcd_smiles_mol, bcd_smiles)\n",
    "oechem.OEAddExplicitHydrogens(bcd_smiles_mol)"
   ]
  },
  {
   "cell_type": "code",
   "execution_count": 7,
   "metadata": {
    "ExecuteTime": {
     "end_time": "2017-12-14T01:09:00.053421Z",
     "start_time": "2017-12-14T01:09:00.048377Z"
    }
   },
   "outputs": [
    {
     "data": {
      "text/plain": [
       "147"
      ]
     },
     "execution_count": 7,
     "metadata": {},
     "output_type": "execute_result"
    }
   ],
   "source": [
    "bcd_smiles_mol.NumAtoms()"
   ]
  },
  {
   "cell_type": "code",
   "execution_count": 8,
   "metadata": {
    "ExecuteTime": {
     "end_time": "2017-12-14T01:09:00.899624Z",
     "start_time": "2017-12-14T01:09:00.896500Z"
    },
    "collapsed": true,
    "scrolled": true
   },
   "outputs": [],
   "source": [
    "# oenb.draw_mol(bcd_smiles_mol)"
   ]
  },
  {
   "cell_type": "code",
   "execution_count": 9,
   "metadata": {
    "ExecuteTime": {
     "end_time": "2017-12-14T01:09:01.505786Z",
     "start_time": "2017-12-14T01:09:01.502809Z"
    },
    "collapsed": true
   },
   "outputs": [],
   "source": [
    "# ofs = oemolostream()\n",
    "# ofs.open('tmp.mol2')\n",
    "# ofs.SetFormat(OEFormat_MOL2)\n",
    "# oechem.OEWriteMolecule(ofs, bcd_smiles_mol)\n",
    "# ofs.close()"
   ]
  },
  {
   "cell_type": "code",
   "execution_count": 10,
   "metadata": {
    "ExecuteTime": {
     "end_time": "2017-12-14T01:09:02.103209Z",
     "start_time": "2017-12-14T01:09:02.094954Z"
    },
    "collapsed": true
   },
   "outputs": [],
   "source": [
    "bcd_gaff = 'bcd-ben/bcd-sybyl.mol2'\n",
    "ifs = oechem.oemolistream(bcd_gaff)\n",
    "for mol in ifs.GetOEGraphMols():\n",
    "    bcd_gaff_mol = oechem.OEMol(mol)\n",
    "ifs.close()"
   ]
  },
  {
   "cell_type": "code",
   "execution_count": 11,
   "metadata": {
    "ExecuteTime": {
     "end_time": "2017-12-14T01:09:02.594811Z",
     "start_time": "2017-12-14T01:09:02.590606Z"
    }
   },
   "outputs": [
    {
     "data": {
      "text/plain": [
       "147"
      ]
     },
     "execution_count": 11,
     "metadata": {},
     "output_type": "execute_result"
    }
   ],
   "source": [
    "bcd_gaff_mol.NumAtoms()"
   ]
  },
  {
   "cell_type": "code",
   "execution_count": 12,
   "metadata": {
    "ExecuteTime": {
     "end_time": "2017-12-14T01:09:02.974962Z",
     "start_time": "2017-12-14T01:09:02.958831Z"
    },
    "collapsed": true
   },
   "outputs": [],
   "source": [
    "bcd_smiles_topology = generateTopologyFromOEMol(bcd_smiles_mol)"
   ]
  },
  {
   "cell_type": "code",
   "execution_count": 13,
   "metadata": {
    "ExecuteTime": {
     "end_time": "2017-12-14T01:09:04.211796Z",
     "start_time": "2017-12-14T01:09:04.050202Z"
    }
   },
   "outputs": [
    {
     "ename": "Exception",
     "evalue": "Error: Reference molecule must have unique atom names in order to create a Topology.",
     "output_type": "error",
     "traceback": [
      "\u001b[0;31m---------------------------------------------------------------------------\u001b[0m",
      "\u001b[0;31mException\u001b[0m                                 Traceback (most recent call last)",
      "\u001b[0;32m<ipython-input-13-64ef659a495f>\u001b[0m in \u001b[0;36m<module>\u001b[0;34m()\u001b[0m\n\u001b[0;32m----> 1\u001b[0;31m \u001b[0mbcd_gaff_topology\u001b[0m \u001b[0;34m=\u001b[0m \u001b[0mgenerateTopologyFromOEMol\u001b[0m\u001b[0;34m(\u001b[0m\u001b[0mbcd_gaff_mol\u001b[0m\u001b[0;34m)\u001b[0m\u001b[0;34m\u001b[0m\u001b[0m\n\u001b[0m",
      "\u001b[0;32m~/hgst-3tb-data/projects/openforcefield/openforcefield/openforcefield/utils/utils.py\u001b[0m in \u001b[0;36mgenerateTopologyFromOEMol\u001b[0;34m(molecule)\u001b[0m\n\u001b[1;32m    186\u001b[0m     \u001b[0matomnames\u001b[0m \u001b[0;34m=\u001b[0m \u001b[0;34m[\u001b[0m \u001b[0matom\u001b[0m\u001b[0;34m.\u001b[0m\u001b[0mGetName\u001b[0m\u001b[0;34m(\u001b[0m\u001b[0;34m)\u001b[0m \u001b[0;32mfor\u001b[0m \u001b[0matom\u001b[0m \u001b[0;32min\u001b[0m \u001b[0mmol\u001b[0m\u001b[0;34m.\u001b[0m\u001b[0mGetAtoms\u001b[0m\u001b[0;34m(\u001b[0m\u001b[0;34m)\u001b[0m \u001b[0;34m]\u001b[0m\u001b[0;34m\u001b[0m\u001b[0m\n\u001b[1;32m    187\u001b[0m     \u001b[0;32mif\u001b[0m \u001b[0many\u001b[0m\u001b[0;34m(\u001b[0m \u001b[0matomnames\u001b[0m\u001b[0;34m.\u001b[0m\u001b[0mcount\u001b[0m\u001b[0;34m(\u001b[0m\u001b[0matom\u001b[0m\u001b[0;34m.\u001b[0m\u001b[0mGetName\u001b[0m\u001b[0;34m(\u001b[0m\u001b[0;34m)\u001b[0m\u001b[0;34m)\u001b[0m\u001b[0;34m>\u001b[0m\u001b[0;36m1\u001b[0m \u001b[0;32mfor\u001b[0m \u001b[0matom\u001b[0m \u001b[0;32min\u001b[0m \u001b[0mmol\u001b[0m\u001b[0;34m.\u001b[0m\u001b[0mGetAtoms\u001b[0m\u001b[0;34m(\u001b[0m\u001b[0;34m)\u001b[0m\u001b[0;34m)\u001b[0m\u001b[0;34m:\u001b[0m\u001b[0;34m\u001b[0m\u001b[0m\n\u001b[0;32m--> 188\u001b[0;31m         \u001b[0;32mraise\u001b[0m \u001b[0mException\u001b[0m\u001b[0;34m(\u001b[0m\u001b[0;34m\"Error: Reference molecule must have unique atom names in order to create a Topology.\"\u001b[0m\u001b[0;34m)\u001b[0m\u001b[0;34m\u001b[0m\u001b[0m\n\u001b[0m\u001b[1;32m    189\u001b[0m \u001b[0;34m\u001b[0m\u001b[0m\n\u001b[1;32m    190\u001b[0m     \u001b[0;31m# Create atoms in the residue.\u001b[0m\u001b[0;34m\u001b[0m\u001b[0;34m\u001b[0m\u001b[0m\n",
      "\u001b[0;31mException\u001b[0m: Error: Reference molecule must have unique atom names in order to create a Topology."
     ]
    }
   ],
   "source": [
    "bcd_gaff_topology = generateTopologyFromOEMol(bcd_gaff_mol)"
   ]
  },
  {
   "cell_type": "code",
   "execution_count": 14,
   "metadata": {
    "ExecuteTime": {
     "end_time": "2017-12-14T01:09:08.052559Z",
     "start_time": "2017-12-14T01:09:07.983617Z"
    }
   },
   "outputs": [
    {
     "name": "stdout",
     "output_type": "stream",
     "text": [
      "C1\n",
      "H1\n",
      "O1\n",
      "C2\n",
      "H2\n",
      "O2\n",
      "HO2\n",
      "C3\n",
      "H3\n",
      "O3\n",
      "HO3\n",
      "C4\n",
      "H4\n",
      "C5\n",
      "H5\n",
      "O5\n",
      "C6\n",
      "H61\n",
      "H62\n",
      "O6\n",
      "HO6\n",
      "C1\n",
      "H1\n",
      "O1\n",
      "C2\n",
      "H2\n",
      "O2\n",
      "HO2\n",
      "C3\n",
      "H3\n",
      "O3\n",
      "HO3\n",
      "C4\n",
      "H4\n",
      "C5\n",
      "H5\n",
      "O5\n",
      "C6\n",
      "H61\n",
      "H62\n",
      "O6\n",
      "HO6\n",
      "C1\n",
      "H1\n",
      "O1\n",
      "C2\n",
      "H2\n",
      "O2\n",
      "HO2\n",
      "C3\n",
      "H3\n",
      "O3\n",
      "HO3\n",
      "C4\n",
      "H4\n",
      "C5\n",
      "H5\n",
      "O5\n",
      "C6\n",
      "H61\n",
      "H62\n",
      "O6\n",
      "HO6\n",
      "C1\n",
      "H1\n",
      "O1\n",
      "C2\n",
      "H2\n",
      "O2\n",
      "HO2\n",
      "C3\n",
      "H3\n",
      "O3\n",
      "HO3\n",
      "C4\n",
      "H4\n",
      "C5\n",
      "H5\n",
      "O5\n",
      "C6\n",
      "H61\n",
      "H62\n",
      "O6\n",
      "HO6\n",
      "C1\n",
      "H1\n",
      "O1\n",
      "C2\n",
      "H2\n",
      "O2\n",
      "HO2\n",
      "C3\n",
      "H3\n",
      "O3\n",
      "HO3\n",
      "C4\n",
      "H4\n",
      "C5\n",
      "H5\n",
      "O5\n",
      "C6\n",
      "H61\n",
      "H62\n",
      "O6\n",
      "HO6\n",
      "C1\n",
      "H1\n",
      "O1\n",
      "C2\n",
      "H2\n",
      "O2\n",
      "HO2\n",
      "C3\n",
      "H3\n",
      "O3\n",
      "HO3\n",
      "C4\n",
      "H4\n",
      "C5\n",
      "H5\n",
      "O5\n",
      "C6\n",
      "H61\n",
      "H62\n",
      "O6\n",
      "HO6\n",
      "C1\n",
      "H1\n",
      "O1\n",
      "C2\n",
      "H2\n",
      "O2\n",
      "HO2\n",
      "C3\n",
      "H3\n",
      "O3\n",
      "HO3\n",
      "C4\n",
      "H4\n",
      "C5\n",
      "H5\n",
      "O5\n",
      "C6\n",
      "H61\n",
      "H62\n",
      "O6\n",
      "HO6\n"
     ]
    }
   ],
   "source": [
    "for atom in bcd_gaff_mol.GetAtoms():\n",
    "    print(atom.GetName())"
   ]
  },
  {
   "cell_type": "code",
   "execution_count": 15,
   "metadata": {
    "ExecuteTime": {
     "end_time": "2017-12-14T01:09:08.371241Z",
     "start_time": "2017-12-14T01:09:08.367719Z"
    },
    "collapsed": true
   },
   "outputs": [],
   "source": [
    "OETriposAtomNames(bcd_gaff_mol)"
   ]
  },
  {
   "cell_type": "code",
   "execution_count": 16,
   "metadata": {
    "ExecuteTime": {
     "end_time": "2017-12-14T01:09:09.954787Z",
     "start_time": "2017-12-14T01:09:09.933835Z"
    }
   },
   "outputs": [
    {
     "name": "stdout",
     "output_type": "stream",
     "text": [
      "C1\n",
      "H1\n",
      "O1\n",
      "C2\n",
      "H2\n",
      "O2\n",
      "H3\n",
      "C3\n",
      "H4\n",
      "O3\n",
      "H5\n",
      "C4\n",
      "H6\n",
      "C5\n",
      "H7\n",
      "O4\n",
      "C6\n",
      "H8\n",
      "H9\n",
      "O5\n",
      "H10\n",
      "C7\n",
      "H11\n",
      "O6\n",
      "C8\n",
      "H12\n",
      "O7\n",
      "H13\n",
      "C9\n",
      "H14\n",
      "O8\n",
      "H15\n",
      "C10\n",
      "H16\n",
      "C11\n",
      "H17\n",
      "O9\n",
      "C12\n",
      "H18\n",
      "H19\n",
      "O10\n",
      "H20\n",
      "C13\n",
      "H21\n",
      "O11\n",
      "C14\n",
      "H22\n",
      "O12\n",
      "H23\n",
      "C15\n",
      "H24\n",
      "O13\n",
      "H25\n",
      "C16\n",
      "H26\n",
      "C17\n",
      "H27\n",
      "O14\n",
      "C18\n",
      "H28\n",
      "H29\n",
      "O15\n",
      "H30\n",
      "C19\n",
      "H31\n",
      "O16\n",
      "C20\n",
      "H32\n",
      "O17\n",
      "H33\n",
      "C21\n",
      "H34\n",
      "O18\n",
      "H35\n",
      "C22\n",
      "H36\n",
      "C23\n",
      "H37\n",
      "O19\n",
      "C24\n",
      "H38\n",
      "H39\n",
      "O20\n",
      "H40\n",
      "C25\n",
      "H41\n",
      "O21\n",
      "C26\n",
      "H42\n",
      "O22\n",
      "H43\n",
      "C27\n",
      "H44\n",
      "O23\n",
      "H45\n",
      "C28\n",
      "H46\n",
      "C29\n",
      "H47\n",
      "O24\n",
      "C30\n",
      "H48\n",
      "H49\n",
      "O25\n",
      "H50\n",
      "C31\n",
      "H51\n",
      "O26\n",
      "C32\n",
      "H52\n",
      "O27\n",
      "H53\n",
      "C33\n",
      "H54\n",
      "O28\n",
      "H55\n",
      "C34\n",
      "H56\n",
      "C35\n",
      "H57\n",
      "O29\n",
      "C36\n",
      "H58\n",
      "H59\n",
      "O30\n",
      "H60\n",
      "C37\n",
      "H61\n",
      "O31\n",
      "C38\n",
      "H62\n",
      "O32\n",
      "H63\n",
      "C39\n",
      "H64\n",
      "O33\n",
      "H65\n",
      "C40\n",
      "H66\n",
      "C41\n",
      "H67\n",
      "O34\n",
      "C42\n",
      "H68\n",
      "H69\n",
      "O35\n",
      "H70\n"
     ]
    }
   ],
   "source": [
    "for atom in bcd_gaff_mol.GetAtoms():\n",
    "    print(atom.GetName())"
   ]
  },
  {
   "cell_type": "code",
   "execution_count": 17,
   "metadata": {
    "ExecuteTime": {
     "end_time": "2017-12-14T01:09:10.509432Z",
     "start_time": "2017-12-14T01:09:10.494143Z"
    },
    "collapsed": true
   },
   "outputs": [],
   "source": [
    "bcd_gaff_topology = generateTopologyFromOEMol(bcd_gaff_mol)"
   ]
  },
  {
   "cell_type": "markdown",
   "metadata": {},
   "source": [
    "```python\n",
    "        self._reference_to_topology_atom_mappings = { reference_molecule : list() for reference_molecule in self._reference_molecules }\n",
    "        for molecule_graph in nx.connected_component_subgraphs(G):\n",
    "            # Check if we have already stored a reference molecule for this molecule.\n",
    "            reference_molecule_exists = False\n",
    "            for (reference_molecule_graph, reference_molecule) in zip(self._reference_molecule_graphs, self._reference_molecules):\n",
    "                GM = isomorphism.GraphMatcher(molecule_graph, reference_molecule_graph)\n",
    "                if GM.is_isomorphic():\n",
    "                    # This molecule is present in the list of unique reference molecules.\n",
    "                    reference_molecule_exists = True\n",
    "                    # Add the reference atom mappings.\n",
    "                    reference_to_topology_atom_mapping = dict()\n",
    "                    for (topology_atom, reference_atom) in GM.mapping.items():\n",
    "                        reference_to_topology_atom_mapping[reference_atom] = topology_atom\n",
    "                    self._reference_to_topology_atom_mappings[reference_molecule].append(reference_to_topology_atom_mapping)\n",
    "                    # Break out of the search loop.\n",
    "                    break\n",
    "```"
   ]
  },
  {
   "cell_type": "code",
   "execution_count": 18,
   "metadata": {
    "ExecuteTime": {
     "end_time": "2017-12-14T01:09:13.736009Z",
     "start_time": "2017-12-14T01:09:13.678418Z"
    },
    "collapsed": true
   },
   "outputs": [],
   "source": [
    "G1 = generateGraphFromTopology(bcd_smiles_topology)\n",
    "G2 = generateGraphFromTopology(bcd_gaff_topology)\n",
    "\n",
    "molecule_graph = G1\n",
    "reference_molecule_graph = G2\n",
    "\n",
    "reference_to_topology_atom_mappings = list()\n",
    "\n",
    "\n",
    "from networkx.algorithms import isomorphism\n",
    "\n",
    "GM = isomorphism.GraphMatcher(molecule_graph, reference_molecule_graph)\n",
    "if GM.is_isomorphic():\n",
    "    reference_to_topology_atom_mapping = dict()\n",
    "    for (topology_atom, reference_atom) in GM.mapping.items():\n",
    "        reference_to_topology_atom_mapping[reference_atom] = topology_atom\n",
    "    reference_to_topology_atom_mappings.append(reference_to_topology_atom_mapping)"
   ]
  },
  {
   "cell_type": "code",
   "execution_count": 19,
   "metadata": {
    "ExecuteTime": {
     "end_time": "2017-12-14T01:09:14.182107Z",
     "start_time": "2017-12-14T01:09:14.174601Z"
    },
    "scrolled": false
   },
   "outputs": [
    {
     "data": {
      "text/plain": [
       "{0: 9,\n",
       " 1: 10,\n",
       " 2: 12,\n",
       " 3: 7,\n",
       " 4: 8,\n",
       " 5: 109,\n",
       " 6: 144,\n",
       " 7: 5,\n",
       " 8: 6,\n",
       " 9: 110,\n",
       " 10: 145,\n",
       " 11: 3,\n",
       " 12: 4,\n",
       " 13: 1,\n",
       " 14: 2,\n",
       " 15: 11,\n",
       " 16: 0,\n",
       " 17: 112,\n",
       " 18: 113,\n",
       " 19: 111,\n",
       " 20: 146,\n",
       " 21: 18,\n",
       " 22: 19,\n",
       " 23: 26,\n",
       " 24: 20,\n",
       " 25: 21,\n",
       " 26: 25,\n",
       " 27: 115,\n",
       " 28: 22,\n",
       " 29: 23,\n",
       " 30: 24,\n",
       " 31: 114,\n",
       " 32: 13,\n",
       " 33: 14,\n",
       " 34: 15,\n",
       " 35: 16,\n",
       " 36: 17,\n",
       " 37: 107,\n",
       " 38: 141,\n",
       " 39: 142,\n",
       " 40: 108,\n",
       " 41: 143,\n",
       " 42: 32,\n",
       " 43: 33,\n",
       " 44: 40,\n",
       " 45: 34,\n",
       " 46: 35,\n",
       " 47: 39,\n",
       " 48: 117,\n",
       " 49: 36,\n",
       " 50: 37,\n",
       " 51: 38,\n",
       " 52: 116,\n",
       " 53: 27,\n",
       " 54: 28,\n",
       " 55: 29,\n",
       " 56: 30,\n",
       " 57: 31,\n",
       " 58: 105,\n",
       " 59: 138,\n",
       " 60: 139,\n",
       " 61: 106,\n",
       " 62: 140,\n",
       " 63: 46,\n",
       " 64: 47,\n",
       " 65: 54,\n",
       " 66: 48,\n",
       " 67: 49,\n",
       " 68: 53,\n",
       " 69: 119,\n",
       " 70: 50,\n",
       " 71: 51,\n",
       " 72: 52,\n",
       " 73: 118,\n",
       " 74: 41,\n",
       " 75: 42,\n",
       " 76: 43,\n",
       " 77: 44,\n",
       " 78: 45,\n",
       " 79: 103,\n",
       " 80: 135,\n",
       " 81: 136,\n",
       " 82: 104,\n",
       " 83: 137,\n",
       " 84: 60,\n",
       " 85: 61,\n",
       " 86: 68,\n",
       " 87: 62,\n",
       " 88: 63,\n",
       " 89: 67,\n",
       " 90: 121,\n",
       " 91: 64,\n",
       " 92: 65,\n",
       " 93: 66,\n",
       " 94: 120,\n",
       " 95: 55,\n",
       " 96: 56,\n",
       " 97: 57,\n",
       " 98: 58,\n",
       " 99: 59,\n",
       " 100: 101,\n",
       " 101: 132,\n",
       " 102: 133,\n",
       " 103: 102,\n",
       " 104: 134,\n",
       " 105: 74,\n",
       " 106: 75,\n",
       " 107: 82,\n",
       " 108: 76,\n",
       " 109: 77,\n",
       " 110: 81,\n",
       " 111: 123,\n",
       " 112: 78,\n",
       " 113: 79,\n",
       " 114: 80,\n",
       " 115: 122,\n",
       " 116: 69,\n",
       " 117: 70,\n",
       " 118: 71,\n",
       " 119: 72,\n",
       " 120: 73,\n",
       " 121: 99,\n",
       " 122: 129,\n",
       " 123: 130,\n",
       " 124: 100,\n",
       " 125: 131,\n",
       " 126: 88,\n",
       " 127: 89,\n",
       " 128: 90,\n",
       " 129: 91,\n",
       " 130: 92,\n",
       " 131: 96,\n",
       " 132: 125,\n",
       " 133: 93,\n",
       " 134: 94,\n",
       " 135: 95,\n",
       " 136: 124,\n",
       " 137: 83,\n",
       " 138: 84,\n",
       " 139: 85,\n",
       " 140: 86,\n",
       " 141: 87,\n",
       " 142: 97,\n",
       " 143: 126,\n",
       " 144: 127,\n",
       " 145: 98,\n",
       " 146: 128}"
      ]
     },
     "execution_count": 19,
     "metadata": {},
     "output_type": "execute_result"
    }
   ],
   "source": [
    "reference_to_topology_atom_mapping"
   ]
  },
  {
   "cell_type": "code",
   "execution_count": 20,
   "metadata": {
    "ExecuteTime": {
     "end_time": "2017-12-14T01:09:15.613103Z",
     "start_time": "2017-12-14T01:09:15.583177Z"
    },
    "code_folding": []
   },
   "outputs": [
    {
     "name": "stdout",
     "output_type": "stream",
     "text": [
      "0 9\n",
      "1 10\n",
      "2 12\n",
      "3 7\n",
      "4 8\n",
      "5 109\n",
      "6 144\n",
      "7 5\n",
      "8 6\n",
      "9 110\n",
      "10 145\n",
      "11 3\n",
      "12 4\n",
      "13 1\n",
      "14 2\n",
      "15 11\n",
      "16 0\n",
      "17 112\n",
      "18 113\n",
      "19 111\n",
      "20 146\n",
      "32 13\n",
      "28 22\n",
      "24 20\n",
      "21 18\n",
      "22 19\n",
      "23 26\n",
      "25 21\n",
      "26 25\n",
      "27 115\n",
      "29 23\n",
      "30 24\n",
      "31 114\n",
      "33 14\n",
      "34 15\n",
      "35 16\n",
      "36 17\n",
      "37 107\n",
      "38 141\n",
      "39 142\n",
      "40 108\n",
      "41 143\n",
      "53 27\n",
      "49 36\n",
      "45 34\n",
      "42 32\n",
      "43 33\n",
      "44 40\n",
      "46 35\n",
      "47 39\n",
      "48 117\n",
      "50 37\n",
      "51 38\n",
      "52 116\n",
      "54 28\n",
      "55 29\n",
      "56 30\n",
      "57 31\n",
      "58 105\n",
      "59 138\n",
      "60 139\n",
      "61 106\n",
      "62 140\n",
      "74 41\n",
      "70 50\n",
      "66 48\n",
      "63 46\n",
      "64 47\n",
      "65 54\n",
      "67 49\n",
      "68 53\n",
      "69 119\n",
      "71 51\n",
      "72 52\n",
      "73 118\n",
      "75 42\n",
      "76 43\n",
      "77 44\n",
      "78 45\n",
      "79 103\n",
      "80 135\n",
      "81 136\n",
      "82 104\n",
      "83 137\n",
      "95 55\n",
      "91 64\n",
      "87 62\n",
      "84 60\n",
      "85 61\n",
      "86 68\n",
      "88 63\n",
      "89 67\n",
      "90 121\n",
      "92 65\n",
      "93 66\n",
      "94 120\n",
      "96 56\n",
      "97 57\n",
      "98 58\n",
      "99 59\n",
      "100 101\n",
      "101 132\n",
      "102 133\n",
      "103 102\n",
      "104 134\n",
      "116 69\n",
      "112 78\n",
      "108 76\n",
      "105 74\n",
      "106 75\n",
      "107 82\n",
      "109 77\n",
      "110 81\n",
      "111 123\n",
      "113 79\n",
      "114 80\n",
      "115 122\n",
      "117 70\n",
      "118 71\n",
      "119 72\n",
      "120 73\n",
      "121 99\n",
      "122 129\n",
      "123 130\n",
      "124 100\n",
      "125 131\n",
      "128 90\n",
      "126 88\n",
      "127 89\n",
      "129 91\n",
      "130 92\n",
      "131 96\n",
      "132 125\n",
      "133 93\n",
      "134 94\n",
      "135 95\n",
      "136 124\n",
      "137 83\n",
      "138 84\n",
      "139 85\n",
      "140 86\n",
      "141 87\n",
      "142 97\n",
      "143 126\n",
      "144 127\n",
      "145 98\n",
      "146 128\n"
     ]
    }
   ],
   "source": [
    "for (reference_atom, target_atom) in reference_to_topology_atom_mapping.items():\n",
    "    print(reference_atom, target_atom)"
   ]
  },
  {
   "cell_type": "code",
   "execution_count": 21,
   "metadata": {
    "ExecuteTime": {
     "end_time": "2017-12-14T01:09:16.385027Z",
     "start_time": "2017-12-14T01:09:16.334727Z"
    }
   },
   "outputs": [
    {
     "name": "stdout",
     "output_type": "stream",
     "text": [
      "0 C 0.30452901124954224\n",
      "1 H 0.09078200161457062\n",
      "2 O -0.4530700147151947\n",
      "3 C 0.09219899773597717\n",
      "4 H 0.10292600095272064\n",
      "5 O -0.5866389870643616\n",
      "6 H 0.4250650107860565\n",
      "7 C 0.09321100264787674\n",
      "8 H 0.06446799635887146\n",
      "9 O -0.5925670266151428\n",
      "10 H 0.42101699113845825\n",
      "11 C 0.12762099504470825\n",
      "12 H 0.08066099882125854\n",
      "13 C 0.1043429970741272\n",
      "14 H 0.06851600110530853\n",
      "15 O -0.4273830056190491\n",
      "16 C 0.14108100533485413\n",
      "17 H 0.05738399922847748\n",
      "18 H 0.05738399922847748\n",
      "19 O -0.5935549736022949\n",
      "20 H 0.42202699184417725\n",
      "21 C 0.30452901124954224\n",
      "22 H 0.09078200161457062\n",
      "23 O -0.4530700147151947\n",
      "24 C 0.09219899773597717\n",
      "25 H 0.10292600095272064\n",
      "26 O -0.5866389870643616\n",
      "27 H 0.4250650107860565\n",
      "28 C 0.09321100264787674\n",
      "29 H 0.06446799635887146\n",
      "30 O -0.5925670266151428\n",
      "31 H 0.42101699113845825\n",
      "32 C 0.12762099504470825\n",
      "33 H 0.08066099882125854\n",
      "34 C 0.1043429970741272\n",
      "35 H 0.06851600110530853\n",
      "36 O -0.4273830056190491\n",
      "37 C 0.14108100533485413\n",
      "38 H 0.05738399922847748\n",
      "39 H 0.05738399922847748\n",
      "40 O -0.5935549736022949\n",
      "41 H 0.42202699184417725\n",
      "42 C 0.30452901124954224\n",
      "43 H 0.09078200161457062\n",
      "44 O -0.4530700147151947\n",
      "45 C 0.09219899773597717\n",
      "46 H 0.10292600095272064\n",
      "47 O -0.5866389870643616\n",
      "48 H 0.4250650107860565\n",
      "49 C 0.09321100264787674\n",
      "50 H 0.06446799635887146\n",
      "51 O -0.5925670266151428\n",
      "52 H 0.42101699113845825\n",
      "53 C 0.12762099504470825\n",
      "54 H 0.08066099882125854\n",
      "55 C 0.1043429970741272\n",
      "56 H 0.06851600110530853\n",
      "57 O -0.4273830056190491\n",
      "58 C 0.14108100533485413\n",
      "59 H 0.05738399922847748\n",
      "60 H 0.05738399922847748\n",
      "61 O -0.5935549736022949\n",
      "62 H 0.42202699184417725\n",
      "63 C 0.30452901124954224\n",
      "64 H 0.09078200161457062\n",
      "65 O -0.4530700147151947\n",
      "66 C 0.09219899773597717\n",
      "67 H 0.10292600095272064\n",
      "68 O -0.5866389870643616\n",
      "69 H 0.4250650107860565\n",
      "70 C 0.09321100264787674\n",
      "71 H 0.06446799635887146\n",
      "72 O -0.5925670266151428\n",
      "73 H 0.42101699113845825\n",
      "74 C 0.12762099504470825\n",
      "75 H 0.08066099882125854\n",
      "76 C 0.1043429970741272\n",
      "77 H 0.06851600110530853\n",
      "78 O -0.4273830056190491\n",
      "79 C 0.14108100533485413\n",
      "80 H 0.05738399922847748\n",
      "81 H 0.05738399922847748\n",
      "82 O -0.5935549736022949\n",
      "83 H 0.42202699184417725\n",
      "84 C 0.30452901124954224\n",
      "85 H 0.09078200161457062\n",
      "86 O -0.4530700147151947\n",
      "87 C 0.09219899773597717\n",
      "88 H 0.10292600095272064\n",
      "89 O -0.5866389870643616\n",
      "90 H 0.4250650107860565\n",
      "91 C 0.09321100264787674\n",
      "92 H 0.06446799635887146\n",
      "93 O -0.5925670266151428\n",
      "94 H 0.42101699113845825\n",
      "95 C 0.12762099504470825\n",
      "96 H 0.08066099882125854\n",
      "97 C 0.1043429970741272\n",
      "98 H 0.06851600110530853\n",
      "99 O -0.4273830056190491\n",
      "100 C 0.14108100533485413\n",
      "101 H 0.05738399922847748\n",
      "102 H 0.05738399922847748\n",
      "103 O -0.5935549736022949\n",
      "104 H 0.42202699184417725\n",
      "105 C 0.30452901124954224\n",
      "106 H 0.09078200161457062\n",
      "107 O -0.4530700147151947\n",
      "108 C 0.09219899773597717\n",
      "109 H 0.10292600095272064\n",
      "110 O -0.5866389870643616\n",
      "111 H 0.4250650107860565\n",
      "112 C 0.09321100264787674\n",
      "113 H 0.06446799635887146\n",
      "114 O -0.5925670266151428\n",
      "115 H 0.42101699113845825\n",
      "116 C 0.12762099504470825\n",
      "117 H 0.08066099882125854\n",
      "118 C 0.1043429970741272\n",
      "119 H 0.06851600110530853\n",
      "120 O -0.4273830056190491\n",
      "121 C 0.14108100533485413\n",
      "122 H 0.05738399922847748\n",
      "123 H 0.05738399922847748\n",
      "124 O -0.5935549736022949\n",
      "125 H 0.42202699184417725\n",
      "126 C 0.30452901124954224\n",
      "127 H 0.09078200161457062\n",
      "128 O -0.4530700147151947\n",
      "129 C 0.09219899773597717\n",
      "130 H 0.10292600095272064\n",
      "131 O -0.5866389870643616\n",
      "132 H 0.4250650107860565\n",
      "133 C 0.09321100264787674\n",
      "134 H 0.06446799635887146\n",
      "135 O -0.5925670266151428\n",
      "136 H 0.42101699113845825\n",
      "137 C 0.12762099504470825\n",
      "138 H 0.08066099882125854\n",
      "139 C 0.1043429970741272\n",
      "140 H 0.06851600110530853\n",
      "141 O -0.4273830056190491\n",
      "142 C 0.14108100533485413\n",
      "143 H 0.05738399922847748\n",
      "144 H 0.05738399922847748\n",
      "145 O -0.5935549736022949\n",
      "146 H 0.42202699184417725\n"
     ]
    }
   ],
   "source": [
    "for atom in bcd_gaff_mol.GetAtoms():\n",
    "    idx = atom.GetIdx()\n",
    "    syb = OEGetAtomicSymbol(atom.GetAtomicNum())\n",
    "    charge = atom.GetPartialCharge()\n",
    "    print(idx, syb, charge)"
   ]
  },
  {
   "cell_type": "code",
   "execution_count": 22,
   "metadata": {
    "ExecuteTime": {
     "end_time": "2017-12-14T01:09:17.280948Z",
     "start_time": "2017-12-14T01:09:17.230972Z"
    }
   },
   "outputs": [
    {
     "name": "stdout",
     "output_type": "stream",
     "text": [
      "0 C 0.0\n",
      "1 C 0.0\n",
      "2 H 0.0\n",
      "3 C 0.0\n",
      "4 H 0.0\n",
      "5 C 0.0\n",
      "6 H 0.0\n",
      "7 C 0.0\n",
      "8 H 0.0\n",
      "9 C 0.0\n",
      "10 H 0.0\n",
      "11 O 0.0\n",
      "12 O 0.0\n",
      "13 C 0.0\n",
      "14 H 0.0\n",
      "15 C 0.0\n",
      "16 H 0.0\n",
      "17 O 0.0\n",
      "18 C 0.0\n",
      "19 H 0.0\n",
      "20 C 0.0\n",
      "21 H 0.0\n",
      "22 C 0.0\n",
      "23 H 0.0\n",
      "24 O 0.0\n",
      "25 O 0.0\n",
      "26 O 0.0\n",
      "27 C 0.0\n",
      "28 H 0.0\n",
      "29 C 0.0\n",
      "30 H 0.0\n",
      "31 O 0.0\n",
      "32 C 0.0\n",
      "33 H 0.0\n",
      "34 C 0.0\n",
      "35 H 0.0\n",
      "36 C 0.0\n",
      "37 H 0.0\n",
      "38 O 0.0\n",
      "39 O 0.0\n",
      "40 O 0.0\n",
      "41 C 0.0\n",
      "42 H 0.0\n",
      "43 C 0.0\n",
      "44 H 0.0\n",
      "45 O 0.0\n",
      "46 C 0.0\n",
      "47 H 0.0\n",
      "48 C 0.0\n",
      "49 H 0.0\n",
      "50 C 0.0\n",
      "51 H 0.0\n",
      "52 O 0.0\n",
      "53 O 0.0\n",
      "54 O 0.0\n",
      "55 C 0.0\n",
      "56 H 0.0\n",
      "57 C 0.0\n",
      "58 H 0.0\n",
      "59 O 0.0\n",
      "60 C 0.0\n",
      "61 H 0.0\n",
      "62 C 0.0\n",
      "63 H 0.0\n",
      "64 C 0.0\n",
      "65 H 0.0\n",
      "66 O 0.0\n",
      "67 O 0.0\n",
      "68 O 0.0\n",
      "69 C 0.0\n",
      "70 H 0.0\n",
      "71 C 0.0\n",
      "72 H 0.0\n",
      "73 O 0.0\n",
      "74 C 0.0\n",
      "75 H 0.0\n",
      "76 C 0.0\n",
      "77 H 0.0\n",
      "78 C 0.0\n",
      "79 H 0.0\n",
      "80 O 0.0\n",
      "81 O 0.0\n",
      "82 O 0.0\n",
      "83 C 0.0\n",
      "84 H 0.0\n",
      "85 C 0.0\n",
      "86 H 0.0\n",
      "87 O 0.0\n",
      "88 C 0.0\n",
      "89 H 0.0\n",
      "90 O 0.0\n",
      "91 C 0.0\n",
      "92 H 0.0\n",
      "93 C 0.0\n",
      "94 H 0.0\n",
      "95 O 0.0\n",
      "96 O 0.0\n",
      "97 C 0.0\n",
      "98 O 0.0\n",
      "99 C 0.0\n",
      "100 O 0.0\n",
      "101 C 0.0\n",
      "102 O 0.0\n",
      "103 C 0.0\n",
      "104 O 0.0\n",
      "105 C 0.0\n",
      "106 O 0.0\n",
      "107 C 0.0\n",
      "108 O 0.0\n",
      "109 O 0.0\n",
      "110 O 0.0\n",
      "111 O 0.0\n",
      "112 H 0.0\n",
      "113 H 0.0\n",
      "114 H 0.0\n",
      "115 H 0.0\n",
      "116 H 0.0\n",
      "117 H 0.0\n",
      "118 H 0.0\n",
      "119 H 0.0\n",
      "120 H 0.0\n",
      "121 H 0.0\n",
      "122 H 0.0\n",
      "123 H 0.0\n",
      "124 H 0.0\n",
      "125 H 0.0\n",
      "126 H 0.0\n",
      "127 H 0.0\n",
      "128 H 0.0\n",
      "129 H 0.0\n",
      "130 H 0.0\n",
      "131 H 0.0\n",
      "132 H 0.0\n",
      "133 H 0.0\n",
      "134 H 0.0\n",
      "135 H 0.0\n",
      "136 H 0.0\n",
      "137 H 0.0\n",
      "138 H 0.0\n",
      "139 H 0.0\n",
      "140 H 0.0\n",
      "141 H 0.0\n",
      "142 H 0.0\n",
      "143 H 0.0\n",
      "144 H 0.0\n",
      "145 H 0.0\n",
      "146 H 0.0\n"
     ]
    }
   ],
   "source": [
    "for atom in bcd_smiles_mol.GetAtoms():\n",
    "    idx = atom.GetIdx()\n",
    "    syb = OEGetAtomicSymbol(atom.GetAtomicNum())\n",
    "    charge = atom.GetPartialCharge()\n",
    "    print(idx, syb, charge)"
   ]
  },
  {
   "cell_type": "code",
   "execution_count": 23,
   "metadata": {
    "ExecuteTime": {
     "end_time": "2017-12-14T01:09:17.993979Z",
     "start_time": "2017-12-14T01:09:17.950162Z"
    }
   },
   "outputs": [
    {
     "name": "stdout",
     "output_type": "stream",
     "text": [
      " 0 C  9 C\n",
      " 1 H 10 H\n",
      " 2 O 12 O\n",
      " 3 C  7 C\n",
      " 4 H  8 H\n",
      " 5 O 109 O\n",
      " 6 H 144 H\n",
      " 7 C  5 C\n",
      " 8 H  6 H\n",
      " 9 O 110 O\n",
      "10 H 145 H\n",
      "11 C  3 C\n",
      "12 H  4 H\n",
      "13 C  1 C\n",
      "14 H  2 H\n",
      "15 O 11 O\n",
      "16 C  0 C\n",
      "17 H 112 H\n",
      "18 H 113 H\n",
      "19 O 111 O\n",
      "20 H 146 H\n",
      "32 C 13 C\n",
      "28 C 22 C\n",
      "24 C 20 C\n",
      "21 C 18 C\n",
      "22 H 19 H\n",
      "23 O 26 O\n",
      "25 H 21 H\n",
      "26 O 25 O\n",
      "27 H 115 H\n",
      "29 H 23 H\n",
      "30 O 24 O\n",
      "31 H 114 H\n",
      "33 H 14 H\n",
      "34 C 15 C\n",
      "35 H 16 H\n",
      "36 O 17 O\n",
      "37 C 107 C\n",
      "38 H 141 H\n",
      "39 H 142 H\n",
      "40 O 108 O\n",
      "41 H 143 H\n",
      "53 C 27 C\n",
      "49 C 36 C\n",
      "45 C 34 C\n",
      "42 C 32 C\n",
      "43 H 33 H\n",
      "44 O 40 O\n",
      "46 H 35 H\n",
      "47 O 39 O\n",
      "48 H 117 H\n",
      "50 H 37 H\n",
      "51 O 38 O\n",
      "52 H 116 H\n",
      "54 H 28 H\n",
      "55 C 29 C\n",
      "56 H 30 H\n",
      "57 O 31 O\n",
      "58 C 105 C\n",
      "59 H 138 H\n",
      "60 H 139 H\n",
      "61 O 106 O\n",
      "62 H 140 H\n",
      "74 C 41 C\n",
      "70 C 50 C\n",
      "66 C 48 C\n",
      "63 C 46 C\n",
      "64 H 47 H\n",
      "65 O 54 O\n",
      "67 H 49 H\n",
      "68 O 53 O\n",
      "69 H 119 H\n",
      "71 H 51 H\n",
      "72 O 52 O\n",
      "73 H 118 H\n",
      "75 H 42 H\n",
      "76 C 43 C\n",
      "77 H 44 H\n",
      "78 O 45 O\n",
      "79 C 103 C\n",
      "80 H 135 H\n",
      "81 H 136 H\n",
      "82 O 104 O\n",
      "83 H 137 H\n",
      "95 C 55 C\n",
      "91 C 64 C\n",
      "87 C 62 C\n",
      "84 C 60 C\n",
      "85 H 61 H\n",
      "86 O 68 O\n",
      "88 H 63 H\n",
      "89 O 67 O\n",
      "90 H 121 H\n",
      "92 H 65 H\n",
      "93 O 66 O\n",
      "94 H 120 H\n",
      "96 H 56 H\n",
      "97 C 57 C\n",
      "98 H 58 H\n",
      "99 O 59 O\n",
      "100 C 101 C\n",
      "101 H 132 H\n",
      "102 H 133 H\n",
      "103 O 102 O\n",
      "104 H 134 H\n",
      "116 C 69 C\n",
      "112 C 78 C\n",
      "108 C 76 C\n",
      "105 C 74 C\n",
      "106 H 75 H\n",
      "107 O 82 O\n",
      "109 H 77 H\n",
      "110 O 81 O\n",
      "111 H 123 H\n",
      "113 H 79 H\n",
      "114 O 80 O\n",
      "115 H 122 H\n",
      "117 H 70 H\n",
      "118 C 71 C\n",
      "119 H 72 H\n",
      "120 O 73 O\n",
      "121 C 99 C\n",
      "122 H 129 H\n",
      "123 H 130 H\n",
      "124 O 100 O\n",
      "125 H 131 H\n",
      "128 O 90 O\n",
      "126 C 88 C\n",
      "127 H 89 H\n",
      "129 C 91 C\n",
      "130 H 92 H\n",
      "131 O 96 O\n",
      "132 H 125 H\n",
      "133 C 93 C\n",
      "134 H 94 H\n",
      "135 O 95 O\n",
      "136 H 124 H\n",
      "137 C 83 C\n",
      "138 H 84 H\n",
      "139 C 85 C\n",
      "140 H 86 H\n",
      "141 O 87 O\n",
      "142 C 97 C\n",
      "143 H 126 H\n",
      "144 H 127 H\n",
      "145 O 98 O\n",
      "146 H 128 H\n"
     ]
    }
   ],
   "source": [
    "for (reference_atom, target_atom) in reference_to_topology_atom_mapping.items():\n",
    "    print(bcd_gaff_mol.GetAtom(OEHasAtomIdx(reference_atom)), \n",
    "          bcd_smiles_mol.GetAtom(OEHasAtomIdx(target_atom)))"
   ]
  },
  {
   "cell_type": "code",
   "execution_count": 24,
   "metadata": {
    "ExecuteTime": {
     "end_time": "2017-12-14T01:09:18.803892Z",
     "start_time": "2017-12-14T01:09:18.686190Z"
    }
   },
   "outputs": [
    {
     "name": "stdout",
     "output_type": "stream",
     "text": [
      "0 C 0.30452901124954224 \t 9 C 0.0\n",
      "1 H 0.09078200161457062 \t 10 H 0.0\n",
      "2 O -0.4530700147151947 \t 12 O 0.0\n",
      "3 C 0.09219899773597717 \t 7 C 0.0\n",
      "4 H 0.10292600095272064 \t 8 H 0.0\n",
      "5 O -0.5866389870643616 \t 109 O 0.0\n",
      "6 H 0.4250650107860565 \t 144 H 0.0\n",
      "7 C 0.09321100264787674 \t 5 C 0.0\n",
      "8 H 0.06446799635887146 \t 6 H 0.0\n",
      "9 O -0.5925670266151428 \t 110 O 0.0\n",
      "10 H 0.42101699113845825 \t 145 H 0.0\n",
      "11 C 0.12762099504470825 \t 3 C 0.0\n",
      "12 H 0.08066099882125854 \t 4 H 0.0\n",
      "13 C 0.1043429970741272 \t 1 C 0.0\n",
      "14 H 0.06851600110530853 \t 2 H 0.0\n",
      "15 O -0.4273830056190491 \t 11 O 0.0\n",
      "16 C 0.14108100533485413 \t 0 C 0.0\n",
      "17 H 0.05738399922847748 \t 112 H 0.0\n",
      "18 H 0.05738399922847748 \t 113 H 0.0\n",
      "19 O -0.5935549736022949 \t 111 O 0.0\n",
      "20 H 0.42202699184417725 \t 146 H 0.0\n",
      "32 C 0.12762099504470825 \t 13 C 0.0\n",
      "28 C 0.09321100264787674 \t 22 C 0.0\n",
      "24 C 0.09219899773597717 \t 20 C 0.0\n",
      "21 C 0.30452901124954224 \t 18 C 0.0\n",
      "22 H 0.09078200161457062 \t 19 H 0.0\n",
      "23 O -0.4530700147151947 \t 26 O 0.0\n",
      "25 H 0.10292600095272064 \t 21 H 0.0\n",
      "26 O -0.5866389870643616 \t 25 O 0.0\n",
      "27 H 0.4250650107860565 \t 115 H 0.0\n",
      "29 H 0.06446799635887146 \t 23 H 0.0\n",
      "30 O -0.5925670266151428 \t 24 O 0.0\n",
      "31 H 0.42101699113845825 \t 114 H 0.0\n",
      "33 H 0.08066099882125854 \t 14 H 0.0\n",
      "34 C 0.1043429970741272 \t 15 C 0.0\n",
      "35 H 0.06851600110530853 \t 16 H 0.0\n",
      "36 O -0.4273830056190491 \t 17 O 0.0\n",
      "37 C 0.14108100533485413 \t 107 C 0.0\n",
      "38 H 0.05738399922847748 \t 141 H 0.0\n",
      "39 H 0.05738399922847748 \t 142 H 0.0\n",
      "40 O -0.5935549736022949 \t 108 O 0.0\n",
      "41 H 0.42202699184417725 \t 143 H 0.0\n",
      "53 C 0.12762099504470825 \t 27 C 0.0\n",
      "49 C 0.09321100264787674 \t 36 C 0.0\n",
      "45 C 0.09219899773597717 \t 34 C 0.0\n",
      "42 C 0.30452901124954224 \t 32 C 0.0\n",
      "43 H 0.09078200161457062 \t 33 H 0.0\n",
      "44 O -0.4530700147151947 \t 40 O 0.0\n",
      "46 H 0.10292600095272064 \t 35 H 0.0\n",
      "47 O -0.5866389870643616 \t 39 O 0.0\n",
      "48 H 0.4250650107860565 \t 117 H 0.0\n",
      "50 H 0.06446799635887146 \t 37 H 0.0\n",
      "51 O -0.5925670266151428 \t 38 O 0.0\n",
      "52 H 0.42101699113845825 \t 116 H 0.0\n",
      "54 H 0.08066099882125854 \t 28 H 0.0\n",
      "55 C 0.1043429970741272 \t 29 C 0.0\n",
      "56 H 0.06851600110530853 \t 30 H 0.0\n",
      "57 O -0.4273830056190491 \t 31 O 0.0\n",
      "58 C 0.14108100533485413 \t 105 C 0.0\n",
      "59 H 0.05738399922847748 \t 138 H 0.0\n",
      "60 H 0.05738399922847748 \t 139 H 0.0\n",
      "61 O -0.5935549736022949 \t 106 O 0.0\n",
      "62 H 0.42202699184417725 \t 140 H 0.0\n",
      "74 C 0.12762099504470825 \t 41 C 0.0\n",
      "70 C 0.09321100264787674 \t 50 C 0.0\n",
      "66 C 0.09219899773597717 \t 48 C 0.0\n",
      "63 C 0.30452901124954224 \t 46 C 0.0\n",
      "64 H 0.09078200161457062 \t 47 H 0.0\n",
      "65 O -0.4530700147151947 \t 54 O 0.0\n",
      "67 H 0.10292600095272064 \t 49 H 0.0\n",
      "68 O -0.5866389870643616 \t 53 O 0.0\n",
      "69 H 0.4250650107860565 \t 119 H 0.0\n",
      "71 H 0.06446799635887146 \t 51 H 0.0\n",
      "72 O -0.5925670266151428 \t 52 O 0.0\n",
      "73 H 0.42101699113845825 \t 118 H 0.0\n",
      "75 H 0.08066099882125854 \t 42 H 0.0\n",
      "76 C 0.1043429970741272 \t 43 C 0.0\n",
      "77 H 0.06851600110530853 \t 44 H 0.0\n",
      "78 O -0.4273830056190491 \t 45 O 0.0\n",
      "79 C 0.14108100533485413 \t 103 C 0.0\n",
      "80 H 0.05738399922847748 \t 135 H 0.0\n",
      "81 H 0.05738399922847748 \t 136 H 0.0\n",
      "82 O -0.5935549736022949 \t 104 O 0.0\n",
      "83 H 0.42202699184417725 \t 137 H 0.0\n",
      "95 C 0.12762099504470825 \t 55 C 0.0\n",
      "91 C 0.09321100264787674 \t 64 C 0.0\n",
      "87 C 0.09219899773597717 \t 62 C 0.0\n",
      "84 C 0.30452901124954224 \t 60 C 0.0\n",
      "85 H 0.09078200161457062 \t 61 H 0.0\n",
      "86 O -0.4530700147151947 \t 68 O 0.0\n",
      "88 H 0.10292600095272064 \t 63 H 0.0\n",
      "89 O -0.5866389870643616 \t 67 O 0.0\n",
      "90 H 0.4250650107860565 \t 121 H 0.0\n",
      "92 H 0.06446799635887146 \t 65 H 0.0\n",
      "93 O -0.5925670266151428 \t 66 O 0.0\n",
      "94 H 0.42101699113845825 \t 120 H 0.0\n",
      "96 H 0.08066099882125854 \t 56 H 0.0\n",
      "97 C 0.1043429970741272 \t 57 C 0.0\n",
      "98 H 0.06851600110530853 \t 58 H 0.0\n",
      "99 O -0.4273830056190491 \t 59 O 0.0\n",
      "100 C 0.14108100533485413 \t 101 C 0.0\n",
      "101 H 0.05738399922847748 \t 132 H 0.0\n",
      "102 H 0.05738399922847748 \t 133 H 0.0\n",
      "103 O -0.5935549736022949 \t 102 O 0.0\n",
      "104 H 0.42202699184417725 \t 134 H 0.0\n",
      "116 C 0.12762099504470825 \t 69 C 0.0\n",
      "112 C 0.09321100264787674 \t 78 C 0.0\n",
      "108 C 0.09219899773597717 \t 76 C 0.0\n",
      "105 C 0.30452901124954224 \t 74 C 0.0\n",
      "106 H 0.09078200161457062 \t 75 H 0.0\n",
      "107 O -0.4530700147151947 \t 82 O 0.0\n",
      "109 H 0.10292600095272064 \t 77 H 0.0\n",
      "110 O -0.5866389870643616 \t 81 O 0.0\n",
      "111 H 0.4250650107860565 \t 123 H 0.0\n",
      "113 H 0.06446799635887146 \t 79 H 0.0\n",
      "114 O -0.5925670266151428 \t 80 O 0.0\n",
      "115 H 0.42101699113845825 \t 122 H 0.0\n",
      "117 H 0.08066099882125854 \t 70 H 0.0\n",
      "118 C 0.1043429970741272 \t 71 C 0.0\n",
      "119 H 0.06851600110530853 \t 72 H 0.0\n",
      "120 O -0.4273830056190491 \t 73 O 0.0\n",
      "121 C 0.14108100533485413 \t 99 C 0.0\n",
      "122 H 0.05738399922847748 \t 129 H 0.0\n",
      "123 H 0.05738399922847748 \t 130 H 0.0\n",
      "124 O -0.5935549736022949 \t 100 O 0.0\n",
      "125 H 0.42202699184417725 \t 131 H 0.0\n",
      "128 O -0.4530700147151947 \t 90 O 0.0\n",
      "126 C 0.30452901124954224 \t 88 C 0.0\n",
      "127 H 0.09078200161457062 \t 89 H 0.0\n",
      "129 C 0.09219899773597717 \t 91 C 0.0\n",
      "130 H 0.10292600095272064 \t 92 H 0.0\n",
      "131 O -0.5866389870643616 \t 96 O 0.0\n",
      "132 H 0.4250650107860565 \t 125 H 0.0\n",
      "133 C 0.09321100264787674 \t 93 C 0.0\n",
      "134 H 0.06446799635887146 \t 94 H 0.0\n",
      "135 O -0.5925670266151428 \t 95 O 0.0\n",
      "136 H 0.42101699113845825 \t 124 H 0.0\n",
      "137 C 0.12762099504470825 \t 83 C 0.0\n",
      "138 H 0.08066099882125854 \t 84 H 0.0\n",
      "139 C 0.1043429970741272 \t 85 C 0.0\n",
      "140 H 0.06851600110530853 \t 86 H 0.0\n",
      "141 O -0.4273830056190491 \t 87 O 0.0\n",
      "142 C 0.14108100533485413 \t 97 C 0.0\n",
      "143 H 0.05738399922847748 \t 126 H 0.0\n",
      "144 H 0.05738399922847748 \t 127 H 0.0\n",
      "145 O -0.5935549736022949 \t 98 O 0.0\n",
      "146 H 0.42202699184417725 \t 128 H 0.0\n"
     ]
    }
   ],
   "source": [
    "for (reference_atom, target_atom) in reference_to_topology_atom_mapping.items():\n",
    "    reference = bcd_gaff_mol.GetAtom(OEHasAtomIdx(reference_atom))\n",
    "    reference_idx = reference.GetIdx()\n",
    "    reference_syb = OEGetAtomicSymbol(reference.GetAtomicNum())\n",
    "    reference_charge = reference.GetPartialCharge()\n",
    "\n",
    "    template = bcd_smiles_mol.GetAtom(OEHasAtomIdx(target_atom))\n",
    "    template_idx = template.GetIdx()\n",
    "    template_syb = OEGetAtomicSymbol(template.GetAtomicNum())\n",
    "    template_charge = template.GetPartialCharge()\n",
    "\n",
    "    print(reference_idx, reference_syb, reference_charge, '\\t',\n",
    "         template_idx, template_syb, template_charge)"
   ]
  },
  {
   "cell_type": "code",
   "execution_count": 25,
   "metadata": {
    "ExecuteTime": {
     "end_time": "2017-12-14T01:09:20.852940Z",
     "start_time": "2017-12-14T01:09:20.734756Z"
    }
   },
   "outputs": [
    {
     "name": "stdout",
     "output_type": "stream",
     "text": [
      "0 C 0.30452901124954224 \t 9 C 0.30452901124954224\n",
      "1 H 0.09078200161457062 \t 10 H 0.09078200161457062\n",
      "2 O -0.4530700147151947 \t 12 O -0.4530700147151947\n",
      "3 C 0.09219899773597717 \t 7 C 0.09219899773597717\n",
      "4 H 0.10292600095272064 \t 8 H 0.10292600095272064\n",
      "5 O -0.5866389870643616 \t 109 O -0.5866389870643616\n",
      "6 H 0.4250650107860565 \t 144 H 0.4250650107860565\n",
      "7 C 0.09321100264787674 \t 5 C 0.09321100264787674\n",
      "8 H 0.06446799635887146 \t 6 H 0.06446799635887146\n",
      "9 O -0.5925670266151428 \t 110 O -0.5925670266151428\n",
      "10 H 0.42101699113845825 \t 145 H 0.42101699113845825\n",
      "11 C 0.12762099504470825 \t 3 C 0.12762099504470825\n",
      "12 H 0.08066099882125854 \t 4 H 0.08066099882125854\n",
      "13 C 0.1043429970741272 \t 1 C 0.1043429970741272\n",
      "14 H 0.06851600110530853 \t 2 H 0.06851600110530853\n",
      "15 O -0.4273830056190491 \t 11 O -0.4273830056190491\n",
      "16 C 0.14108100533485413 \t 0 C 0.14108100533485413\n",
      "17 H 0.05738399922847748 \t 112 H 0.05738399922847748\n",
      "18 H 0.05738399922847748 \t 113 H 0.05738399922847748\n",
      "19 O -0.5935549736022949 \t 111 O -0.5935549736022949\n",
      "20 H 0.42202699184417725 \t 146 H 0.42202699184417725\n",
      "32 C 0.12762099504470825 \t 13 C 0.12762099504470825\n",
      "28 C 0.09321100264787674 \t 22 C 0.09321100264787674\n",
      "24 C 0.09219899773597717 \t 20 C 0.09219899773597717\n",
      "21 C 0.30452901124954224 \t 18 C 0.30452901124954224\n",
      "22 H 0.09078200161457062 \t 19 H 0.09078200161457062\n",
      "23 O -0.4530700147151947 \t 26 O -0.4530700147151947\n",
      "25 H 0.10292600095272064 \t 21 H 0.10292600095272064\n",
      "26 O -0.5866389870643616 \t 25 O -0.5866389870643616\n",
      "27 H 0.4250650107860565 \t 115 H 0.4250650107860565\n",
      "29 H 0.06446799635887146 \t 23 H 0.06446799635887146\n",
      "30 O -0.5925670266151428 \t 24 O -0.5925670266151428\n",
      "31 H 0.42101699113845825 \t 114 H 0.42101699113845825\n",
      "33 H 0.08066099882125854 \t 14 H 0.08066099882125854\n",
      "34 C 0.1043429970741272 \t 15 C 0.1043429970741272\n",
      "35 H 0.06851600110530853 \t 16 H 0.06851600110530853\n",
      "36 O -0.4273830056190491 \t 17 O -0.4273830056190491\n",
      "37 C 0.14108100533485413 \t 107 C 0.14108100533485413\n",
      "38 H 0.05738399922847748 \t 141 H 0.05738399922847748\n",
      "39 H 0.05738399922847748 \t 142 H 0.05738399922847748\n",
      "40 O -0.5935549736022949 \t 108 O -0.5935549736022949\n",
      "41 H 0.42202699184417725 \t 143 H 0.42202699184417725\n",
      "53 C 0.12762099504470825 \t 27 C 0.12762099504470825\n",
      "49 C 0.09321100264787674 \t 36 C 0.09321100264787674\n",
      "45 C 0.09219899773597717 \t 34 C 0.09219899773597717\n",
      "42 C 0.30452901124954224 \t 32 C 0.30452901124954224\n",
      "43 H 0.09078200161457062 \t 33 H 0.09078200161457062\n",
      "44 O -0.4530700147151947 \t 40 O -0.4530700147151947\n",
      "46 H 0.10292600095272064 \t 35 H 0.10292600095272064\n",
      "47 O -0.5866389870643616 \t 39 O -0.5866389870643616\n",
      "48 H 0.4250650107860565 \t 117 H 0.4250650107860565\n",
      "50 H 0.06446799635887146 \t 37 H 0.06446799635887146\n",
      "51 O -0.5925670266151428 \t 38 O -0.5925670266151428\n",
      "52 H 0.42101699113845825 \t 116 H 0.42101699113845825\n",
      "54 H 0.08066099882125854 \t 28 H 0.08066099882125854\n",
      "55 C 0.1043429970741272 \t 29 C 0.1043429970741272\n",
      "56 H 0.06851600110530853 \t 30 H 0.06851600110530853\n",
      "57 O -0.4273830056190491 \t 31 O -0.4273830056190491\n",
      "58 C 0.14108100533485413 \t 105 C 0.14108100533485413\n",
      "59 H 0.05738399922847748 \t 138 H 0.05738399922847748\n",
      "60 H 0.05738399922847748 \t 139 H 0.05738399922847748\n",
      "61 O -0.5935549736022949 \t 106 O -0.5935549736022949\n",
      "62 H 0.42202699184417725 \t 140 H 0.42202699184417725\n",
      "74 C 0.12762099504470825 \t 41 C 0.12762099504470825\n",
      "70 C 0.09321100264787674 \t 50 C 0.09321100264787674\n",
      "66 C 0.09219899773597717 \t 48 C 0.09219899773597717\n",
      "63 C 0.30452901124954224 \t 46 C 0.30452901124954224\n",
      "64 H 0.09078200161457062 \t 47 H 0.09078200161457062\n",
      "65 O -0.4530700147151947 \t 54 O -0.4530700147151947\n",
      "67 H 0.10292600095272064 \t 49 H 0.10292600095272064\n",
      "68 O -0.5866389870643616 \t 53 O -0.5866389870643616\n",
      "69 H 0.4250650107860565 \t 119 H 0.4250650107860565\n",
      "71 H 0.06446799635887146 \t 51 H 0.06446799635887146\n",
      "72 O -0.5925670266151428 \t 52 O -0.5925670266151428\n",
      "73 H 0.42101699113845825 \t 118 H 0.42101699113845825\n",
      "75 H 0.08066099882125854 \t 42 H 0.08066099882125854\n",
      "76 C 0.1043429970741272 \t 43 C 0.1043429970741272\n",
      "77 H 0.06851600110530853 \t 44 H 0.06851600110530853\n",
      "78 O -0.4273830056190491 \t 45 O -0.4273830056190491\n",
      "79 C 0.14108100533485413 \t 103 C 0.14108100533485413\n",
      "80 H 0.05738399922847748 \t 135 H 0.05738399922847748\n",
      "81 H 0.05738399922847748 \t 136 H 0.05738399922847748\n",
      "82 O -0.5935549736022949 \t 104 O -0.5935549736022949\n",
      "83 H 0.42202699184417725 \t 137 H 0.42202699184417725\n",
      "95 C 0.12762099504470825 \t 55 C 0.12762099504470825\n",
      "91 C 0.09321100264787674 \t 64 C 0.09321100264787674\n",
      "87 C 0.09219899773597717 \t 62 C 0.09219899773597717\n",
      "84 C 0.30452901124954224 \t 60 C 0.30452901124954224\n",
      "85 H 0.09078200161457062 \t 61 H 0.09078200161457062\n",
      "86 O -0.4530700147151947 \t 68 O -0.4530700147151947\n",
      "88 H 0.10292600095272064 \t 63 H 0.10292600095272064\n",
      "89 O -0.5866389870643616 \t 67 O -0.5866389870643616\n",
      "90 H 0.4250650107860565 \t 121 H 0.4250650107860565\n",
      "92 H 0.06446799635887146 \t 65 H 0.06446799635887146\n",
      "93 O -0.5925670266151428 \t 66 O -0.5925670266151428\n",
      "94 H 0.42101699113845825 \t 120 H 0.42101699113845825\n",
      "96 H 0.08066099882125854 \t 56 H 0.08066099882125854\n",
      "97 C 0.1043429970741272 \t 57 C 0.1043429970741272\n",
      "98 H 0.06851600110530853 \t 58 H 0.06851600110530853\n",
      "99 O -0.4273830056190491 \t 59 O -0.4273830056190491\n",
      "100 C 0.14108100533485413 \t 101 C 0.14108100533485413\n",
      "101 H 0.05738399922847748 \t 132 H 0.05738399922847748\n",
      "102 H 0.05738399922847748 \t 133 H 0.05738399922847748\n",
      "103 O -0.5935549736022949 \t 102 O -0.5935549736022949\n",
      "104 H 0.42202699184417725 \t 134 H 0.42202699184417725\n",
      "116 C 0.12762099504470825 \t 69 C 0.12762099504470825\n",
      "112 C 0.09321100264787674 \t 78 C 0.09321100264787674\n",
      "108 C 0.09219899773597717 \t 76 C 0.09219899773597717\n",
      "105 C 0.30452901124954224 \t 74 C 0.30452901124954224\n",
      "106 H 0.09078200161457062 \t 75 H 0.09078200161457062\n",
      "107 O -0.4530700147151947 \t 82 O -0.4530700147151947\n",
      "109 H 0.10292600095272064 \t 77 H 0.10292600095272064\n",
      "110 O -0.5866389870643616 \t 81 O -0.5866389870643616\n",
      "111 H 0.4250650107860565 \t 123 H 0.4250650107860565\n",
      "113 H 0.06446799635887146 \t 79 H 0.06446799635887146\n",
      "114 O -0.5925670266151428 \t 80 O -0.5925670266151428\n",
      "115 H 0.42101699113845825 \t 122 H 0.42101699113845825\n",
      "117 H 0.08066099882125854 \t 70 H 0.08066099882125854\n",
      "118 C 0.1043429970741272 \t 71 C 0.1043429970741272\n",
      "119 H 0.06851600110530853 \t 72 H 0.06851600110530853\n",
      "120 O -0.4273830056190491 \t 73 O -0.4273830056190491\n",
      "121 C 0.14108100533485413 \t 99 C 0.14108100533485413\n",
      "122 H 0.05738399922847748 \t 129 H 0.05738399922847748\n",
      "123 H 0.05738399922847748 \t 130 H 0.05738399922847748\n",
      "124 O -0.5935549736022949 \t 100 O -0.5935549736022949\n",
      "125 H 0.42202699184417725 \t 131 H 0.42202699184417725\n",
      "128 O -0.4530700147151947 \t 90 O -0.4530700147151947\n",
      "126 C 0.30452901124954224 \t 88 C 0.30452901124954224\n",
      "127 H 0.09078200161457062 \t 89 H 0.09078200161457062\n",
      "129 C 0.09219899773597717 \t 91 C 0.09219899773597717\n",
      "130 H 0.10292600095272064 \t 92 H 0.10292600095272064\n",
      "131 O -0.5866389870643616 \t 96 O -0.5866389870643616\n",
      "132 H 0.4250650107860565 \t 125 H 0.4250650107860565\n",
      "133 C 0.09321100264787674 \t 93 C 0.09321100264787674\n",
      "134 H 0.06446799635887146 \t 94 H 0.06446799635887146\n",
      "135 O -0.5925670266151428 \t 95 O -0.5925670266151428\n",
      "136 H 0.42101699113845825 \t 124 H 0.42101699113845825\n",
      "137 C 0.12762099504470825 \t 83 C 0.12762099504470825\n",
      "138 H 0.08066099882125854 \t 84 H 0.08066099882125854\n",
      "139 C 0.1043429970741272 \t 85 C 0.1043429970741272\n",
      "140 H 0.06851600110530853 \t 86 H 0.06851600110530853\n",
      "141 O -0.4273830056190491 \t 87 O -0.4273830056190491\n",
      "142 C 0.14108100533485413 \t 97 C 0.14108100533485413\n",
      "143 H 0.05738399922847748 \t 126 H 0.05738399922847748\n",
      "144 H 0.05738399922847748 \t 127 H 0.05738399922847748\n",
      "145 O -0.5935549736022949 \t 98 O -0.5935549736022949\n",
      "146 H 0.42202699184417725 \t 128 H 0.42202699184417725\n"
     ]
    }
   ],
   "source": [
    "for (reference_atom, target_atom) in reference_to_topology_atom_mapping.items():\n",
    "    reference = bcd_gaff_mol.GetAtom(OEHasAtomIdx(reference_atom))\n",
    "    reference_idx = reference.GetIdx()\n",
    "    reference_syb = OEGetAtomicSymbol(reference.GetAtomicNum())\n",
    "    reference_charge = reference.GetPartialCharge()\n",
    "\n",
    "    template = bcd_smiles_mol.GetAtom(OEHasAtomIdx(target_atom))\n",
    "    template_idx = template.GetIdx()\n",
    "    template_syb = OEGetAtomicSymbol(template.GetAtomicNum())\n",
    "    # template_charge = template.GetPartialCharge()\n",
    "    \n",
    "    template.SetPartialCharge(reference_charge)\n",
    "    template_charge = template.GetPartialCharge()\n",
    "\n",
    "    print(reference_idx, reference_syb, reference_charge, '\\t',\n",
    "         template_idx, template_syb, template_charge)"
   ]
  },
  {
   "cell_type": "code",
   "execution_count": 26,
   "metadata": {
    "ExecuteTime": {
     "end_time": "2017-12-14T01:09:28.113884Z",
     "start_time": "2017-12-14T01:09:28.110216Z"
    }
   },
   "outputs": [
    {
     "data": {
      "text/plain": [
       "<openeye.oechem.OEAtomBase; proxy of <Swig Object of type 'OEChem::OEAtomBase *' at 0x7f889a7d3e40> >"
      ]
     },
     "execution_count": 26,
     "metadata": {},
     "output_type": "execute_result"
    }
   ],
   "source": [
    "template"
   ]
  },
  {
   "cell_type": "code",
   "execution_count": 29,
   "metadata": {
    "ExecuteTime": {
     "end_time": "2017-12-14T01:17:39.701280Z",
     "start_time": "2017-12-14T01:17:39.694887Z"
    }
   },
   "outputs": [
    {
     "data": {
      "text/plain": [
       "0"
      ]
     },
     "execution_count": 29,
     "metadata": {},
     "output_type": "execute_result"
    }
   ],
   "source": [
    "ofs = oemolostream()\n",
    "ofs.open('bcd-openeye-antechamber-charges.mol2')\n",
    "OEWriteMolecule(ofs, bcd_smiles_mol)"
   ]
  },
  {
   "cell_type": "markdown",
   "metadata": {},
   "source": [
    "# Maybe it doesn't show up because it's 2D and I need to generate a conformation?"
   ]
  },
  {
   "cell_type": "code",
   "execution_count": 31,
   "metadata": {
    "ExecuteTime": {
     "end_time": "2017-12-14T20:43:52.526678Z",
     "start_time": "2017-12-14T20:43:52.523953Z"
    }
   },
   "outputs": [],
   "source": [
    "from openeye.oeomega import *"
   ]
  },
  {
   "cell_type": "code",
   "execution_count": 32,
   "metadata": {
    "ExecuteTime": {
     "end_time": "2017-12-14T20:43:55.831022Z",
     "start_time": "2017-12-14T20:43:55.817954Z"
    },
    "collapsed": true
   },
   "outputs": [],
   "source": [
    "omegaOpts = OEOmegaOptions()\n",
    "omegaOpts.SetMaxConfs(1)\n",
    "omega = OEOmega(omegaOpts)"
   ]
  },
  {
   "cell_type": "code",
   "execution_count": 33,
   "metadata": {
    "ExecuteTime": {
     "end_time": "2017-12-14T21:00:04.131162Z",
     "start_time": "2017-12-14T20:44:04.153434Z"
    }
   },
   "outputs": [
    {
     "data": {
      "text/plain": [
       "True"
      ]
     },
     "execution_count": 33,
     "metadata": {},
     "output_type": "execute_result"
    }
   ],
   "source": [
    "omega(bcd_smiles_mol)"
   ]
  },
  {
   "cell_type": "code",
   "execution_count": 34,
   "metadata": {
    "ExecuteTime": {
     "end_time": "2017-12-14T21:00:04.138663Z",
     "start_time": "2017-12-14T21:00:04.132823Z"
    }
   },
   "outputs": [
    {
     "data": {
      "text/plain": [
       "0"
      ]
     },
     "execution_count": 34,
     "metadata": {},
     "output_type": "execute_result"
    }
   ],
   "source": [
    "ofs = oemolostream()\n",
    "ofs.open('bcd-openeye-antechamber-charges.mol2')\n",
    "OEWriteMolecule(ofs, bcd_smiles_mol)"
   ]
  },
  {
   "cell_type": "code",
   "execution_count": null,
   "metadata": {
    "collapsed": true
   },
   "outputs": [],
   "source": []
  }
 ],
 "metadata": {
  "kernelspec": {
   "display_name": "Python [conda env:openforcefield]",
   "language": "python",
   "name": "conda-env-openforcefield-py"
  },
  "language_info": {
   "codemirror_mode": {
    "name": "ipython",
    "version": 3
   },
   "file_extension": ".py",
   "mimetype": "text/x-python",
   "name": "python",
   "nbconvert_exporter": "python",
   "pygments_lexer": "ipython3",
   "version": "3.6.1"
  }
 },
 "nbformat": 4,
 "nbformat_minor": 2
}
