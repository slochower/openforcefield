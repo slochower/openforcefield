{
 "cells": [
  {
   "cell_type": "markdown",
   "metadata": {},
   "source": [
    "# How to build an AMBER-compatible host-guest complex using the SMIRNOFF force field starting with SYBYL-formatted `mol2` files"
   ]
  },
  {
   "cell_type": "code",
   "execution_count": 3,
   "metadata": {
    "ExecuteTime": {
     "end_time": "2017-12-08T20:36:36.164639Z",
     "start_time": "2017-12-08T20:36:35.286487Z"
    },
    "collapsed": true
   },
   "outputs": [],
   "source": [
    "import parmed as pmd\n",
    "import subprocess as sp\n",
    "import numpy as np\n",
    "\n",
    "from openeye import oechem\n",
    "from openforcefield.typing.engines.smirnoff import *\n",
    "from pdbfixer import PDBFixer"
   ]
  },
  {
   "cell_type": "markdown",
   "metadata": {},
   "source": [
    "## Step 0: generate SYBYL-formatted `mol2` files\n",
    "\n",
    "Starting with files containing AM1-BCC charges and GAFF v1.7 Lennard-Jones and bonded parameters:\n",
    "\n",
    "```\n",
    "antechamber -i bcd.mol2 -fi mol2 -o bcd-sybyl.mol2 -fo mol2 -at sybyl\n",
    "antechamber -i ben.mol2 -fi mol2 -o ben-sybyl.mol2 -fo mol2 -at sybyl -dr n\n",
    "(benzoate)\n",
    "# Disable `acdoctor` to handle carboxylate group\n",
    "```"
   ]
  },
  {
   "cell_type": "code",
   "execution_count": 2,
   "metadata": {
    "ExecuteTime": {
     "end_time": "2017-12-07T00:18:38.920882Z",
     "start_time": "2017-12-07T00:18:38.917755Z"
    },
    "collapsed": true
   },
   "outputs": [],
   "source": [
    "path = './bcd-ben/'\n",
    "bcd = path + 'bcd-sybyl.mol2'\n",
    "ben = path + 'ben-sybyl.mol2'"
   ]
  },
  {
   "cell_type": "markdown",
   "metadata": {},
   "source": [
    "## Step 1: load molecules in an `oechem.OEMol`"
   ]
  },
  {
   "cell_type": "code",
   "execution_count": 3,
   "metadata": {
    "ExecuteTime": {
     "end_time": "2017-12-07T00:18:39.225744Z",
     "start_time": "2017-12-07T00:18:38.922647Z"
    },
    "collapsed": true
   },
   "outputs": [],
   "source": [
    "mols = []\n",
    "ifs = oechem.oemolistream(bcd)\n",
    "for mol in ifs.GetOEGraphMols():\n",
    "    mols.append(oechem.OEMol(mol))"
   ]
  },
  {
   "cell_type": "markdown",
   "metadata": {},
   "source": [
    "## Step 1.5: since `bcd` is a cyclic molecule, let's write a version without connectivity and then have OpenEye perceive connectivity based on [this issue](https://github.com/openforcefield/openforcefield/issues/66)"
   ]
  },
  {
   "cell_type": "code",
   "execution_count": 4,
   "metadata": {
    "ExecuteTime": {
     "end_time": "2017-12-07T00:18:39.600615Z",
     "start_time": "2017-12-07T00:18:39.227510Z"
    },
    "collapsed": true
   },
   "outputs": [],
   "source": [
    "ofs = oechem.oemolostream()\n",
    "ofs.open(path + 'bcd-no-conect.xyz')\n",
    "flavor = oechem.OEOFlavor_Generic_Default\n",
    "ofs.SetFlavor(oechem.OEFormat_XYZ, flavor)\n",
    "oechem.OEWriteXYZFile(ofs, mols[0])\n",
    "ofs.close()"
   ]
  },
  {
   "cell_type": "code",
   "execution_count": 5,
   "metadata": {
    "ExecuteTime": {
     "end_time": "2017-12-07T00:18:39.909323Z",
     "start_time": "2017-12-07T00:18:39.602351Z"
    },
    "collapsed": true
   },
   "outputs": [],
   "source": [
    "ifs = oechem.oemolistream(path + 'bcd-no-conect.xyz')\n",
    "for mol in ifs.GetOEGraphMols():\n",
    "    oechem.OEDetermineConnectivity(mol)\n",
    "    oechem.OEPerceiveBondOrders(mol)\n",
    "    # Replace existing cyclodextrin\n",
    "    oechem.OETriposAtomNames(mol)\n",
    "    mols[0] = oechem.OEMol(mol)"
   ]
  },
  {
   "cell_type": "code",
   "execution_count": 6,
   "metadata": {
    "ExecuteTime": {
     "end_time": "2017-12-07T00:18:40.377151Z",
     "start_time": "2017-12-07T00:18:39.911172Z"
    },
    "collapsed": true
   },
   "outputs": [],
   "source": [
    "ifs = oechem.oemolistream(ben)\n",
    "for mol in ifs.GetOEGraphMols():\n",
    "    mols.append(oechem.OEMol(mol))"
   ]
  },
  {
   "cell_type": "markdown",
   "metadata": {},
   "source": [
    "## Step 2: build reference molecules for water and ions"
   ]
  },
  {
   "cell_type": "code",
   "execution_count": 7,
   "metadata": {
    "ExecuteTime": {
     "end_time": "2017-12-07T00:18:40.675264Z",
     "start_time": "2017-12-07T00:18:40.379054Z"
    },
    "collapsed": true
   },
   "outputs": [],
   "source": [
    "smiles = ['[Na+]', '[Cl-]', 'O']\n",
    "for molecule in smiles:\n",
    "    mol = oechem.OEMol()\n",
    "    oechem.OESmilesToMol(mol, molecule)\n",
    "    for atom in mol.GetAtoms():\n",
    "        atom.SetPartialCharge(atom.GetFormalCharge())\n",
    "    oechem.OEAddExplicitHydrogens(mol)\n",
    "    oechem.OETriposAtomNames(mol)\n",
    "    mols.append(mol)"
   ]
  },
  {
   "cell_type": "markdown",
   "metadata": {},
   "source": [
    "## Step 3: read in fully solvated system with host, guest, water, and ions"
   ]
  },
  {
   "cell_type": "markdown",
   "metadata": {
    "collapsed": true
   },
   "source": [
    "### Step 3.1: create a PDB of the system with CONECT records\n",
    "This requires using the \"original\" `mol2` files with GAFF atom names."
   ]
  },
  {
   "cell_type": "code",
   "execution_count": 8,
   "metadata": {
    "ExecuteTime": {
     "end_time": "2017-12-07T00:18:41.058372Z",
     "start_time": "2017-12-07T00:18:40.676951Z"
    },
    "collapsed": true
   },
   "outputs": [],
   "source": [
    "solvated_pdb = 'bcd-ben.pdb'\n",
    "amber_prmtop = 'solvated.prmtop'\n",
    "pdb_with_conect = 'bcd-ben-conect.pdb'\n",
    "cpptraj_input = 'bcd-ben-conect.in'\n",
    "\n",
    "cpptraj = \\\n",
    "'''\n",
    "parm {}\n",
    "trajin {}\n",
    "trajout {} conect\n",
    "'''.format(amber_prmtop, solvated_pdb, pdb_with_conect)"
   ]
  },
  {
   "cell_type": "code",
   "execution_count": 9,
   "metadata": {
    "ExecuteTime": {
     "end_time": "2017-12-07T00:18:41.366797Z",
     "start_time": "2017-12-07T00:18:41.060083Z"
    },
    "collapsed": true
   },
   "outputs": [],
   "source": [
    "with open(path + cpptraj_input, 'w') as file:\n",
    "    file.write(cpptraj)"
   ]
  },
  {
   "cell_type": "code",
   "execution_count": 10,
   "metadata": {
    "ExecuteTime": {
     "end_time": "2017-12-07T00:18:41.800861Z",
     "start_time": "2017-12-07T00:18:41.368587Z"
    },
    "collapsed": true
   },
   "outputs": [],
   "source": [
    "cpptraj_output = sp.check_output(['cpptraj', '-i', cpptraj_input], cwd=path)"
   ]
  },
  {
   "cell_type": "markdown",
   "metadata": {},
   "source": [
    "### Step 3.2: prune the CONECT records that correspond specifically to water molecules"
   ]
  },
  {
   "cell_type": "code",
   "execution_count": 11,
   "metadata": {
    "ExecuteTime": {
     "end_time": "2017-12-07T00:18:42.105967Z",
     "start_time": "2017-12-07T00:18:41.803165Z"
    },
    "collapsed": true
   },
   "outputs": [],
   "source": [
    "first_water = sp.check_output(['grep', '-m 1', 'WAT', pdb_with_conect], cwd=path).decode(\"utf-8\") "
   ]
  },
  {
   "cell_type": "code",
   "execution_count": 12,
   "metadata": {
    "ExecuteTime": {
     "end_time": "2017-12-07T00:18:42.484569Z",
     "start_time": "2017-12-07T00:18:42.107969Z"
    }
   },
   "outputs": [
    {
     "name": "stdout",
     "output_type": "stream",
     "text": [
      "First water residue = 175\n"
     ]
    }
   ],
   "source": [
    "first_water_residue = int(float(first_water.split()[1]))\n",
    "print('First water residue = {}'.format(first_water_residue))"
   ]
  },
  {
   "cell_type": "code",
   "execution_count": 13,
   "metadata": {
    "ExecuteTime": {
     "end_time": "2017-12-07T00:18:42.800630Z",
     "start_time": "2017-12-07T00:18:42.486390Z"
    },
    "collapsed": true
   },
   "outputs": [],
   "source": [
    "line_of_first_conect_to_delete = sp.check_output(['egrep', '-n', 'CONECT [ ]* {}'.format(str(first_water_residue)), \n",
    "                                                  pdb_with_conect], cwd=path).decode(\"utf-8\")"
   ]
  },
  {
   "cell_type": "code",
   "execution_count": 14,
   "metadata": {
    "ExecuteTime": {
     "end_time": "2017-12-07T00:18:43.176084Z",
     "start_time": "2017-12-07T00:18:42.802718Z"
    }
   },
   "outputs": [
    {
     "name": "stdout",
     "output_type": "stream",
     "text": [
      "Found first water CONECT entry at line = 9192\n"
     ]
    }
   ],
   "source": [
    "line_to_delete_from = int(float(line_of_first_conect_to_delete.split(':')[0]))\n",
    "print('Found first water CONECT entry at line = {}'.format(line_to_delete_from))"
   ]
  },
  {
   "cell_type": "code",
   "execution_count": 15,
   "metadata": {
    "ExecuteTime": {
     "end_time": "2017-12-07T00:18:43.493710Z",
     "start_time": "2017-12-07T00:18:43.177849Z"
    },
    "collapsed": true
   },
   "outputs": [],
   "source": [
    "truncated_file = sp.check_output(['awk', 'NR < {}'.format(line_to_delete_from), pdb_with_conect], cwd=path).decode(\"utf-8\")"
   ]
  },
  {
   "cell_type": "code",
   "execution_count": 16,
   "metadata": {
    "ExecuteTime": {
     "end_time": "2017-12-07T00:18:43.890842Z",
     "start_time": "2017-12-07T00:18:43.495735Z"
    },
    "collapsed": true
   },
   "outputs": [],
   "source": [
    "file = open(path + 'tmp.pdb', 'w')\n",
    "file.write(truncated_file)\n",
    "file.write(\"END\")\n",
    "file.close()\n",
    "p = sp.check_output(['mv', 'tmp.pdb', '{}'.format(pdb_with_conect)], cwd=path)"
   ]
  },
  {
   "cell_type": "code",
   "execution_count": 17,
   "metadata": {
    "ExecuteTime": {
     "end_time": "2017-12-07T00:18:44.815534Z",
     "start_time": "2017-12-07T00:18:43.892874Z"
    },
    "collapsed": true
   },
   "outputs": [],
   "source": [
    "pdb = PDBFixer(path + pdb_with_conect)"
   ]
  },
  {
   "cell_type": "code",
   "execution_count": 18,
   "metadata": {
    "ExecuteTime": {
     "end_time": "2017-12-07T00:18:44.865243Z",
     "start_time": "2017-12-07T00:18:44.817270Z"
    },
    "collapsed": true
   },
   "outputs": [],
   "source": [
    "# residues = [r.name for r in pdb.topology.residues()]\n",
    "# print(residues)"
   ]
  },
  {
   "cell_type": "code",
   "execution_count": 19,
   "metadata": {
    "ExecuteTime": {
     "end_time": "2017-12-07T00:18:45.160281Z",
     "start_time": "2017-12-07T00:18:44.867002Z"
    },
    "collapsed": true
   },
   "outputs": [],
   "source": [
    "# names = [a.name for a in pdb.topology.atoms()]\n",
    "# print(names)"
   ]
  },
  {
   "cell_type": "markdown",
   "metadata": {},
   "source": [
    "## Step 4: create a ParmEd structure"
   ]
  },
  {
   "cell_type": "code",
   "execution_count": 20,
   "metadata": {
    "ExecuteTime": {
     "end_time": "2017-12-07T00:18:47.764989Z",
     "start_time": "2017-12-07T00:18:45.161982Z"
    },
    "collapsed": true
   },
   "outputs": [],
   "source": [
    "ff = ForceField('forcefield/smirnoff99Frosst.ffxml', 'forcefield/tip3p.ffxml') \n",
    "system = ff.createSystem(pdb.topology, \n",
    "                         mols)\n",
    "integrator = openmm.VerletIntegrator(1.0 * unit.femtoseconds)\n",
    "context = openmm.Context(system, integrator)\n",
    "context.setPositions(pdb.positions)"
   ]
  },
  {
   "cell_type": "markdown",
   "metadata": {},
   "source": [
    "## Step 5: save the ParmEd structure as a `.prmtop` file"
   ]
  },
  {
   "cell_type": "code",
   "execution_count": 21,
   "metadata": {
    "ExecuteTime": {
     "end_time": "2017-12-07T00:18:48.738721Z",
     "start_time": "2017-12-07T00:18:47.767073Z"
    },
    "collapsed": true,
    "scrolled": true
   },
   "outputs": [],
   "source": [
    "structure = pmd.openmm.topsystem.load_topology(pdb.topology, system, pdb.positions)"
   ]
  },
  {
   "cell_type": "code",
   "execution_count": 22,
   "metadata": {
    "ExecuteTime": {
     "end_time": "2017-12-07T00:19:13.433360Z",
     "start_time": "2017-12-07T00:18:48.740573Z"
    }
   },
   "outputs": [
    {
     "ename": "AttributeError",
     "evalue": "'NoneType' object has no attribute 'used'",
     "output_type": "error",
     "traceback": [
      "\u001b[0;31m---------------------------------------------------------------------------\u001b[0m",
      "\u001b[0;31mAttributeError\u001b[0m                            Traceback (most recent call last)",
      "\u001b[0;32m<ipython-input-22-3f16fadfe87f>\u001b[0m in \u001b[0;36m<module>\u001b[0;34m()\u001b[0m\n\u001b[0;32m----> 1\u001b[0;31m \u001b[0mstructure\u001b[0m\u001b[0;34m.\u001b[0m\u001b[0msave\u001b[0m\u001b[0;34m(\u001b[0m\u001b[0mpath\u001b[0m \u001b[0;34m+\u001b[0m \u001b[0;34m'bcd-ben-smirnoff.prmtop'\u001b[0m\u001b[0;34m)\u001b[0m\u001b[0;34m\u001b[0m\u001b[0m\n\u001b[0m",
      "\u001b[0;32m~/data/applications/anaconda3/envs/openforcefield/lib/python3.6/site-packages/parmed/structure.py\u001b[0m in \u001b[0;36msave\u001b[0;34m(self, fname, format, overwrite, **kwargs)\u001b[0m\n\u001b[1;32m   1531\u001b[0m                 \u001b[0;32melse\u001b[0m\u001b[0;34m:\u001b[0m\u001b[0;34m\u001b[0m\u001b[0m\n\u001b[1;32m   1532\u001b[0m                     \u001b[0;32mtry\u001b[0m\u001b[0;34m:\u001b[0m\u001b[0;34m\u001b[0m\u001b[0m\n\u001b[0;32m-> 1533\u001b[0;31m                         \u001b[0ms\u001b[0m \u001b[0;34m=\u001b[0m \u001b[0mamber\u001b[0m\u001b[0;34m.\u001b[0m\u001b[0mAmberParm\u001b[0m\u001b[0;34m.\u001b[0m\u001b[0mfrom_structure\u001b[0m\u001b[0;34m(\u001b[0m\u001b[0mself\u001b[0m\u001b[0;34m)\u001b[0m\u001b[0;34m\u001b[0m\u001b[0m\n\u001b[0m\u001b[1;32m   1534\u001b[0m                     \u001b[0;32mexcept\u001b[0m \u001b[0mTypeError\u001b[0m \u001b[0;32mas\u001b[0m \u001b[0me\u001b[0m\u001b[0;34m:\u001b[0m\u001b[0;34m\u001b[0m\u001b[0m\n\u001b[1;32m   1535\u001b[0m                         \u001b[0;32mif\u001b[0m \u001b[0;34m'Cannot translate exceptions'\u001b[0m \u001b[0;32min\u001b[0m \u001b[0mstr\u001b[0m\u001b[0;34m(\u001b[0m\u001b[0me\u001b[0m\u001b[0;34m)\u001b[0m\u001b[0;34m:\u001b[0m\u001b[0;34m\u001b[0m\u001b[0m\n",
      "\u001b[0;32m~/data/applications/anaconda3/envs/openforcefield/lib/python3.6/site-packages/parmed/amber/_amberparm.py\u001b[0m in \u001b[0;36mfrom_structure\u001b[0;34m(cls, struct, copy)\u001b[0m\n\u001b[1;32m    381\u001b[0m                 \u001b[0mdt\u001b[0m\u001b[0;34m.\u001b[0m\u001b[0mphi_k\u001b[0m \u001b[0;34m=\u001b[0m \u001b[0;36m0.0\u001b[0m\u001b[0;34m\u001b[0m\u001b[0m\n\u001b[1;32m    382\u001b[0m                 \u001b[0mdt\u001b[0m\u001b[0;34m.\u001b[0m\u001b[0mper\u001b[0m \u001b[0;34m=\u001b[0m \u001b[0;36m1.0\u001b[0m\u001b[0;34m\u001b[0m\u001b[0m\n\u001b[0;32m--> 383\u001b[0;31m         \u001b[0minst\u001b[0m\u001b[0;34m.\u001b[0m\u001b[0mremake_parm\u001b[0m\u001b[0;34m(\u001b[0m\u001b[0;34m)\u001b[0m\u001b[0;34m\u001b[0m\u001b[0m\n\u001b[0m\u001b[1;32m    384\u001b[0m         \u001b[0minst\u001b[0m\u001b[0;34m.\u001b[0m\u001b[0m_set_nonbonded_tables\u001b[0m\u001b[0;34m(\u001b[0m\u001b[0mnbfixes\u001b[0m\u001b[0;34m)\u001b[0m\u001b[0;34m\u001b[0m\u001b[0m\n\u001b[1;32m    385\u001b[0m         \u001b[0mn_copy\u001b[0m \u001b[0;34m=\u001b[0m \u001b[0minst\u001b[0m\u001b[0;34m.\u001b[0m\u001b[0mpointers\u001b[0m\u001b[0;34m.\u001b[0m\u001b[0mget\u001b[0m\u001b[0;34m(\u001b[0m\u001b[0;34m'NCOPY'\u001b[0m\u001b[0;34m,\u001b[0m \u001b[0;36m1\u001b[0m\u001b[0;34m)\u001b[0m\u001b[0;34m\u001b[0m\u001b[0m\n",
      "\u001b[0;32m~/data/applications/anaconda3/envs/openforcefield/lib/python3.6/site-packages/parmed/amber/_amberparm.py\u001b[0m in \u001b[0;36mremake_parm\u001b[0;34m(self)\u001b[0m\n\u001b[1;32m    678\u001b[0m         \u001b[0mself\u001b[0m\u001b[0;34m.\u001b[0m\u001b[0m_xfer_atom_info\u001b[0m\u001b[0;34m(\u001b[0m\u001b[0;34m)\u001b[0m\u001b[0;34m\u001b[0m\u001b[0m\n\u001b[1;32m    679\u001b[0m         \u001b[0mself\u001b[0m\u001b[0;34m.\u001b[0m\u001b[0m_xfer_residue_info\u001b[0m\u001b[0;34m(\u001b[0m\u001b[0;34m)\u001b[0m\u001b[0;34m\u001b[0m\u001b[0m\n\u001b[0;32m--> 680\u001b[0;31m         \u001b[0mself\u001b[0m\u001b[0;34m.\u001b[0m\u001b[0m_xfer_bond_info\u001b[0m\u001b[0;34m(\u001b[0m\u001b[0;34m)\u001b[0m\u001b[0;34m\u001b[0m\u001b[0m\n\u001b[0m\u001b[1;32m    681\u001b[0m         \u001b[0mself\u001b[0m\u001b[0;34m.\u001b[0m\u001b[0m_xfer_angle_info\u001b[0m\u001b[0;34m(\u001b[0m\u001b[0;34m)\u001b[0m\u001b[0;34m\u001b[0m\u001b[0m\n\u001b[1;32m    682\u001b[0m         \u001b[0mself\u001b[0m\u001b[0;34m.\u001b[0m\u001b[0m_xfer_dihedral_info\u001b[0m\u001b[0;34m(\u001b[0m\u001b[0;34m)\u001b[0m\u001b[0;34m\u001b[0m\u001b[0m\n",
      "\u001b[0;32m~/data/applications/anaconda3/envs/openforcefield/lib/python3.6/site-packages/parmed/amber/_amberparm.py\u001b[0m in \u001b[0;36m_xfer_bond_info\u001b[0;34m(self)\u001b[0m\n\u001b[1;32m   1559\u001b[0m             \u001b[0mbond_type\u001b[0m\u001b[0;34m.\u001b[0m\u001b[0mused\u001b[0m \u001b[0;34m=\u001b[0m \u001b[0;32mFalse\u001b[0m\u001b[0;34m\u001b[0m\u001b[0m\n\u001b[1;32m   1560\u001b[0m         \u001b[0;32mfor\u001b[0m \u001b[0mbond\u001b[0m \u001b[0;32min\u001b[0m \u001b[0mself\u001b[0m\u001b[0;34m.\u001b[0m\u001b[0mbonds\u001b[0m\u001b[0;34m:\u001b[0m\u001b[0;34m\u001b[0m\u001b[0m\n\u001b[0;32m-> 1561\u001b[0;31m             \u001b[0mbond\u001b[0m\u001b[0;34m.\u001b[0m\u001b[0mtype\u001b[0m\u001b[0;34m.\u001b[0m\u001b[0mused\u001b[0m \u001b[0;34m=\u001b[0m \u001b[0;32mTrue\u001b[0m\u001b[0;34m\u001b[0m\u001b[0m\n\u001b[0m\u001b[1;32m   1562\u001b[0m         \u001b[0mself\u001b[0m\u001b[0;34m.\u001b[0m\u001b[0mbond_types\u001b[0m\u001b[0;34m.\u001b[0m\u001b[0mprune_unused\u001b[0m\u001b[0;34m(\u001b[0m\u001b[0;34m)\u001b[0m\u001b[0;34m\u001b[0m\u001b[0m\n\u001b[1;32m   1563\u001b[0m         \u001b[0mdata\u001b[0m\u001b[0;34m[\u001b[0m\u001b[0;34m'BOND_FORCE_CONSTANT'\u001b[0m\u001b[0;34m]\u001b[0m \u001b[0;34m=\u001b[0m \u001b[0;34m[\u001b[0m\u001b[0mtype\u001b[0m\u001b[0;34m.\u001b[0m\u001b[0mk\u001b[0m \u001b[0;32mfor\u001b[0m \u001b[0mtype\u001b[0m \u001b[0;32min\u001b[0m \u001b[0mself\u001b[0m\u001b[0;34m.\u001b[0m\u001b[0mbond_types\u001b[0m\u001b[0;34m]\u001b[0m\u001b[0;34m\u001b[0m\u001b[0m\n",
      "\u001b[0;31mAttributeError\u001b[0m: 'NoneType' object has no attribute 'used'"
     ]
    }
   ],
   "source": [
    "structure.save(path + 'bcd-ben-smirnoff.prmtop')"
   ]
  },
  {
   "cell_type": "markdown",
   "metadata": {},
   "source": [
    "# Can we build from SMILES?"
   ]
  },
  {
   "cell_type": "code",
   "execution_count": 35,
   "metadata": {
    "ExecuteTime": {
     "end_time": "2017-12-07T18:19:04.452236Z",
     "start_time": "2017-12-07T18:19:04.449683Z"
    },
    "collapsed": true
   },
   "outputs": [],
   "source": [
    "bcd_smiles = 'C([C@@H]1[C@@H]2[C@@H]([C@H]([C@H](O1)O[C@@H]3[C@H](O[C@@H]([C@@H]([C@H]3O)O)O[C@@H]4[C@H](O[C@@H]([C@@H]([C@H]4O)O)O[C@@H]5[C@H](O[C@@H]([C@@H]([C@H]5O)O)O[C@@H]6[C@H](O[C@@H]([C@@H]([C@H]6O)O)O[C@@H]7[C@H](O[C@@H]([C@@H]([C@H]7O)O)O[C@@H]8[C@H](O[C@H](O2)[C@@H]([C@H]8O)O)CO)CO)CO)CO)CO)CO)O)O)O'"
   ]
  },
  {
   "cell_type": "markdown",
   "metadata": {},
   "source": [
    "## Now, use OpenEye tools to process the SMILES entirely and do not use a `mol2` file at all, then selectively replace the cyclodextrin molecule in the list of `OEMol`s"
   ]
  },
  {
   "cell_type": "code",
   "execution_count": 50,
   "metadata": {
    "ExecuteTime": {
     "end_time": "2017-12-07T18:52:33.761650Z",
     "start_time": "2017-12-07T18:52:33.698822Z"
    },
    "collapsed": true
   },
   "outputs": [],
   "source": [
    "mol = oechem.OEMol()\n",
    "oechem.OESmilesToMol(mol, bcd_smiles)\n",
    "for atom in mol.GetAtoms():\n",
    "    atom.SetPartialCharge(atom.GetFormalCharge())\n",
    "oechem.OEAddExplicitHydrogens(mol)\n",
    "oechem.OETriposAtomNames(mol)\n",
    "mols = [mol]\n",
    "\n",
    "ofs = oechem.oemolostream()\n",
    "ofs.open(path + 'tmp.pdb')\n",
    "# flavor = oechem.OEOFlavor_Generic_Default | oechem.OEOFlavor_PDB_Default | oechem.OEOFlavor_PDB_TER\n",
    "# ofs.SetFlavor(oechem.OEFormat_PDB, flavor)\n",
    "# oechem.OEWritePDBFile(ofs, mols[0])\n",
    "\n",
    "# Unlike `WritePDBFile`, `WriteMolecule` should standardize everything (https://docs.eyesopen.com/toolkits/python/oechemtk/molreadwrite.html)\n",
    "oechem.OEWriteMolecule(ofs, mols[0])\n",
    "ofs.close()\n",
    "\n",
    "pdb = PDBFixer(path + 'tmp.pdb')"
   ]
  },
  {
   "cell_type": "code",
   "execution_count": 51,
   "metadata": {
    "ExecuteTime": {
     "end_time": "2017-12-07T18:52:36.512497Z",
     "start_time": "2017-12-07T18:52:34.069894Z"
    },
    "collapsed": true
   },
   "outputs": [],
   "source": [
    "ff = ForceField('forcefield/smirnoff99Frosst.ffxml') \n",
    "system = ff.createSystem(pdb.topology, \n",
    "                         mols)\n",
    "integrator = openmm.VerletIntegrator(1.0 * unit.femtoseconds)\n",
    "context = openmm.Context(system, integrator)\n",
    "# context.setPositions(pdb.positions)"
   ]
  },
  {
   "cell_type": "code",
   "execution_count": 52,
   "metadata": {
    "ExecuteTime": {
     "end_time": "2017-12-07T18:52:42.964449Z",
     "start_time": "2017-12-07T18:52:42.881714Z"
    },
    "collapsed": true
   },
   "outputs": [],
   "source": [
    "structure = pmd.openmm.topsystem.load_topology(pdb.topology, system, pdb.positions)"
   ]
  },
  {
   "cell_type": "code",
   "execution_count": 53,
   "metadata": {
    "ExecuteTime": {
     "end_time": "2017-12-07T18:52:49.861710Z",
     "start_time": "2017-12-07T18:52:49.602091Z"
    },
    "collapsed": true,
    "scrolled": true
   },
   "outputs": [],
   "source": [
    "structure.save(path + 'bcd-from-smiles.prmtop')"
   ]
  },
  {
   "cell_type": "code",
   "execution_count": 54,
   "metadata": {
    "ExecuteTime": {
     "end_time": "2017-12-07T20:21:09.297148Z",
     "start_time": "2017-12-07T20:21:09.189910Z"
    },
    "collapsed": true
   },
   "outputs": [],
   "source": [
    "prmtop = pmd.load_file(path + 'bcd-from-smiles.prmtop')"
   ]
  },
  {
   "cell_type": "code",
   "execution_count": 58,
   "metadata": {
    "ExecuteTime": {
     "end_time": "2017-12-07T20:46:47.393589Z",
     "start_time": "2017-12-07T20:46:47.365144Z"
    },
    "collapsed": true
   },
   "outputs": [],
   "source": [
    "pmd.tools.writeFrcmod(prmtop, path + 'bcd-from-smiles.frcmod').execute()"
   ]
  },
  {
   "cell_type": "markdown",
   "metadata": {},
   "source": [
    "# Okay, load cyclodextrin and benzoate into SMILES"
   ]
  },
  {
   "cell_type": "code",
   "execution_count": 60,
   "metadata": {
    "ExecuteTime": {
     "end_time": "2017-12-07T22:52:20.584229Z",
     "start_time": "2017-12-07T22:52:20.581608Z"
    },
    "collapsed": true
   },
   "outputs": [],
   "source": [
    "benzoate_smiles = '[O-]C(=O)c1ccccc1'"
   ]
  },
  {
   "cell_type": "code",
   "execution_count": 61,
   "metadata": {
    "ExecuteTime": {
     "end_time": "2017-12-07T22:52:41.910919Z",
     "start_time": "2017-12-07T22:52:41.861834Z"
    },
    "collapsed": true
   },
   "outputs": [],
   "source": [
    "mol = oechem.OEMol()\n",
    "oechem.OESmilesToMol(mol, benzoate_smiles)\n",
    "for atom in mol.GetAtoms():\n",
    "    atom.SetPartialCharge(atom.GetFormalCharge())\n",
    "oechem.OEAddExplicitHydrogens(mol)\n",
    "oechem.OETriposAtomNames(mol)\n",
    "mols = [mol]\n",
    "\n",
    "ofs = oechem.oemolostream()\n",
    "ofs.open(path + 'benzoate-from-smiles.pdb')\n",
    "# flavor = oechem.OEOFlavor_Generic_Default | oechem.OEOFlavor_PDB_Default | oechem.OEOFlavor_PDB_TER\n",
    "# ofs.SetFlavor(oechem.OEFormat_PDB, flavor)\n",
    "# oechem.OEWritePDBFile(ofs, mols[0])\n",
    "\n",
    "# Unlike `WritePDBFile`, `WriteMolecule` should standardize everything (https://docs.eyesopen.com/toolkits/python/oechemtk/molreadwrite.html)\n",
    "oechem.OEWriteMolecule(ofs, mols[0])\n",
    "ofs.close()\n",
    "\n",
    "pdb = PDBFixer(path + 'benzoate-from-smiles.pdb')"
   ]
  },
  {
   "cell_type": "code",
   "execution_count": 62,
   "metadata": {
    "ExecuteTime": {
     "end_time": "2017-12-07T22:52:45.065975Z",
     "start_time": "2017-12-07T22:52:45.062442Z"
    }
   },
   "outputs": [
    {
     "data": {
      "text/plain": [
       "<Topology; 1 chains, 1 residues, 14 atoms, 14 bonds>"
      ]
     },
     "execution_count": 62,
     "metadata": {},
     "output_type": "execute_result"
    }
   ],
   "source": [
    "pdb.topology"
   ]
  },
  {
   "cell_type": "code",
   "execution_count": 63,
   "metadata": {
    "ExecuteTime": {
     "end_time": "2017-12-07T23:09:09.455766Z",
     "start_time": "2017-12-07T23:09:07.431643Z"
    },
    "collapsed": true
   },
   "outputs": [],
   "source": [
    "ff = ForceField('forcefield/smirnoff99Frosst.ffxml') \n",
    "system = ff.createSystem(pdb.topology, \n",
    "                         mols)\n",
    "integrator = openmm.VerletIntegrator(1.0 * unit.femtoseconds)\n",
    "context = openmm.Context(system, integrator)\n",
    "# context.setPositions(pdb.positions)"
   ]
  },
  {
   "cell_type": "code",
   "execution_count": 64,
   "metadata": {
    "ExecuteTime": {
     "end_time": "2017-12-07T23:09:17.185461Z",
     "start_time": "2017-12-07T23:09:17.174979Z"
    },
    "collapsed": true
   },
   "outputs": [],
   "source": [
    "structure = pmd.openmm.topsystem.load_topology(pdb.topology, system, pdb.positions)"
   ]
  },
  {
   "cell_type": "code",
   "execution_count": 65,
   "metadata": {
    "ExecuteTime": {
     "end_time": "2017-12-07T23:09:25.447027Z",
     "start_time": "2017-12-07T23:09:25.430485Z"
    },
    "collapsed": true
   },
   "outputs": [],
   "source": [
    "structure.save(path + 'ben-from-smiles.prmtop')"
   ]
  },
  {
   "cell_type": "code",
   "execution_count": 66,
   "metadata": {
    "ExecuteTime": {
     "end_time": "2017-12-07T23:20:59.626882Z",
     "start_time": "2017-12-07T23:20:59.624689Z"
    },
    "collapsed": true
   },
   "outputs": [],
   "source": [
    "# Need to add charges, though, I expect..."
   ]
  },
  {
   "cell_type": "code",
   "execution_count": 67,
   "metadata": {
    "ExecuteTime": {
     "end_time": "2017-12-07T23:22:02.544794Z",
     "start_time": "2017-12-07T23:22:02.535001Z"
    },
    "collapsed": true
   },
   "outputs": [],
   "source": [
    "prmtop = pmd.load_file(path + 'ben-from-smiles.prmtop')\n",
    "pmd.tools.writeFrcmod(prmtop, path + 'ben-from-smiles.frcmod').execute()"
   ]
  },
  {
   "cell_type": "code",
   "execution_count": 68,
   "metadata": {
    "ExecuteTime": {
     "end_time": "2017-12-07T23:26:37.884697Z",
     "start_time": "2017-12-07T23:26:37.879600Z"
    }
   },
   "outputs": [
    {
     "data": {
      "text/plain": [
       "'CHARGE'"
      ]
     },
     "execution_count": 68,
     "metadata": {},
     "output_type": "execute_result"
    }
   ],
   "source": [
    "prmtop."
   ]
  },
  {
   "cell_type": "markdown",
   "metadata": {},
   "source": [
    "# Load \\beta-cyclodextrin and benzoate SMILES, convert to `OEMol`, add charges, then build..."
   ]
  },
  {
   "cell_type": "code",
   "execution_count": 1,
   "metadata": {
    "ExecuteTime": {
     "end_time": "2017-12-08T20:35:33.609325Z",
     "start_time": "2017-12-08T20:35:33.605139Z"
    },
    "collapsed": true
   },
   "outputs": [],
   "source": [
    "ben_smiles = '[O-]C(=O)c1ccccc1'\n",
    "bcd_smiles = 'C([C@@H]1[C@@H]2[C@@H]([C@H]([C@H](O1)O[C@@H]3[C@H](O[C@@H]([C@@H]([C@H]3O)O)O[C@@H]4[C@H](O[C@@H]([C@@H]([C@H]4O)O)O[C@@H]5[C@H](O[C@@H]([C@@H]([C@H]5O)O)O[C@@H]6[C@H](O[C@@H]([C@@H]([C@H]6O)O)O[C@@H]7[C@H](O[C@@H]([C@@H]([C@H]7O)O)O[C@@H]8[C@H](O[C@H](O2)[C@@H]([C@H]8O)O)CO)CO)CO)CO)CO)CO)O)O)O'"
   ]
  },
  {
   "cell_type": "code",
   "execution_count": 4,
   "metadata": {
    "ExecuteTime": {
     "end_time": "2017-12-08T20:36:39.265659Z",
     "start_time": "2017-12-08T20:36:39.253670Z"
    }
   },
   "outputs": [],
   "source": [
    "mols = []\n",
    "for smiles in [ben_smiles, bcd_smiles]:\n",
    "    mol = oechem.OEMol()\n",
    "    oechem.OESmilesToMol(mol, smiles)\n",
    "    for atom in mol.GetAtoms():\n",
    "        atom.SetPartialCharge(atom.GetFormalCharge())\n",
    "    oechem.OEAddExplicitHydrogens(mol)\n",
    "    oechem.OETriposAtomNames(mol)\n",
    "    mols.append(mol)"
   ]
  },
  {
   "cell_type": "code",
   "execution_count": 10,
   "metadata": {
    "ExecuteTime": {
     "end_time": "2017-12-08T22:28:20.158775Z",
     "start_time": "2017-12-08T22:28:20.138314Z"
    }
   },
   "outputs": [
    {
     "name": "stdout",
     "output_type": "stream",
     "text": [
      "0.0\n",
      "0.0\n",
      "0.0\n",
      "0.0\n",
      "0.0\n",
      "0.0\n",
      "0.0\n",
      "0.0\n",
      "0.0\n",
      "0.0\n",
      "0.0\n",
      "0.0\n",
      "0.0\n",
      "0.0\n",
      "0.0\n",
      "0.0\n",
      "0.0\n",
      "0.0\n",
      "0.0\n",
      "0.0\n",
      "0.0\n",
      "0.0\n",
      "0.0\n",
      "0.0\n",
      "0.0\n",
      "0.0\n",
      "0.0\n",
      "0.0\n",
      "0.0\n",
      "0.0\n",
      "0.0\n",
      "0.0\n",
      "0.0\n",
      "0.0\n",
      "0.0\n",
      "0.0\n",
      "0.0\n",
      "0.0\n",
      "0.0\n",
      "0.0\n",
      "0.0\n",
      "0.0\n",
      "0.0\n",
      "0.0\n",
      "0.0\n",
      "0.0\n",
      "0.0\n",
      "0.0\n",
      "0.0\n",
      "0.0\n",
      "0.0\n",
      "0.0\n",
      "0.0\n",
      "0.0\n",
      "0.0\n",
      "0.0\n",
      "0.0\n",
      "0.0\n",
      "0.0\n",
      "0.0\n",
      "0.0\n",
      "0.0\n",
      "0.0\n",
      "0.0\n",
      "0.0\n",
      "0.0\n",
      "0.0\n",
      "0.0\n",
      "0.0\n",
      "0.0\n",
      "0.0\n",
      "0.0\n",
      "0.0\n",
      "0.0\n",
      "0.0\n",
      "0.0\n",
      "0.0\n",
      "0.0\n",
      "0.0\n",
      "0.0\n",
      "0.0\n",
      "0.0\n",
      "0.0\n",
      "0.0\n",
      "0.0\n",
      "0.0\n",
      "0.0\n",
      "0.0\n",
      "0.0\n",
      "0.0\n",
      "0.0\n",
      "0.0\n",
      "0.0\n",
      "0.0\n",
      "0.0\n",
      "0.0\n",
      "0.0\n",
      "0.0\n",
      "0.0\n",
      "0.0\n",
      "0.0\n",
      "0.0\n",
      "0.0\n",
      "0.0\n",
      "0.0\n",
      "0.0\n",
      "0.0\n",
      "0.0\n",
      "0.0\n",
      "0.0\n",
      "0.0\n",
      "0.0\n",
      "0.0\n",
      "0.0\n",
      "0.0\n",
      "0.0\n",
      "0.0\n",
      "0.0\n",
      "0.0\n",
      "0.0\n",
      "0.0\n",
      "0.0\n",
      "0.0\n",
      "0.0\n",
      "0.0\n",
      "0.0\n",
      "0.0\n",
      "0.0\n",
      "0.0\n",
      "0.0\n",
      "0.0\n",
      "0.0\n",
      "0.0\n",
      "0.0\n",
      "0.0\n",
      "0.0\n",
      "0.0\n",
      "0.0\n",
      "0.0\n",
      "0.0\n",
      "0.0\n",
      "0.0\n",
      "0.0\n",
      "0.0\n",
      "0.0\n",
      "0.0\n",
      "0.0\n"
     ]
    }
   ],
   "source": [
    "    for mol in ifs.GetOEMols():\n",
    "        if omega(mol):\n",
    "            oequacpac.OEAssignCharges(mol, oequacpac.OEAM1BCCELF10Charges())\n",
    "            conf = mol.GetConf(oechem.OEHasConfIdx(0))\n",
    "            absFCharge = 0\n",
    "            sumFCharge = 0\n",
    "            sumPCharge = 0.0\n",
    "            for atm in mol.GetAtoms():\n",
    "                sumFCharge += atm.GetFormalCharge()\n",
    "                absFCharge += abs(atm.GetFormalCharge())\n",
    "                sumPCharge += atm.GetPartialCharge()\n",
    "            print(\"{}: {} formal charges give total charge {}\"\n",
    "                  \"; sum of partial charges {:5.4f}\".format(mol.GetTitle(), absFCharge,\n",
    "                                                            sumFCharge, sumPCharge))\n",
    "            oechem.OEWriteMolecule(ofs, conf)\n"
   ]
  },
  {
   "cell_type": "code",
   "execution_count": null,
   "metadata": {
    "collapsed": true
   },
   "outputs": [],
   "source": [
    "atom."
   ]
  },
  {
   "cell_type": "code",
   "execution_count": null,
   "metadata": {
    "collapsed": true
   },
   "outputs": [],
   "source": []
  }
 ],
 "metadata": {
  "_draft": {
   "nbviewer_url": "https://gist.github.com/011f2438aada32f1bf16bdec57d9722c"
  },
  "gist": {
   "data": {
    "description": "host-guest-example.ipynb",
    "public": true
   },
   "id": "011f2438aada32f1bf16bdec57d9722c"
  },
  "kernelspec": {
   "display_name": "Python [conda env:openforcefield]",
   "language": "python",
   "name": "conda-env-openforcefield-py"
  },
  "language_info": {
   "codemirror_mode": {
    "name": "ipython",
    "version": 3
   },
   "file_extension": ".py",
   "mimetype": "text/x-python",
   "name": "python",
   "nbconvert_exporter": "python",
   "pygments_lexer": "ipython3",
   "version": "3.6.1"
  }
 },
 "nbformat": 4,
 "nbformat_minor": 2
}
