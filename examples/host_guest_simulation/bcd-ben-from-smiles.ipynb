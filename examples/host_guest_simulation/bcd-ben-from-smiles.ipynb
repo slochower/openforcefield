{
 "cells": [
  {
   "cell_type": "code",
   "execution_count": 3,
   "metadata": {
    "ExecuteTime": {
     "end_time": "2017-12-09T00:03:36.567843Z",
     "start_time": "2017-12-09T00:03:35.978028Z"
    }
   },
   "outputs": [],
   "source": [
    "import parmed as pmd\n",
    "import subprocess as sp\n",
    "import numpy as np\n",
    "\n",
    "from openeye.oechem import *\n",
    "from openeye.oeomega import *\n",
    "from openforcefield.typing.engines.smirnoff import *\n",
    "from pdbfixer import PDBFixer"
   ]
  },
  {
   "cell_type": "code",
   "execution_count": 4,
   "metadata": {
    "ExecuteTime": {
     "end_time": "2017-12-09T00:03:36.842220Z",
     "start_time": "2017-12-09T00:03:36.839375Z"
    },
    "collapsed": true
   },
   "outputs": [],
   "source": [
    "ben_smiles = '[O-]C(=O)c1ccccc1'\n",
    "bcd_smiles = 'C([C@@H]1[C@@H]2[C@@H]([C@H]([C@H](O1)O[C@@H]3[C@H](O[C@@H]([C@@H]([C@H]3O)O)O[C@@H]4[C@H](O[C@@H]([C@@H]([C@H]4O)O)O[C@@H]5[C@H](O[C@@H]([C@@H]([C@H]5O)O)O[C@@H]6[C@H](O[C@@H]([C@@H]([C@H]6O)O)O[C@@H]7[C@H](O[C@@H]([C@@H]([C@H]7O)O)O[C@@H]8[C@H](O[C@H](O2)[C@@H]([C@H]8O)O)CO)CO)CO)CO)CO)CO)O)O)O'"
   ]
  },
  {
   "cell_type": "code",
   "execution_count": 5,
   "metadata": {
    "ExecuteTime": {
     "end_time": "2017-12-09T00:03:50.460975Z",
     "start_time": "2017-12-09T00:03:50.440807Z"
    },
    "collapsed": true
   },
   "outputs": [],
   "source": [
    "mols = []\n",
    "for smiles in [ben_smiles, bcd_smiles]:\n",
    "    mol = oechem.OEMol()\n",
    "    oechem.OESmilesToMol(mol, smiles)\n",
    "    for atom in mol.GetAtoms():\n",
    "        atom.SetPartialCharge(atom.GetFormalCharge())\n",
    "    oechem.OEAddExplicitHydrogens(mol)\n",
    "    oechem.OETriposAtomNames(mol)\n",
    "    mols.append(mol)"
   ]
  },
  {
   "cell_type": "code",
   "execution_count": 7,
   "metadata": {
    "ExecuteTime": {
     "end_time": "2017-12-09T00:25:41.894140Z",
     "start_time": "2017-12-09T00:06:45.928879Z"
    }
   },
   "outputs": [
    {
     "name": "stdout",
     "output_type": "stream",
     "text": [
      ": 1 formal charges give total charge -1; sum of partial charges -1.0000\n",
      ": 0 formal charges give total charge 0; sum of partial charges 0.0000\n"
     ]
    }
   ],
   "source": [
    "omegaOpts = OEOmegaOptions()\n",
    "omega = OEOmega(omegaOpts)\n",
    "\n",
    "for mol in mols:\n",
    "    if omega(mol):\n",
    "        oequacpac.OEAssignCharges(mol, oequacpac.OEAM1BCCELF10Charges())\n",
    "        conf = mol.GetConf(oechem.OEHasConfIdx(0))\n",
    "        absFCharge = 0\n",
    "        sumFCharge = 0\n",
    "        sumPCharge = 0.0\n",
    "        for atm in mol.GetAtoms():\n",
    "            sumFCharge += atm.GetFormalCharge()\n",
    "            absFCharge += abs(atm.GetFormalCharge())\n",
    "            sumPCharge += atm.GetPartialCharge()\n",
    "        print(\"{}: {} formal charges give total charge {}\"\n",
    "              \"; sum of partial charges {:5.4f}\".format(mol.GetTitle(), absFCharge,\n",
    "                                                        sumFCharge, sumPCharge))\n",
    "        # oechem.OEWriteMolecule(ofs, conf)\n"
   ]
  },
  {
   "cell_type": "code",
   "execution_count": 14,
   "metadata": {
    "ExecuteTime": {
     "end_time": "2017-12-09T00:30:17.983383Z",
     "start_time": "2017-12-09T00:30:17.976349Z"
    },
    "scrolled": false
   },
   "outputs": [
    {
     "name": "stdout",
     "output_type": "stream",
     "text": [
      " 0 C -0.16098999977111816\n",
      " 1 C -0.1662600040435791\n",
      " 2 C -0.1662600040435791\n",
      " 3 C -0.10735999792814255\n",
      " 4 C -0.10735999792814255\n",
      " 5 C -0.12452999502420425\n",
      " 6 C 0.9059900045394897\n",
      " 7 O -0.8342499732971191\n",
      " 8 O -0.8342499732971191\n",
      " 9 H 0.09599000215530396\n",
      "10 H 0.1014999970793724\n",
      "11 H 0.1014999970793724\n",
      "12 H 0.14813999831676483\n",
      "13 H 0.14813999831676483\n"
     ]
    }
   ],
   "source": [
    "for atom in mols[0].GetAtoms():\n",
    "        print(atom, atom.GetPartialCharge())"
   ]
  },
  {
   "cell_type": "code",
   "execution_count": 16,
   "metadata": {
    "ExecuteTime": {
     "end_time": "2017-12-09T00:52:00.424987Z",
     "start_time": "2017-12-09T00:52:00.411785Z"
    }
   },
   "outputs": [
    {
     "data": {
      "text/plain": [
       "0"
      ]
     },
     "execution_count": 16,
     "metadata": {},
     "output_type": "execute_result"
    }
   ],
   "source": [
    "ofs = oemolostream()\n",
    "ofs.open('ben-openeye.mol2')\n",
    "OEWriteMolecule(ofs, mols[0])"
   ]
  },
  {
   "cell_type": "code",
   "execution_count": 21,
   "metadata": {
    "ExecuteTime": {
     "end_time": "2017-12-09T01:00:13.212668Z",
     "start_time": "2017-12-09T01:00:13.208909Z"
    }
   },
   "outputs": [
    {
     "data": {
      "text/plain": [
       "200"
      ]
     },
     "execution_count": 21,
     "metadata": {},
     "output_type": "execute_result"
    }
   ],
   "source": [
    "omega.GetMaxConfs()"
   ]
  },
  {
   "cell_type": "code",
   "execution_count": 22,
   "metadata": {
    "ExecuteTime": {
     "end_time": "2017-12-09T01:01:12.620843Z",
     "start_time": "2017-12-09T01:01:12.601988Z"
    }
   },
   "outputs": [
    {
     "data": {
      "text/plain": [
       "0"
      ]
     },
     "execution_count": 22,
     "metadata": {},
     "output_type": "execute_result"
    }
   ],
   "source": [
    "ofs = oemolostream()\n",
    "ofs.open('bcd-openeye.mol2')\n",
    "OEWriteMolecule(ofs, mols[1])"
   ]
  },
  {
   "cell_type": "code",
   "execution_count": 23,
   "metadata": {
    "ExecuteTime": {
     "end_time": "2017-12-09T01:14:31.406471Z",
     "start_time": "2017-12-09T01:14:31.402581Z"
    }
   },
   "outputs": [
    {
     "data": {
      "text/plain": [
       "<oechem.OEMol; proxy of <Swig Object of type 'OEMolWrapper *' at 0x7f8eb709fe40> >"
      ]
     },
     "execution_count": 23,
     "metadata": {},
     "output_type": "execute_result"
    }
   ],
   "source": [
    "mols[1]"
   ]
  },
  {
   "cell_type": "code",
   "execution_count": 25,
   "metadata": {
    "ExecuteTime": {
     "end_time": "2017-12-09T01:19:01.471011Z",
     "start_time": "2017-12-09T01:19:01.467166Z"
    }
   },
   "outputs": [
    {
     "data": {
      "text/plain": [
       "13"
      ]
     },
     "execution_count": 25,
     "metadata": {},
     "output_type": "execute_result"
    }
   ],
   "source": [
    "mols[1].NumConfs()"
   ]
  },
  {
   "cell_type": "markdown",
   "metadata": {},
   "source": [
    "Why are there 13 conformations?"
   ]
  },
  {
   "cell_type": "code",
   "execution_count": null,
   "metadata": {
    "collapsed": true
   },
   "outputs": [],
   "source": []
  }
 ],
 "metadata": {
  "kernelspec": {
   "display_name": "Python [conda env:openforcefield]",
   "language": "python",
   "name": "conda-env-openforcefield-py"
  },
  "language_info": {
   "codemirror_mode": {
    "name": "ipython",
    "version": 3
   },
   "file_extension": ".py",
   "mimetype": "text/x-python",
   "name": "python",
   "nbconvert_exporter": "python",
   "pygments_lexer": "ipython3",
   "version": "3.6.1"
  }
 },
 "nbformat": 4,
 "nbformat_minor": 2
}
