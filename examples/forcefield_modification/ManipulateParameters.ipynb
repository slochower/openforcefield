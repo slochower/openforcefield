{
 "cells": [
  {
   "cell_type": "markdown",
   "metadata": {},
   "source": [
    "# Loading and modifying a SMIRNOFF forcefield\n",
    "\n",
    "This notebook illustrates how to load a SMIRNOFF forcefield, apply it to an example molecule, get the energy, then manipulate the parameters in the forcefield and update the energy.\n",
    "\n",
    "## Prep some utility functions/import stuff"
   ]
  },
  {
   "cell_type": "code",
   "execution_count": 1,
   "metadata": {},
   "outputs": [],
   "source": [
    "from openforcefield.topology import Molecule, Topology\n",
    "from openforcefield.typing.engines.smirnoff.forcefield import ForceField\n",
    "from openforcefield.utils import get_data_file_path\n",
    "from simtk import openmm, unit\n",
    "import numpy as np"
   ]
  },
  {
   "cell_type": "markdown",
   "metadata": {},
   "source": [
    "Define utility function we'll use to get energy of an OpenMM system"
   ]
  },
  {
   "cell_type": "code",
   "execution_count": 2,
   "metadata": {},
   "outputs": [],
   "source": [
    "def get_energy(system, positions):\n",
    "    \"\"\"\n",
    "    Return the potential energy.\n",
    "\n",
    "    Parameters\n",
    "    ----------\n",
    "    system : simtk.openmm.System\n",
    "        The system to check\n",
    "    positions : simtk.unit.Quantity of dimension (natoms,3) with units of length\n",
    "        The positions to use\n",
    "    Returns\n",
    "    ---------\n",
    "    energy\n",
    "    \"\"\"\n",
    "\n",
    "    integrator = openmm.VerletIntegrator(1.0 * unit.femtoseconds)\n",
    "    context = openmm.Context(system, integrator)\n",
    "    context.setPositions(positions)\n",
    "    state = context.getState(getEnergy=True)\n",
    "    energy = state.getPotentialEnergy().in_units_of(unit.kilocalories_per_mole)\n",
    "    return energy"
   ]
  },
  {
   "cell_type": "markdown",
   "metadata": {},
   "source": [
    "## Example 1: Load a molecule and evaluate its energy before and after a parameter modification\n",
    "\n",
    "In this example, we load a single ethanol molecule with geometry information, parameterize it using the smirnoff99Frosst forcefield, and evaluate its energy. We then modify the parameter that is applied to the C-O-H angle and re-evaluate the energy.\n",
    "\n"
   ]
  },
  {
   "cell_type": "markdown",
   "metadata": {},
   "source": [
    "Load a molecule"
   ]
  },
  {
   "cell_type": "code",
   "execution_count": 3,
   "metadata": {},
   "outputs": [],
   "source": [
    "molecule = Molecule.from_file(get_data_file_path('molecules/ethanol.sdf'))"
   ]
  },
  {
   "cell_type": "markdown",
   "metadata": {},
   "source": [
    "Get positions for use below"
   ]
  },
  {
   "cell_type": "code",
   "execution_count": 4,
   "metadata": {},
   "outputs": [],
   "source": [
    "positions = molecule.conformers[0]"
   ]
  },
  {
   "cell_type": "markdown",
   "metadata": {},
   "source": [
    "Load the smirnoff99Frosst forcefield file"
   ]
  },
  {
   "cell_type": "code",
   "execution_count": 5,
   "metadata": {},
   "outputs": [],
   "source": [
    "ff = ForceField('test_forcefields/smirnoff99Frosst.offxml')"
   ]
  },
  {
   "cell_type": "markdown",
   "metadata": {},
   "source": [
    "Generate an openforcefield Topology containing only this molecule"
   ]
  },
  {
   "cell_type": "code",
   "execution_count": 6,
   "metadata": {},
   "outputs": [],
   "source": [
    "topology = molecule.to_topology()"
   ]
  },
  {
   "cell_type": "markdown",
   "metadata": {},
   "source": [
    "Parameterize the molecule, creating an OpenMM system"
   ]
  },
  {
   "cell_type": "code",
   "execution_count": 7,
   "metadata": {},
   "outputs": [],
   "source": [
    "orig_system = ff.create_openmm_system(topology)"
   ]
  },
  {
   "cell_type": "markdown",
   "metadata": {},
   "source": [
    "Calculate energy before parameter modification"
   ]
  },
  {
   "cell_type": "code",
   "execution_count": 8,
   "metadata": {},
   "outputs": [
    {
     "name": "stdout",
     "output_type": "stream",
     "text": [
      "Original energy: -0.27712854782892227 kcal/mol\n"
     ]
    }
   ],
   "source": [
    "orig_energy = get_energy(orig_system, positions)\n",
    "print(f\"Original energy: {orig_energy}\")"
   ]
  },
  {
   "cell_type": "markdown",
   "metadata": {},
   "source": [
    "Get parameters for the C-O-H angle"
   ]
  },
  {
   "cell_type": "code",
   "execution_count": 9,
   "metadata": {},
   "outputs": [],
   "source": [
    "smirks = '[*:1]-[#8:2]-[*:3]' # SMIRKS for the parameter to retrieve\n",
    "parameter = ff.get_parameter_handler('Angles').parameters[smirks]"
   ]
  },
  {
   "cell_type": "markdown",
   "metadata": {},
   "source": [
    "Modify the parameters"
   ]
  },
  {
   "cell_type": "code",
   "execution_count": 10,
   "metadata": {},
   "outputs": [],
   "source": [
    "parameter.k *= 0.9\n",
    "parameter.angle *= 1.1"
   ]
  },
  {
   "cell_type": "markdown",
   "metadata": {},
   "source": [
    "Evaluate energy after parameter modification"
   ]
  },
  {
   "cell_type": "code",
   "execution_count": 11,
   "metadata": {},
   "outputs": [],
   "source": [
    "new_system = ff.create_openmm_system(topology)\n",
    "new_energy = get_energy(new_system, positions)"
   ]
  },
  {
   "cell_type": "markdown",
   "metadata": {},
   "source": [
    "Print out energy"
   ]
  },
  {
   "cell_type": "code",
   "execution_count": 12,
   "metadata": {},
   "outputs": [
    {
     "name": "stdout",
     "output_type": "stream",
     "text": [
      "Original energy: -0.27712854782892227 kcal/mol. New energy: 3.318374972954307 kcal/mol\n"
     ]
    }
   ],
   "source": [
    "print(f\"Original energy: {orig_energy}. New energy: {new_energy}\")"
   ]
  },
  {
   "cell_type": "markdown",
   "metadata": {},
   "source": [
    "## Example 2: Inspect and manipulate nonbonded treatment\n",
    "\n",
    "The SMIRNOFF spec aims to specify _all aspects of a system that contribute to the energy_ within the `ForceField` object. This includes the treatment of long-range electrostatics and van der Waals interactions. This may be different for some users, as other packages set these parameters at runtime, for example in an AMBER `mdin` file or GROMACS `MDP` file. \n",
    "\n",
    "This example evaluates the energy of a periodic box of solvent molecules using the \"standard\" `smirnoff99Frosst` settings (PME for electrostatics, 9 Angstrom cutoff for vdW interactions). It then changes the `ForceField`'s vdW treatment method to \"PME\" and re-evaluates the energy.\n",
    "\n",
    "<div class=\"alert alert-block alert-warning\">\n",
    "  <b>Note:</b> The Open Force Field toolkit ensures that its `create_openmm_system` function produces a system that employs the `ForceField`-specified nonbonded treatment. However, operations which convert this system to AMBER or GROMACS-format topologies/structures are likely to lose these details, as there is no equivalent data field in those objects. In the future we will work on developing robust ways to create other system formats which preserve all details of a `ForceField` object.\n",
    "</div>"
   ]
  },
  {
   "cell_type": "code",
   "execution_count": 13,
   "metadata": {},
   "outputs": [
    {
     "name": "stdout",
     "output_type": "stream",
     "text": [
      "The vdW method is currently set to: cutoff\n"
     ]
    }
   ],
   "source": [
    "# Create a new ForceField containing the smirnoff99Frosst parameter set:\n",
    "forcefield = ForceField('test_forcefields/smirnoff99Frosst.offxml')\n",
    "# Inspect the long-range van der Waals method:\n",
    "vdw_handler = forcefield.get_parameter_handler('vdW')\n",
    "print(f\"The vdW method is currently set to: {vdw_handler.method}\")"
   ]
  },
  {
   "cell_type": "markdown",
   "metadata": {},
   "source": [
    "Select a solvent box to parameterize. \n",
    "\n",
    "<div class=\"alert alert-block alert-warning\">\n",
    "  <b>Note:</b> This process will parameterize water using smirnoff99Frosst parameters. We do not recommend this, and instead suggest parameterizing water externally with a model like TIP3P and merging systems using ParmEd.\n",
    "</div>"
   ]
  },
  {
   "cell_type": "code",
   "execution_count": 14,
   "metadata": {},
   "outputs": [],
   "source": [
    "from simtk.openmm import app\n",
    "\n",
    "# A 239-molecule mixture of cyclohexane and ethanol\n",
    "pdbfile = app.PDBFile(get_data_file_path('systems/packmol_boxes/cyclohexane_ethanol_0.4_0.6.pdb'))\n",
    "\n",
    "# A 340-molecule mixture of propane, methane, and butanol.\n",
    "#pdbfile = app.PDBFile(get_data_file_path('systems/packmol_boxes/propane_methane_butanol_0.2_0.3_0.5.pdb'))\n",
    "\n",
    "# One cyclohexane in a box of roughly 1400 waters\n",
    "#pdbfile = app.PDBFile(get_data_file_path('systems/packmol_boxes/cyclohexane_water.pdb'))\n",
    "\n",
    "# One ethanol in a box of roughly 1300 waters\n",
    "#pdbfile = app.PDBFile(get_data_file_path('systems/packmol_boxes/ethanol_water.pdb'))\n",
    "\n"
   ]
  },
  {
   "cell_type": "markdown",
   "metadata": {},
   "source": [
    "Provide a \"complete\" (including bond orders, charges, and stereochemistry) representation of each molecule that might be in the PDB. This is necessary because a PDB representation of a molecule does not contain sufficient information for parameterization."
   ]
  },
  {
   "cell_type": "code",
   "execution_count": 15,
   "metadata": {},
   "outputs": [],
   "source": [
    "molecules = [Molecule.from_smiles('C'), # methane\n",
    "             Molecule.from_smiles('CCC'),# propane\n",
    "             Molecule.from_smiles('CCCCO'), # butanol\n",
    "             Molecule.from_smiles('O'), # water\n",
    "             Molecule.from_smiles('CCO'), #ethanol\n",
    "             Molecule.from_smiles('C1CCCCC1'), #cyclohexane\n",
    "            ]"
   ]
  },
  {
   "cell_type": "markdown",
   "metadata": {},
   "source": [
    "Create an Open Force Field Topology object by matching the Open Force Field molecules defined above to those in the PDB\n",
    "\n",
    "<div class=\"alert alert-block alert-warning\">\n",
    "  <b>Note:</b> This function is currently unoptimized and may take a minute to run.\n",
    "</div>"
   ]
  },
  {
   "cell_type": "code",
   "execution_count": 16,
   "metadata": {},
   "outputs": [
    {
     "name": "stdout",
     "output_type": "stream",
     "text": [
      "Original energy: 6304.242805926919 kcal/mol\n"
     ]
    }
   ],
   "source": [
    "top = Topology.from_openmm(pdbfile.topology, unique_molecules=molecules)\n",
    "orig_system = forcefield.create_openmm_system(top)\n",
    "orig_energy = get_energy(orig_system, pdbfile.getPositions())\n",
    "print(f\"Original energy: {orig_energy}\")"
   ]
  },
  {
   "cell_type": "markdown",
   "metadata": {},
   "source": [
    "Change the long-range van der Waals method to be PME"
   ]
  },
  {
   "cell_type": "code",
   "execution_count": 17,
   "metadata": {},
   "outputs": [
    {
     "name": "stdout",
     "output_type": "stream",
     "text": [
      "The vdW method is currently set to: PME\n"
     ]
    }
   ],
   "source": [
    "vdw_handler.method = 'PME'\n",
    "print(f\"The vdW method is currently set to: {vdw_handler.method}\")"
   ]
  },
  {
   "cell_type": "markdown",
   "metadata": {},
   "source": [
    "The Open Force Field toolkit applies vdW parameters using a SMIRKS-based typing scheme. Inspect the first few vdW parameters. These can be changed programmatically, as shown in example 1."
   ]
  },
  {
   "cell_type": "code",
   "execution_count": 18,
   "metadata": {
    "scrolled": true
   },
   "outputs": [
    {
     "name": "stdout",
     "output_type": "stream",
     "text": [
      "<vdWType with smirks: [#1:1]  epsilon: 0.0157 kcal/mol  id: n1  sigma: 1.069078461768407 A  >\n",
      "<vdWType with smirks: [#1:1]-[#6X4]  epsilon: 0.0157 kcal/mol  id: n2  sigma: 2.649532787749369 A  >\n",
      "<vdWType with smirks: [#1:1]-[#6X4]-[#7,#8,#9,#16,#17,#35]  epsilon: 0.0157 kcal/mol  id: n3  sigma: 2.471353044121301 A  >\n"
     ]
    }
   ],
   "source": [
    "for vdw_param in forcefield.get_parameter_handler('vdW').parameters[0:3]:\n",
    "    print(vdw_param)"
   ]
  },
  {
   "cell_type": "markdown",
   "metadata": {},
   "source": [
    "Now recompute the energy of the system using PME for long-range vdW interactions\n",
    "<div class=\"alert alert-block alert-warning\">\n",
    "  <b>Note:</b> This function is currently unoptimized and may take a minute to run.\n",
    "</div>"
   ]
  },
  {
   "cell_type": "code",
   "execution_count": 19,
   "metadata": {},
   "outputs": [
    {
     "name": "stdout",
     "output_type": "stream",
     "text": [
      "Original energy (with LJ cutoff): 6304.242805926919 kcal/mol\n",
      "New energy (using LJ PME): 4155.516177700764 kcal/mol\n"
     ]
    }
   ],
   "source": [
    "new_system = forcefield.create_openmm_system(top)\n",
    "new_energy = get_energy(new_system, pdbfile.getPositions())\n",
    "\n",
    "print(f\"Original energy (with LJ cutoff): {orig_energy}\")\n",
    "print(f\"New energy (using LJ PME): {new_energy}\")"
   ]
  }
 ],
 "metadata": {
  "kernelspec": {
   "display_name": "Python 3",
   "language": "python",
   "name": "python3"
  },
  "language_info": {
   "codemirror_mode": {
    "name": "ipython",
    "version": 3
   },
   "file_extension": ".py",
   "mimetype": "text/x-python",
   "name": "python",
   "nbconvert_exporter": "python",
   "pygments_lexer": "ipython3",
   "version": "3.6.8"
  }
 },
 "nbformat": 4,
 "nbformat_minor": 1
}
