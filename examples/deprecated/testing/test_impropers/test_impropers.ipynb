{
 "cells": [
  {
   "cell_type": "markdown",
   "metadata": {},
   "source": [
    "# Test whether impropers are properly implemented in SMIRNOFF\n",
    "\n",
    "(Material from this will be migrated to a standard test once I work through it).\n",
    "By D. Mobley, 9/19/16.\n",
    "\n",
    "Initial testing on benzene and o-xylene.  Add `CC(C)(C)c1ccccc1C(C)(C)C`, 1,2-ditert-butylbenzene, for a case where steric strain should induce significant energy in the improper"
   ]
  },
  {
   "cell_type": "code",
   "execution_count": 1,
   "metadata": {},
   "outputs": [],
   "source": [
    "# NBVAL_SKIP\n",
    "# Import stuff we need\n",
    "from openforcefield.typing.engines.smirnoff import forcefield, generateTopologyFromOEMol\n",
    "import openeye.oechem as oechem\n",
    "import openeye.oeiupac as oeiupac\n",
    "import openeye.oeomega as oeomega\n",
    "import copy\n",
    "from simtk import openmm\n",
    "from simtk.openmm import app\n",
    "import numpy as np\n",
    "import tleap_tools\n",
    "# chose if you want things done in a verbose fashion:\n",
    "verbose = False"
   ]
  },
  {
   "cell_type": "code",
   "execution_count": 2,
   "metadata": {},
   "outputs": [],
   "source": [
    "# NBVAL_SKIP\n",
    "# Load our forcefield \n",
    "#ffxml = 'test_forcefields/smirnoff99Frosst.offxml'\n",
    "ffxml = 'smirnoff99Frosst_modified.offxml'\n",
    "ff = forcefield.ForceField(ffxml)"
   ]
  },
  {
   "cell_type": "code",
   "execution_count": 3,
   "metadata": {},
   "outputs": [
    {
     "name": "stdout",
     "output_type": "stream",
     "text": [
      "Creating system for benzene...\n"
     ]
    },
    {
     "ename": "NameError",
     "evalue": "name 'unit' is not defined",
     "output_type": "error",
     "traceback": [
      "\u001b[0;31m---------------------------------------------------------------------------\u001b[0m",
      "\u001b[0;31mNameError\u001b[0m                                 Traceback (most recent call last)",
      "\u001b[0;32m<ipython-input-3-01f5143b0dcf>\u001b[0m in \u001b[0;36m<module>\u001b[0;34m()\u001b[0m\n\u001b[1;32m     32\u001b[0m         \u001b[0mpositions\u001b[0m\u001b[0;34m[\u001b[0m\u001b[0mindex\u001b[0m\u001b[0;34m,\u001b[0m\u001b[0;36m1\u001b[0m\u001b[0;34m]\u001b[0m \u001b[0;34m=\u001b[0m \u001b[0my\u001b[0m\u001b[0;34m\u001b[0m\u001b[0m\n\u001b[1;32m     33\u001b[0m         \u001b[0mpositions\u001b[0m\u001b[0;34m[\u001b[0m\u001b[0mindex\u001b[0m\u001b[0;34m,\u001b[0m\u001b[0;36m2\u001b[0m\u001b[0;34m]\u001b[0m \u001b[0;34m=\u001b[0m \u001b[0mz\u001b[0m\u001b[0;34m\u001b[0m\u001b[0m\n\u001b[0;32m---> 34\u001b[0;31m     \u001b[0mpositions\u001b[0m \u001b[0;34m=\u001b[0m \u001b[0munit\u001b[0m\u001b[0;34m.\u001b[0m\u001b[0mQuantity\u001b[0m\u001b[0;34m(\u001b[0m\u001b[0mpositions\u001b[0m\u001b[0;34m,\u001b[0m \u001b[0munit\u001b[0m\u001b[0;34m.\u001b[0m\u001b[0mangstroms\u001b[0m\u001b[0;34m)\u001b[0m\u001b[0;34m\u001b[0m\u001b[0m\n\u001b[0m\u001b[1;32m     35\u001b[0m     \u001b[0mintegrator\u001b[0m \u001b[0;34m=\u001b[0m \u001b[0mopenmm\u001b[0m\u001b[0;34m.\u001b[0m\u001b[0mVerletIntegrator\u001b[0m\u001b[0;34m(\u001b[0m\u001b[0;36m1.0\u001b[0m \u001b[0;34m*\u001b[0m \u001b[0munit\u001b[0m\u001b[0;34m.\u001b[0m\u001b[0mfemtoseconds\u001b[0m\u001b[0;34m)\u001b[0m\u001b[0;34m\u001b[0m\u001b[0m\n\u001b[1;32m     36\u001b[0m     \u001b[0msimulation\u001b[0m \u001b[0;34m=\u001b[0m \u001b[0mapp\u001b[0m\u001b[0;34m.\u001b[0m\u001b[0mSimulation\u001b[0m\u001b[0;34m(\u001b[0m\u001b[0mtopology\u001b[0m\u001b[0;34m,\u001b[0m \u001b[0msystem\u001b[0m\u001b[0;34m,\u001b[0m \u001b[0mintegrator\u001b[0m\u001b[0;34m)\u001b[0m\u001b[0;34m\u001b[0m\u001b[0m\n",
      "\u001b[0;31mNameError\u001b[0m: name 'unit' is not defined"
     ]
    }
   ],
   "source": [
    "# NBVAL_SKIP\n",
    "# Initialize o-xylene and benzene as a test molecules\n",
    "molnames = ['benzene', 'o-xylene','1,2-ditert-butylbenzene'] \n",
    "oemols = []\n",
    "topologies = []\n",
    "systems = []\n",
    "for molname in molnames:\n",
    "    mol = oechem.OEMol()\n",
    "    oeiupac.OEParseIUPACName(mol, molname)\n",
    "    omega = oeomega.OEOmega()\n",
    "    omega(mol)\n",
    "    # Generate coordinates as we'll need them later for energy evaluations\n",
    "    omega = oeomega.OEOmega()\n",
    "    omega(mol)\n",
    "    oechem.OETriposAtomNames(mol) #Assign Tripos names\n",
    "    oechem.OETriposAtomTypes(mol) #Assign tripos numeric types\n",
    "    oechem.OETriposTypeNames(mol) #Assign tripos text types\n",
    "    # Generate topology and system\n",
    "    topology = forcefield.generateTopologyFromOEMol(mol)\n",
    "    topologies.append(topology)\n",
    "    print(\"Creating system for %s...\" % molname)\n",
    "    system = ff.createSystem(topology, [mol], chargeMethod = 'OECharges_AM1BCCSym', verbose = verbose)\n",
    "    systems.append(system)\n",
    "    \n",
    "    # Energy minimize molecules with SMIRNOFF because otherwise the strained molecule will still be planar\n",
    "    # due to how omega generates conformers\n",
    "    coordinates = mol.GetCoords()\n",
    "    natoms=len(coordinates)\n",
    "    positions = np.zeros([natoms,3], np.float32)\n",
    "    for index in range(natoms):\n",
    "        (x,y,z) = coordinates[index]\n",
    "        positions[index,0] = x\n",
    "        positions[index,1] = y\n",
    "        positions[index,2] = z\n",
    "    positions = unit.Quantity(positions, unit.angstroms)\n",
    "    integrator = openmm.VerletIntegrator(1.0 * unit.femtoseconds)\n",
    "    simulation = app.Simulation(topology, system, integrator)\n",
    "    simulation.context.setPositions(positions)\n",
    "    state = simulation.context.getState(getEnergy=True)\n",
    "    energy = state.getPotentialEnergy() / unit.kilocalories_per_mole\n",
    "    #print(energy)\n",
    "    simulation.minimizeEnergy()\n",
    "    state = simulation.context.getState(getEnergy=True, getPositions=True)\n",
    "    energy = state.getPotentialEnergy() / unit.kilocalories_per_mole\n",
    "    #print(energy)\n",
    "    \n",
    "    #Swap coordinates ack into molecule\n",
    "    positions = state.getPositions(asNumpy=True)\n",
    "    pos_unitless = positions/unit.angstroms\n",
    "    coordlist = []\n",
    "    for idx in range(len(pos_unitless)):\n",
    "        coordlist.append( pos_unitless[idx][0])\n",
    "        coordlist.append( pos_unitless[idx][1])\n",
    "        coordlist.append( pos_unitless[idx][2])\n",
    "    oecoords = oechem.OEFloatArray(coordlist)\n",
    "    mol.SetCoords(oecoords)\n",
    "    \n",
    "    # Generate topology and system (again to make sure we get the right coords)\n",
    "    oemols.append(oechem.OEMol(mol))\n",
    "    topology = generateTopologyFromOEMol(mol)\n",
    "    topologies.append(topology)\n",
    "    print(\"Creating system for %s...\" % molname)\n",
    "    system = ff.createSystem(topology, [mol], chargeMethod = 'OECharges_AM1BCCSym', verbose = verbose)\n",
    "    systems.append(system)"
   ]
  },
  {
   "cell_type": "markdown",
   "metadata": {},
   "source": [
    "## Now generate mol2 files for our molecules with parm99 types so we can parameterize with AMBER\n",
    "We'll just go through and modify benzene and toluene to get parm99 types and then write them out. "
   ]
  },
  {
   "cell_type": "code",
   "execution_count": null,
   "metadata": {},
   "outputs": [],
   "source": [
    "# NBVAL_SKIP\n",
    "# Next step -- need AMBER prmtop/crd files for o-xylene and/or benzene for comparison\n",
    "# I should be able to get these by hand-typing them with parm@frosst types and then generating from the frcmod, etc.\n",
    "\n",
    "# Benzene uses CA for carbons, HA for hydrogens. \n",
    "# o-xylene would be the same for the ring atoms, and then HC for the methyl hydrogen and CT for the carbon. \n",
    "# Superficially that looks consistent with SMIRKS patterns in SMIRNOFF99Frosst\n",
    "\n",
    "oemols_tripos = [] # Store with original types\n",
    "# Create benzene and o-xylene and swap atom names before writing right here! \n",
    "for idx, oemol in enumerate(oemols):\n",
    "    oemols_tripos.append(oechem.OEMol(oemol))\n",
    "    for atom in oemol.GetAtoms():\n",
    "        typename= atom.GetType()\n",
    "        #print(typename)\n",
    "        if typename=='H':\n",
    "            # What is it connected to?\n",
    "            c_ar = False\n",
    "            for bond in atom.GetBonds():\n",
    "                nbr = bond.GetNbr(atom)\n",
    "                #print('Atom type %s has neighbor type %s' % (typename, nbr.GetType()))\n",
    "                if nbr.GetType=='C.ar' or nbr.GetType()=='CA':\n",
    "                    c_ar = True\n",
    "            if c_ar:\n",
    "                atom.SetType('HA')\n",
    "            else: \n",
    "                atom.SetType('HC')\n",
    "        elif typename=='C.ar':\n",
    "            atom.SetType('CA')\n",
    "        elif typename=='C.3':\n",
    "            atom.SetType('CT')\n",
    "        #print(\"   New type %s...\" % atom.GetType())\n",
    "\n",
    "    # Write resulting molecule\n",
    "    ostream = oechem.oemolostream(molnames[idx]+'.mol2')\n",
    "    ostream.SetFlavor(oechem.OEFormat_MOL2, oechem.OEOFlavor_MOL2_Forcefield) # Use forcefield flavor to preserve types\n",
    "    oechem.OEWriteMolecule( ostream, oemol)\n",
    "    ostream.close()\n"
   ]
  },
  {
   "cell_type": "markdown",
   "metadata": {},
   "source": [
    "### Generate AMBER prmtop and crd files for these"
   ]
  },
  {
   "cell_type": "code",
   "execution_count": null,
   "metadata": {},
   "outputs": [],
   "source": [
    "# NBVAL_SKIP\n",
    "frcmod = 'parm_Frosst.frcmod'\n",
    "for (idx, molname) in enumerate(molnames):\n",
    "    prmtop = molname+'.prmtop'\n",
    "    mol2file = molname+'.mol2'\n",
    "    crd = molname+'.crd'\n",
    "    tleap_tools.run_tleap(molname, mol2file, frcmod, prmtop_filename=prmtop, inpcrd_filename=crd, verbose = False)"
   ]
  },
  {
   "cell_type": "markdown",
   "metadata": {},
   "source": [
    "## Compare energies of molecules and their components"
   ]
  },
  {
   "cell_type": "code",
   "execution_count": null,
   "metadata": {},
   "outputs": [],
   "source": [
    "# NBVAL_SKIP\n",
    "from openforcefield.typing.engines.smirnoff import forcefield_utils as ff_utils\n",
    "import numpy as np\n",
    "import simtk.unit as unit\n",
    "print(oemols_tripos)\n",
    "for idx, molname in enumerate(molnames):\n",
    "    print(\"Examining %s...\" % molname)\n",
    "    oemol = oemols_tripos[idx]\n",
    "    prmtop = molname+'.prmtop'\n",
    "    crd = molname+'.crd'\n",
    "    frosst_component, smirnoff_component, frosst_energy, smirnoff_energy = ff_utils.compare_molecule_energies(prmtop, crd, ff, oemol, skip_assert = True, verbose = verbose)\n",
    "    for comp in frosst_component:\n",
    "        cdiff = np.abs( frosst_component[comp] - smirnoff_component[comp])\n",
    "        #print cdiff, comp\n",
    "        if cdiff > 1e-5*unit.kilocalorie_per_mole:\n",
    "            print(\"   Component %s differs by %s...\" % (comp, cdiff.in_units_of(unit.kilocalorie_per_mole)))\n",
    "    print (\"SMIRNOFF energy %s, AMBER energy %s\" % (smirnoff_energy, frosst_energy))\n",
    "    \n",
    "print(\"Processed.\")\n",
    "    "
   ]
  },
  {
   "cell_type": "markdown",
   "metadata": {},
   "source": [
    "Without energy minimization, the ditert-butylbenzene case has nb/angle energies which differ by a bit, but it's basically at the limits of single precision (1 part in 10^8 or so) which is roughly what we ought to expect. It's just that the energy for this guy is pretty huge. With energy minimization, this goes away.\n",
    "\n",
    "Note that some discrepancy in the angle term is expected for ditert-butylbenzene -- I carefully manipulated the SMIRNOFF so the parameter values would be exactly the same for the angles relevant to o-xylene and benzene but this hasn't been done for ditert-butylbenzene so presumably there is an angle parameter which is a bit different.\n",
    "\n",
    "In any case, this example tests the improper code and it does now appear to be working correctly.\n",
    "\n",
    "## Compare actual parameters\n",
    "\n",
    "Note that this will only work up to torsions for o-xylene and benzene (but not ditert-butylbenzene as noted above); the impropers have a different number of terms by design in SMIRNOFF so this will fail for impropers. (Update: Modified code to allow skipping parameter comparison on impropers.)"
   ]
  },
  {
   "cell_type": "code",
   "execution_count": null,
   "metadata": {},
   "outputs": [],
   "source": [
    "# NBVAL_SKIP\n",
    "# We can use the same code as the above but just switch the assertion about checking terms to on\n",
    "for idx, molname in enumerate(molnames):\n",
    "    print(\"Examining %s...\" % molname)\n",
    "    oemol = oemols_tripos[idx]\n",
    "    prmtop = molname+'.prmtop'\n",
    "    crd = molname+'.crd'\n",
    "    frosst_component, smirnoff_component, frosst_energy, smirnoff_energy = ff_utils.compare_molecule_energies(prmtop, crd, ff, oemol, skip_assert = False, verbose = verbose, skip_improper = True)\n",
    "\n",
    "    \n",
    "print(\"Processed.\")"
   ]
  },
  {
   "cell_type": "code",
   "execution_count": null,
   "metadata": {
    "collapsed": true
   },
   "outputs": [],
   "source": []
  }
 ],
 "metadata": {
  "kernelspec": {
   "display_name": "Python 3",
   "language": "python",
   "name": "python3"
  },
  "language_info": {
   "codemirror_mode": {
    "name": "ipython",
    "version": 3
   },
   "file_extension": ".py",
   "mimetype": "text/x-python",
   "name": "python",
   "nbconvert_exporter": "python",
   "pygments_lexer": "ipython3",
   "version": "3.6.8"
  }
 },
 "nbformat": 4,
 "nbformat_minor": 1
}
