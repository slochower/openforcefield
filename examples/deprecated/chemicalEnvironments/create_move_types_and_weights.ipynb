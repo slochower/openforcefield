{
 "cells": [
  {
   "cell_type": "markdown",
   "metadata": {},
   "source": [
    "# Creating Weighted Moves\n",
    "\n",
    "This notebook was created in August 2016 during exploration in how to bias different types of moves in chemical space for the development of smirky and future chemical perception move proposal tools. \n",
    "\n",
    "**Authors**\n",
    "* Christopher I. Bayly OpenEye Scientific Software (on sabatical with Mobley Group UC Irvine)\n",
    "* Commentary added by Caitlin C. Bannan (Mobley Group UC Irvine) in April 2017\n",
    "\n",
    "**Generate List of Moves**\n",
    "\n",
    "The end goal of this notebook was to generate files with a list of moves in chemical space. Each parameter type (VdW, Bonds, Angles, Proper or Improper torsions) have weighted decisions for how to make changes. These lists of moves are used in the `smirksEnvMoves` notebook in this directory. \n"
   ]
  },
  {
   "cell_type": "code",
   "execution_count": 1,
   "metadata": {},
   "outputs": [],
   "source": [
    "# generic scientific/ipython header\n",
    "from __future__ import print_function\n",
    "from __future__ import division\n",
    "import os, sys\n",
    "import copy\n",
    "import numpy as np"
   ]
  },
  {
   "cell_type": "markdown",
   "metadata": {},
   "source": [
    "### Biasing Moves: \n",
    "* Using Odds to make some moves more likely than others within a class such as atomLabel, \n",
    "ie which atom in e.g. atmOrBond: Odds for changing an atom versus a bond is 10:1\n",
    "* Following the biasing probability so that after a series of biased choices we know what is\n",
    "the overall probability"
   ]
  },
  {
   "cell_type": "code",
   "execution_count": 2,
   "metadata": {
    "collapsed": true
   },
   "outputs": [],
   "source": [
    "# Parent dictionary of in-common Movetypes-with-Odds to be used as the basis for each parameter's moves\n",
    "parentMovesWithOdds = {}\n",
    "parentMovesWithOdds['atmOrBond'] = [ ('atom',10), ('bond',1)]\n",
    "parentMovesWithOdds['actionChoices'] = [('add',1), ('swap',1), ('delete',1), ('joinAtom',1)]\n",
    "parentMovesWithOdds['ORorANDType'] = [('ORtype',3), ('ANDtype',1)]"
   ]
  },
  {
   "cell_type": "markdown",
   "metadata": {},
   "source": [
    "### Make 'moves with weights' dictionaries specialized for each parameter type\n",
    "Here we give the odds for performing a specific move within its class, where we will \n",
    "make it less probable to perform some moves in preference to others within a class. For example,\n",
    "within the bond angle parameter, we will set odds in the bondLabel moveType to make it \n",
    "less probable to change the central atom of the bond compared to the end atoms, and those\n",
    "in turn less probable compared to changing attached substituent atoms.\n",
    "\n",
    "The movesWithOdds data structure is a list of tuples so that it is more easily for a\n",
    "human to read and modify. Then that is processed by function movesWithWeightsFromOdds\n",
    "to turn it into a probabilities-based format usable by numpy's random.choice() function."
   ]
  },
  {
   "cell_type": "code",
   "execution_count": 3,
   "metadata": {
    "collapsed": true
   },
   "outputs": [],
   "source": [
    "def movesWithWeightsFromOdds( MovesWithOdds):\n",
    "    '''Processes a dictionary of movesWithOdds (lists of string/integer tuples)\n",
    "    into a dictionary of movesWithWeights usable to perform weighted\n",
    "    random choices with numpy's random.choice() function.\n",
    "    Argument:   a MovesWithOdds dictionary of lists of string/integer tuples\n",
    "    Returns: a MovesWithWeights dictionary of pairs of a moveType-list with a \n",
    "            probabilites-list, the latter used by numpy's random.choice() function.'''\n",
    "    movesWithWeights = {}\n",
    "    for key in MovesWithOdds.keys():\n",
    "        moves = [ item[0] for item in MovesWithOdds[key] ]\n",
    "        odds =  [ item[1] for item in MovesWithOdds[key] ]\n",
    "        weights = odds/np.sum(odds)\n",
    "        #print( key, moves, odds, weights)\n",
    "        movesWithWeights[key] = ( moves, weights)\n",
    "    return movesWithWeights"
   ]
  },
  {
   "cell_type": "code",
   "execution_count": 4,
   "metadata": {},
   "outputs": [],
   "source": [
    "# make 'moves with weights' dictionary for vdW\n",
    "movesWithOddsVdW = copy.deepcopy( parentMovesWithOdds)\n",
    "movesWithOddsVdW['atomLabel'] = [ ('unIndexed',10), ('atom1',1)]\n",
    "movesWithOddsVdW['bondLabel'] = [ ('unIndexed',1)]\n",
    "movesWithWeightsVdW = movesWithWeightsFromOdds( movesWithOddsVdW)"
   ]
  },
  {
   "cell_type": "code",
   "execution_count": 5,
   "metadata": {
    "collapsed": true
   },
   "outputs": [],
   "source": [
    "# make 'moves with weights' dictionary for bonds\n",
    "movesWithOddsBonds = copy.deepcopy( parentMovesWithOdds)\n",
    "movesWithOddsBonds['atomLabel'] = [ ('unIndexed',10), ('atom1',1),('atom2',1)]\n",
    "movesWithOddsBonds['bondLabel'] = [ ('unIndexed',10), ('bond1',1)]\n",
    "movesWithWeightsBonds = movesWithWeightsFromOdds( movesWithOddsBonds)"
   ]
  },
  {
   "cell_type": "code",
   "execution_count": 6,
   "metadata": {
    "collapsed": true
   },
   "outputs": [],
   "source": [
    "# make 'moves with weights' dictionary for angles\n",
    "movesWithOddsAngles = copy.deepcopy( parentMovesWithOdds)\n",
    "movesWithOddsAngles['atomLabel'] = [ ('unIndexed',20), ('atom1',10),('atom2',1), ('atom3',10)]\n",
    "movesWithOddsAngles['bondLabel'] = [ ('unIndexed',10), ('bond1',1),('bond2',1)]\n",
    "movesWithWeightsAngles = movesWithWeightsFromOdds( movesWithOddsAngles)"
   ]
  },
  {
   "cell_type": "code",
   "execution_count": 7,
   "metadata": {
    "collapsed": true
   },
   "outputs": [],
   "source": [
    "# make 'moves with weights' dictionary for torsions\n",
    "movesWithOddsTorsions = copy.deepcopy( parentMovesWithOdds)\n",
    "movesWithOddsTorsions['atomLabel'] = [ ('unIndexed',20), ('atom1',10),('atom2',1), ('atom3',1),('atom4',10)]\n",
    "movesWithOddsTorsions['bondLabel'] = [ ('unIndexed',20), ('bond1',10),('bond2',1), ('bond3',10)]\n",
    "movesWithWeightsTorsions = movesWithWeightsFromOdds( movesWithOddsTorsions)"
   ]
  },
  {
   "cell_type": "code",
   "execution_count": 8,
   "metadata": {
    "collapsed": true
   },
   "outputs": [],
   "source": [
    "# make 'moves with weights' dictionary for impropers\n",
    "movesWithOddsImpropers = copy.deepcopy( parentMovesWithOdds)\n",
    "movesWithOddsImpropers['atomLabel'] = [ ('unIndexed',20), ('atom1',10),('atom2',1), ('atom3',10),('atom4',10)]\n",
    "movesWithOddsImpropers['bondLabel'] = [ ('unIndexed',20), ('bond1',1),('bond2',1), ('bond3',1)]\n",
    "movesWithWeightsImpropers = movesWithWeightsFromOdds( movesWithOddsImpropers)"
   ]
  },
  {
   "cell_type": "code",
   "execution_count": 9,
   "metadata": {},
   "outputs": [
    {
     "name": "stdout",
     "output_type": "stream",
     "text": [
      "atomLabel ['unIndexed', 'atom1', 'atom2', 'atom3', 'atom4'] [ 0.39215686  0.19607843  0.01960784  0.19607843  0.19607843]\n",
      "actionChoices ['add', 'swap', 'delete', 'joinAtom'] [ 0.25  0.25  0.25  0.25]\n",
      "ORorANDType ['ORtype', 'ANDtype'] [ 0.75  0.25]\n",
      "bondLabel ['unIndexed', 'bond1', 'bond2', 'bond3'] [ 0.86956522  0.04347826  0.04347826  0.04347826]\n",
      "atmOrBond ['atom', 'bond'] [ 0.90909091  0.09090909]\n"
     ]
    }
   ],
   "source": [
    "testWeights = movesWithWeightsImpropers\n",
    "for key in testWeights.keys():\n",
    "    print( key, testWeights[key][0], testWeights[key][1])"
   ]
  },
  {
   "cell_type": "markdown",
   "metadata": {},
   "source": [
    "### Make master dict-of-dicts so that parameter type can choose the correct movesWithWeights dict"
   ]
  },
  {
   "cell_type": "code",
   "execution_count": 10,
   "metadata": {},
   "outputs": [],
   "source": [
    "# 'VdW', 'Bond', 'Angle', 'Torsion', 'Improper'\n",
    "movesWithWeightsMaster = {}\n",
    "movesWithWeightsMaster['VdW'] = movesWithWeightsVdW\n",
    "movesWithWeightsMaster['Bond'] = movesWithWeightsBonds\n",
    "movesWithWeightsMaster['Angle'] = movesWithWeightsAngles\n",
    "movesWithWeightsMaster['Torsion'] = movesWithWeightsTorsions\n",
    "movesWithWeightsMaster['Improper'] = movesWithWeightsImpropers"
   ]
  },
  {
   "cell_type": "code",
   "execution_count": 11,
   "metadata": {
    "collapsed": true
   },
   "outputs": [],
   "source": [
    "def PickMoveItemWithProb( moveType, moveWithWeights):\n",
    "    '''Picks a moveItem based on a moveType and a dictionary of moveTypes with associated probabilities\n",
    "       Arguments:\n",
    "         moveType: string corresponding to a key in the moveWithWeights dictionary, e.g. atomTor\n",
    "         moveWithWeights: a dictionary based on moveType keys which each point to a list of probabilites\n",
    "           associated with the position in the list\n",
    "        Returns:\n",
    "          the randomly-chosen position in the list, based on the probability, together with the probability'''\n",
    "    listOfIndexes = range(0, len( moveWithWeights[moveType][1]) )\n",
    "    listIndex = np.random.choice(listOfIndexes, p= moveWithWeights[moveType][1])\n",
    "    return moveWithWeights[moveType][0][listIndex], moveWithWeights[moveType][1][listIndex]"
   ]
  },
  {
   "cell_type": "markdown",
   "metadata": {},
   "source": [
    "### Test to see if actual picks by PickMoveItemWithProb match target probabilities"
   ]
  },
  {
   "cell_type": "code",
   "execution_count": 12,
   "metadata": {},
   "outputs": [
    {
     "name": "stdout",
     "output_type": "stream",
     "text": [
      "10000 samples on moveType atomLabel\n",
      "atomLabel   Moves:   ['unIndexed', 'atom1', 'atom2', 'atom3', 'atom4']\n",
      "atomLabel   Weights: [ 0.47619048  0.23809524  0.02380952  0.02380952  0.23809524]\n",
      "atomLabel   Counts:  [4768, 2419, 238, 234, 2341]\n"
     ]
    }
   ],
   "source": [
    "# NBVAL_SKIP\n",
    "movesWithWeightsTest = movesWithWeightsMaster['Torsion']\n",
    "key = np.random.choice( movesWithWeightsTest.keys() )\n",
    "nSamples = 10000\n",
    "print( nSamples, 'samples on moveType', key)\n",
    "print( key, '  Moves:  ', movesWithWeightsTest[key][0])\n",
    "print( key, '  Weights:', movesWithWeightsTest[key][1])\n",
    "counts = [0]*len(movesWithWeightsTest[key][1])\n",
    "for turn in range(0, nSamples):\n",
    "    choice, prob = PickMoveItemWithProb( key, movesWithWeightsTest)\n",
    "    idx = movesWithWeightsTest[key][0].index(choice)\n",
    "    counts[ idx] += 1\n",
    "print( key, '  Counts: ', counts)"
   ]
  },
  {
   "cell_type": "code",
   "execution_count": 13,
   "metadata": {
    "collapsed": true
   },
   "outputs": [],
   "source": [
    "def PropagateMoveTree( moveType, movesWithWeights, accumMoves, accumProb):\n",
    "    '''Expands a moveList by the input moveType, randomly picking a move\n",
    "    of that type from the list in movesWithWeights, biased by the weight\n",
    "    (probability) also from movesWithWeights. It incorporates that probability\n",
    "    into the accumulated probability that was passed it with the existing list\n",
    "    Arguments:\n",
    "        moveType: a string which is a key in the movesWithWeights dictionary\n",
    "        movesWithWeights: a dictionary of a list of allowed moves of a certain\n",
    "            moveType paired with a list of a probability associated with each move.\n",
    "        accumMoves: the list of moves (being strings) to be expanded by this function.\n",
    "        accumProb: the accumulated probability so far of the moves in accumMoves\n",
    "    Returns:\n",
    "        accumMoves: the list of moves (being strings) expanded by this function\n",
    "        accumProb: the revised accumulated probability of the moves in accumMoves\n",
    "    '''\n",
    "    choice, prob = PickMoveItemWithProb( moveType, movesWithWeights)\n",
    "    #print( 'before', choice, prob, accumProb)\n",
    "    accumMoves.append( choice)\n",
    "    accumProb *= prob\n",
    "    #print( 'after', choice, prob, accumProb)\n",
    "    return accumMoves, accumProb"
   ]
  },
  {
   "cell_type": "code",
   "execution_count": 14,
   "metadata": {},
   "outputs": [],
   "source": [
    "def GenerateMoveTree( parameterType):\n",
    "    '''Generates a list of micro-moves describing how to attempt to change the chemical\n",
    "    graph associated with a parameter type. Each micro-move makes a weighted random\n",
    "    decision on some aspect of the overall move, which will be made by effecting each\n",
    "    of the micro-moves in the list.\n",
    "    Argument:\n",
    "        parameterType: this string refers to a force-field parameter type (e.g. 'Torsion')\n",
    "            and determines what kind of moveTypes, moves, and weights will be used in\n",
    "            weight random micro-moves\n",
    "    Returns:\n",
    "        moveTree: the list of micro-moves describing how to attempt to change the chemical\n",
    "            graph associated with a parameter type.\n",
    "        cumProb: the weights-biased probability of making the overall move, i.e. effecting\n",
    "            the list of micro-moves.'''\n",
    "    cumProb = 1.0\n",
    "    moveTree = []\n",
    "    paramType = parameterType\n",
    "    movesWithWeights = movesWithWeightsMaster[paramType]\n",
    "    cumProb = 1.0\n",
    "    moveTree = []\n",
    "    moveFlow = ['actionChoices', 'atmOrBond', 'whichLabel', 'ORorANDType']\n",
    "    for stage in moveFlow:\n",
    "        if stage=='whichLabel' and moveTree[-1]=='atom':\n",
    "            moveTree, cumProb = PropagateMoveTree( 'atomLabel', movesWithWeights, moveTree, cumProb)\n",
    "        elif stage=='whichLabel' and moveTree[-1]=='bond':\n",
    "            moveTree, cumProb = PropagateMoveTree( 'bondLabel', movesWithWeights, moveTree, cumProb)\n",
    "        else:\n",
    "            moveTree, cumProb = PropagateMoveTree( stage, movesWithWeights, moveTree, cumProb)\n",
    "    return moveTree, cumProb"
   ]
  },
  {
   "cell_type": "markdown",
   "metadata": {},
   "source": [
    "### Test GenerateMoveTree"
   ]
  },
  {
   "cell_type": "code",
   "execution_count": 15,
   "metadata": {},
   "outputs": [
    {
     "name": "stdout",
     "output_type": "stream",
     "text": [
      "(['swap', 'bond', 'unIndexed', 'ANDtype'], 0.0027716186252771621)\n",
      "(['joinAtom', 'atom', 'atom1', 'ORtype'], 0.040584415584415577)\n",
      "(['swap', 'atom', 'atom1', 'ORtype'], 0.040584415584415577)\n",
      "(['delete', 'atom', 'atom1', 'ORtype'], 0.040584415584415577)\n",
      "(['add', 'bond', 'unIndexed', 'ORtype'], 0.0083148558758314867)\n",
      "(['joinAtom', 'atom', 'unIndexed', 'ORtype'], 0.081168831168831154)\n",
      "(['add', 'atom', 'atom4', 'ORtype'], 0.040584415584415577)\n",
      "(['joinAtom', 'atom', 'atom1', 'ORtype'], 0.040584415584415577)\n",
      "(['add', 'atom', 'atom1', 'ORtype'], 0.040584415584415577)\n",
      "(['joinAtom', 'atom', 'atom1', 'ORtype'], 0.040584415584415577)\n"
     ]
    }
   ],
   "source": [
    "parameterType = 'Torsion'\n",
    "nSamples = 10\n",
    "moveTree, cumProb = GenerateMoveTree( parameterType)\n",
    "for i in range(0,nSamples):\n",
    "    print( GenerateMoveTree( parameterType) )"
   ]
  },
  {
   "cell_type": "markdown",
   "metadata": {
    "collapsed": true
   },
   "source": [
    "### Write a bunch of GenerateMoveTree moves to a file"
   ]
  },
  {
   "cell_type": "code",
   "execution_count": 16,
   "metadata": {},
   "outputs": [],
   "source": [
    "parameterType = 'Torsion'\n",
    "nSamples = 10000\n",
    "ofs = open('moveTrees.'+parameterType+'.txt','w')\n",
    "moveTree, cumProb = GenerateMoveTree( parameterType)\n",
    "for i in range(0,nSamples):\n",
    "    moveTree, prob = GenerateMoveTree( parameterType)\n",
    "    ofs.write( '%.6f ' % prob )\n",
    "    for microMove in moveTree:\n",
    "        ofs.write( '%s ' % microMove )\n",
    "    ofs.write( '\\n' )\n",
    "ofs.close()"
   ]
  },
  {
   "cell_type": "code",
   "execution_count": null,
   "metadata": {
    "collapsed": true
   },
   "outputs": [],
   "source": []
  }
 ],
 "metadata": {
  "kernelspec": {
   "display_name": "Python 3",
   "language": "python",
   "name": "python3"
  },
  "language_info": {
   "codemirror_mode": {
    "name": "ipython",
    "version": 3
   },
   "file_extension": ".py",
   "mimetype": "text/x-python",
   "name": "python",
   "nbconvert_exporter": "python",
   "pygments_lexer": "ipython3",
   "version": "3.6.8"
  }
 },
 "nbformat": 4,
 "nbformat_minor": 1
}
