{
 "cells": [
  {
   "cell_type": "markdown",
   "metadata": {},
   "source": [
    "# Using `ChemicalEnvironments`\n",
    "\n",
    "Chemical Environments were created as a way to parse SMIRKS strings and make changes in chemical perception space. \n",
    "In this workbook, we will show you have chemical environments are initiated and used to make changes to a SMIRKS pattern. \n",
    "\n",
    "**Authors**\n",
    "* Caitlin C. Bannan from Mobley Group at University of California, Irvine \n",
    "\n",
    "**Basic Structure of `ChemicalEnvironments`**\n",
    "\n",
    "`ChemicalEnvironments` are initiated with the following input variables:\n",
    "* smirks = any SMIRKS string (if None an empty environment is created)\n",
    "* label = this could be anything, a number/str/int, stored at ChemicalEnvironment.label \n",
    "* replacements = This is a list of two tuples in the form (short, smirks) to substitute short hand in your SMIRKS strings. This is used to check if your input SMIRKS string or created Chemical Environment are Valid. \n",
    "\n",
    "**SMIRKS Strings**\n",
    "\n",
    "Here we use the word SMIRKS to mean SMARTS patterns with indexed atoms, we are not using Chemical Environments to parse SMIRKS strings that describe reactions. \n",
    "That means these SMIRKS patterns should not contain multiple molecules (`'.'`) or reaction arrows (`'>>'`).\n",
    "Here we will try to explain the SMIRKS patterns used here, but SMARTS and SMIRKS are a complex language. \n",
    "SMARTS/SMIRKS strings are similar to SMILES strings with increased complexity. \n",
    "For more details about this language see the Daylight tutorials:\n",
    "* [SMILES](http://www.daylight.com/dayhtml_tutorials/languages/smiles/index.html)\n",
    "* [SMARTS](http://www.daylight.com/dayhtml/doc/theory/theory.smarts.html)\n",
    "* [SMIRKS](http://www.daylight.com/dayhtml_tutorials/languages/smirks/index.html)"
   ]
  },
  {
   "cell_type": "code",
   "execution_count": 1,
   "metadata": {},
   "outputs": [],
   "source": [
    "# import necessary functions\n",
    "from openforcefield.typing.chemistry import environment as env\n",
    "from openeye import oechem"
   ]
  },
  {
   "cell_type": "markdown",
   "metadata": {},
   "source": [
    "## Default Chemical Environments \n",
    "\n",
    "All Chemical Environments can be initated using SMIRKS strings.\n",
    "If a `ChemicalEnvironment` is initiated with no SMIRKS pattern, it is an empty structure.\n",
    "However, there are 5 subtypes of `ChemicalEnvironments` that match the types of parameters found in the SMIRNOFF format.\n",
    "If they are initiated with no SMIRKS pattern, their structure matches a generic for that parameter type, for example `[*:1]~[*:2]` for a bond (that is any atom connected to any other atom by any bond).\n",
    "The 5 subtypes are listed below with their expected number of indexed atoms and the corresponding SMIRKS structure:\n",
    "\n",
    "* `AtomChemicalEnvironment`\n",
    "    - expects 1 indexed atom\n",
    "    - default/generic SMIRKS `\"[*:1]\"`\n",
    "* `BondChemicalEnvironment`\n",
    "    - expects 2 indexed atoms\n",
    "    - default/generic SMIRKS: `\"[*:1]~[*:2]\"`\n",
    "* `AngleChemicalEnvironment`\n",
    "    - expects 3 indexed atoms\n",
    "    - default/generic SMIRKS: `\"[*:1]~[*:2]~[*:3]\"`\n",
    "* `TorsionChemicalEnvironment`\n",
    "    - expects 4 indexed atoms in a proper dihedral angle\n",
    "    - default/generic SMIRKS: `\"[*:1]~[*:2]~[*:3]~[*:4]\"`\n",
    "* `ImproperChemicalEnvironment`\n",
    "    - expects 4 indexed atoms in an improper dihedral angle\n",
    "    - default/generic SMIRKS: `\"[*:1]~[*:2](~[*:3])~[*:4]\"`\n",
    "\n",
    "Here we show how these are initiated. Note that the generic environment is blank, it has the potential to become a SMIRKS pattern, but currently nothing is stored in it. While the subtypes have the shape described above, but wildcards (`'*'` for atoms and `'~'` for bonds). "
   ]
  },
  {
   "cell_type": "code",
   "execution_count": 2,
   "metadata": {
    "scrolled": true
   },
   "outputs": [
    {
     "name": "stdout",
     "output_type": "stream",
     "text": [
      "   generic: \n",
      "      Atom: [*:1]\n",
      "      Bond: [*:1]~[*:2]\n",
      "     Angle: [*:1]~[*:2]~[*:3]\n",
      "   Torsion: [*:1]~[*:2]~[*:3]~[*:4]\n",
      " (Improper: [*:1]~[*:2](~[*:3])~[*:4]\n"
     ]
    }
   ],
   "source": [
    "# NBVAL_SKIP\n",
    "Env = env.ChemicalEnvironment()\n",
    "atomEnv = env.AtomChemicalEnvironment()\n",
    "bondEnv = env.BondChemicalEnvironment()\n",
    "angleEnv = env.AngleChemicalEnvironment()\n",
    "torsionEnv = env.TorsionChemicalEnvironment()\n",
    "impropEnv = env.ImproperChemicalEnvironment()\n",
    "\n",
    "EnvList = [Env, atomEnv, bondEnv, angleEnv, torsionEnv, impropEnv]\n",
    "names = ['generic', 'Atom','Bond','Angle','Torsion','(Improper']\n",
    "\n",
    "for idx, Env in enumerate(EnvList):\n",
    "    print(\"%10s: %s\" % (names[idx], Env.asSMIRKS()))"
   ]
  },
  {
   "cell_type": "markdown",
   "metadata": {},
   "source": [
    "## Initiating `ChemicalEnvironments` from SMIRKS Strings\n",
    "\n",
    "`ChemicalEnvironments` can be initialized by SMIRKS strings. Here we attempt to show the robustness of this parsing. These patterns are intentionally complicated and therefore can be hard to read by humans. Here are some of the key features we would like to test:\n",
    "\n",
    "* SMILES strings are SMIRKS strings (i.e. 'CCC' should be stored as 3 atoms bonded in a row).\n",
    "* Replacement strings, such as `\"$ewg1\"` to mean `\"[#7!-1,#8!-1,#16!-1,#9,#17,#35,#53]\"`\n",
    "* Complex recursive SMIRKS such as `\"[#6$(*([#6]=[#8])-,=$ewg2))]\"` \n",
    "* Ring indexing, as in SMILES, SMARTS and SMIKRS use a number after an atom to describe the atoms in a ring, such as \"[#6:1]1(-;!@[#1,#6])=;@[#6]-;@[#6]1\" to show a cyclopropene ring where atom 1 is in the double bond and is bound to a hydrogen or carbon outside the ring. \n",
    "* Hybrid SMIRKS with atomic symbols for the atoms. These do not have to use the square brackets, for example \"C(O-[#7,#8])C[C+0]=[*]\"\n",
    "\n",
    "In this set-up we will show that these SMIRKS patterns are parseable with the OpenEye Toolkits, then create a `ChemicalEnvironment` from the SMIRKS string and then print the `ChemicalEnvironment` as a SMIRKS string. Note that due to the nature of SMIRKS patterns the `ChemicalEnvironment` smirks may not identically match the input SMIRKS. A key difference is that every atom in a `ChemicalEnvironment` SMIRKS will be inside square brackets. Also, \"blank\" bonds, for example in \"CCC\" will be converted to their literal meaning, single or aromatic. "
   ]
  },
  {
   "cell_type": "code",
   "execution_count": 3,
   "metadata": {
    "scrolled": false
   },
   "outputs": [
    {
     "name": "stdout",
     "output_type": "stream",
     "text": [
      "Input SMIRKS: [#6$(*~[#6]=[#8])$(*-,=$ewg2)]\n",
      "\t parseable by OpenEye Tools: True\n",
      "\t Chemical Environment SMIRKS: [#6](~[#6]=[#8])-,=[$ewg2]\n",
      "\n",
      "Input SMIRKS: CCC\n",
      "\t parseable by OpenEye Tools: True\n",
      "\t Chemical Environment SMIRKS: [C]-,:[C]-,:[C]\n",
      "\n",
      "Input SMIRKS: [#1:1]-CCC\n",
      "\t parseable by OpenEye Tools: True\n",
      "\t Chemical Environment SMIRKS: [#1:1]-[C]-,:[C]-,:[C]\n",
      "\n",
      "Input SMIRKS: [#6:1]1(-;!@[#1,#6])=;@[#6]-;@[#6]1\n",
      "\t parseable by OpenEye Tools: True\n",
      "\t Chemical Environment SMIRKS: [#6:1]1(-;!@[#1,#6])=;@[#6]-;@[#6]1\n",
      "\n",
      "Input SMIRKS: C(O-[#7,#8])CC=[*]\n",
      "\t parseable by OpenEye Tools: True\n",
      "\t Chemical Environment SMIRKS: [C](-,:[C]-,:[C]=[*])-,:[O]-[#7,#8]\n",
      "\n",
      "Input SMIRKS: [#6$([#6X4](~[$ewg1])(~[#8]~[#1])):1]-[#6X2H2;+0:2]-,=,:;!@;!#[$ewg2:3]-[#4:4]\n",
      "\t parseable by OpenEye Tools: True\n",
      "\t Chemical Environment SMIRKS: [#6X4:1](-[#6X2H2;+0:2]-,=,:;!@;!#[$ewg2:3]-[#4:4])(~[#8]~[#1])~[$ewg1]\n",
      "\n",
      "Input SMIRKS: [#6$([#6X4](~[$ewg1])(~[#8]~[#1])):1]1=CCCC1\n",
      "\t parseable by OpenEye Tools: True\n",
      "\t Chemical Environment SMIRKS: [#6X4:1]1(~[#8]~[#1])(~[$ewg1])=[C]-,:[C]-,:[C]-,:[C]1\n",
      "\n"
     ]
    }
   ],
   "source": [
    "# NBVAL_SKIP\n",
    "# define the two replacements strings\n",
    "replacements = [ ('ewg1', '[#7!-1,#8!-1,#16!-1,#9,#17,#35,#53]'),\n",
    "               ('ewg2', '[#7!-1,#8,#16]')]\n",
    "\n",
    "# define complicated SMIRKS patterns\n",
    "SMIRKS = ['[#6$(*~[#6]=[#8])$(*-,=$ewg2)]', # complex recursive SMIRKS\n",
    "         'CCC', # SMILES\n",
    "          \"[#1:1]-CCC\", # simple hybrid\n",
    "         '[#6:1]1(-;!@[#1,#6])=;@[#6]-;@[#6]1', # Complicated ring\n",
    "         'C(O-[#7,#8])CC=[*]', # Hybrid SMIRKS\n",
    "         \"[#6$([#6X4](~[$ewg1])(~[#8]~[#1])):1]-[#6X2H2;+0:2]-,=,:;!@;!#[$ewg2:3]-[#4:4]\", # its just long\n",
    "         \"[#6$([#6X4](~[$ewg1])(~[#8]~[#1])):1]1=CCCC1\", # another ring\n",
    "         ]\n",
    "\n",
    "for smirk in SMIRKS:\n",
    "    qmol = oechem.OEQMol()\n",
    "    tmp_smirks = oechem.OESmartsLexReplace(smirk, replacements) \n",
    "    parseable = env.OEParseSmarts(qmol, tmp_smirks)\n",
    "    print(\"Input SMIRKS: %s\" % smirk)\n",
    "    print(\"\\t parseable by OpenEye Tools: %s\" % parseable)\n",
    "    Env = env.ChemicalEnvironment(smirks = smirk, replacements = replacements)\n",
    "    print(\"\\t Chemical Environment SMIRKS: %s\\n\" % Env.asSMIRKS())"
   ]
  },
  {
   "cell_type": "markdown",
   "metadata": {},
   "source": [
    "# Structure of `ChemicalEnvironments`\n",
    "\n",
    "Up until now, we have discussed only how to initiate `ChemicalEnvironment`s. Now we will explain how they are structured and how to use them to make changes to your SMIRKS pattern (and therefor the fragment you are describing).\n",
    "To begin with, the overall structure of `ChemicalEnvironment`s is similar to how a chemist might think about a fragment. \n",
    "We use NetworkX graphs to store information about the pieces. \n",
    "Nodes store information about Atoms and edges (connecting nodes) store information about Bonds. \n",
    "Both of these sub-structures, Atoms and Bonds store information about the input SMIRKS pattern in a broken down way so it can be easily editted. The words Atoms and Bonds are capitalized as they are classes in and of themselves.\n",
    "\n",
    "Both Atoms and Bonds have two types of information\n",
    "* ORtypes \n",
    "    - things that are OR'd together in the SMIRKS string using a comma (',')\n",
    "    - These have two subtypes:\n",
    "        - ORbases - typically an atomic number\n",
    "        - ORdecorators - typically information that might be true for 1 possible atomic number, but not others\n",
    "* ANDtypes\n",
    "    - things that are AND'd together in the SMIRKS string using a semi-colon (';')\n",
    "\n",
    "This starts to sound complicated, so to try to illustrate how this works, we will use an actual Angle found in the [SMIRNOFF99Frosst](https://github.com/openforcefield/smirnoff99Frosst) forcefield.\n",
    "\n",
    "Here is the SMIRKS String:\n",
    "\n",
    "# `\"[#6X3,#7:1]~;@[#8;r:2]~;@[#6X3,#7:3]\"`\n",
    "\n",
    "* atom 1 and atom 3\n",
    "    - ORtypes\n",
    "        - '#6X3' - a trivalent carbon \n",
    "            - ORbase = '#6' \n",
    "            - ORdecorators = ['X3']\n",
    "        - '#7' is a nitrogen \n",
    "            - ORbase = '#7'\n",
    "            - ORdecorators []\n",
    "    - ANDtypes\n",
    "        - [] (None)\n",
    "* atom 2\n",
    "    - ORtypes\n",
    "        - '#8'\n",
    "            - ORbase = '#8'\n",
    "            - ORdecorators = []\n",
    "    - ANDtypes\n",
    "        - ['r'] it is in a ring \n",
    "* bond 1 and 2 are identical\n",
    "    - ORtypes = None (generic bond ~)\n",
    "    - ANDtypes = ['@'] \n",
    "        - it is in a ring\n",
    "\n",
    "### Selecting Atoms and Bonds \n",
    "\n",
    "Here we will use the selectAtom and selectBond functions to get a specific atom or bond and then print its information. The 'select' methods ( selectAtom() or selectBond() ) takes an argument descriptor which can be used to select a certain atom or type of atom. \n",
    "\n",
    "Descriptor input option:\n",
    "* None - returns a random atom\n",
    "* int - returns that atom or bond by index\n",
    "* 'Indexed' - returns a random indexed atom\n",
    "* 'Unindexed' - returns a random non-indexed atom\n",
    "* 'Alpha' - returns a random atom alpha to an indexed atom\n",
    "* 'Beta' - returns a random atom beta to an indexed atom \n"
   ]
  },
  {
   "cell_type": "code",
   "execution_count": 4,
   "metadata": {},
   "outputs": [
    {
     "name": "stdout",
     "output_type": "stream",
     "text": [
      "Atom 1: '[#6X3,#7:1]'\n",
      "ORTypes\n",
      "\tBase: #6\n",
      "\tDecorators: ['X3']\n",
      "\tBase: #7\n",
      "\tDecorators: []\n",
      "ANDTypes: []\n",
      "\n",
      "Bond 1: '~;@'\n",
      "ORTypes:  []\n",
      "ANDTypes:  ['@']\n"
     ]
    }
   ],
   "source": [
    "smirks = \"[#6X3,#7:1]~;@[#8;r:2]~;@[#6X3,#7:3]\"\n",
    "angle = env.ChemicalEnvironment(smirks = smirks)\n",
    "\n",
    "# get atom1 and print information\n",
    "atom1 = angle.selectAtom(1)\n",
    "print(\"Atom 1: '%s'\" % atom1.asSMIRKS())\n",
    "print(\"ORTypes\")\n",
    "for (base, decs) in atom1.getORtypes():\n",
    "    print(\"\\tBase: %s\" % base)\n",
    "    str_decs = [\"'%s'\" % d for d in decs]\n",
    "    str_decs = ','.join(str_decs)\n",
    "    print(\"\\tDecorators: [%s]\" % str_decs)\n",
    "print(\"ANDTypes:\", atom1.getANDtypes())\n",
    "print()\n",
    "\n",
    "# get bond1 and print information\n",
    "bond1 = angle.selectBond(1)\n",
    "print(\"Bond 1: '%s'\" % bond1.asSMIRKS())\n",
    "print(\"ORTypes: \", bond1.getORtypes())\n",
    "print(\"ANDTypes: \", bond1.getANDtypes())"
   ]
  },
  {
   "cell_type": "markdown",
   "metadata": {},
   "source": [
    "## Changing ORtypes and ANDtypes\n",
    "\n",
    "For both ORtypes and ANDtypes for Atoms and Bonds there are \"get\" and \"set\" methods. \n",
    "The set methods completely rewrite that type. \n",
    "There are also methods for add ORtypes and ANDtypes where you add a single entry to the existing list. \n",
    "\n",
    "Here we will use the set ORtypes to change atom1 to be a trivalent carbon or a divalent nitrogen.\n",
    "\n",
    "Then we will also add an ORType and ANDType to atom2 so that it could refer to an oxygen ('#8') or trivalent and neutral nitrogen ('#7X3+0') and in one ring ('R1').\n",
    " \n",
    "\n",
    "### Final SMIRKS string: `\"[#6X3,#7X2:1]~;@[#8,#7X3+0;r;R1:2]~;@[#6X3,#7:3]\"`"
   ]
  },
  {
   "cell_type": "code",
   "execution_count": 5,
   "metadata": {},
   "outputs": [
    {
     "name": "stdout",
     "output_type": "stream",
     "text": [
      "New Atom 1: [#6X3,#7X2:1] \n",
      "New Atom 2: [#8,#7+0X3;R1:2]\n",
      "\n",
      "New SMIRKS: [#6X3,#7X2:1]~;@[#8,#7+0X3;R1:2]~;@[#6X3,#7:3]\n"
     ]
    }
   ],
   "source": [
    "# Change atom1's ORtypes with the setORtype method\n",
    "new_ORtypes = [ ('#6', ['X3']), ('#7', ['X2']) ]\n",
    "atom1.setORtypes(new_ORtypes)\n",
    "print(\"New Atom 1: %s \" % atom1.asSMIRKS())\n",
    "\n",
    "# Change atom2's AND and OR types with the add*type methods\n",
    "atom2 = angle.selectAtom(2)\n",
    "atom2.addANDtype('R1')\n",
    "atom2.addORtype('#7', ['X3', '+0'])\n",
    "print(\"New Atom 2: %s\" % atom2.asSMIRKS())\n",
    "\n",
    "print(\"\\nNew SMIRKS: %s\" % angle.asSMIRKS())"
   ]
  },
  {
   "cell_type": "markdown",
   "metadata": {},
   "source": [
    "## Adding new Atoms\n",
    "\n",
    "The addAtom method is used to introduce atoms bound to existing atoms. \n",
    "You can add an empty atom or specify information about the new bond and new atom. \n",
    "Here are the parameters for the addAtom method:\n",
    "```\n",
    "    Parameters\n",
    "    -----------\n",
    "    bondToAtom: atom object, required\n",
    "        atom the new atom will be bound to\n",
    "    bondORtypes: list of tuples, optional\n",
    "        strings that will be used for the ORtypes for the new bond\n",
    "    bondANDtypes: list of strings, optional\n",
    "        strings that will be used for the ANDtypes for the new bond\n",
    "    newORtypes: list of strings, optional\n",
    "        strings that will be used for the ORtypes for the new atom\n",
    "    newANDtypes: list of strings, optional\n",
    "        strings that will be used for the ANDtypes for the new atom\n",
    "    newAtomIndex: int, optional\n",
    "        integer label that could be used to index the atom in a SMIRKS string\n",
    "    beyondBeta: boolean, optional\n",
    "        if True, allows bonding beyond beta position\n",
    "```\n",
    "\n",
    "The `addAtom` method returns the created atom.\n",
    "\n",
    "Here we will add an alpha atom (oxygen) to atom 3 that is not in a ring and then a beta atom (hydrogen) bound to the alpha atom. \n",
    "\n",
    "### New SMIRKS pattern: `\"[#6X3,#7X2:1]~;@[#8,#7+0X3;R1:2]~;@[#6X3,#7:3]~;!@[#8X2H1;R0]~[#1]\"`\n"
   ]
  },
  {
   "cell_type": "code",
   "execution_count": 6,
   "metadata": {},
   "outputs": [
    {
     "name": "stdout",
     "output_type": "stream",
     "text": [
      "Alpha Atom SMIRKS: [#8X2H1;R0]\n",
      "Beta Atom SMIRKS: [#1]\n",
      "\n",
      "New overall SMIRKS: [#6X3,#7X2:1]~;@[#8,#7+0X3;R1:2]~;@[#6X3,#7:3]~;!@[#8X2H1;R0]~[#1]\n"
     ]
    }
   ],
   "source": [
    "atom3 = angle.selectAtom(3)\n",
    "\n",
    "alpha_ORtypes = [('#8', ['X2', 'H1'])]\n",
    "alpha_ANDtypes = ['R0']\n",
    "alpha_bondANDtypes = ['!@']\n",
    "\n",
    "beta_ORtypes = [('#1', [])]\n",
    "\n",
    "alpha = angle.addAtom(atom3, bondANDtypes = alpha_bondANDtypes, \n",
    "                      newORtypes = alpha_ORtypes, newANDtypes = alpha_ANDtypes)\n",
    "\n",
    "beta = angle.addAtom(alpha, newORtypes = beta_ORtypes)\n",
    "\n",
    "print(\"Alpha Atom SMIRKS: %s\" % alpha.asSMIRKS())\n",
    "print(\"Beta Atom SMIRKS: %s\" % beta.asSMIRKS())\n",
    "print()\n",
    "print(\"New overall SMIRKS: %s\" % angle.asSMIRKS())"
   ]
  },
  {
   "cell_type": "markdown",
   "metadata": {},
   "source": [
    "## Removing Atoms\n",
    "\n",
    "The removeAtom method works how you would expect. It removes the specified atom and the bond connecting it to the fragment. \n",
    "You cannot remove indexed atoms (if you want to remove their OR and AND decorators you can set them to empty lists). \n",
    "The other option with the `removeAtom` method is to say only remove it if the atom is undecorated. This is done by setting the input variable `isEmpty` to True (default is False). When `isEmpty` is True, the atom is only removed if it has 1 ORtype and no ANDtypes. \n",
    "\n",
    "The `removeAtom` method returns True if the atom was removed and False if it was not. \n",
    "\n",
    "As an example, we will remove the hydrogen in the beta position to atom3 that was added above. \n",
    "\n",
    "### New SMIRKS pattern: `\"New overall SMIRKS: [#6X3,#7X2:1]~;@[#8,#7+0X3;R1:2]~;@[#6X3,#7:3]~;!@[#8X2H1;R0]\"`"
   ]
  },
  {
   "cell_type": "code",
   "execution_count": 7,
   "metadata": {},
   "outputs": [
    {
     "name": "stdout",
     "output_type": "stream",
     "text": [
      "The hydrogen beta to atom3 was remove:  True\n",
      "Updated SMIRKS string: [#6X3,#7X2:1]~;@[#8,#7+0X3;R1:2]~;@[#6X3,#7:3]~;!@[#8X2H1;R0]\n"
     ]
    }
   ],
   "source": [
    "removed = angle.removeAtom(beta)\n",
    "print(\"The hydrogen beta to atom3 was remove: \", removed)\n",
    "print(\"Updated SMIRKS string: %s\" % angle.asSMIRKS())"
   ]
  },
  {
   "cell_type": "markdown",
   "metadata": {},
   "source": [
    "## Other `ChemicalEnvironment` Methods\n",
    "\n",
    "There are a variety of other methods that let you get information about the stored fragment. This includes:\n",
    "\n",
    "1. Getting information about an atom or bond in an environment (i.e. `isAlpha` returns a boolean) \n",
    "* Get atoms or bonds in each type of position:\n",
    "    - `getAtoms` or `getBonds`\n",
    "        - returns all atoms or bonds\n",
    "    - `getIndexedAtoms` or `getIndexedBonds`\n",
    "    - `getAlphaAtoms` or `getAlphaBonds`\n",
    "    - `getBetaAtoms` or `getBetaBonds`\n",
    "    - `getUnindexedAtoms` or `getUnindexedBonds`\n",
    "* Report the minimum order of a bond with `Bond.getOrder` \n",
    "    - Note this is the minimum so a bond that is single or double (`'-,='`) will report the order as 1\n",
    "* Report the valence and bond order around an atom can be reported with `getValence` and `getBondORder`\n",
    "* Get a bond between two atoms (or determine if the atoms are bonded) with `getBond(atom1, atom2)`\n",
    "* Get atoms bound to a specified atom with `getNeighbors`\n",
    "\n",
    "Here we will show how each of these method types is used:"
   ]
  },
  {
   "cell_type": "code",
   "execution_count": 8,
   "metadata": {},
   "outputs": [
    {
     "name": "stdout",
     "output_type": "stream",
     "text": [
      "Above a carbon atom ('[#8X2H1;R0]') was added in the alpha position to atom 3. This atom is ...\n",
      "\t Indexed:  False\n",
      "\t Unindexed:  True\n",
      "\t Alpha:  True\n",
      "\t Beta:  False\n"
     ]
    }
   ],
   "source": [
    "# 1. Getting information about an atom or bond in an environment (i.e. isAlpha returns a boolean)\n",
    "# Check if the alpha atom above is any of the following\n",
    "print(\"Above a carbon atom ('%s') was added in the alpha position to atom 3. This atom is ...\" % alpha.asSMIRKS())\n",
    "print(\"\\t Indexed: \", angle.isIndexed(alpha))\n",
    "print(\"\\t Unindexed: \", angle.isUnindexed(alpha))\n",
    "print(\"\\t Alpha: \", angle.isAlpha(alpha))\n",
    "print(\"\\t Beta: \", angle.isBeta(alpha))\n",
    "# NOTE - These methods can take an atom or a bond as an argument"
   ]
  },
  {
   "cell_type": "code",
   "execution_count": 9,
   "metadata": {},
   "outputs": [
    {
     "name": "stdout",
     "output_type": "stream",
     "text": [
      "Here are the SMIRKS strings for the Indexed atoms in the example angle:\n",
      "\tAtom 1: '[#6X3,#7X2:1]'\n",
      "\tAtom 2: '[#8,#7+0X3;R1:2]'\n",
      "\tAtom 3: '[#6X3,#7:3]'\n",
      "\n",
      "Here are the SMIRKS strings for ALL bonds in the example angle:\n",
      "\t'~;@'\n",
      "\t'~;@'\n",
      "\t'~;!@'\n"
     ]
    }
   ],
   "source": [
    "# 2. Get atoms or bonds in each type of position, for example getIndexedAtoms or getAlphaBonds\n",
    "# We will print the SMIRKS for each indexed atom:\n",
    "indexed = angle.getIndexedAtoms()\n",
    "print(\"Here are the SMIRKS strings for the Indexed atoms in the example angle:\")\n",
    "for a in indexed:\n",
    "    print(\"\\tAtom %i: '%s'\" % (a.index, a.asSMIRKS()))\n",
    "print()\n",
    "\n",
    "bonds = angle.getBonds()\n",
    "print(\"Here are the SMIRKS strings for ALL bonds in the example angle:\")\n",
    "for b in bonds:\n",
    "    print(\"\\t'%s'\" % b.asSMIRKS())"
   ]
  },
  {
   "cell_type": "code",
   "execution_count": 10,
   "metadata": {},
   "outputs": [
    {
     "name": "stdout",
     "output_type": "stream",
     "text": [
      "Bond 1 (between atoms 1 and 2) has a minimum order of 1\n"
     ]
    }
   ],
   "source": [
    "# 3. Report the minimum order of a bond with Bond.getOrder\n",
    "bond1 = angle.selectBond(1)\n",
    "print(\"Bond 1 (between atoms 1 and 2) has a minimum order of %i\" % bond1.getOrder())"
   ]
  },
  {
   "cell_type": "code",
   "execution_count": 11,
   "metadata": {},
   "outputs": [
    {
     "name": "stdout",
     "output_type": "stream",
     "text": [
      "Atom 3 has a valency of 2\n",
      "Atom 3 has a minimum bond order of 2\n"
     ]
    }
   ],
   "source": [
    "# 4. Report the valence and bond order around an atom can be reported with getValence and getBondORder\n",
    "atom3 = angle.selectAtom(3)\n",
    "print(\"Atom 3 has a valency of %i\" % angle.getValence(atom3))\n",
    "print(\"Atom 3 has a minimum bond order of %i\" % angle.getBondOrder(atom3))"
   ]
  },
  {
   "cell_type": "code",
   "execution_count": 13,
   "metadata": {},
   "outputs": [
    {
     "name": "stdout",
     "output_type": "stream",
     "text": [
      "The bond between Atom 1 and Atom 2 has the pattern '~;@'\n",
      "The bond between Atom 2 and Atom 3 has the pattern '~;@'\n",
      "There is no bond between Atom 1 and Atom 3\n"
     ]
    }
   ],
   "source": [
    "# 5. Get a bond between two atoms (or determine if the atoms are bonded) with getBond(atom1, atom2)\n",
    "# Check for bonds between each pair of indexed atoms\n",
    "atom_pairs = [ (1,2), (2,3), (1,3) ]\n",
    "for (A,B) in atom_pairs:\n",
    "    atomA = angle.selectAtom(A)\n",
    "    atomB = angle.selectAtom(B)\n",
    "\n",
    "    # check if there is a bond between the two atoms\n",
    "    bond = angle.getBond(atomA, atomB)\n",
    "    if bond is None:\n",
    "        print(\"There is no bond between Atom %i and Atom %i\" % (A, B))\n",
    "    else:\n",
    "        print(\"The bond between Atom %i and Atom %i has the pattern '%s'\" % (A, B, bond.asSMIRKS()))\n"
   ]
  },
  {
   "cell_type": "code",
   "execution_count": 17,
   "metadata": {},
   "outputs": [
    {
     "name": "stdout",
     "output_type": "stream",
     "text": [
      "Atom 1 has the following neighbors\n",
      "\t '[#8,#7+0X3;R1:2]' \n",
      "\n",
      "Atom 2 has the following neighbors\n",
      "\t '[#6X3,#7X2:1]' \n",
      "\t '[#6X3,#7:3]' \n",
      "\n",
      "Atom 3 has the following neighbors\n",
      "\t '[#8,#7+0X3;R1:2]' \n",
      "\t '[#8X2H1;R0]' \n",
      "\n"
     ]
    }
   ],
   "source": [
    "# 6. Get atoms bound to a specified atom with getNeighbors\n",
    "# get the neighbors for each indexed atom\n",
    "for A in [1,2,3]:\n",
    "    atomA = angle.selectAtom(A)\n",
    "    print(\"Atom %i has the following neighbors\" % A)\n",
    "    for a in angle.getNeighbors(atomA):\n",
    "        print(\"\\t '%s' \" % a.asSMIRKS())\n",
    "    print()    "
   ]
  },
  {
   "cell_type": "code",
   "execution_count": null,
   "metadata": {
    "collapsed": true
   },
   "outputs": [],
   "source": []
  }
 ],
 "metadata": {
  "kernelspec": {
   "display_name": "Python 3",
   "language": "python",
   "name": "python3"
  },
  "language_info": {
   "codemirror_mode": {
    "name": "ipython",
    "version": 3
   },
   "file_extension": ".py",
   "mimetype": "text/x-python",
   "name": "python",
   "nbconvert_exporter": "python",
   "pygments_lexer": "ipython3",
   "version": "3.6.8"
  }
 },
 "nbformat": 4,
 "nbformat_minor": 1
}
