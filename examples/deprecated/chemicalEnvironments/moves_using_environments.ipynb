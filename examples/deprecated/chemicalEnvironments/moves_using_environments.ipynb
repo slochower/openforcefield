{
 "cells": [
  {
   "cell_type": "markdown",
   "metadata": {},
   "source": [
    "# Moves in chemical space\n",
    "\n",
    "ChemicalEnvironments were designed for the purpose of making moves/changes to the chemical perception of a SMIRNOFF forcefield. In this notebook we show how to use the environments to make these types of changes. \n",
    "\n",
    "**Authors**\n",
    "* Christopher I. Bayly (OpenEye Scientific Software while on sabbatical with Mobley Group UC Irvine)\n",
    "* Updates and Commentary by Caitlin C. Bannan (Mobley Group UC Irvine)"
   ]
  },
  {
   "cell_type": "code",
   "execution_count": 1,
   "metadata": {
    "collapsed": false
   },
   "outputs": [],
   "source": [
    "#!/usr/bin/env python\n",
    "# generic scientific/ipython header\n",
    "from __future__ import print_function\n",
    "from __future__ import division\n",
    "import os, sys\n",
    "import copy\n",
    "import numpy as np"
   ]
  },
  {
   "cell_type": "code",
   "execution_count": 2,
   "metadata": {
    "collapsed": true
   },
   "outputs": [],
   "source": [
    "import openeye.oechem as oechem"
   ]
  },
  {
   "cell_type": "code",
   "execution_count": 3,
   "metadata": {
    "collapsed": false
   },
   "outputs": [],
   "source": [
    "from openforcefield.typing.chemistry import environment "
   ]
  },
  {
   "cell_type": "markdown",
   "metadata": {},
   "source": [
    "### Chemical groups we might use"
   ]
  },
  {
   "cell_type": "code",
   "execution_count": 4,
   "metadata": {
    "collapsed": true
   },
   "outputs": [],
   "source": [
    "chemGroups = [ ('ewg1', '[#7,#8!-1,#16!-1,F,Cl,Br,I]'),\n",
    "               ('ewg1di', '[#7!X1,#8!X1,#16!X1]') ]"
   ]
  },
  {
   "cell_type": "markdown",
   "metadata": {},
   "source": [
    "## Section 1: Chemical Environments from SMIRKS \n",
    "\n",
    "Here we list the smirks patterns that will be used to generate ChemicalEnvironments below."
   ]
  },
  {
   "cell_type": "markdown",
   "metadata": {},
   "source": [
    "### Testing Chemical Environments API\n",
    "Build test torsion, angle, bond, vdW params (ToDo: impropers)\n",
    "* These will also be used as starting points for 'moves': reasonable changes to the NetworkxMol"
   ]
  },
  {
   "cell_type": "code",
   "execution_count": 5,
   "metadata": {
    "collapsed": false
   },
   "outputs": [
    {
     "name": "stdout",
     "output_type": "stream",
     "text": [
      "[#8X2;H0;+0:1]~[#6X4:2]-[#8:3]~[*:4]\n"
     ]
    }
   ],
   "source": [
    "# specific torsions from SMIRKS\n",
    "torsionEnv1 = environment.TorsionChemicalEnvironment( smirks = \"[#6X4:1]~[#6X4:2]-[#8X2;H1;+0:3]~[*:4]\" )\n",
    "torsionEnv2 = environment.TorsionChemicalEnvironment( smirks = \"[#8X2;H0;+0:1]~[#6X4:2]-[#8X2;H1;+0:3]~[*:4]\" )\n",
    "torsionEnv3 = environment.TorsionChemicalEnvironment( smirks = \"[#8X2;H0;+0:1]~[#6X4:2]-[#8:3]~[*:4]\" )\n",
    "print( torsionEnv3.asSMIRKS() )"
   ]
  },
  {
   "cell_type": "code",
   "execution_count": 6,
   "metadata": {
    "collapsed": false
   },
   "outputs": [
    {
     "name": "stdout",
     "output_type": "stream",
     "text": [
      "[#6X4:1]~[#6X4:2]~;!@[#6X4:3]\n"
     ]
    }
   ],
   "source": [
    "# specific angles from sublists \n",
    "angEnv1 = environment.AngleChemicalEnvironment( smirks = \"[#8X2;H0;+0:1]~[#6X4:2]-[#8X2;H1;+0:3]\")\n",
    "angEnv2 = environment.AngleChemicalEnvironment( smirks = \"[#6X4:1]~[#6X4:2]~[#6X4:3]\")\n",
    "angEnv3 = environment.AngleChemicalEnvironment( smirks = \"[#6X4:1]~[#6X4:2]~;!@[#6X4:3]\")\n",
    "print( angEnv3.asSMIRKS() )"
   ]
  },
  {
   "cell_type": "code",
   "execution_count": 7,
   "metadata": {
    "collapsed": false
   },
   "outputs": [
    {
     "name": "stdout",
     "output_type": "stream",
     "text": [
      "[*:2]~[#8:1]-[#6X4]~[#8X2;H0;+0]\n"
     ]
    }
   ],
   "source": [
    "# specific bonds from sublists \n",
    "bondEnv1 = environment.BondChemicalEnvironment( smirks = \"[#8X2;H0;+0:1]~[#6X4:2]\" )\n",
    "bondEnv2 = environment.BondChemicalEnvironment( smirks = \"[#8X2;H0;+0:1]~;!@[#6X4:2]\" )\n",
    "bondEnv3 = environment.BondChemicalEnvironment( smirks = \"[H:1]-[#6X4:2]\" )\n",
    "bondEnv4 = environment.ChemicalEnvironment( smirks = '[*:2]~[#8:1]-[#6X4]~[#8X2;H0;+0]' )\n",
    "print( bondEnv4.asSMIRKS() )"
   ]
  },
  {
   "cell_type": "code",
   "execution_count": 8,
   "metadata": {
    "collapsed": false
   },
   "outputs": [
    {
     "name": "stdout",
     "output_type": "stream",
     "text": [
      "[#1:1]-[#6](-[$ewg1])(-[$ewg1])-[$ewg1]\n"
     ]
    }
   ],
   "source": [
    "# specific vdW from sublists \n",
    "atomEnv1 = environment.AtomChemicalEnvironment( smirks = \"[#8X2;H0;+0:1]\")\n",
    "atomEnv2 = environment.AtomChemicalEnvironment( smirks = \"[#6X4:1]\")\n",
    "atomEnv3 = environment.AtomChemicalEnvironment( smirks = \"[H:1]\")\n",
    "atomH3 = environment.ChemicalEnvironment( \n",
    "    smirks = '[#1:1]-[#6](-[$ewg1])(-[$ewg1])-[$ewg1]', replacements = chemGroups)\n",
    "print( atomH3.asSMIRKS() )"
   ]
  },
  {
   "cell_type": "code",
   "execution_count": 9,
   "metadata": {
    "collapsed": false
   },
   "outputs": [
    {
     "name": "stdout",
     "output_type": "stream",
     "text": [
      "[#8X2;H0;+0:1]~[#6X4:2]-[#8:3]~[*:4]\n",
      "[('#8', ['X2'])]\n",
      "['H0', '+0']\n",
      "Selected atom :  4 [] []\n",
      "1 [('#8', ['X2'])] ['H0', '+0']\n",
      "2 [('#6', ['X4'])] []\n",
      "3 [('#8', [])] []\n",
      "4 [] []\n",
      "[('-', [])]\n",
      "[]\n"
     ]
    }
   ],
   "source": [
    "# Testing API for retrieval of atoms and bonds\n",
    "# This will be used to make moves in chemical space (change the environment)\n",
    "torsion = torsionEnv3\n",
    "print( torsion.asSMIRKS() )\n",
    "print( torsion.atom1.getORtypes() )\n",
    "print( torsion.atom1.getANDtypes() )\n",
    "atom4 = torsion.selectAtom( 4)\n",
    "print('Selected atom : ',atom4.index, atom4.getORtypes(), atom4.getANDtypes() )\n",
    "atmlist = torsion.getAtoms()\n",
    "for atom in atmlist:\n",
    "    print(atom.index, atom.getORtypes(), atom.getANDtypes() )\n",
    "bond2 = torsion.getBond(torsion.atom2,torsion.atom3)\n",
    "print( bond2.getORtypes() )\n",
    "print( bond2.getANDtypes() )"
   ]
  },
  {
   "cell_type": "code",
   "execution_count": 10,
   "metadata": {
    "collapsed": false
   },
   "outputs": [
    {
     "name": "stdout",
     "output_type": "stream",
     "text": [
      "[*:2]~[#8:1]-[#6X4]~[#8X2;H0;+0]\n",
      "Finding bond 1 directly...\n",
      "[]\n",
      "\n",
      "Finding bond 1 from atom1 and atom2...\n",
      "firstAtom 1 [('#8', [])] []\n",
      "secondAtom 2 [] []\n",
      "[]\n"
     ]
    }
   ],
   "source": [
    "param = bondEnv4\n",
    "print( param.asSMIRKS() )\n",
    "# bond1 is the bond between indexed atoms 1 and 2.\n",
    "# You can get this bond directly with selectBond:\n",
    "print(\"Finding bond 1 directly...\")\n",
    "bond1 = param.selectBond(1)\n",
    "print(bond1.getORtypes())\n",
    "\n",
    "print(\"\\nFinding bond 1 from atom1 and atom2...\")\n",
    "# OR you can get this bond from the atoms on either side:\n",
    "firstAtom = param.selectAtom(1)\n",
    "secondAtom = param.selectAtom(2)\n",
    "print( 'firstAtom', firstAtom.index, firstAtom.getORtypes(), firstAtom.getANDtypes())\n",
    "print( 'secondAtom', secondAtom.index, secondAtom.getORtypes(), secondAtom.getANDtypes())\n",
    "\n",
    "bond1 = param.getBond(firstAtom, secondAtom)\n",
    "print(bond1.getORtypes())"
   ]
  },
  {
   "cell_type": "markdown",
   "metadata": {},
   "source": [
    "## Section 2: SMIRKS chemical components for chemical moves on NetworkxMols\n",
    "* create different classes of chemical components as separate lists\n",
    "* associate odds with each component so that some moves will be preferred over overs\n",
    "* compose dicts of componentsWithOdds for atoms and bonds, each with their own classes of components\n",
    "* massage those odds componentsWithOdds dicts into weights in componentsWithWeights dicts which\n",
    "will be directly used by numpy's random.choice() method to make weighted random choices."
   ]
  },
  {
   "cell_type": "code",
   "execution_count": 11,
   "metadata": {
    "collapsed": false
   },
   "outputs": [],
   "source": [
    "# Generic move lists without odds (initial guess), reformat below\n",
    "ChemComponents = {}\n",
    "ChemComponents['AtmBase'] = ['','#1','#5','#6','#7','#8','#9','#15','#16','#17','#35','#53']\n",
    "ChemComponents['AtmORdecs'] = ['','X4','X3','X2','X1']\n",
    "ChemComponents['AtmAndDecs'] = ['H0','+0',]\n",
    "ChemComponents['BondBase'] = ['-',':','=','#','~']\n",
    "ChemComponents['BondANDDecs'] = ['@','!@','!#']"
   ]
  },
  {
   "cell_type": "code",
   "execution_count": 12,
   "metadata": {
    "collapsed": true
   },
   "outputs": [],
   "source": [
    "# To reformat ChemComponents dict as tuples representing odds for each item,\n",
    "# uncomment and run this block.\n",
    "#for key in ChemComponents.keys():\n",
    "#    print('ChemComponentsWithOdds[\\'%s\\'] = [' % key)\n",
    "#    for item in ChemComponents[key]:\n",
    "#        print(' (\\'%s\\', 1),' % item )\n",
    "#    print(' ]')"
   ]
  },
  {
   "cell_type": "markdown",
   "metadata": {},
   "source": [
    "#### For Future:\n",
    "Decorators need weights, and they need to be weighted differently for different atomic elements. \n",
    "Guessed examples based on experience with organic chemistry:\n",
    "    \n",
    "--------\n",
    "* C [ ('X4', 20), ('X3', 20), ('X2', 5), ('X1', 1), ]\n",
    "* N [ ('X4', 10), ('X3', 10), ('X2', 10), ('X1', 1), ]\n",
    "* O [ ('X4', 0), ('X3', 1), ('X2', 20), ('X1', 20), ]\n",
    "* H,F,Cl,Br,I [ don't use this decorator on this atom ]\n",
    "---------\n",
    "* C [ ('H0', 1), ('H1', 1), ('H2', 1), ('H3', 1) ]\n",
    "* N [ ('H0', 1), ('H1', 1), ('H2', 1), ('H3', 1) ]\n",
    "* O [ ('H0', 20), ('H1', 20), ('H2', 1), ('H3', 0) ]\n",
    "* H,F,Cl,Br,I [ don't use this decorator on this atom ]\n",
    "---------\n",
    "* C [ ('-1', 1), ('+0', 50), ('+1', 0) ]\n",
    "* N [ ('-1', 1), ('+0', 20), ('+1', 5) ]\n",
    "* O [ ('-1', 10), ('+0', 50), ('+1', 1) ]\n",
    "* H,F,Cl,Br,I [ don't use this decorator on this atom ]"
   ]
  },
  {
   "cell_type": "code",
   "execution_count": 13,
   "metadata": {
    "collapsed": true
   },
   "outputs": [],
   "source": [
    "# General\n",
    "atomComponentsWithOdds = {}\n",
    "atomComponentsWithOdds['Basetypes'] = [\n",
    " ('#1', 10),\n",
    " ('#5', 10),\n",
    " ('#6', 10),\n",
    " ('#7', 10),\n",
    " ('#8', 10),\n",
    " ('#9', 1),\n",
    " ('#15', 2),\n",
    " ('#16', 4),\n",
    " ('#17', 1),\n",
    " ('#35', 1),\n",
    " ('#53', 1),\n",
    " ]\n",
    "atomComponentsWithOdds['ORdecs'] = [ ('', 4), \n",
    "                                       ('X4', 4), ('X3', 4), ('X2', 4), ('X1', 4), \n",
    "                                       ('H3', 1), ('H2', 1), ('H1', 1), ('H0', 1)\n",
    "                                      ]\n",
    "# these AtmAndDecs are dummies just to get going; real chemistry puts H-count on each atom\n",
    "atomComponentsWithOdds['ANDdecs'] = [ ('H0', 1), ('+0', 1), ]\n",
    "\n",
    "bondComponentsWithOdds = {}\n",
    "bondComponentsWithOdds['Basetypes'] = [ ('-', 1), (':', 1), ('=', 1), ('#', 1), ('~', 1), ]\n",
    "bondComponentsWithOdds['ORdecs'] = []\n",
    "bondComponentsWithOdds['ANDdecs'] = [ ('@', 1), ('!@', 1), ('!#', 1), ]"
   ]
  },
  {
   "cell_type": "code",
   "execution_count": 14,
   "metadata": {
    "collapsed": false
   },
   "outputs": [],
   "source": [
    "# for AlkEthOH\n",
    "atomComponentsWithOdds = {}\n",
    "atomComponentsWithOdds['Basetypes'] = [\n",
    " ('#1', 1),\n",
    " ('#5', 0),\n",
    " ('#6', 1),\n",
    " ('#7', 0),\n",
    " ('#8', 1),\n",
    " ('#9', 0),\n",
    " ('#15', 0),\n",
    " ('#16', 0),\n",
    " ('#17', 0),\n",
    " ('#35', 0),\n",
    " ('#53', 0),\n",
    " ]\n",
    "atomComponentsWithOdds['ORdecs'] = [ ('', 4), \n",
    "                                       ('X4', 4), ('X3', 4), ('X2', 4), ('X1', 4), \n",
    "                                       ('H3', 1), ('H2', 1), ('H1', 1), ('H0', 1)\n",
    "                                      ]\n",
    "# these AtmAndDecs are dummies just to get going; real chemistry puts H-count on each atom\n",
    "atomComponentsWithOdds['ANDdecs'] = [ ('H0', 1), ('+0', 1), ]\n",
    "\n",
    "bondComponentsWithOdds = {}\n",
    "bondComponentsWithOdds['Basetypes'] = [ ('-', 1), (':', 0), ('=', 0), ('#', 0), ('~', 1), ]\n",
    "# TODO: determine how to handle ~ case, do we want to have it in the list or have a None option of some kind?\n",
    "bondComponentsWithOdds['ORdecs'] = []\n",
    "bondComponentsWithOdds['ANDdecs'] = [ ('@', 1), ('!@', 1), ('!#', 0), ]"
   ]
  },
  {
   "cell_type": "markdown",
   "metadata": {},
   "source": [
    "#### The following function movesWithWeightsFromOdds is copied from iPython notebook create_move_types_and_weights.ipynb:"
   ]
  },
  {
   "cell_type": "code",
   "execution_count": 15,
   "metadata": {
    "collapsed": false
   },
   "outputs": [],
   "source": [
    "# function copied from EnvMovesTypesAndWeights\n",
    "def movesWithWeightsFromOdds( MovesWithOdds):\n",
    "    '''Processes a dictionary of movesWithOdds (lists of string/integer tuples)\n",
    "    into a dictionary of movesWithWeights usable to perform weighted\n",
    "    random choices with numpy's random.choice() function.\n",
    "    Argument: a MovesWithOdds dictionary of lists of string/integer tuples\n",
    "    Returns: a MovesWithWeights dictionary of pairs of a moveType-list with a \n",
    "            probabilites-list, the latter used by numpy's random.choice() function.'''\n",
    "    movesWithWeights = {}\n",
    "    for key in MovesWithOdds.keys():\n",
    "        moves = [ item[0] for item in MovesWithOdds[key] ]\n",
    "        odds =  [ item[1] for item in MovesWithOdds[key] ]\n",
    "        weights = odds/np.sum(odds)\n",
    "        #print( key, moves, odds, weights)\n",
    "        movesWithWeights[key] = ( moves, weights)\n",
    "    return movesWithWeights\n"
   ]
  },
  {
   "cell_type": "markdown",
   "metadata": {},
   "source": [
    "#### Generate the Weights dict from the Odds dict for each of atoms and bonds components, then combine those into a master dict that has both"
   ]
  },
  {
   "cell_type": "code",
   "execution_count": 16,
   "metadata": {
    "collapsed": true
   },
   "outputs": [],
   "source": [
    "#print( ChemComponentsWithWeights)\n",
    "atomComponentsWithWeights = movesWithWeightsFromOdds(atomComponentsWithOdds)\n",
    "#print( 'atomComponentsWithWeights', atomComponentsWithWeights)\n",
    "bondComponentsWithWeights = movesWithWeightsFromOdds(bondComponentsWithOdds)\n",
    "#print( 'bondComponentsWithWeights', bondComponentsWithWeights)\n",
    "masterComponentsWithWeights = { 'atom':atomComponentsWithWeights,\n",
    "                                'bond':bondComponentsWithWeights}\n",
    "#print( 'masterComponentsWithWeights', masterComponentsWithWeights)"
   ]
  },
  {
   "cell_type": "markdown",
   "metadata": {},
   "source": [
    "## Section 3: Read file of candidate chemical moves and filter out a priori bad ones\n",
    "* a candidate chemical move is a list composed of four micro-moves, each of a different type\n",
    "* when the candidate chemical move was constructed from weighted choices, an overall probability was associated with it\n",
    "* some candidate moves are not viable, such as adding an atom to a bond. These are weeded out after the list is read in"
   ]
  },
  {
   "cell_type": "code",
   "execution_count": 17,
   "metadata": {
    "collapsed": true
   },
   "outputs": [],
   "source": [
    "def EnvMoveIsWellFormed( moveDict, msg=''):\n",
    "    '''Checks moveDict (dict of proposed chem env micro-moves) to see if\n",
    "    it is well-formed (i.e. before even looking at the chemical graph),\n",
    "    returning True unless there is an obvious problem.\n",
    "    Arguments: \n",
    "        moveDict: a dict of strings constituting proposed micro-moves of a chem env move.\n",
    "        msg: an informative message about the nature of the problem.\n",
    "    Returns True unless it finds a problem'''\n",
    "    if moveDict['action']=='joinAtom':\n",
    "        if moveDict['atomOrBond']=='bond':\n",
    "            msg = 'cannot join another atom to an existing bond'\n",
    "            return False\n",
    "        elif moveDict['ANDorOR']=='ANDtype':\n",
    "            msg = 'can only join another atom as an ORtype'\n",
    "            return False\n",
    "    return True"
   ]
  },
  {
   "cell_type": "code",
   "execution_count": 18,
   "metadata": {
    "collapsed": false
   },
   "outputs": [],
   "source": [
    "def getMoveDictDB(moveDictFilename):\n",
    "    \"\"\"\n",
    "    Processes moveTrees.uniq.*.txt files\n",
    "    \"\"\"\n",
    "    moveDictFile = open(moveDictFilename)\n",
    "    moveDictdb = []\n",
    "    for line in moveDictFile:\n",
    "        fields = line.split()\n",
    "        prob = fields[0]\n",
    "        moveDict = { 'action' : fields[1],\n",
    "                   'atomOrBond' : fields[2],\n",
    "                   'whichAtmBnd' : fields[3],\n",
    "                   'ANDorOR' : fields[4],\n",
    "                  }\n",
    "        if EnvMoveIsWellFormed(moveDict):\n",
    "            moveDictdb.append( (moveDict, prob) )\n",
    "    moveDictFile.close()    \n",
    "    return moveDictdb"
   ]
  },
  {
   "cell_type": "code",
   "execution_count": 19,
   "metadata": {
    "collapsed": false
   },
   "outputs": [
    {
     "name": "stdout",
     "output_type": "stream",
     "text": [
      "VdW 20\n",
      "Bond 33\n",
      "Angle 46\n",
      "Torsion 59\n",
      "Improper 59\n"
     ]
    }
   ],
   "source": [
    "moveDictdb_byParam = dict()\n",
    "for param_name in ['VdW', 'Bond', 'Angle', 'Torsion', 'Improper']:\n",
    "    moveDictdb_byParam[param_name] = getMoveDictDB(\"moveTrees.uniq.%s.txt\" % param_name)\n",
    "    print(param_name, len(moveDictdb_byParam[param_name]))"
   ]
  },
  {
   "cell_type": "markdown",
   "metadata": {},
   "source": [
    "## Section 4: API for making chemical moves\n",
    "* Chemical moves are performed on a ChemicalEnvironment (Env) representing a force field parameter for a Vdw, Bond, Angle, Improper, or Torsion parameter\n",
    "* A chemical move is a composite of four micro-moves given in a dict moveDict"
   ]
  },
  {
   "cell_type": "markdown",
   "metadata": {},
   "source": [
    "#### The following function PickMoveItemWithProb is copied from iPython notebook EnvMovesTypesAndWeights:"
   ]
  },
  {
   "cell_type": "code",
   "execution_count": 20,
   "metadata": {
    "collapsed": true
   },
   "outputs": [],
   "source": [
    "# function copied from EnvMovesTypesAndWeights\n",
    "def PickMoveItemWithProb( moveType, moveWithWeights):\n",
    "    '''\n",
    "    Picks a moveItem based on a moveType and a dictionary of moveTypes with associated probabilities\n",
    "    \n",
    "    Parameters\n",
    "    ----------\n",
    "        moveType: string corresponding to a key in the moveWithWeights dictionary, e.g. atomTor\n",
    "        moveWithWeights: a dictionary based on moveType keys which each point to a list of probabilites\n",
    "           associated with the position in the list\n",
    "\n",
    "    Returns\n",
    "    -------\n",
    "        the randomly-chosen position in the list, based on the probability, together with the probability'''\n",
    "    listOfIndexes = range(0, len( moveWithWeights[moveType][1]) )\n",
    "    listIndex = np.random.choice(listOfIndexes, p= moveWithWeights[moveType][1])\n",
    "    return moveWithWeights[moveType][0][listIndex], moveWithWeights[moveType][1][listIndex]"
   ]
  },
  {
   "cell_type": "code",
   "execution_count": 40,
   "metadata": {
    "collapsed": true
   },
   "outputs": [],
   "source": [
    "def GenerateORtype( ComponentsWithWeights):\n",
    "    '''Makes a weighted random choice of a new ORtype  for an Atom or Bond from lists of candidate components.\n",
    "    These ORtypes are composites of a basetype (atomic number for atom, bond order for bond) and\n",
    "    an ORdec (decorator) which can associate a property (such as 'X3' meaning 3 connections on\n",
    "    the atom). It also calculates and associates the cumulative probability for that composite\n",
    "    ORtype based on the probabilities of each component used in making the choice.\n",
    "    \n",
    "    Parameters\n",
    "    ----------\n",
    "        ComponentsWithWeights: a MovesWithWeights dictionary of pairs of a moveType-list\n",
    "            with a probabilites-list\n",
    "    \n",
    "    Returns\n",
    "    -------\n",
    "        newORtype, prob: a tuple pair with first element being a new ORtype and the second\n",
    "            being the cumulative probability of that ORtype.\n",
    "        None: if the attempt fails\n",
    "    '''\n",
    "    basetypeList = ComponentsWithWeights['Basetypes'][0]\n",
    "    #print( 'Basetypes:', ComponentsWithWeights['Basetypes'][0])\n",
    "    #print( 'Basetypes weights:', ComponentsWithWeights['Basetypes'][1])\n",
    "    if len(basetypeList)<1:\n",
    "        return None\n",
    "    newBasetype, prob = PickMoveItemWithProb( 'Basetypes', ComponentsWithWeights)\n",
    "    cumProb = prob\n",
    "    \n",
    "    ORtypeList = ComponentsWithWeights['ORdecs'][0]\n",
    "    #print( 'ORdecs:', ORtypeList)\n",
    "    #print( 'ORdecs weights:', ComponentsWithWeights['ORdecs'][1])\n",
    "    if len(ORtypeList)<1:\n",
    "        return (newBasetype, []), prob\n",
    "    newORdecorator, prob = PickMoveItemWithProb( 'ORdecs', ComponentsWithWeights)\n",
    "    newORtype = (newBasetype, [newORdecorator])\n",
    "    cumProb *= prob\n",
    "    return newORtype, prob"
   ]
  },
  {
   "cell_type": "code",
   "execution_count": 41,
   "metadata": {
    "collapsed": true
   },
   "outputs": [],
   "source": [
    "def GenerateANDtype( ComponentsWithWeights):\n",
    "    '''Makes a weighted random choice of a new ANDtype for an Atom or Bond from  a list of candidate\n",
    "    components.It also calculates and associates the cumulative probability for that\n",
    "    composite ANDtype based on the probabilities of each component used in making the choice.\n",
    "    \n",
    "    Parameters\n",
    "    ----------\n",
    "        ComponentsWithWeights: a MovesWithWeights dictionary of pairs of a moveType-list\n",
    "            with a probabilites-list\n",
    "            \n",
    "    Returns\n",
    "    -------\n",
    "        newANDtype, prob: a tuple pair with first element being a new ANDtype and the second\n",
    "            being the cumulative probability of that ANDtype.\n",
    "        None: if the attempt fails\n",
    "    '''\n",
    "    ANDtypeList = ComponentsWithWeights['ANDdecs'][0]\n",
    "    #print( 'ANDdecs:', ANDtypeList)\n",
    "    #print( 'ANDdecs weights:', ComponentsWithWeights['ANDdecs'][1])\n",
    "    if len(ANDtypeList)<1:\n",
    "        return None\n",
    "    return PickMoveItemWithProb( 'ANDdecs', ComponentsWithWeights)"
   ]
  },
  {
   "cell_type": "code",
   "execution_count": 42,
   "metadata": {
    "collapsed": false
   },
   "outputs": [
    {
     "name": "stdout",
     "output_type": "stream",
     "text": [
      "atom ORtypes: (('#1', ['H2']), 0.041666666666666664)\n",
      "atom ORtypes: (('#1', ['X2']), 0.16666666666666666)\n",
      "atom ORtypes: (('#1', ['X1']), 0.16666666666666666)\n",
      "atom ANDtypes: ('H0', 0.5)\n",
      "atom ANDtypes: ('H0', 0.5)\n",
      "atom ANDtypes: ('H0', 0.5)\n",
      "bond ORtypes: (('~', []), 0.5)\n",
      "bond ORtypes: (('~', []), 0.5)\n",
      "bond ORtypes: (('-', []), 0.5)\n",
      "bond ANDtypes: ('!@', 0.5)\n",
      "bond ANDtypes: ('@', 0.5)\n",
      "bond ANDtypes: ('!@', 0.5)\n"
     ]
    }
   ],
   "source": [
    "# test GenerateNwxfragORtype and GenerateNwxfragANDtype\n",
    "nSamples = 3\n",
    "for i in range(0,nSamples):\n",
    "    print( 'atom ORtypes:', GenerateORtype( masterComponentsWithWeights['atom']) )\n",
    "for i in range(0,nSamples):\n",
    "    print( 'atom ANDtypes:', GenerateANDtype( masterComponentsWithWeights['atom']) )\n",
    "for i in range(0,nSamples):\n",
    "    print( 'bond ORtypes:', GenerateORtype( masterComponentsWithWeights['bond']) )\n",
    "for i in range(0,nSamples):\n",
    "    print( 'bond ANDtypes:', GenerateANDtype( masterComponentsWithWeights['bond']) )"
   ]
  },
  {
   "cell_type": "code",
   "execution_count": 43,
   "metadata": {
    "collapsed": true
   },
   "outputs": [],
   "source": [
    "def GetEnvBondChangeling( moveDict, Env):\n",
    "    '''\n",
    "    Returns a Bond object from the provided ChemicalEnvironment containing ORtypes and\n",
    "    ANDtypes. Whether a specific bond object or a randomly chosed one gets returned is based\n",
    "    on information in the moveDict (specifically moveDict['whichAtmBnd']).\n",
    "    If no bond object matching the moveDict requirements is found, it returns None.\n",
    "    \n",
    "    Parameters\n",
    "    -----------\n",
    "        moveDict: a dict of strings constituting a sequence of proposed chem env micro-moves\n",
    "        Env: An openforcefield chemicalEnvironment\n",
    "        \n",
    "    Returns\n",
    "    -------\n",
    "    an OpenForcefield ChemicalEnvironment bond object or None\n",
    "    \n",
    "    Note - when this method was originally written selecting bonds was more difficult!\n",
    "    '''\n",
    "    if moveDict['atomOrBond']!='bond':\n",
    "        print( 'GetEnvBondChangeling: mistaken call to this function')\n",
    "        return None\n",
    "    # MoveDicts have two options at whichAtmBnd 'bond' or 'atom' followed by a number \n",
    "    # or the word unindexed\n",
    "    try:\n",
    "        index = int(moveDict['whichAtmBnd'][-1])\n",
    "        return Env.selectBond(index) # returns None if there is no bond at that index\n",
    "    \n",
    "    except: # moveDict['whichAtmBnd'] should be the word unindexed\n",
    "        return Env.selectBond(moveDict['whichAtmBnd'])"
   ]
  },
  {
   "cell_type": "code",
   "execution_count": 44,
   "metadata": {
    "collapsed": false
   },
   "outputs": [
    {
     "name": "stdout",
     "output_type": "stream",
     "text": [
      "[*:2]!@[#8:1]-[#6X3]=[#8X1;H0;+0]\n",
      "{'action': 'add', 'atomOrBond': 'bond', 'whichAtmBnd': 'unIndexed', 'ANDorOR': 'ORtype'}\n",
      "changeling.getORtypes(): [('-', [])]\n"
     ]
    }
   ],
   "source": [
    "# get MoveDictdb for this parameter:\n",
    "moveDictdb = moveDictdb_byParam['Bond']\n",
    "# test GetEnvBondChangeling\n",
    "startParam = environment.ChemicalEnvironment( '[*:2]!@[#8:1]-[#6X3]=[#8X1;H0;+0]' )\n",
    "param = copy.deepcopy( startParam)\n",
    "moveDict = moveDictdb[9][0]\n",
    "print( param.asSMIRKS())\n",
    "print( moveDict)\n",
    "\n",
    "changeling = GetEnvBondChangeling( moveDict, param)\n",
    "if changeling is not None:\n",
    "    print( 'changeling.getORtypes():', changeling.getORtypes() )\n",
    "else:\n",
    "    print( \"No bond found with those requirements\")"
   ]
  },
  {
   "cell_type": "code",
   "execution_count": 45,
   "metadata": {
    "collapsed": false
   },
   "outputs": [],
   "source": [
    "def GetEnvAtomChangeling( moveDict, Env):\n",
    "    '''Returns an Atom object from the provided ChemicalEnvironment.\n",
    "    Whether a specific atom object or a randomly chosed one gets returned is based\n",
    "    on information in the moveDict (specifically moveDict['whichAtmBnd']).\n",
    "    If no atom object is found, it returns None.\n",
    "    \n",
    "    Parameters\n",
    "    -----------\n",
    "        moveDict: a dict of strings constituting a sequence of proposed chem env micro-moves\n",
    "        Env: Openforcefield ChemicalEnvironment\n",
    "        \n",
    "    Returns\n",
    "    -------\n",
    "        Atom: an atom from the Env matching moveDict requirements \n",
    "        (or None if no atom with specifications was found)\n",
    "    '''\n",
    "    if moveDict['atomOrBond']!='atom':\n",
    "        print( 'GetEnvAtomChangeling: mistaken call to this function')\n",
    "        return None\n",
    "    try:\n",
    "        index = int(moveDict['whichAtmBnd'][-1])\n",
    "        return Env.selectAtom( index )\n",
    "    except:\n",
    "        return Env.selectAtom( moveDict['whichAtmBnd'] )"
   ]
  },
  {
   "cell_type": "code",
   "execution_count": 46,
   "metadata": {
    "collapsed": false
   },
   "outputs": [],
   "source": [
    "def GetEnvChangeling( moveDict, Env):\n",
    "    '''\n",
    "    Parent function to broker the getting of an Atom or Bond from the specified ChemicalEnvironment\n",
    "    Arguments\n",
    "    ----------\n",
    "        moveDict: a dict of strings constituting a sequence of proposed chem env micro-moves\n",
    "        Env: Openforcefield ChemicalEnvironment\n",
    "    \n",
    "    Returns\n",
    "    --------\n",
    "        changeline: an atom or bond meeting requirements in the moveDict\n",
    "    '''\n",
    "    atomOrBond = moveDict['atomOrBond']\n",
    "    if atomOrBond=='atom':\n",
    "        return GetEnvAtomChangeling( moveDict, Env)\n",
    "    elif atomOrBond=='bond':\n",
    "        return GetEnvBondChangeling( moveDict, Env)\n",
    "    else:\n",
    "        return None"
   ]
  },
  {
   "cell_type": "code",
   "execution_count": 47,
   "metadata": {
    "collapsed": false
   },
   "outputs": [
    {
     "name": "stdout",
     "output_type": "stream",
     "text": [
      "Attempting to apply this proposed move:\n",
      " {'action': 'add', 'atomOrBond': 'atom', 'whichAtmBnd': 'unIndexed', 'ANDorOR': 'ORtype'}\n",
      "To a ChemicalEnvironment that generates this SMIRKS string:\n",
      " [#1:1]-[#6](-[$ewg1])(-[$ewg1])-[$ewg1]\n",
      "changeling properties: [('$ewg1', [])] []\n"
     ]
    }
   ],
   "source": [
    "# test GetEnvChangeling\n",
    "startParam = atomH3\n",
    "param = copy.deepcopy( startParam)\n",
    "moveDict = moveDictdb[5][0]\n",
    "print( 'Attempting to apply this proposed move:\\n', moveDict )\n",
    "print( 'To a ChemicalEnvironment that generates this SMIRKS string:\\n', param.asSMIRKS() )\n",
    "#for key in moveDict.keys():\n",
    "#    print( key, ':', moveDict[key] )\n",
    "changeling = GetEnvChangeling( moveDict, param)\n",
    "if changeling!=None:\n",
    "    print( 'changeling properties:', changeling.getORtypes(), changeling.getANDtypes() )\n",
    "else:\n",
    "    print( 'GetEnvChangeling returned none. Was the proposed move viable?')"
   ]
  },
  {
   "cell_type": "code",
   "execution_count": 48,
   "metadata": {
    "collapsed": true
   },
   "outputs": [],
   "source": [
    "def ProposeNewType( moveDict, ComponentsWithWeights):\n",
    "    '''Proposes a new ORtype or ANDtype for a bond or atom object  \n",
    "    based on a weighted random choice from  a list of\n",
    "    candidate components. It also calculates and associates the cumulative probability\n",
    "    for that choice based on the probabilities of the component used in making the choice.\n",
    "    If the attempt to propose does not work, it returns None.\n",
    "    Arguments:\n",
    "        moveDict: a dict of strings constituting a sequence of proposed chem env micro-moves\n",
    "        ComponentsWithWeights: a MovesWithWeights dictionary of pairs of an ORtype or\n",
    "            ANDtype components with a probabilites-list.\n",
    "    Returns: \n",
    "        newType, prob: a tuple pair with first element being the proposed new type and\n",
    "            the second being the cumulative probability of that ORtype.\n",
    "        None: if the attempt fails\n",
    "    '''\n",
    "    #print( 'ProposeNewType moveDict:', moveDict )\n",
    "    atomOrBond = moveDict['atomOrBond']\n",
    "    if moveDict['ANDorOR']=='ORtype':\n",
    "        newPair = GenerateORtype( ComponentsWithWeights[atomOrBond])\n",
    "    elif moveDict['ANDorOR']=='ANDtype':\n",
    "        newPair = GenerateANDtype( ComponentsWithWeights[atomOrBond])\n",
    "    return newPair"
   ]
  },
  {
   "cell_type": "code",
   "execution_count": 49,
   "metadata": {
    "collapsed": false
   },
   "outputs": [
    {
     "name": "stdout",
     "output_type": "stream",
     "text": [
      "atom ANDtype : ('H0', 0.5)\n",
      "atom ORtype : (('#8', ['X1']), 0.16666666666666666)\n",
      "atom ANDtype : ('+0', 0.5)\n",
      "atom ORtype : (('#8', ['X2']), 0.16666666666666666)\n",
      "atom ANDtype : ('H0', 0.5)\n",
      "atom ORtype : (('#1', ['']), 0.16666666666666666)\n",
      "bond ANDtype : ('@', 0.5)\n",
      "bond ORtype : (('~', []), 0.5)\n",
      "bond ANDtype : ('!@', 0.5)\n",
      "bond ORtype : (('-', []), 0.5)\n",
      "atom ANDtype : ('H0', 0.5)\n",
      "atom ORtype : (('#1', ['H3']), 0.041666666666666664)\n",
      "atom ANDtype : ('+0', 0.5)\n",
      "atom ORtype : (('#8', ['H3']), 0.041666666666666664)\n",
      "atom ANDtype : ('+0', 0.5)\n",
      "atom ORtype : (('#6', ['X1']), 0.16666666666666666)\n",
      "bond ANDtype : ('@', 0.5)\n",
      "bond ORtype : (('~', []), 0.5)\n",
      "bond ANDtype : ('!@', 0.5)\n",
      "bond ORtype : (('-', []), 0.5)\n",
      "atom ORtype : (('#8', ['X4']), 0.16666666666666666)\n",
      "atom ORtype : (('#6', ['']), 0.16666666666666666)\n",
      "atom ORtype : (('#8', ['X3']), 0.16666666666666666)\n",
      "atom ANDtype : ('+0', 0.5)\n",
      "atom ORtype : (('#1', ['X2']), 0.16666666666666666)\n",
      "atom ANDtype : ('H0', 0.5)\n",
      "atom ORtype : (('#1', ['X4']), 0.16666666666666666)\n",
      "atom ANDtype : ('+0', 0.5)\n",
      "atom ORtype : (('#8', ['']), 0.16666666666666666)\n",
      "bond ANDtype : ('!@', 0.5)\n",
      "bond ORtype : (('~', []), 0.5)\n",
      "bond ANDtype : ('!@', 0.5)\n",
      "bond ORtype : (('-', []), 0.5)\n"
     ]
    }
   ],
   "source": [
    "# test ProposeNewType\n",
    "for moveDict in moveDictdb:\n",
    "    print( moveDict[0]['atomOrBond'], moveDict[0]['ANDorOR'], ':',\n",
    "         ProposeNewType( moveDict[0], masterComponentsWithWeights))"
   ]
  },
  {
   "cell_type": "code",
   "execution_count": 50,
   "metadata": {
    "collapsed": false
   },
   "outputs": [],
   "source": [
    "def IsActionViable( moveDict, existing, proposal, msg):\n",
    "    '''Checks the viability a proposed chemical move against the existing content of\n",
    "    the bond or atom in the ChemicalEnvironment the move is to\n",
    "    operate upon. Depending on the nature of the move and the changeling (atom or bond) object, the\n",
    "    proposed move may be a priori impossible (e.g. deleting an ANDtype when the\n",
    "    ANDtype list is already empty). If such a circumstance is found, this function\n",
    "    returns False with a message. Otherwise it returns true with an empty string\n",
    "    for the message.\n",
    "    \n",
    "    Parameters\n",
    "    ----------\n",
    "        moveDict: a dict of strings constituting a sequence of proposed chem env micro-moves.\n",
    "        existing: The Atom or Bond's existing ORtype or ANDtype list of strings targeted by the move in moveDict.\n",
    "        proposal: a string; the proposed change to the existing ORtype or ANDtype list.\n",
    "        msg: a string; a message stating why the move is deemed not viable.'''\n",
    "    action = moveDict['action']\n",
    "    #print('IsActionViable:  action:',action,'; existing types:',existing,'; proposed newType:',proposal)\n",
    "    if action=='add':\n",
    "        if proposal=='None':\n",
    "            print('proposed newType is null; willnot add')\n",
    "            return False\n",
    "        if proposal in existing:\n",
    "            print('proposed newType is in existing list; will not add')\n",
    "            return False\n",
    "    elif action=='delete':\n",
    "        # ToDo: check to make sure not completely deleting whole atom which connects at least two others\n",
    "        # Environments already do this - unnecessary\n",
    "        if len(existing)<1:\n",
    "            #msg = 'existing list is already empty; will not delete'\n",
    "            #print('IsActionViable: msg is', msg)\n",
    "            print('existing list is already empty; will not delete')\n",
    "            return False\n",
    "        if len(existing)==1 and moveDict['whichAtmBnd'][4]!='d':\n",
    "            # \n",
    "            print('will not delete indexed atom or bond with only one type')\n",
    "            return False\n",
    "        if len(existing)==1 and moveDict['atomOrBond']=='bond':\n",
    "            print('will not delete last bond joining two atoms')\n",
    "            return False\n",
    "    elif action=='swap':\n",
    "        if len(existing)<1 or proposal=='None':\n",
    "            print('missing one of existing type or newType; will not swap')\n",
    "            return False\n",
    "        if len(existing)==1 and existing[0]==proposal:\n",
    "            print('Swapping identical types is pointless; will not swap')\n",
    "            return False\n",
    "    elif action=='joinAtom':\n",
    "        # ToDo: insert valence check (don't join to atom with full valence)\n",
    "            # I think this should also be inside the environments, but it would probably treat everything \n",
    "            # with the same max valence, such as 4? 6? might need special cses? \n",
    "        # ToDo: insert subst position check (don't join to beta substituent)\n",
    "            # This is also in my environment TODO list, I think it makes more sense there\n",
    "        if len(existing)<1 or proposal=='None':\n",
    "            print('missing one of existing atom or new atom; will not join atom')\n",
    "            return False\n",
    "    return True"
   ]
  },
  {
   "cell_type": "code",
   "execution_count": 51,
   "metadata": {
    "collapsed": true
   },
   "outputs": [],
   "source": [
    "def SetEnvNewList( moveDict, changeling, newList):\n",
    "    '''Makes the move on the selected ChemicalEnvironment atom or bond object \n",
    "    by setting the selected ORtype or ANDtype list.\n",
    "    \n",
    "    Parameters\n",
    "    -----------\n",
    "        moveDict: a dict of strings constituting a sequence of proposed chem env micro-moves.\n",
    "        changeling: the Atom or Bond object targeted by the move.\n",
    "        newList: the new list of strings to replace the existing one in the changeling.\n",
    "        \n",
    "    Returns \n",
    "    -------\n",
    "    True if the move is successful, False otherwise.\n",
    "        '''\n",
    "    if moveDict['ANDorOR']=='ORtype':\n",
    "        changeling.setORtypes( newList )\n",
    "        return True\n",
    "    elif moveDict['ANDorOR']=='ANDtype':\n",
    "        changeling.setANDtypes( newList)\n",
    "        return True\n",
    "    else:\n",
    "        return False"
   ]
  },
  {
   "cell_type": "code",
   "execution_count": 52,
   "metadata": {
    "collapsed": false
   },
   "outputs": [],
   "source": [
    "def EffectMoveOnEnvList( moveDict, Env, changeling, existing, proposal):\n",
    "    '''Effects the action requested in the chemical move on the selected Atom or Bond\n",
    "    in the provided ChemicalEnvironment.\n",
    "    Arguments:\n",
    "        moveDict: a dict of strings constituting a sequence of proposed chem env micro-moves.\n",
    "        Env: an OpenForcefield ChemicalEnvironment (representing a force field parameter)\n",
    "        changeling: the Atom or Bond object in the Env targeted by the move.\n",
    "        existing: the OpenForcefield Networkx molecular changeling object's \n",
    "            existing ORtype or ANDtype list of strings targeted by the move in moveDict.\n",
    "        proposal: a string; the proposed change to the existing ORtype or ANDtype list.\n",
    "    Returns: True if the move is successful, False otherwise.\n",
    "        '''\n",
    "    action = moveDict['action']\n",
    "    newList = copy.deepcopy(existing)\n",
    "    #\n",
    "    # begin section for action delete and swap (swap is delete followed by add)\n",
    "    # begin with special case for actually removing an atom completely, ie delete the last atom ORtype\n",
    "    if action=='delete' and len(newList)==1 and moveDict['atomOrBond']=='atom'and moveDict['ANDorOR']=='ORtype':\n",
    "        # for time being just remove the whole thing; worry about detailed balance later\n",
    "        onlyEmpty = False\n",
    "        return Env.removeAtom( changeling, onlyEmpty)\n",
    "    \n",
    "    # now the more general case for removing the last type from a list: make an empty list\n",
    "    if action=='delete' or action=='swap':\n",
    "        if len(newList)==1:\n",
    "            newList = []\n",
    "        # now to remove a random item from a list of more than one\n",
    "        else:\n",
    "            listOfIndexes = range(0, len( newList) )\n",
    "            idxToDelete = np.random.choice(listOfIndexes)\n",
    "            del newList[idxToDelete]\n",
    "\n",
    "    #\n",
    "    # begin section for action add and swap (swap is delete followed by add)\n",
    "    if action=='add' or action=='swap':\n",
    "        newList.append( proposal)\n",
    "        if not SetEnvNewList( moveDict, changeling, newList):\n",
    "            print('EffectMoveOnEnvList newList failed:', newList)\n",
    "            return False\n",
    "    #\n",
    "    # begin section for joinAtom\n",
    "    if action=='joinAtom':\n",
    "        print('EffectMoveOnEnvList: attaching [', proposal,'] to existing atom:', existing)\n",
    "        Env.addAtom( changeling, None, None, [proposal], None, None)\n",
    "    return True"
   ]
  },
  {
   "cell_type": "code",
   "execution_count": 53,
   "metadata": {
    "collapsed": false
   },
   "outputs": [],
   "source": [
    "def MoveEnv( Env, moveDict, weightdParts, msg=''):\n",
    "    '''Modifies a ChemicalEnvironment by applying a move described by\n",
    "    a moveDict (dict of proposed chem env micro-moves), based on weighted random choices of\n",
    "    chemical components in weightdParts. If the proposed move is not viable, it returns False.\n",
    "    Arguments:\n",
    "        Env: an OpenForcefield ChemicalEnvironment (representing a force field parameter)\n",
    "        moveDict: a list of strings constituting a sequence of proposed chem env micro-moves\n",
    "        weightdParts: dictionary of chemical components with probabilities of being chosen\n",
    "        msg: an informative message about the nature of the problem\n",
    "    Returns True unless it finds a problem'''\n",
    "    print( Env.asSMIRKS(), moveDict )\n",
    "    \n",
    "    # stage 1: get the atom or bond we are going to work on\n",
    "    atomOrBond = moveDict['atomOrBond']\n",
    "    changeling = GetEnvChangeling( moveDict, Env)\n",
    "    if changeling==None:\n",
    "        msg = 'MoveEnv: changeling is None, returning false'\n",
    "        return False\n",
    "    print( 'MoveEnv changeling:', changeling.getORtypes(), changeling.getANDtypes() )\n",
    "    \n",
    "    # stage 2: get the current list we need to modify\n",
    "    ANDorOR = moveDict['ANDorOR']\n",
    "    if ANDorOR=='ORtype':\n",
    "        currlist = changeling.getORtypes()\n",
    "        print('MoveEnv got ORtypes:', currlist)\n",
    "    elif ANDorOR=='ANDtype':\n",
    "        currlist = changeling.getANDtypes()\n",
    "        print('MoveEnv got ANDtypes:', currlist)\n",
    "    else:\n",
    "        msg = 'MoveEnv: could not retrieve requested ORtypes or ANDtypes'\n",
    "        return False\n",
    "    \n",
    "    # stage 3: get the component list and associated weights\n",
    "    proposed = ProposeNewType( moveDict, masterComponentsWithWeights)\n",
    "    print(\"Proposed list: \", proposed)\n",
    "    if proposed==None:\n",
    "        msg = 'MoveEnv: proposed (newType, probability) is None, returning false'\n",
    "        return False\n",
    "    \n",
    "    #stage 4: Test viability of desired action\n",
    "    mesg = ''\n",
    "    IsViable = IsActionViable( moveDict, currlist, proposed[0], mesg)\n",
    "    if not IsViable:\n",
    "        msg = 'MoveEnv: proposal is not viable, returning false. Details:\\n'+mesg\n",
    "        return False\n",
    "\n",
    "    \n",
    "    #stage 5: perform action\n",
    "    if not EffectMoveOnEnvList( moveDict, Env, changeling, currlist, proposed[0]):\n",
    "        msg = 'MoveEnv: problem effecting the move'\n",
    "        return False\n",
    "    \n",
    "    return True"
   ]
  },
  {
   "cell_type": "code",
   "execution_count": 54,
   "metadata": {
    "collapsed": false
   },
   "outputs": [
    {
     "name": "stdout",
     "output_type": "stream",
     "text": [
      "[#6X4:1]~[#6X4:2]~[#6X4:3] {'action': 'add', 'atomOrBond': 'bond', 'whichAtmBnd': 'bond1', 'ANDorOR': 'ANDtype'}\n",
      "MoveEnv changeling: [] []\n",
      "MoveEnv got ANDtypes: []\n",
      "Proposed list:  ('@', 0.5)\n",
      "move worked, new SMIRKS is: [#6X4:1]~;@[#6X4:2]~[#6X4:3]\n"
     ]
    }
   ],
   "source": [
    "# test MoveEnv\n",
    "startParam = angEnv2\n",
    "param = copy.deepcopy( startParam)\n",
    "moveDict = moveDictdb[6][0]\n",
    "#print( param.asSMIRKS(), moveDict )\n",
    "msg = ''\n",
    "if not MoveEnv( param, moveDict, masterComponentsWithWeights, msg):\n",
    "    print('move failed, message is:', msg)\n",
    "else:\n",
    "    print('move worked, new SMIRKS is:', param.asSMIRKS())"
   ]
  },
  {
   "cell_type": "code",
   "execution_count": 57,
   "metadata": {
    "collapsed": false,
    "scrolled": false
   },
   "outputs": [
    {
     "name": "stdout",
     "output_type": "stream",
     "text": [
      "Starting with [#6X4:1]~[#6X4:2]~[#6X4:3]\n",
      "\n",
      "working on  0      add atom      atom1 ANDtype :\n",
      "[#6X4:1]~[#6X4:2]~[#6X4:3] {'action': 'add', 'atomOrBond': 'atom', 'whichAtmBnd': 'atom1', 'ANDorOR': 'ANDtype'}\n",
      "MoveEnv changeling: [('#6', ['X4'])] []\n",
      "MoveEnv got ANDtypes: []\n",
      "Proposed list:  ('+0', 0.5)\n",
      "  Succeeded : [#6X4;+0:1]~[#6X4:2]~[#6X4:3]\n",
      "\n",
      "working on  1      add atom      atom1  ORtype :\n",
      "[#6X4:1]~[#6X4:2]~[#6X4:3] {'action': 'add', 'atomOrBond': 'atom', 'whichAtmBnd': 'atom1', 'ANDorOR': 'ORtype'}\n",
      "MoveEnv changeling: [('#6', ['X4'])] []\n",
      "MoveEnv got ORtypes: [('#6', ['X4'])]\n",
      "Proposed list:  (('#8', ['X3']), 0.16666666666666666)\n",
      "  Succeeded : [#6X4,#8X3:1]~[#6X4:2]~[#6X4:3]\n",
      "\n",
      "working on  2      add atom      atom2 ANDtype :\n",
      "[#6X4:1]~[#6X4:2]~[#6X4:3] {'action': 'add', 'atomOrBond': 'atom', 'whichAtmBnd': 'atom2', 'ANDorOR': 'ANDtype'}\n",
      "MoveEnv changeling: [('#6', ['X4'])] []\n",
      "MoveEnv got ANDtypes: []\n",
      "Proposed list:  ('H0', 0.5)\n",
      "  Succeeded : [#6X4:1]~[#6X4;H0:2]~[#6X4:3]\n",
      "\n",
      "working on  3      add atom      atom2  ORtype :\n",
      "[#6X4:1]~[#6X4:2]~[#6X4:3] {'action': 'add', 'atomOrBond': 'atom', 'whichAtmBnd': 'atom2', 'ANDorOR': 'ORtype'}\n",
      "MoveEnv changeling: [('#6', ['X4'])] []\n",
      "MoveEnv got ORtypes: [('#6', ['X4'])]\n",
      "Proposed list:  (('#8', ['']), 0.16666666666666666)\n",
      "  Succeeded : [#6X4:1]~[#6X4,#8:2]~[#6X4:3]\n",
      "\n",
      "working on  4      add atom      atom3 ANDtype :\n",
      "[#6X4:1]~[#6X4:2]~[#6X4:3] {'action': 'add', 'atomOrBond': 'atom', 'whichAtmBnd': 'atom3', 'ANDorOR': 'ANDtype'}\n",
      "MoveEnv changeling: [('#6', ['X4'])] []\n",
      "MoveEnv got ANDtypes: []\n",
      "Proposed list:  ('+0', 0.5)\n",
      "  Succeeded : [#6X4:1]~[#6X4:2]~[#6X4;+0:3]\n",
      "\n",
      "working on  5      add atom      atom3  ORtype :\n",
      "[#6X4:1]~[#6X4:2]~[#6X4:3] {'action': 'add', 'atomOrBond': 'atom', 'whichAtmBnd': 'atom3', 'ANDorOR': 'ORtype'}\n",
      "MoveEnv changeling: [('#6', ['X4'])] []\n",
      "MoveEnv got ORtypes: [('#6', ['X4'])]\n",
      "Proposed list:  (('#1', ['X1']), 0.16666666666666666)\n",
      "  Succeeded : [#6X4:1]~[#6X4:2]~[#6X4,#1X1:3]\n",
      "\n",
      "working on  6      add atom  unIndexed ANDtype :\n",
      "[#6X4:1]~[#6X4:2]~[#6X4:3] {'action': 'add', 'atomOrBond': 'atom', 'whichAtmBnd': 'unIndexed', 'ANDorOR': 'ANDtype'}\n",
      "  Failed\n",
      "\n",
      "working on  7      add atom  unIndexed  ORtype :\n",
      "[#6X4:1]~[#6X4:2]~[#6X4:3] {'action': 'add', 'atomOrBond': 'atom', 'whichAtmBnd': 'unIndexed', 'ANDorOR': 'ORtype'}\n",
      "  Failed\n",
      "\n",
      "working on  8      add bond      bond1 ANDtype :\n",
      "[#6X4:1]~[#6X4:2]~[#6X4:3] {'action': 'add', 'atomOrBond': 'bond', 'whichAtmBnd': 'bond1', 'ANDorOR': 'ANDtype'}\n",
      "MoveEnv changeling: [] []\n",
      "MoveEnv got ANDtypes: []\n",
      "Proposed list:  ('!@', 0.5)\n",
      "  Succeeded : [#6X4:1]~;!@[#6X4:2]~[#6X4:3]\n",
      "\n",
      "working on  9      add bond      bond1  ORtype :\n",
      "[#6X4:1]~[#6X4:2]~[#6X4:3] {'action': 'add', 'atomOrBond': 'bond', 'whichAtmBnd': 'bond1', 'ANDorOR': 'ORtype'}\n",
      "MoveEnv changeling: [] []\n",
      "MoveEnv got ORtypes: []\n",
      "Proposed list:  (('~', []), 0.5)\n",
      "  Succeeded : [#6X4:1]~[#6X4:2]~[#6X4:3]\n",
      "\n",
      "working on 10      add bond      bond2 ANDtype :\n",
      "[#6X4:1]~[#6X4:2]~[#6X4:3] {'action': 'add', 'atomOrBond': 'bond', 'whichAtmBnd': 'bond2', 'ANDorOR': 'ANDtype'}\n",
      "MoveEnv changeling: [] []\n",
      "MoveEnv got ANDtypes: []\n",
      "Proposed list:  ('@', 0.5)\n",
      "  Succeeded : [#6X4:1]~[#6X4:2]~;@[#6X4:3]\n",
      "\n",
      "working on 11      add bond      bond2  ORtype :\n",
      "[#6X4:1]~[#6X4:2]~[#6X4:3] {'action': 'add', 'atomOrBond': 'bond', 'whichAtmBnd': 'bond2', 'ANDorOR': 'ORtype'}\n",
      "MoveEnv changeling: [] []\n",
      "MoveEnv got ORtypes: []\n",
      "Proposed list:  (('-', []), 0.5)\n",
      "  Succeeded : [#6X4:1]~[#6X4:2]-[#6X4:3]\n",
      "\n",
      "working on 12      add bond  unIndexed ANDtype :\n",
      "[#6X4:1]~[#6X4:2]~[#6X4:3] {'action': 'add', 'atomOrBond': 'bond', 'whichAtmBnd': 'unIndexed', 'ANDorOR': 'ANDtype'}\n",
      "  Failed\n",
      "\n",
      "working on 13      add bond  unIndexed  ORtype :\n",
      "[#6X4:1]~[#6X4:2]~[#6X4:3] {'action': 'add', 'atomOrBond': 'bond', 'whichAtmBnd': 'unIndexed', 'ANDorOR': 'ORtype'}\n",
      "  Failed\n",
      "\n",
      "working on 14   delete atom      atom1 ANDtype :\n",
      "[#6X4:1]~[#6X4:2]~[#6X4:3] {'action': 'delete', 'atomOrBond': 'atom', 'whichAtmBnd': 'atom1', 'ANDorOR': 'ANDtype'}\n",
      "MoveEnv changeling: [('#6', ['X4'])] []\n",
      "MoveEnv got ANDtypes: []\n",
      "Proposed list:  ('+0', 0.5)\n",
      "existing list is already empty; will not delete\n",
      "  Failed\n",
      "\n",
      "working on 15   delete atom      atom1  ORtype :\n",
      "[#6X4:1]~[#6X4:2]~[#6X4:3] {'action': 'delete', 'atomOrBond': 'atom', 'whichAtmBnd': 'atom1', 'ANDorOR': 'ORtype'}\n",
      "MoveEnv changeling: [('#6', ['X4'])] []\n",
      "MoveEnv got ORtypes: [('#6', ['X4'])]\n",
      "Proposed list:  (('#1', ['H2']), 0.041666666666666664)\n",
      "will not delete indexed atom or bond with only one type\n",
      "  Failed\n",
      "\n",
      "working on 16   delete atom      atom2 ANDtype :\n",
      "[#6X4:1]~[#6X4:2]~[#6X4:3] {'action': 'delete', 'atomOrBond': 'atom', 'whichAtmBnd': 'atom2', 'ANDorOR': 'ANDtype'}\n",
      "MoveEnv changeling: [('#6', ['X4'])] []\n",
      "MoveEnv got ANDtypes: []\n",
      "Proposed list:  ('H0', 0.5)\n",
      "existing list is already empty; will not delete\n",
      "  Failed\n",
      "\n",
      "working on 17   delete atom      atom2  ORtype :\n",
      "[#6X4:1]~[#6X4:2]~[#6X4:3] {'action': 'delete', 'atomOrBond': 'atom', 'whichAtmBnd': 'atom2', 'ANDorOR': 'ORtype'}\n",
      "MoveEnv changeling: [('#6', ['X4'])] []\n",
      "MoveEnv got ORtypes: [('#6', ['X4'])]\n",
      "Proposed list:  (('#6', ['']), 0.16666666666666666)\n",
      "will not delete indexed atom or bond with only one type\n",
      "  Failed\n",
      "\n",
      "working on 18   delete atom      atom3 ANDtype :\n",
      "[#6X4:1]~[#6X4:2]~[#6X4:3] {'action': 'delete', 'atomOrBond': 'atom', 'whichAtmBnd': 'atom3', 'ANDorOR': 'ANDtype'}\n",
      "MoveEnv changeling: [('#6', ['X4'])] []\n",
      "MoveEnv got ANDtypes: []\n",
      "Proposed list:  ('+0', 0.5)\n",
      "existing list is already empty; will not delete\n",
      "  Failed\n",
      "\n",
      "working on 19   delete atom      atom3  ORtype :\n",
      "[#6X4:1]~[#6X4:2]~[#6X4:3] {'action': 'delete', 'atomOrBond': 'atom', 'whichAtmBnd': 'atom3', 'ANDorOR': 'ORtype'}\n",
      "MoveEnv changeling: [('#6', ['X4'])] []\n",
      "MoveEnv got ORtypes: [('#6', ['X4'])]\n",
      "Proposed list:  (('#6', ['X2']), 0.16666666666666666)\n",
      "will not delete indexed atom or bond with only one type\n",
      "  Failed\n",
      "\n",
      "working on 20   delete atom  unIndexed ANDtype :\n",
      "[#6X4:1]~[#6X4:2]~[#6X4:3] {'action': 'delete', 'atomOrBond': 'atom', 'whichAtmBnd': 'unIndexed', 'ANDorOR': 'ANDtype'}\n",
      "  Failed\n",
      "\n",
      "working on 21   delete atom  unIndexed  ORtype :\n",
      "[#6X4:1]~[#6X4:2]~[#6X4:3] {'action': 'delete', 'atomOrBond': 'atom', 'whichAtmBnd': 'unIndexed', 'ANDorOR': 'ORtype'}\n",
      "  Failed\n",
      "\n",
      "working on 22   delete bond      bond1 ANDtype :\n",
      "[#6X4:1]~[#6X4:2]~[#6X4:3] {'action': 'delete', 'atomOrBond': 'bond', 'whichAtmBnd': 'bond1', 'ANDorOR': 'ANDtype'}\n",
      "MoveEnv changeling: [] []\n",
      "MoveEnv got ANDtypes: []\n",
      "Proposed list:  ('@', 0.5)\n",
      "existing list is already empty; will not delete\n",
      "  Failed\n",
      "\n",
      "working on 23   delete bond      bond1  ORtype :\n",
      "[#6X4:1]~[#6X4:2]~[#6X4:3] {'action': 'delete', 'atomOrBond': 'bond', 'whichAtmBnd': 'bond1', 'ANDorOR': 'ORtype'}\n",
      "MoveEnv changeling: [] []\n",
      "MoveEnv got ORtypes: []\n",
      "Proposed list:  (('~', []), 0.5)\n",
      "existing list is already empty; will not delete\n",
      "  Failed\n",
      "\n",
      "working on 24   delete bond      bond2 ANDtype :\n",
      "[#6X4:1]~[#6X4:2]~[#6X4:3] {'action': 'delete', 'atomOrBond': 'bond', 'whichAtmBnd': 'bond2', 'ANDorOR': 'ANDtype'}\n",
      "MoveEnv changeling: [] []\n",
      "MoveEnv got ANDtypes: []\n",
      "Proposed list:  ('!@', 0.5)\n",
      "existing list is already empty; will not delete\n",
      "  Failed\n",
      "\n",
      "working on 25   delete bond      bond2  ORtype :\n",
      "[#6X4:1]~[#6X4:2]~[#6X4:3] {'action': 'delete', 'atomOrBond': 'bond', 'whichAtmBnd': 'bond2', 'ANDorOR': 'ORtype'}\n",
      "MoveEnv changeling: [] []\n",
      "MoveEnv got ORtypes: []\n",
      "Proposed list:  (('-', []), 0.5)\n",
      "existing list is already empty; will not delete\n",
      "  Failed\n",
      "\n",
      "working on 26   delete bond  unIndexed ANDtype :\n",
      "[#6X4:1]~[#6X4:2]~[#6X4:3] {'action': 'delete', 'atomOrBond': 'bond', 'whichAtmBnd': 'unIndexed', 'ANDorOR': 'ANDtype'}\n",
      "  Failed\n",
      "\n",
      "working on 27   delete bond  unIndexed  ORtype :\n",
      "[#6X4:1]~[#6X4:2]~[#6X4:3] {'action': 'delete', 'atomOrBond': 'bond', 'whichAtmBnd': 'unIndexed', 'ANDorOR': 'ORtype'}\n",
      "  Failed\n",
      "\n",
      "working on 28 joinAtom atom      atom1  ORtype :\n",
      "[#6X4:1]~[#6X4:2]~[#6X4:3] {'action': 'joinAtom', 'atomOrBond': 'atom', 'whichAtmBnd': 'atom1', 'ANDorOR': 'ORtype'}\n",
      "MoveEnv changeling: [('#6', ['X4'])] []\n",
      "MoveEnv got ORtypes: [('#6', ['X4'])]\n",
      "Proposed list:  (('#6', ['H2']), 0.041666666666666664)\n",
      "EffectMoveOnEnvList: attaching [ ('#6', ['H2']) ] to existing atom: [('#6', ['X4'])]\n",
      "  Succeeded : [#6X4:1](~[#6H2])~[#6X4:2]~[#6X4:3]\n",
      "\n",
      "working on 29 joinAtom atom      atom2  ORtype :\n",
      "[#6X4:1]~[#6X4:2]~[#6X4:3] {'action': 'joinAtom', 'atomOrBond': 'atom', 'whichAtmBnd': 'atom2', 'ANDorOR': 'ORtype'}\n",
      "MoveEnv changeling: [('#6', ['X4'])] []\n",
      "MoveEnv got ORtypes: [('#6', ['X4'])]\n",
      "Proposed list:  (('#6', ['X2']), 0.16666666666666666)\n",
      "EffectMoveOnEnvList: attaching [ ('#6', ['X2']) ] to existing atom: [('#6', ['X4'])]\n",
      "  Succeeded : [#6X4:1]~[#6X4:2](~[#6X2])~[#6X4:3]\n",
      "\n",
      "working on 30 joinAtom atom      atom3  ORtype :\n",
      "[#6X4:1]~[#6X4:2]~[#6X4:3] {'action': 'joinAtom', 'atomOrBond': 'atom', 'whichAtmBnd': 'atom3', 'ANDorOR': 'ORtype'}\n",
      "MoveEnv changeling: [('#6', ['X4'])] []\n",
      "MoveEnv got ORtypes: [('#6', ['X4'])]\n",
      "Proposed list:  (('#8', ['H0']), 0.041666666666666664)\n",
      "EffectMoveOnEnvList: attaching [ ('#8', ['H0']) ] to existing atom: [('#6', ['X4'])]\n",
      "  Succeeded : [#6X4:1]~[#6X4:2]~[#6X4:3]~[#8H0]\n",
      "\n",
      "working on 31 joinAtom atom  unIndexed  ORtype :\n",
      "[#6X4:1]~[#6X4:2]~[#6X4:3] {'action': 'joinAtom', 'atomOrBond': 'atom', 'whichAtmBnd': 'unIndexed', 'ANDorOR': 'ORtype'}\n",
      "  Failed\n",
      "\n",
      "working on 32     swap atom      atom1 ANDtype :\n",
      "[#6X4:1]~[#6X4:2]~[#6X4:3] {'action': 'swap', 'atomOrBond': 'atom', 'whichAtmBnd': 'atom1', 'ANDorOR': 'ANDtype'}\n",
      "MoveEnv changeling: [('#6', ['X4'])] []\n",
      "MoveEnv got ANDtypes: []\n",
      "Proposed list:  ('H0', 0.5)\n",
      "missing one of existing type or newType; will not swap\n",
      "  Failed\n",
      "\n",
      "working on 33     swap atom      atom1  ORtype :\n",
      "[#6X4:1]~[#6X4:2]~[#6X4:3] {'action': 'swap', 'atomOrBond': 'atom', 'whichAtmBnd': 'atom1', 'ANDorOR': 'ORtype'}\n",
      "MoveEnv changeling: [('#6', ['X4'])] []\n",
      "MoveEnv got ORtypes: [('#6', ['X4'])]\n",
      "Proposed list:  (('#1', ['X3']), 0.16666666666666666)\n",
      "  Succeeded : [#1X3:1]~[#6X4:2]~[#6X4:3]\n",
      "\n",
      "working on 34     swap atom      atom2 ANDtype :\n",
      "[#6X4:1]~[#6X4:2]~[#6X4:3] {'action': 'swap', 'atomOrBond': 'atom', 'whichAtmBnd': 'atom2', 'ANDorOR': 'ANDtype'}\n",
      "MoveEnv changeling: [('#6', ['X4'])] []\n",
      "MoveEnv got ANDtypes: []\n",
      "Proposed list:  ('H0', 0.5)\n",
      "missing one of existing type or newType; will not swap\n",
      "  Failed\n",
      "\n",
      "working on 35     swap atom      atom2  ORtype :\n",
      "[#6X4:1]~[#6X4:2]~[#6X4:3] {'action': 'swap', 'atomOrBond': 'atom', 'whichAtmBnd': 'atom2', 'ANDorOR': 'ORtype'}\n",
      "MoveEnv changeling: [('#6', ['X4'])] []\n",
      "MoveEnv got ORtypes: [('#6', ['X4'])]\n",
      "Proposed list:  (('#8', ['H1']), 0.041666666666666664)\n",
      "  Succeeded : [#6X4:1]~[#8H1:2]~[#6X4:3]\n",
      "\n",
      "working on 36     swap atom      atom3 ANDtype :\n",
      "[#6X4:1]~[#6X4:2]~[#6X4:3] {'action': 'swap', 'atomOrBond': 'atom', 'whichAtmBnd': 'atom3', 'ANDorOR': 'ANDtype'}\n",
      "MoveEnv changeling: [('#6', ['X4'])] []\n",
      "MoveEnv got ANDtypes: []\n",
      "Proposed list:  ('+0', 0.5)\n",
      "missing one of existing type or newType; will not swap\n",
      "  Failed\n",
      "\n",
      "working on 37     swap atom      atom3  ORtype :\n",
      "[#6X4:1]~[#6X4:2]~[#6X4:3] {'action': 'swap', 'atomOrBond': 'atom', 'whichAtmBnd': 'atom3', 'ANDorOR': 'ORtype'}\n",
      "MoveEnv changeling: [('#6', ['X4'])] []\n",
      "MoveEnv got ORtypes: [('#6', ['X4'])]\n",
      "Proposed list:  (('#1', ['X1']), 0.16666666666666666)\n",
      "  Succeeded : [#6X4:1]~[#6X4:2]~[#1X1:3]\n",
      "\n",
      "working on 38     swap atom  unIndexed ANDtype :\n",
      "[#6X4:1]~[#6X4:2]~[#6X4:3] {'action': 'swap', 'atomOrBond': 'atom', 'whichAtmBnd': 'unIndexed', 'ANDorOR': 'ANDtype'}\n",
      "  Failed\n",
      "\n",
      "working on 39     swap atom  unIndexed  ORtype :\n",
      "[#6X4:1]~[#6X4:2]~[#6X4:3] {'action': 'swap', 'atomOrBond': 'atom', 'whichAtmBnd': 'unIndexed', 'ANDorOR': 'ORtype'}\n",
      "  Failed\n",
      "\n",
      "working on 40     swap bond      bond1 ANDtype :\n",
      "[#6X4:1]~[#6X4:2]~[#6X4:3] {'action': 'swap', 'atomOrBond': 'bond', 'whichAtmBnd': 'bond1', 'ANDorOR': 'ANDtype'}\n",
      "MoveEnv changeling: [] []\n",
      "MoveEnv got ANDtypes: []\n",
      "Proposed list:  ('@', 0.5)\n",
      "missing one of existing type or newType; will not swap\n",
      "  Failed\n",
      "\n",
      "working on 41     swap bond      bond1  ORtype :\n",
      "[#6X4:1]~[#6X4:2]~[#6X4:3] {'action': 'swap', 'atomOrBond': 'bond', 'whichAtmBnd': 'bond1', 'ANDorOR': 'ORtype'}\n",
      "MoveEnv changeling: [] []\n",
      "MoveEnv got ORtypes: []\n",
      "Proposed list:  (('-', []), 0.5)\n",
      "missing one of existing type or newType; will not swap\n",
      "  Failed\n",
      "\n",
      "working on 42     swap bond      bond2 ANDtype :\n",
      "[#6X4:1]~[#6X4:2]~[#6X4:3] {'action': 'swap', 'atomOrBond': 'bond', 'whichAtmBnd': 'bond2', 'ANDorOR': 'ANDtype'}\n",
      "MoveEnv changeling: [] []\n",
      "MoveEnv got ANDtypes: []\n",
      "Proposed list:  ('!@', 0.5)\n",
      "missing one of existing type or newType; will not swap\n",
      "  Failed\n",
      "\n",
      "working on 43     swap bond      bond2  ORtype :\n",
      "[#6X4:1]~[#6X4:2]~[#6X4:3] {'action': 'swap', 'atomOrBond': 'bond', 'whichAtmBnd': 'bond2', 'ANDorOR': 'ORtype'}\n",
      "MoveEnv changeling: [] []\n",
      "MoveEnv got ORtypes: []\n",
      "Proposed list:  (('~', []), 0.5)\n",
      "missing one of existing type or newType; will not swap\n",
      "  Failed\n",
      "\n",
      "working on 44     swap bond  unIndexed ANDtype :\n",
      "[#6X4:1]~[#6X4:2]~[#6X4:3] {'action': 'swap', 'atomOrBond': 'bond', 'whichAtmBnd': 'unIndexed', 'ANDorOR': 'ANDtype'}\n",
      "  Failed\n",
      "\n",
      "working on 45     swap bond  unIndexed  ORtype :\n",
      "[#6X4:1]~[#6X4:2]~[#6X4:3] {'action': 'swap', 'atomOrBond': 'bond', 'whichAtmBnd': 'unIndexed', 'ANDorOR': 'ORtype'}\n",
      "  Failed\n"
     ]
    }
   ],
   "source": [
    "# test MoveEnv\n",
    "startParam = angEnv2\n",
    "moveDictdb = moveDictdb_byParam['Angle']\n",
    "param = copy.deepcopy( startParam)\n",
    "print( 'Starting with', param.asSMIRKS())\n",
    "#print( len(moveDictdb) )\n",
    "for i, moveDict in enumerate( moveDictdb):\n",
    "    param = copy.deepcopy( startParam)\n",
    "    moves =  moveDict[0]\n",
    "    print( '\\nworking on %2d %8s %4s %10s %7s :' % \n",
    "          (i, moves['action'], moves['atomOrBond'], moves['whichAtmBnd'], moves['ANDorOR']))\n",
    "    if not MoveEnv( param, moves, masterComponentsWithWeights, msg):\n",
    "        print('  Failed')\n",
    "    else:\n",
    "        print('  Succeeded : %s' % ( param.asSMIRKS()))"
   ]
  },
  {
   "cell_type": "code",
   "execution_count": null,
   "metadata": {
    "collapsed": true
   },
   "outputs": [],
   "source": []
  }
 ],
 "metadata": {
  "kernelspec": {
   "display_name": "Python 3",
   "language": "python",
   "name": "python3"
  },
  "language_info": {
   "codemirror_mode": {
    "name": "ipython",
    "version": 3
   },
   "file_extension": ".py",
   "mimetype": "text/x-python",
   "name": "python",
   "nbconvert_exporter": "python",
   "pygments_lexer": "ipython3",
   "version": "3.6.0"
  }
 },
 "nbformat": 4,
 "nbformat_minor": 0
}
