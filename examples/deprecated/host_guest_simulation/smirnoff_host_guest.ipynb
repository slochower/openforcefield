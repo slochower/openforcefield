{
 "cells": [
  {
   "cell_type": "markdown",
   "metadata": {},
   "source": [
    "# Host-guest complex setup and simulation using SMIRNOFF\n",
    "\n",
    "This notebook takes a SMILES string for a guest and a 3D structure for a host, and generates an initial structure of the complex using docking. It then proceeds to solvate, parameterize the system, and then minimize and do a short simulation with OpenMM.\n",
    "\n",
    "Please note this is intended for educational purposes and comprises a worked example, not a polished tool. The usual disclaimers apply -- don't take anything here as advice on how you should set up these types of systems; this is just an example of setting up a nontrivial system with SMIRNOFF.\n",
    "\n",
    "*Author - David Mobley (UC Irvine)*\n",
    "\n",
    "## Prerequisites\n",
    "\n",
    "Before beginning, you're going to need a license to the OpenEye toolkits (free for academics), and have these installed and working, ideally in your anaconda Python distribution. Then you'll also need the `openforcefield` toolkits installed, which you can do via `conda install -c omnia openforcefield` if you are using anaconda Python. \n",
    "\n",
    "You'll also need the `oenotebook` OpenEye Jupyter notebook library installed, such as via `pip install -i https://pypi.anaconda.org/openeye/simple openeye-oenotebook` (but for some particular environments this fails and you might pip install instead from https://pypi.anaconda.org/openeye/label/beta/simple/openeye-oenotebook or see troubleshooting tips in , and `oeommtools`, a library for working with OpenEye/OpenMM in conjunction, which is installable via `conda install -c OpenEye/label/Orion -c omnia`. You also need `pdbfixer`.\n",
    "\n",
    "A possibly complete set of installation instructions is to download Anaconda 3 and then do something like this:\n",
    "```\n",
    "./Anaconda3-4.4.0-Linux-x86_64.sh\n",
    "conda update --all\n",
    "conda install -c omnia openmm openforcefield pdbfixer \n",
    "conda install -c OpenEye/label/Orion -c omnia oeommtools\n",
    "conda install -c conda-forge nglview\n",
    "pip install -i https://pypi.anaconda.org/openeye/simple openeye-toolkits\n",
    "pip install -i https://pypi.anaconda.org/openeye/simple/openeye-oenotebook\n",
    "```\n",
    "\n",
    "For `nglview` viewing of 3D structures within the notebook, you will likely also need to run `jupyter nbextension install --py nglview-js-widgets --user` and `jupyter-nbextension enable nglview --py --sys-prefix`.\n",
    "\n",
    "Some platforms may have issues with the `openeye-oenotebook` installation, so a workaround may be something like `pip install https://pypi.anaconda.org/openeye/label/beta/simple/openeye-oenotebook/0.8.1/OpenEye_oenotebook-0.8.1-py2.py3-none-any.whl`.\n",
    "\n",
    "## Import some tools we need initially\n",
    "(Let's do this early so you can fail quickly if you don't have the tools you need)"
   ]
  },
  {
   "cell_type": "code",
   "execution_count": null,
   "metadata": {
    "collapsed": true
   },
   "outputs": [],
   "source": [
    "# NBVAL_SKIP\n",
    "from openeye import oechem # OpenEye Python toolkits\n",
    "import oenotebook as oenb\n",
    "# Check license\n",
    "print(\"Is your OEChem licensed? \", oechem.OEChemIsLicensed())\n",
    "from openeye import oeomega # Omega toolkit\n",
    "from openeye import oequacpac #Charge toolkit\n",
    "from openeye import oedocking # Docking toolkit\n",
    "from oeommtools import utils as oeommutils # Tools for OE/OpenMM\n",
    "from simtk import unit #Unit handling for OpenMM\n",
    "from simtk.openmm import app\n",
    "from simtk.openmm.app import PDBFile\n",
    "\n",
    "from openforcefield.typing.engines.smirnoff import *\n",
    "\n",
    "import os\n",
    "\n",
    "from pdbfixer import PDBFixer # for solvating"
   ]
  },
  {
   "cell_type": "markdown",
   "metadata": {},
   "source": [
    "## Configuration for your run\n",
    "\n",
    "We'll use this to configure where to get input files, where to write output files, etc."
   ]
  },
  {
   "cell_type": "code",
   "execution_count": null,
   "metadata": {
    "collapsed": true
   },
   "outputs": [],
   "source": [
    "# Where will we write outputs? Directory will be created if it does not exist\n",
    "datadir = 'datafiles'\n",
    "\n",
    "# Where will we download the host file from? The below is an uncharged host\n",
    "#host_source = 'https://raw.githubusercontent.com/MobleyLab/SAMPL6/master/host_guest/OctaAcidsAndGuests/OA.mol2' #octa acid\n",
    "# Use file provided in this directory - already charged\n",
    "host_source = 'OA.mol2'\n",
    "\n",
    "# What SMILES string for the guest? Should be isomeric SMILES\n",
    "guest_smiles = 'OC(CC1CCCC1)=O' # Use cyclopentyl acetic acid, the first SAMPL6 octa acid guest\n",
    "\n",
    "# Another useful source of host-guest files is the benchmarksets repo, e.g. github.com/mobleylab/benchmarksets\n",
    "# This notebook has also been tested on CB7 Set 1 host-cb7.mol2 with SMILES CC12CC3CC(C1)(CC(C3)(C2)[NH3+])C."
   ]
  },
  {
   "cell_type": "markdown",
   "metadata": {},
   "source": [
    "## Quickly draw your guest and make sure it's what you intended\n",
    "\n",
    "OENotebook is super useful and powerful; see https://www.eyesopen.com/notebooks-directory. Here we only use a very small amount of what's available, drawing on http://notebooks.eyesopen.com/introduction-to-oenb.html"
   ]
  },
  {
   "cell_type": "code",
   "execution_count": null,
   "metadata": {
    "collapsed": true
   },
   "outputs": [],
   "source": [
    "# NBVAL_SKIP\n",
    "# Create empty OEMol\n",
    "mol = oechem.OEMol()\n",
    "# Convert SMILES\n",
    "oechem.OESmilesToMol(mol, guest_smiles)\n",
    "# Draw\n",
    "oenb.draw_mol(mol)"
   ]
  },
  {
   "cell_type": "markdown",
   "metadata": {},
   "source": [
    "# Get host file and prep it for docking\n",
    "(Note that we are going to skip charge assignment for the purposes of this example, because it's slow. So you want to use an input file which has provided charges, OR add charge assignment.)\n",
    "\n",
    "## Retrieve host file, do file bookkeeping"
   ]
  },
  {
   "cell_type": "code",
   "execution_count": null,
   "metadata": {
    "collapsed": true
   },
   "outputs": [],
   "source": [
    "# NBVAL_SKIP\n",
    "# Output host and guest files\n",
    "hostfile = os.path.join(datadir, 'host.mol2')\n",
    "guestfile = os.path.join(datadir, 'guest.mol2')\n",
    "\n",
    "# Create data dir if not present\n",
    "if not os.path.isdir(datadir):\n",
    "    os.mkdir(datadir)\n",
    "\n",
    "# Set host file name and retrieve file\n",
    "if 'http' in host_source:\n",
    "    import urllib\n",
    "    urllib.request.urlretrieve(host_source, hostfile)\n",
    "else:\n",
    "    import shutil\n",
    "    shutil.copy(host_source, hostfile)"
   ]
  },
  {
   "cell_type": "markdown",
   "metadata": {},
   "source": [
    "## Prep host file for docking\n",
    "\n",
    "Here we'll load the host and prepare for docking, which takes a bit of time as it has to get prepared as a \"receptor\" for docking into"
   ]
  },
  {
   "cell_type": "code",
   "execution_count": null,
   "metadata": {
    "collapsed": true
   },
   "outputs": [],
   "source": [
    "# NBVAL_SKIP\n",
    "# Read in host file\n",
    "ifile = oechem.oemolistream(hostfile)\n",
    "host = oechem.OEMol()\n",
    "oechem.OEReadMolecule( ifile, host)\n",
    "ifile.close()\n",
    "\n",
    "# Prepare a receptor - Start by getting center of mass to use as a hint for where to dock\n",
    "com = oechem.OEFloatArray(3)\n",
    "oechem.OEGetCenterOfMass(host, com) \n",
    "\n",
    "# Create receptor, as per https://docs.eyesopen.com/toolkits/python/dockingtk/receptor.html#creating-a-receptor\n",
    "receptor = oechem.OEGraphMol()\n",
    "oedocking.OEMakeReceptor(receptor, host, com[0], com[1], com[2])"
   ]
  },
  {
   "cell_type": "markdown",
   "metadata": {},
   "source": [
    "## Generate 3D structure of our guest and dock it"
   ]
  },
  {
   "cell_type": "code",
   "execution_count": null,
   "metadata": {
    "collapsed": true
   },
   "outputs": [],
   "source": [
    "# NBVAL_SKIP\n",
    "#initialize omega for conformer generation\n",
    "omega = oeomega.OEOmega()\n",
    "omega.SetMaxConfs(100) #Generate up to 100 conformers since we'll use for docking\n",
    "omega.SetIncludeInput(False)\n",
    "omega.SetStrictStereo(True) #Refuse to generate conformers if stereochemistry not provided\n",
    "\n",
    "#Initialize charge generation\n",
    "chargeEngine = oequacpac.OEAM1BCCCharges()\n",
    "\n",
    "# Initialize docking\n",
    "dock = oedocking.OEDock()\n",
    "dock.Initialize(receptor)\n",
    "\n",
    "# Build OEMol from SMILES\n",
    "# Generate new OEMol and parse SMILES\n",
    "mol = oechem.OEMol()\n",
    "oechem.OEParseSmiles( mol, guest_smiles)\n",
    "# Set to use a simple neutral pH model \n",
    "oequacpac.OESetNeutralpHModel(mol)\n",
    "\n",
    "# Generate conformers with Omega; keep only best conformer\n",
    "status = omega(mol)\n",
    "if not status:\n",
    "    print(\"Error generating conformers for %s.\" % (guest_smiles))\n",
    "    #print(smi, name, mol.NumAtoms()) #Print debug info -- make sure we're getting protons added as we should\n",
    "\n",
    "# Assign AM1-BCC charges\n",
    "oequacpac.OEAssignCharges(mol, chargeEngine)\n",
    "\n",
    "# Dock to host\n",
    "dockedMol = oechem.OEGraphMol()\n",
    "status = dock.DockMultiConformerMolecule(dockedMol, mol) #By default returns only top scoring pose\n",
    "sdtag = oedocking.OEDockMethodGetName(oedocking.OEDockMethod_Chemgauss4)\n",
    "oedocking.OESetSDScore(dockedMol, dock, sdtag)\n",
    "dock.AnnotatePose(dockedMol)\n",
    "\n",
    "# Write out docked pose if docking successful\n",
    "if status == oedocking.OEDockingReturnCode_Success:\n",
    "    outmol = dockedMol\n",
    "\n",
    "    # Write out\n",
    "    tripos_mol2_filename = os.path.join(os.path.join(datadir, 'docked_guest.mol2'))\n",
    "    ofile = oechem.oemolostream( tripos_mol2_filename )\n",
    "    oechem.OEWriteMolecule( ofile, outmol)\n",
    "    ofile.close()\n",
    "\n",
    "    # Clean up residue names in mol2 files that are tleap-incompatible: replace substructure names with valid text.\n",
    "    infile = open( tripos_mol2_filename, 'r')\n",
    "    lines = infile.readlines()\n",
    "    infile.close()\n",
    "    newlines = [line.replace('<0>', 'GUEST') for line in lines]\n",
    "    outfile = open(tripos_mol2_filename, 'w')\n",
    "    outfile.writelines(newlines)\n",
    "    outfile.close()\n",
    "else:\n",
    "    raise Exception(\"Error: Docking failed.\")"
   ]
  },
  {
   "cell_type": "markdown",
   "metadata": {},
   "source": [
    "## Visualize in 3D to make sure we placed the guest into the binding site\n",
    "This is optional, but very helpful to make sure you're starting off with your guest in the binding site. To execute this you'll need `nglview` for visualization and `mdtraj` for working with trajectory files"
   ]
  },
  {
   "cell_type": "code",
   "execution_count": null,
   "metadata": {
    "collapsed": true
   },
   "outputs": [],
   "source": [
    "# NBVAL_SKIP\n",
    "# Import modules\n",
    "import nglview\n",
    "import mdtraj\n",
    "\n",
    "# Load host structure (\"trajectory\")\n",
    "traj = mdtraj.load(os.path.join(datadir, 'host.mol2'))\n",
    "# Load guest structure\n",
    "lig = mdtraj.load(os.path.join(tripos_mol2_filename))\n",
    "                  \n",
    "# Figure out which atom indices correspond to the guest, for use in visualization\n",
    "atoms_guest = [ traj.n_atoms+i for i in range(lig.n_atoms)]\n",
    "\n",
    "# \"Stack\" host and guest Trajectory objects into a single object\n",
    "complex = traj.stack(lig)\n",
    "\n",
    "# Visualize\n",
    "view = nglview.show_mdtraj(complex)\n",
    "view.add_representation('spacefill', selection=\"all\")\n",
    "view.add_representation('spacefill', selection=atoms_guest, color='blue')  #Adjust guest to show as blue for contrast\n",
    "# The view command needs to be the last command issued to nglview\n",
    "view"
   ]
  },
  {
   "cell_type": "markdown",
   "metadata": {},
   "source": [
    "# Solvate complex\n",
    "\n",
    "Next we're going to solvate the complex using PDBFixer -- a fairly basic tool, but one which should work. Before doing so, we need to combine the host and the guest into a single OEMol, and then in this case we'll write out a file containing this as a PDB for PDBFixer to read. However, we won't actually use the Topology from that PDB going forward, as the PDB will lose chemistry information we currently have in our OEMols (e.g. it can't retain charges, etc.). Instead, we'll obtain an OpenMM Topology by converting directly from OEChem using utility functionality in `oeommtools`, and we'll solvate THIS using PDBFixer. PDBFixer will still lose the relevant chemistry information, so we'll just copy any water/ions it added back into our original system."
   ]
  },
  {
   "cell_type": "code",
   "execution_count": null,
   "metadata": {
    "collapsed": true
   },
   "outputs": [],
   "source": [
    "# NBVAL_SKIP\n",
    "# Join OEMols into complex\n",
    "complex = host.CreateCopy()\n",
    "oechem.OEAddMols( complex, outmol)\n",
    "print(\"Host+guest number of atoms %s\" % complex.NumAtoms())\n",
    "\n",
    "# Write out complex PDB file (won't really use it except as a template)\n",
    "ostream = oechem.oemolostream( os.path.join(datadir, 'complex.pdb'))\n",
    "oechem.OEWriteMolecule( ostream, complex)\n",
    "ostream.close()\n",
    "\n",
    "# Solvate the system using PDBFixer\n",
    "# Loosely follows https://github.com/oess/openmm_orion/blob/master/ComplexPrepCubes/utils.py\n",
    "fixer = PDBFixer( os.path.join(datadir, 'complex.pdb'))\n",
    "\n",
    "# Convert between OpenEye and OpenMM Topology\n",
    "omm_top, omm_pos = oeommutils.oemol_to_openmmTop(complex)\n",
    "# Do it a second time to create a topology we can destroy\n",
    "fixer_top, fixer_pos = oeommutils.oemol_to_openmmTop(complex)\n",
    "\n",
    "chain_names = []\n",
    "\n",
    "for chain in omm_top.chains():\n",
    "    chain_names.append(chain.id)\n",
    "\n",
    "# Use correct topology, positions\n",
    "#fixer.topology = copy.deepcopy(omm_top)\n",
    "fixer.topology = fixer_top\n",
    "fixer.positions = fixer_pos\n",
    "\n",
    "# Solvate in 20 mM NaCl and water\n",
    "fixer.addSolvent(padding=unit.Quantity( 1.0, unit.nanometers), ionicStrength=unit.Quantity( 20, unit.millimolar))\n",
    "print(\"Number of atoms after applying PDBFixer: %s\" % fixer.topology.getNumAtoms())\n",
    "\n",
    "# The OpenMM topology produced by the solvation fixer has missing bond\n",
    "# orders and aromaticity. So our next job is to update our existing OpenMM Topology by copying\n",
    "# in just the water molecules and ions\n",
    "\n",
    "# Atom dictionary between the the PDBfixer topology and the water_ion topology\n",
    "fixer_atom_to_wat_ion_atom = {}\n",
    "\n",
    "# Loop over new topology and copy water molecules and ions into pre-existing topology\n",
    "for chain in fixer.topology.chains():\n",
    "    if chain.id not in chain_names:\n",
    "        n_chain = omm_top.addChain(chain.id)\n",
    "        for res in chain.residues():\n",
    "            n_res = omm_top.addResidue(res.name, n_chain)\n",
    "            for at in res.atoms():\n",
    "                n_at = omm_top.addAtom(at.name, at.element, n_res)\n",
    "                fixer_atom_to_wat_ion_atom[at] = n_at\n",
    "\n",
    "# Copy over any bonds needed\n",
    "for bond in fixer.topology.bonds():\n",
    "    at0 = bond[0]\n",
    "    at1 = bond[1]\n",
    "    try:\n",
    "        omm_top.addBond(fixer_atom_to_wat_ion_atom[at0],\n",
    "                            fixer_atom_to_wat_ion_atom[at1], type=None, order=1)\n",
    "    except:\n",
    "        pass\n",
    "\n",
    "# Build new position array\n",
    "omm_pos = omm_pos +  fixer.positions[len(omm_pos):]\n",
    "\n",
    "\n",
    "# Write file of solvated system for visualization purposes \n",
    "PDBFile.writeFile(omm_top, omm_pos, open(os.path.join(datadir, 'complex_solvated.pdb'), 'w'))"
   ]
  },
  {
   "cell_type": "markdown",
   "metadata": {},
   "source": [
    "# Apply SMIRNOFF to set up the system for simulation with OpenMM\n",
    "\n",
    "Next, we apply a SMIRNOFF force field (SMIRNOFF99Frosst) to the system to set it up for simulation with OpenMM (or writing out, via ParmEd, to formats for use in a variety of other simulation packages).\n",
    "\n",
    "Prepping a system with SMIRNOFF takes basically three components:\n",
    "- An OpenMM `Topology` for the system, which we have from above (coming out of PDBFixer)\n",
    "- OEMol objects for the components of the system (here host, guest, water and ions)\n",
    "- The force field XML files\n",
    "\n",
    "Here, we do not yet have OEMol objects for the ions so our first step is to generate those, and combine it with the host and guest OEMols\n",
    "\n",
    "## Build a list of OEMols of all our components"
   ]
  },
  {
   "cell_type": "code",
   "execution_count": null,
   "metadata": {
    "collapsed": true
   },
   "outputs": [],
   "source": [
    "# NBVAL_SKIP\n",
    "# Keep a list of OEMols of our components\n",
    "oemols = [] \n",
    "\n",
    "# Build ions from SMILES strings\n",
    "smiles = ['[Na+]', '[Cl-]']\n",
    "for smi in smiles:\n",
    "    mol = oechem.OEMol()\n",
    "    oechem.OESmilesToMol(mol, smi)\n",
    "    # Make sure we have partial charges assigned for these (monatomic, so equal to formal charge)\n",
    "    for atom in mol.GetAtoms():\n",
    "        atom.SetPartialCharge(atom.GetFormalCharge())\n",
    "\n",
    "    oemols.append(mol)\n",
    "\n",
    "# Build water reference molecule\n",
    "mol = oechem.OEMol()\n",
    "oechem.OESmilesToMol(mol, 'O')\n",
    "oechem.OEAddExplicitHydrogens(mol)\n",
    "oechem.OETriposAtomNames(mol)\n",
    "oemols.append(mol)\n",
    "    \n",
    "# Add oemols of host and guest\n",
    "oemols.append(host)\n",
    "oemols.append(outmol)"
   ]
  },
  {
   "cell_type": "markdown",
   "metadata": {},
   "source": [
    "## Load our force field and parameterize the system\n",
    "\n",
    "This uses the SMIRNOFF ForceField class and SMIRNOFF XML files to parameterize the system."
   ]
  },
  {
   "cell_type": "code",
   "execution_count": null,
   "metadata": {
    "collapsed": true
   },
   "outputs": [],
   "source": [
    "# NBVAL_SKIP\n",
    "# Load force fields for small molecules (plus default ions), water, and (temporarily) hydrogen bonds.\n",
    "# TODO add HBonds constraint through createSystem when openforcefield#32 is implemented, alleviating need for constraints here\n",
    "ff = ForceField('test_forcefields/smirnoff99Frosst.offxml',\n",
    "                'test_forcefields/hbonds.offxml',\n",
    "                'test_forcefields/tip3p.offxml') \n",
    "\n",
    "# Set up system\n",
    "# This draws to some extent on Andrea Rizzi's code at https://github.com/MobleyLab/SMIRNOFF_paper_code/blob/master/scripts/create_input_files.py\n",
    "system = ff.createSystem(fixer.topology, oemols, nonbondedMethod = PME, nonbondedCutoff=1.1*unit.nanometer, ewaldErrorTolerance=1e-4)  #, constraints=smirnoff.HBonds)\n",
    "# TODO add HBonds constraints here when openforcefield#32 is implemented.\n",
    "\n",
    "# Fix switching function.\n",
    "# TODO remove this when openforcefield#31 is fixed\n",
    "for force in system.getForces():\n",
    "    if isinstance(force, openmm.NonbondedForce):\n",
    "        force.setUseSwitchingFunction(True)\n",
    "        force.setSwitchingDistance(1.0*unit.nanometer)\n"
   ]
  },
  {
   "cell_type": "markdown",
   "metadata": {},
   "source": [
    "# Minimize and (very briefly) simulate our system\n",
    "\n",
    "Here we will do an energy minimization, followed by a very very brief simulation. These are done in separate cells since OpenMM is quite slow on CPUs so you may not want to run the simulation on your computer if you are using a CPU.\n",
    "\n",
    "## Finalize prep and energy minimize\n"
   ]
  },
  {
   "cell_type": "code",
   "execution_count": null,
   "metadata": {
    "collapsed": true
   },
   "outputs": [],
   "source": [
    "# NBVAL_SKIP\n",
    "# Even though we're just going to minimize, we still have to set up an integrator, since a Simulation needs one\n",
    "integrator = openmm.VerletIntegrator(2.0*unit.femtoseconds)\n",
    "# Prep the Simulation using the parameterized system, the integrator, and the topology\n",
    "simulation = app.Simulation(fixer.topology, system, integrator)\n",
    "# Copy in the positions\n",
    "simulation.context.setPositions( fixer.positions) \n",
    "\n",
    "# Get initial state and energy; print\n",
    "state = simulation.context.getState(getEnergy = True)\n",
    "energy = state.getPotentialEnergy() / unit.kilocalories_per_mole\n",
    "print(\"Energy before minimization (kcal/mol): %.2g\" % energy)\n",
    "\n",
    "# Minimize, get final state and energy and print\n",
    "simulation.minimizeEnergy()\n",
    "state = simulation.context.getState(getEnergy=True, getPositions=True)\n",
    "energy = state.getPotentialEnergy() / unit.kilocalories_per_mole\n",
    "print(\"Energy after minimization (kcal/mol): %.2g\" % energy)\n",
    "newpositions = state.getPositions()"
   ]
  },
  {
   "cell_type": "markdown",
   "metadata": {},
   "source": [
    "## Run an MD simulation of a few steps, storing a trajectory for visualization"
   ]
  },
  {
   "cell_type": "code",
   "execution_count": null,
   "metadata": {
    "collapsed": true
   },
   "outputs": [],
   "source": [
    "# NBVAL_SKIP\n",
    "# Set up NetCDF reporter for storing trajectory; prep for Langevin dynamics\n",
    "from mdtraj.reporters import NetCDFReporter\n",
    "integrator = openmm.LangevinIntegrator(300*unit.kelvin, 1./unit.picosecond, 2.*unit.femtoseconds)\n",
    "\n",
    "# Prep Simulation\n",
    "simulation = app.Simulation(fixer.topology, system, integrator)\n",
    "# Copy in minimized positions\n",
    "simulation.context.setPositions(newpositions)\n",
    "\n",
    "# Initialize velocities to correct temperature\n",
    "simulation.context.setVelocitiesToTemperature(300*unit.kelvin)\n",
    "# Set up to write trajectory file to NetCDF file in data directory every 100 frames\n",
    "netcdf_reporter = NetCDFReporter(os.path.join(datadir, 'trajectory.nc'), 100) #Store every 100 frames\n",
    "# Initialize reporters, including a CSV file to store certain stats every 100 frames\n",
    "simulation.reporters.append(netcdf_reporter)\n",
    "simulation.reporters.append(app.StateDataReporter(os.path.join(datadir, 'data.csv'), 100, step=True, potentialEnergy=True, temperature=True, density=True))\n",
    "\n",
    "# Run the simulation and print start info; store timing\n",
    "print(\"Starting simulation\")\n",
    "start = time.clock()\n",
    "simulation.step(1000) #1000 steps of dynamics\n",
    "end = time.clock()\n",
    "\n",
    "# Print elapsed time info, finalize trajectory file\n",
    "print(\"Elapsed time %.2f seconds\" % (end-start))\n",
    "netcdf_reporter.close()\n",
    "print(\"Done!\")"
   ]
  },
  {
   "cell_type": "code",
   "execution_count": null,
   "metadata": {
    "collapsed": true
   },
   "outputs": [],
   "source": [
    "# NBVAL_SKIP\n",
    "# Load stored trajectory using MDTraj; the trajectory doesn't contain chemistry info so we also load a PDB\n",
    "traj= mdtraj.load(os.path.join(datadir, 'trajectory.nc'), top=os.path.join(datadir, 'complex_solvated.pdb'))\n",
    "\n",
    "#Recenter/impose periodicity to the system\n",
    "anchor = traj.top.guess_anchor_molecules()[0]\n",
    "imgd = traj.image_molecules(anchor_molecules=[anchor])\n",
    "traj.center_coordinates()\n",
    "\n",
    "# View the trajectory\n",
    "view = nglview.show_mdtraj(traj)\n",
    "# I haven't totally figured out nglview's selection language for our purposes here, so I'm just showing two residues\n",
    "# which seems (in this case) to include the host and guest plus an ion (?). \n",
    "view.add_licorice('1-2')\n",
    "view"
   ]
  },
  {
   "cell_type": "code",
   "execution_count": null,
   "metadata": {
    "collapsed": true
   },
   "outputs": [],
   "source": [
    "# NBVAL_SKIP\n",
    "# Save centered trajectory for viewing elsewhere\n",
    "traj.save_netcdf(os.path.join(datadir, 'trajectory_centered.nc'))"
   ]
  }
 ],
 "metadata": {
  "anaconda-cloud": {},
  "kernelspec": {
   "display_name": "Python 3",
   "language": "python",
   "name": "python3"
  },
  "language_info": {
   "codemirror_mode": {
    "name": "ipython",
    "version": 3
   },
   "file_extension": ".py",
   "mimetype": "text/x-python",
   "name": "python",
   "nbconvert_exporter": "python",
   "pygments_lexer": "ipython3",
   "version": "3.6.8"
  },
  "toc": {
   "nav_menu": {},
   "number_sections": true,
   "sideBar": true,
   "skip_h1_title": false,
   "toc_cell": false,
   "toc_position": {},
   "toc_section_display": "block",
   "toc_window_display": false
  }
 },
 "nbformat": 4,
 "nbformat_minor": 1
}
